{
 "cells": [
  {
   "cell_type": "code",
   "execution_count": 176,
   "metadata": {},
   "outputs": [],
   "source": [
    "import selenium\n",
    "from selenium import webdriver\n",
    "from selenium.webdriver.support.ui import Select"
   ]
  },
  {
   "cell_type": "markdown",
   "metadata": {},
   "source": [
    "# Google Sheets"
   ]
  },
  {
   "cell_type": "code",
   "execution_count": 177,
   "metadata": {},
   "outputs": [
    {
     "name": "stdout",
     "output_type": "stream",
     "text": [
      "service_email : patrick-chen@concise-clock-170015.iam.gserviceaccount.com\n"
     ]
    }
   ],
   "source": [
    "# share client email [patrick-chen@concise-clock-170015.iam.gserviceaccount.com]\n",
    "import pygsheets\n",
    "import pandas as pd\n",
    "gc = pygsheets.authorize(service_file='/Users/patrick.chen/Desktop/client_secret.json')"
   ]
  },
  {
   "cell_type": "code",
   "execution_count": 178,
   "metadata": {},
   "outputs": [],
   "source": [
    "link = 'https://docs.google.com/spreadsheets/d/1VziJHtfmo_gYCLu-nu-5JIw2AsaUbhmCrW6hMk4q_W0/edit#gid=0'\n",
    "sh = gc.open_by_url(link)\n",
    "wks = sh.worksheet_by_title(\"info\")\n",
    "df = wks.get_as_df()"
   ]
  },
  {
   "cell_type": "markdown",
   "metadata": {},
   "source": [
    "# EVENTBRITE"
   ]
  },
  {
   "cell_type": "code",
   "execution_count": 181,
   "metadata": {},
   "outputs": [],
   "source": [
    "def eventbrite(first1,last1,email1,rsvp_link):\n",
    "    driver = webdriver.Chrome()\n",
    "    driver.get(rsvp_link)\n",
    "\n",
    "    # clicks register\n",
    "    link = driver.find_elements_by_xpath(\"//*[contains(text(), 'Register')]\")\n",
    "    link[0].click()\n",
    "\n",
    "    # selects option 1\n",
    "    option = driver.find_element_by_css_selector(\"[class='ticket-box-quantity js-d-select-box js-ticket-quantity-select']\")\n",
    "    Select(option).select_by_visible_text('1')\n",
    "\n",
    "    # clicks checkout\n",
    "    checkout = driver.find_element_by_css_selector(\"[data-automation = 'ticket-modal-register-button']\")\n",
    "    checkout.click()\n",
    "\n",
    "    # INFO PAGE!!!!!\n",
    "    # first name\n",
    "    first = driver.find_element_by_id(\"first_name\")\n",
    "    first.send_keys(first1)\n",
    "\n",
    "    # last name\n",
    "    last = driver.find_element_by_id(\"last_name\")\n",
    "    last.send_keys(last1)\n",
    "\n",
    "    # email\n",
    "    email = driver.find_element_by_id(\"email_address\")\n",
    "    email.send_keys(email1)\n",
    "\n",
    "    email2 = driver.find_element_by_id(\"confirm_email_address\")\n",
    "    email2.send_keys(email1)\n",
    "\n",
    "    # complete registration\n",
    "    complete = driver.find_element_by_css_selector(\"[data-automation = 'complete_registration_button']\")\n",
    "    # complete.click()"
   ]
  },
  {
   "cell_type": "markdown",
   "metadata": {},
   "source": [
    "# RUN FUNCTION"
   ]
  },
  {
   "cell_type": "code",
   "execution_count": 180,
   "metadata": {},
   "outputs": [],
   "source": [
    "for i in range(len(df)):\n",
    "    first = df['First'][i]\n",
    "    last = df['Last'][i]\n",
    "    email = df['Email'][i]\n",
    "    \n",
    "    rsvp1 = \"https://www.eventbrite.com/e/lafayette-live-crawfish-boil-sxsw-a-true-cajun-experience-tickets-42994039329#tickets\"\n",
    "    \n",
    "    eventbrite(first,last,email,rsvp1)\n",
    "    "
   ]
  }
 ],
 "metadata": {
  "kernelspec": {
   "display_name": "Python 3",
   "language": "python",
   "name": "python3"
  },
  "language_info": {
   "codemirror_mode": {
    "name": "ipython",
    "version": 3
   },
   "file_extension": ".py",
   "mimetype": "text/x-python",
   "name": "python",
   "nbconvert_exporter": "python",
   "pygments_lexer": "ipython3",
   "version": "3.6.4"
  }
 },
 "nbformat": 4,
 "nbformat_minor": 2
}
