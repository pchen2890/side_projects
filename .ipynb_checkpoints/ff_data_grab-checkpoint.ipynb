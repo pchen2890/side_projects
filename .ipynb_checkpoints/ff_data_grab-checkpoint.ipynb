{
 "cells": [
  {
   "cell_type": "markdown",
   "metadata": {},
   "source": [
    "# Analysis of 6 Games"
   ]
  },
  {
   "cell_type": "code",
   "execution_count": 1,
   "metadata": {
    "scrolled": true
   },
   "outputs": [
    {
     "data": {
      "text/html": [
       "<script>requirejs.config({paths: { 'plotly': ['https://cdn.plot.ly/plotly-latest.min']},});if(!window.Plotly) {{require(['plotly'],function(plotly) {window.Plotly=plotly;});}}</script>"
      ],
      "text/vnd.plotly.v1+html": [
       "<script>requirejs.config({paths: { 'plotly': ['https://cdn.plot.ly/plotly-latest.min']},});if(!window.Plotly) {{require(['plotly'],function(plotly) {window.Plotly=plotly;});}}</script>"
      ]
     },
     "metadata": {},
     "output_type": "display_data"
    }
   ],
   "source": [
    "import pandas as pd\n",
    "import plotly.offline as py\n",
    "import plotly.graph_objs as go\n",
    "py.init_notebook_mode(connected=True)"
   ]
  },
  {
   "cell_type": "code",
   "execution_count": 2,
   "metadata": {},
   "outputs": [],
   "source": [
    "df = pd.read_csv('ff_data.csv')"
   ]
  },
  {
   "cell_type": "code",
   "execution_count": 3,
   "metadata": {},
   "outputs": [
    {
     "data": {
      "text/html": [
       "<div>\n",
       "<style scoped>\n",
       "    .dataframe tbody tr th:only-of-type {\n",
       "        vertical-align: middle;\n",
       "    }\n",
       "\n",
       "    .dataframe tbody tr th {\n",
       "        vertical-align: top;\n",
       "    }\n",
       "\n",
       "    .dataframe thead th {\n",
       "        text-align: right;\n",
       "    }\n",
       "</style>\n",
       "<table border=\"1\" class=\"dataframe\">\n",
       "  <thead>\n",
       "    <tr style=\"text-align: right;\">\n",
       "      <th></th>\n",
       "      <th>name</th>\n",
       "      <th>week</th>\n",
       "      <th>score</th>\n",
       "      <th>opp</th>\n",
       "      <th>margin</th>\n",
       "    </tr>\n",
       "  </thead>\n",
       "  <tbody>\n",
       "    <tr>\n",
       "      <th>0</th>\n",
       "      <td>stephen</td>\n",
       "      <td>Week 1</td>\n",
       "      <td>67.8</td>\n",
       "      <td>91.3</td>\n",
       "      <td>-23.5</td>\n",
       "    </tr>\n",
       "    <tr>\n",
       "      <th>1</th>\n",
       "      <td>stephen</td>\n",
       "      <td>Week 2</td>\n",
       "      <td>89.4</td>\n",
       "      <td>103.2</td>\n",
       "      <td>-13.8</td>\n",
       "    </tr>\n",
       "    <tr>\n",
       "      <th>2</th>\n",
       "      <td>stephen</td>\n",
       "      <td>Week 3</td>\n",
       "      <td>89.1</td>\n",
       "      <td>127.0</td>\n",
       "      <td>-37.9</td>\n",
       "    </tr>\n",
       "    <tr>\n",
       "      <th>3</th>\n",
       "      <td>stephen</td>\n",
       "      <td>Week 4</td>\n",
       "      <td>155.0</td>\n",
       "      <td>109.2</td>\n",
       "      <td>45.8</td>\n",
       "    </tr>\n",
       "    <tr>\n",
       "      <th>4</th>\n",
       "      <td>stephen</td>\n",
       "      <td>Week 5</td>\n",
       "      <td>77.4</td>\n",
       "      <td>120.0</td>\n",
       "      <td>-42.6</td>\n",
       "    </tr>\n",
       "    <tr>\n",
       "      <th>5</th>\n",
       "      <td>stephen</td>\n",
       "      <td>Week 6</td>\n",
       "      <td>119.3</td>\n",
       "      <td>118.2</td>\n",
       "      <td>1.1</td>\n",
       "    </tr>\n",
       "    <tr>\n",
       "      <th>6</th>\n",
       "      <td>dustin</td>\n",
       "      <td>Week 1</td>\n",
       "      <td>108.4</td>\n",
       "      <td>89.1</td>\n",
       "      <td>19.3</td>\n",
       "    </tr>\n",
       "    <tr>\n",
       "      <th>7</th>\n",
       "      <td>dustin</td>\n",
       "      <td>Week 2</td>\n",
       "      <td>84.0</td>\n",
       "      <td>122.5</td>\n",
       "      <td>-38.5</td>\n",
       "    </tr>\n",
       "    <tr>\n",
       "      <th>8</th>\n",
       "      <td>dustin</td>\n",
       "      <td>Week 3</td>\n",
       "      <td>102.9</td>\n",
       "      <td>72.2</td>\n",
       "      <td>30.7</td>\n",
       "    </tr>\n",
       "    <tr>\n",
       "      <th>9</th>\n",
       "      <td>dustin</td>\n",
       "      <td>Week 4</td>\n",
       "      <td>109.2</td>\n",
       "      <td>155.0</td>\n",
       "      <td>-45.8</td>\n",
       "    </tr>\n",
       "  </tbody>\n",
       "</table>\n",
       "</div>"
      ],
      "text/plain": [
       "      name    week  score    opp  margin\n",
       "0  stephen  Week 1   67.8   91.3   -23.5\n",
       "1  stephen  Week 2   89.4  103.2   -13.8\n",
       "2  stephen  Week 3   89.1  127.0   -37.9\n",
       "3  stephen  Week 4  155.0  109.2    45.8\n",
       "4  stephen  Week 5   77.4  120.0   -42.6\n",
       "5  stephen  Week 6  119.3  118.2     1.1\n",
       "6   dustin  Week 1  108.4   89.1    19.3\n",
       "7   dustin  Week 2   84.0  122.5   -38.5\n",
       "8   dustin  Week 3  102.9   72.2    30.7\n",
       "9   dustin  Week 4  109.2  155.0   -45.8"
      ]
     },
     "execution_count": 3,
     "metadata": {},
     "output_type": "execute_result"
    }
   ],
   "source": [
    "df.head(10)"
   ]
  },
  {
   "cell_type": "code",
   "execution_count": 4,
   "metadata": {},
   "outputs": [],
   "source": [
    "names = df.name.unique().tolist()"
   ]
  },
  {
   "cell_type": "code",
   "execution_count": 5,
   "metadata": {},
   "outputs": [],
   "source": [
    "# create lists\n",
    "lost_margin = []\n",
    "win_margin = []\n",
    "avg = []\n",
    "std = []\n",
    "for n in names:\n",
    "    avg.append(df[(df.name==n)].score.mean())\n",
    "    std.append(df[(df.name==n)].score.std())\n",
    "    lost_margin.append(df[(df.name==n)&(df.margin<0)].margin.mean())\n",
    "    win_margin.append(df[(df.name==n)&(df.margin>0)].margin.mean())"
   ]
  },
  {
   "cell_type": "code",
   "execution_count": 6,
   "metadata": {},
   "outputs": [],
   "source": [
    "# create df\n",
    "df2 = pd.DataFrame(data={'name':names,\n",
    "                   'avg_score':avg,\n",
    "                   'std':std,\n",
    "                   'win_margin':win_margin,\n",
    "                   'lost_margin':lost_margin\n",
    "                  })"
   ]
  },
  {
   "cell_type": "code",
   "execution_count": 7,
   "metadata": {},
   "outputs": [],
   "source": [
    "df2['standings'] = ['2-4','3-3','1-5','4-2','3-3','5-1','3-3','4-2','3-3','4-2','2-4','2-4']"
   ]
  },
  {
   "cell_type": "code",
   "execution_count": 12,
   "metadata": {},
   "outputs": [
    {
     "data": {
      "text/html": [
       "<div>\n",
       "<style scoped>\n",
       "    .dataframe tbody tr th:only-of-type {\n",
       "        vertical-align: middle;\n",
       "    }\n",
       "\n",
       "    .dataframe tbody tr th {\n",
       "        vertical-align: top;\n",
       "    }\n",
       "\n",
       "    .dataframe thead th {\n",
       "        text-align: right;\n",
       "    }\n",
       "</style>\n",
       "<table border=\"1\" class=\"dataframe\">\n",
       "  <thead>\n",
       "    <tr style=\"text-align: right;\">\n",
       "      <th></th>\n",
       "      <th>name</th>\n",
       "      <th>avg_score</th>\n",
       "      <th>std</th>\n",
       "      <th>win_margin</th>\n",
       "      <th>lost_margin</th>\n",
       "      <th>standings</th>\n",
       "    </tr>\n",
       "  </thead>\n",
       "  <tbody>\n",
       "    <tr>\n",
       "      <th>5</th>\n",
       "      <td>ken</td>\n",
       "      <td>111.316667</td>\n",
       "      <td>11.283159</td>\n",
       "      <td>19.420000</td>\n",
       "      <td>-12.300000</td>\n",
       "      <td>5-1</td>\n",
       "    </tr>\n",
       "    <tr>\n",
       "      <th>3</th>\n",
       "      <td>cari</td>\n",
       "      <td>126.883333</td>\n",
       "      <td>26.882962</td>\n",
       "      <td>31.500000</td>\n",
       "      <td>-6.250000</td>\n",
       "      <td>4-2</td>\n",
       "    </tr>\n",
       "    <tr>\n",
       "      <th>7</th>\n",
       "      <td>jason</td>\n",
       "      <td>104.533333</td>\n",
       "      <td>17.667333</td>\n",
       "      <td>5.075000</td>\n",
       "      <td>-42.450000</td>\n",
       "      <td>4-2</td>\n",
       "    </tr>\n",
       "    <tr>\n",
       "      <th>9</th>\n",
       "      <td>andy</td>\n",
       "      <td>130.650000</td>\n",
       "      <td>22.604845</td>\n",
       "      <td>20.325000</td>\n",
       "      <td>-6.300000</td>\n",
       "      <td>4-2</td>\n",
       "    </tr>\n",
       "    <tr>\n",
       "      <th>1</th>\n",
       "      <td>dustin</td>\n",
       "      <td>96.233333</td>\n",
       "      <td>18.010515</td>\n",
       "      <td>23.200000</td>\n",
       "      <td>-38.733333</td>\n",
       "      <td>3-3</td>\n",
       "    </tr>\n",
       "    <tr>\n",
       "      <th>4</th>\n",
       "      <td>matthew</td>\n",
       "      <td>127.500000</td>\n",
       "      <td>27.150838</td>\n",
       "      <td>18.100000</td>\n",
       "      <td>-18.766667</td>\n",
       "      <td>3-3</td>\n",
       "    </tr>\n",
       "    <tr>\n",
       "      <th>6</th>\n",
       "      <td>keith</td>\n",
       "      <td>120.300000</td>\n",
       "      <td>15.348094</td>\n",
       "      <td>15.766667</td>\n",
       "      <td>-6.700000</td>\n",
       "      <td>3-3</td>\n",
       "    </tr>\n",
       "    <tr>\n",
       "      <th>8</th>\n",
       "      <td>kathleen</td>\n",
       "      <td>93.733333</td>\n",
       "      <td>5.295533</td>\n",
       "      <td>24.133333</td>\n",
       "      <td>-27.200000</td>\n",
       "      <td>3-3</td>\n",
       "    </tr>\n",
       "    <tr>\n",
       "      <th>0</th>\n",
       "      <td>stephen</td>\n",
       "      <td>99.666667</td>\n",
       "      <td>32.173260</td>\n",
       "      <td>23.450000</td>\n",
       "      <td>-29.450000</td>\n",
       "      <td>2-4</td>\n",
       "    </tr>\n",
       "    <tr>\n",
       "      <th>10</th>\n",
       "      <td>patrick</td>\n",
       "      <td>108.883333</td>\n",
       "      <td>18.483659</td>\n",
       "      <td>34.850000</td>\n",
       "      <td>-13.825000</td>\n",
       "      <td>2-4</td>\n",
       "    </tr>\n",
       "    <tr>\n",
       "      <th>11</th>\n",
       "      <td>nathan</td>\n",
       "      <td>99.483333</td>\n",
       "      <td>12.767681</td>\n",
       "      <td>16.450000</td>\n",
       "      <td>-16.700000</td>\n",
       "      <td>2-4</td>\n",
       "    </tr>\n",
       "    <tr>\n",
       "      <th>2</th>\n",
       "      <td>brian</td>\n",
       "      <td>92.050000</td>\n",
       "      <td>29.284177</td>\n",
       "      <td>9.600000</td>\n",
       "      <td>-18.200000</td>\n",
       "      <td>1-5</td>\n",
       "    </tr>\n",
       "  </tbody>\n",
       "</table>\n",
       "</div>"
      ],
      "text/plain": [
       "        name   avg_score        std  win_margin  lost_margin standings\n",
       "5        ken  111.316667  11.283159   19.420000   -12.300000       5-1\n",
       "3       cari  126.883333  26.882962   31.500000    -6.250000       4-2\n",
       "7      jason  104.533333  17.667333    5.075000   -42.450000       4-2\n",
       "9       andy  130.650000  22.604845   20.325000    -6.300000       4-2\n",
       "1     dustin   96.233333  18.010515   23.200000   -38.733333       3-3\n",
       "4    matthew  127.500000  27.150838   18.100000   -18.766667       3-3\n",
       "6      keith  120.300000  15.348094   15.766667    -6.700000       3-3\n",
       "8   kathleen   93.733333   5.295533   24.133333   -27.200000       3-3\n",
       "0    stephen   99.666667  32.173260   23.450000   -29.450000       2-4\n",
       "10   patrick  108.883333  18.483659   34.850000   -13.825000       2-4\n",
       "11    nathan   99.483333  12.767681   16.450000   -16.700000       2-4\n",
       "2      brian   92.050000  29.284177    9.600000   -18.200000       1-5"
      ]
     },
     "execution_count": 12,
     "metadata": {},
     "output_type": "execute_result"
    }
   ],
   "source": [
    "df2.sort_values('standings',ascending=False)"
   ]
  },
  {
   "cell_type": "code",
   "execution_count": 9,
   "metadata": {},
   "outputs": [],
   "source": [
    "columns = ['avg_score','std','win_margin','lost_margin']\n",
    "titles = ['Average Score (mean)','BOOM or BUST (std)', 'Barely Won a Game (Win Margin)', 'Almost Won a Game (Loss Margin)']\n",
    "standings = ['1-5','2-4','3-3', '4-2','5-1']"
   ]
  },
  {
   "cell_type": "code",
   "execution_count": 10,
   "metadata": {
    "scrolled": false
   },
   "outputs": [
    {
     "data": {
      "application/vnd.plotly.v1+json": {
       "data": [
        {
         "name": "1-5",
         "type": "bar",
         "uid": "df46a7d4-d17e-11e8-9371-360038087701",
         "x": [
          "brian"
         ],
         "y": [
          92.05
         ]
        },
        {
         "name": "2-4",
         "type": "bar",
         "uid": "df47a08a-d17e-11e8-9e57-360038087701",
         "x": [
          "nathan",
          "stephen",
          "patrick"
         ],
         "y": [
          99.48333333333335,
          99.66666666666664,
          108.88333333333333
         ]
        },
        {
         "name": "3-3",
         "type": "bar",
         "uid": "df47a268-d17e-11e8-9584-360038087701",
         "x": [
          "kathleen",
          "dustin",
          "keith",
          "matthew"
         ],
         "y": [
          93.73333333333333,
          96.23333333333333,
          120.30000000000001,
          127.5
         ]
        },
        {
         "name": "4-2",
         "type": "bar",
         "uid": "df47a382-d17e-11e8-bdb3-360038087701",
         "x": [
          "jason",
          "cari",
          "andy"
         ],
         "y": [
          104.53333333333332,
          126.88333333333334,
          130.65
         ]
        },
        {
         "name": "5-1",
         "type": "bar",
         "uid": "df47a474-d17e-11e8-a6b1-360038087701",
         "x": [
          "ken"
         ],
         "y": [
          111.31666666666666
         ]
        }
       ],
       "layout": {
        "barmode": "group",
        "title": "Average Score (mean)"
       }
      },
      "text/html": [
       "<div id=\"02e2abe2-e19a-4a0b-b9a7-fbdb6fb3b84f\" style=\"height: 525px; width: 100%;\" class=\"plotly-graph-div\"></div><script type=\"text/javascript\">require([\"plotly\"], function(Plotly) { window.PLOTLYENV=window.PLOTLYENV || {};window.PLOTLYENV.BASE_URL=\"https://plot.ly\";\n",
       "        Plotly.plot(\n",
       "            '02e2abe2-e19a-4a0b-b9a7-fbdb6fb3b84f',\n",
       "            [{\"name\": \"1-5\", \"x\": [\"brian\"], \"y\": [92.05], \"type\": \"bar\", \"uid\": \"df46a7d4-d17e-11e8-9371-360038087701\"}, {\"name\": \"2-4\", \"x\": [\"nathan\", \"stephen\", \"patrick\"], \"y\": [99.48333333333335, 99.66666666666664, 108.88333333333333], \"type\": \"bar\", \"uid\": \"df47a08a-d17e-11e8-9e57-360038087701\"}, {\"name\": \"3-3\", \"x\": [\"kathleen\", \"dustin\", \"keith\", \"matthew\"], \"y\": [93.73333333333333, 96.23333333333333, 120.30000000000001, 127.5], \"type\": \"bar\", \"uid\": \"df47a268-d17e-11e8-9584-360038087701\"}, {\"name\": \"4-2\", \"x\": [\"jason\", \"cari\", \"andy\"], \"y\": [104.53333333333332, 126.88333333333334, 130.65], \"type\": \"bar\", \"uid\": \"df47a382-d17e-11e8-bdb3-360038087701\"}, {\"name\": \"5-1\", \"x\": [\"ken\"], \"y\": [111.31666666666666], \"type\": \"bar\", \"uid\": \"df47a474-d17e-11e8-a6b1-360038087701\"}],\n",
       "            {\"barmode\": \"group\", \"title\": \"Average Score (mean)\"},\n",
       "            {\"showLink\": true, \"linkText\": \"Export to plot.ly\"}\n",
       "        ).then(function () {return Plotly.addFrames('02e2abe2-e19a-4a0b-b9a7-fbdb6fb3b84f',{});}).then(function(){Plotly.animate('02e2abe2-e19a-4a0b-b9a7-fbdb6fb3b84f');})\n",
       "        });</script>"
      ],
      "text/vnd.plotly.v1+html": [
       "<div id=\"02e2abe2-e19a-4a0b-b9a7-fbdb6fb3b84f\" style=\"height: 525px; width: 100%;\" class=\"plotly-graph-div\"></div><script type=\"text/javascript\">require([\"plotly\"], function(Plotly) { window.PLOTLYENV=window.PLOTLYENV || {};window.PLOTLYENV.BASE_URL=\"https://plot.ly\";\n",
       "        Plotly.plot(\n",
       "            '02e2abe2-e19a-4a0b-b9a7-fbdb6fb3b84f',\n",
       "            [{\"name\": \"1-5\", \"x\": [\"brian\"], \"y\": [92.05], \"type\": \"bar\", \"uid\": \"df46a7d4-d17e-11e8-9371-360038087701\"}, {\"name\": \"2-4\", \"x\": [\"nathan\", \"stephen\", \"patrick\"], \"y\": [99.48333333333335, 99.66666666666664, 108.88333333333333], \"type\": \"bar\", \"uid\": \"df47a08a-d17e-11e8-9e57-360038087701\"}, {\"name\": \"3-3\", \"x\": [\"kathleen\", \"dustin\", \"keith\", \"matthew\"], \"y\": [93.73333333333333, 96.23333333333333, 120.30000000000001, 127.5], \"type\": \"bar\", \"uid\": \"df47a268-d17e-11e8-9584-360038087701\"}, {\"name\": \"4-2\", \"x\": [\"jason\", \"cari\", \"andy\"], \"y\": [104.53333333333332, 126.88333333333334, 130.65], \"type\": \"bar\", \"uid\": \"df47a382-d17e-11e8-bdb3-360038087701\"}, {\"name\": \"5-1\", \"x\": [\"ken\"], \"y\": [111.31666666666666], \"type\": \"bar\", \"uid\": \"df47a474-d17e-11e8-a6b1-360038087701\"}],\n",
       "            {\"barmode\": \"group\", \"title\": \"Average Score (mean)\"},\n",
       "            {\"showLink\": true, \"linkText\": \"Export to plot.ly\"}\n",
       "        ).then(function () {return Plotly.addFrames('02e2abe2-e19a-4a0b-b9a7-fbdb6fb3b84f',{});}).then(function(){Plotly.animate('02e2abe2-e19a-4a0b-b9a7-fbdb6fb3b84f');})\n",
       "        });</script>"
      ]
     },
     "metadata": {},
     "output_type": "display_data"
    },
    {
     "data": {
      "application/vnd.plotly.v1+json": {
       "data": [
        {
         "name": "1-5",
         "type": "bar",
         "uid": "df525476-d17e-11e8-b034-360038087701",
         "x": [
          "brian"
         ],
         "y": [
          29.28417661468391
         ]
        },
        {
         "name": "2-4",
         "type": "bar",
         "uid": "df525642-d17e-11e8-86cc-360038087701",
         "x": [
          "nathan",
          "patrick",
          "stephen"
         ],
         "y": [
          12.767680551559343,
          18.483659450083646,
          32.173260118717636
         ]
        },
        {
         "name": "3-3",
         "type": "bar",
         "uid": "df52576e-d17e-11e8-b25a-360038087701",
         "x": [
          "kathleen",
          "keith",
          "dustin",
          "matthew"
         ],
         "y": [
          5.295532708488038,
          15.348094344250033,
          18.01051544700114,
          27.150837924454567
         ]
        },
        {
         "name": "4-2",
         "type": "bar",
         "uid": "df525868-d17e-11e8-8f3e-360038087701",
         "x": [
          "jason",
          "andy",
          "cari"
         ],
         "y": [
          17.66733332075519,
          22.604844613489387,
          26.882962386364095
         ]
        },
        {
         "name": "5-1",
         "type": "bar",
         "uid": "df52594c-d17e-11e8-8896-360038087701",
         "x": [
          "ken"
         ],
         "y": [
          11.28315854123599
         ]
        }
       ],
       "layout": {
        "barmode": "group",
        "title": "BOOM or BUST (std)"
       }
      },
      "text/html": [
       "<div id=\"409ee3e5-5fa7-4886-bfa7-26114b095d59\" style=\"height: 525px; width: 100%;\" class=\"plotly-graph-div\"></div><script type=\"text/javascript\">require([\"plotly\"], function(Plotly) { window.PLOTLYENV=window.PLOTLYENV || {};window.PLOTLYENV.BASE_URL=\"https://plot.ly\";\n",
       "        Plotly.plot(\n",
       "            '409ee3e5-5fa7-4886-bfa7-26114b095d59',\n",
       "            [{\"name\": \"1-5\", \"x\": [\"brian\"], \"y\": [29.28417661468391], \"type\": \"bar\", \"uid\": \"df525476-d17e-11e8-b034-360038087701\"}, {\"name\": \"2-4\", \"x\": [\"nathan\", \"patrick\", \"stephen\"], \"y\": [12.767680551559343, 18.483659450083646, 32.173260118717636], \"type\": \"bar\", \"uid\": \"df525642-d17e-11e8-86cc-360038087701\"}, {\"name\": \"3-3\", \"x\": [\"kathleen\", \"keith\", \"dustin\", \"matthew\"], \"y\": [5.295532708488038, 15.348094344250033, 18.01051544700114, 27.150837924454567], \"type\": \"bar\", \"uid\": \"df52576e-d17e-11e8-b25a-360038087701\"}, {\"name\": \"4-2\", \"x\": [\"jason\", \"andy\", \"cari\"], \"y\": [17.66733332075519, 22.604844613489387, 26.882962386364095], \"type\": \"bar\", \"uid\": \"df525868-d17e-11e8-8f3e-360038087701\"}, {\"name\": \"5-1\", \"x\": [\"ken\"], \"y\": [11.28315854123599], \"type\": \"bar\", \"uid\": \"df52594c-d17e-11e8-8896-360038087701\"}],\n",
       "            {\"barmode\": \"group\", \"title\": \"BOOM or BUST (std)\"},\n",
       "            {\"showLink\": true, \"linkText\": \"Export to plot.ly\"}\n",
       "        ).then(function () {return Plotly.addFrames('409ee3e5-5fa7-4886-bfa7-26114b095d59',{});}).then(function(){Plotly.animate('409ee3e5-5fa7-4886-bfa7-26114b095d59');})\n",
       "        });</script>"
      ],
      "text/vnd.plotly.v1+html": [
       "<div id=\"409ee3e5-5fa7-4886-bfa7-26114b095d59\" style=\"height: 525px; width: 100%;\" class=\"plotly-graph-div\"></div><script type=\"text/javascript\">require([\"plotly\"], function(Plotly) { window.PLOTLYENV=window.PLOTLYENV || {};window.PLOTLYENV.BASE_URL=\"https://plot.ly\";\n",
       "        Plotly.plot(\n",
       "            '409ee3e5-5fa7-4886-bfa7-26114b095d59',\n",
       "            [{\"name\": \"1-5\", \"x\": [\"brian\"], \"y\": [29.28417661468391], \"type\": \"bar\", \"uid\": \"df525476-d17e-11e8-b034-360038087701\"}, {\"name\": \"2-4\", \"x\": [\"nathan\", \"patrick\", \"stephen\"], \"y\": [12.767680551559343, 18.483659450083646, 32.173260118717636], \"type\": \"bar\", \"uid\": \"df525642-d17e-11e8-86cc-360038087701\"}, {\"name\": \"3-3\", \"x\": [\"kathleen\", \"keith\", \"dustin\", \"matthew\"], \"y\": [5.295532708488038, 15.348094344250033, 18.01051544700114, 27.150837924454567], \"type\": \"bar\", \"uid\": \"df52576e-d17e-11e8-b25a-360038087701\"}, {\"name\": \"4-2\", \"x\": [\"jason\", \"andy\", \"cari\"], \"y\": [17.66733332075519, 22.604844613489387, 26.882962386364095], \"type\": \"bar\", \"uid\": \"df525868-d17e-11e8-8f3e-360038087701\"}, {\"name\": \"5-1\", \"x\": [\"ken\"], \"y\": [11.28315854123599], \"type\": \"bar\", \"uid\": \"df52594c-d17e-11e8-8896-360038087701\"}],\n",
       "            {\"barmode\": \"group\", \"title\": \"BOOM or BUST (std)\"},\n",
       "            {\"showLink\": true, \"linkText\": \"Export to plot.ly\"}\n",
       "        ).then(function () {return Plotly.addFrames('409ee3e5-5fa7-4886-bfa7-26114b095d59',{});}).then(function(){Plotly.animate('409ee3e5-5fa7-4886-bfa7-26114b095d59');})\n",
       "        });</script>"
      ]
     },
     "metadata": {},
     "output_type": "display_data"
    },
    {
     "data": {
      "application/vnd.plotly.v1+json": {
       "data": [
        {
         "name": "1-5",
         "type": "bar",
         "uid": "df5ced6e-d17e-11e8-a153-360038087701",
         "x": [
          "brian"
         ],
         "y": [
          9.6
         ]
        },
        {
         "name": "2-4",
         "type": "bar",
         "uid": "df5cf12e-d17e-11e8-bfa9-360038087701",
         "x": [
          "nathan",
          "stephen",
          "patrick"
         ],
         "y": [
          16.450000000000003,
          23.45,
          34.85
         ]
        },
        {
         "name": "3-3",
         "type": "bar",
         "uid": "df5cf386-d17e-11e8-a557-360038087701",
         "x": [
          "keith",
          "matthew",
          "dustin",
          "kathleen"
         ],
         "y": [
          15.766666666666666,
          18.1,
          23.2,
          24.133333333333336
         ]
        },
        {
         "name": "4-2",
         "type": "bar",
         "uid": "df5cf57a-d17e-11e8-915a-360038087701",
         "x": [
          "jason",
          "andy",
          "cari"
         ],
         "y": [
          5.075,
          20.325,
          31.5
         ]
        },
        {
         "name": "5-1",
         "type": "bar",
         "uid": "df5cf764-d17e-11e8-8cd9-360038087701",
         "x": [
          "ken"
         ],
         "y": [
          19.419999999999998
         ]
        }
       ],
       "layout": {
        "barmode": "group",
        "title": "Barely Won a Game (Win Margin)"
       }
      },
      "text/html": [
       "<div id=\"522edf35-fdf7-44b2-b92a-d5775e558764\" style=\"height: 525px; width: 100%;\" class=\"plotly-graph-div\"></div><script type=\"text/javascript\">require([\"plotly\"], function(Plotly) { window.PLOTLYENV=window.PLOTLYENV || {};window.PLOTLYENV.BASE_URL=\"https://plot.ly\";\n",
       "        Plotly.plot(\n",
       "            '522edf35-fdf7-44b2-b92a-d5775e558764',\n",
       "            [{\"name\": \"1-5\", \"x\": [\"brian\"], \"y\": [9.6], \"type\": \"bar\", \"uid\": \"df5ced6e-d17e-11e8-a153-360038087701\"}, {\"name\": \"2-4\", \"x\": [\"nathan\", \"stephen\", \"patrick\"], \"y\": [16.450000000000003, 23.45, 34.85], \"type\": \"bar\", \"uid\": \"df5cf12e-d17e-11e8-bfa9-360038087701\"}, {\"name\": \"3-3\", \"x\": [\"keith\", \"matthew\", \"dustin\", \"kathleen\"], \"y\": [15.766666666666666, 18.1, 23.2, 24.133333333333336], \"type\": \"bar\", \"uid\": \"df5cf386-d17e-11e8-a557-360038087701\"}, {\"name\": \"4-2\", \"x\": [\"jason\", \"andy\", \"cari\"], \"y\": [5.075, 20.325, 31.5], \"type\": \"bar\", \"uid\": \"df5cf57a-d17e-11e8-915a-360038087701\"}, {\"name\": \"5-1\", \"x\": [\"ken\"], \"y\": [19.419999999999998], \"type\": \"bar\", \"uid\": \"df5cf764-d17e-11e8-8cd9-360038087701\"}],\n",
       "            {\"barmode\": \"group\", \"title\": \"Barely Won a Game (Win Margin)\"},\n",
       "            {\"showLink\": true, \"linkText\": \"Export to plot.ly\"}\n",
       "        ).then(function () {return Plotly.addFrames('522edf35-fdf7-44b2-b92a-d5775e558764',{});}).then(function(){Plotly.animate('522edf35-fdf7-44b2-b92a-d5775e558764');})\n",
       "        });</script>"
      ],
      "text/vnd.plotly.v1+html": [
       "<div id=\"522edf35-fdf7-44b2-b92a-d5775e558764\" style=\"height: 525px; width: 100%;\" class=\"plotly-graph-div\"></div><script type=\"text/javascript\">require([\"plotly\"], function(Plotly) { window.PLOTLYENV=window.PLOTLYENV || {};window.PLOTLYENV.BASE_URL=\"https://plot.ly\";\n",
       "        Plotly.plot(\n",
       "            '522edf35-fdf7-44b2-b92a-d5775e558764',\n",
       "            [{\"name\": \"1-5\", \"x\": [\"brian\"], \"y\": [9.6], \"type\": \"bar\", \"uid\": \"df5ced6e-d17e-11e8-a153-360038087701\"}, {\"name\": \"2-4\", \"x\": [\"nathan\", \"stephen\", \"patrick\"], \"y\": [16.450000000000003, 23.45, 34.85], \"type\": \"bar\", \"uid\": \"df5cf12e-d17e-11e8-bfa9-360038087701\"}, {\"name\": \"3-3\", \"x\": [\"keith\", \"matthew\", \"dustin\", \"kathleen\"], \"y\": [15.766666666666666, 18.1, 23.2, 24.133333333333336], \"type\": \"bar\", \"uid\": \"df5cf386-d17e-11e8-a557-360038087701\"}, {\"name\": \"4-2\", \"x\": [\"jason\", \"andy\", \"cari\"], \"y\": [5.075, 20.325, 31.5], \"type\": \"bar\", \"uid\": \"df5cf57a-d17e-11e8-915a-360038087701\"}, {\"name\": \"5-1\", \"x\": [\"ken\"], \"y\": [19.419999999999998], \"type\": \"bar\", \"uid\": \"df5cf764-d17e-11e8-8cd9-360038087701\"}],\n",
       "            {\"barmode\": \"group\", \"title\": \"Barely Won a Game (Win Margin)\"},\n",
       "            {\"showLink\": true, \"linkText\": \"Export to plot.ly\"}\n",
       "        ).then(function () {return Plotly.addFrames('522edf35-fdf7-44b2-b92a-d5775e558764',{});}).then(function(){Plotly.animate('522edf35-fdf7-44b2-b92a-d5775e558764');})\n",
       "        });</script>"
      ]
     },
     "metadata": {},
     "output_type": "display_data"
    },
    {
     "data": {
      "application/vnd.plotly.v1+json": {
       "data": [
        {
         "name": "1-5",
         "type": "bar",
         "uid": "df687242-d17e-11e8-bc1c-360038087701",
         "x": [
          "brian"
         ],
         "y": [
          -18.199999999999996
         ]
        },
        {
         "name": "2-4",
         "type": "bar",
         "uid": "df68740c-d17e-11e8-b16a-360038087701",
         "x": [
          "stephen",
          "nathan",
          "patrick"
         ],
         "y": [
          -29.449999999999996,
          -16.7,
          -13.825000000000001
         ]
        },
        {
         "name": "3-3",
         "type": "bar",
         "uid": "df6874d8-d17e-11e8-82f6-360038087701",
         "x": [
          "dustin",
          "kathleen",
          "matthew",
          "keith"
         ],
         "y": [
          -38.73333333333333,
          -27.2,
          -18.76666666666667,
          -6.7
         ]
        },
        {
         "name": "4-2",
         "type": "bar",
         "uid": "df687576-d17e-11e8-9941-360038087701",
         "x": [
          "jason",
          "andy",
          "cari"
         ],
         "y": [
          -42.45,
          -6.3,
          -6.25
         ]
        },
        {
         "name": "5-1",
         "type": "bar",
         "uid": "df687602-d17e-11e8-9711-360038087701",
         "x": [
          "ken"
         ],
         "y": [
          -12.3
         ]
        }
       ],
       "layout": {
        "barmode": "group",
        "title": "Almost Won a Game (Loss Margin)"
       }
      },
      "text/html": [
       "<div id=\"b76c6826-54a0-4cfe-9828-b051288fefa2\" style=\"height: 525px; width: 100%;\" class=\"plotly-graph-div\"></div><script type=\"text/javascript\">require([\"plotly\"], function(Plotly) { window.PLOTLYENV=window.PLOTLYENV || {};window.PLOTLYENV.BASE_URL=\"https://plot.ly\";\n",
       "        Plotly.plot(\n",
       "            'b76c6826-54a0-4cfe-9828-b051288fefa2',\n",
       "            [{\"name\": \"1-5\", \"x\": [\"brian\"], \"y\": [-18.199999999999996], \"type\": \"bar\", \"uid\": \"df687242-d17e-11e8-bc1c-360038087701\"}, {\"name\": \"2-4\", \"x\": [\"stephen\", \"nathan\", \"patrick\"], \"y\": [-29.449999999999996, -16.7, -13.825000000000001], \"type\": \"bar\", \"uid\": \"df68740c-d17e-11e8-b16a-360038087701\"}, {\"name\": \"3-3\", \"x\": [\"dustin\", \"kathleen\", \"matthew\", \"keith\"], \"y\": [-38.73333333333333, -27.2, -18.76666666666667, -6.7], \"type\": \"bar\", \"uid\": \"df6874d8-d17e-11e8-82f6-360038087701\"}, {\"name\": \"4-2\", \"x\": [\"jason\", \"andy\", \"cari\"], \"y\": [-42.45, -6.3, -6.25], \"type\": \"bar\", \"uid\": \"df687576-d17e-11e8-9941-360038087701\"}, {\"name\": \"5-1\", \"x\": [\"ken\"], \"y\": [-12.3], \"type\": \"bar\", \"uid\": \"df687602-d17e-11e8-9711-360038087701\"}],\n",
       "            {\"barmode\": \"group\", \"title\": \"Almost Won a Game (Loss Margin)\"},\n",
       "            {\"showLink\": true, \"linkText\": \"Export to plot.ly\"}\n",
       "        ).then(function () {return Plotly.addFrames('b76c6826-54a0-4cfe-9828-b051288fefa2',{});}).then(function(){Plotly.animate('b76c6826-54a0-4cfe-9828-b051288fefa2');})\n",
       "        });</script>"
      ],
      "text/vnd.plotly.v1+html": [
       "<div id=\"b76c6826-54a0-4cfe-9828-b051288fefa2\" style=\"height: 525px; width: 100%;\" class=\"plotly-graph-div\"></div><script type=\"text/javascript\">require([\"plotly\"], function(Plotly) { window.PLOTLYENV=window.PLOTLYENV || {};window.PLOTLYENV.BASE_URL=\"https://plot.ly\";\n",
       "        Plotly.plot(\n",
       "            'b76c6826-54a0-4cfe-9828-b051288fefa2',\n",
       "            [{\"name\": \"1-5\", \"x\": [\"brian\"], \"y\": [-18.199999999999996], \"type\": \"bar\", \"uid\": \"df687242-d17e-11e8-bc1c-360038087701\"}, {\"name\": \"2-4\", \"x\": [\"stephen\", \"nathan\", \"patrick\"], \"y\": [-29.449999999999996, -16.7, -13.825000000000001], \"type\": \"bar\", \"uid\": \"df68740c-d17e-11e8-b16a-360038087701\"}, {\"name\": \"3-3\", \"x\": [\"dustin\", \"kathleen\", \"matthew\", \"keith\"], \"y\": [-38.73333333333333, -27.2, -18.76666666666667, -6.7], \"type\": \"bar\", \"uid\": \"df6874d8-d17e-11e8-82f6-360038087701\"}, {\"name\": \"4-2\", \"x\": [\"jason\", \"andy\", \"cari\"], \"y\": [-42.45, -6.3, -6.25], \"type\": \"bar\", \"uid\": \"df687576-d17e-11e8-9941-360038087701\"}, {\"name\": \"5-1\", \"x\": [\"ken\"], \"y\": [-12.3], \"type\": \"bar\", \"uid\": \"df687602-d17e-11e8-9711-360038087701\"}],\n",
       "            {\"barmode\": \"group\", \"title\": \"Almost Won a Game (Loss Margin)\"},\n",
       "            {\"showLink\": true, \"linkText\": \"Export to plot.ly\"}\n",
       "        ).then(function () {return Plotly.addFrames('b76c6826-54a0-4cfe-9828-b051288fefa2',{});}).then(function(){Plotly.animate('b76c6826-54a0-4cfe-9828-b051288fefa2');})\n",
       "        });</script>"
      ]
     },
     "metadata": {},
     "output_type": "display_data"
    }
   ],
   "source": [
    "# create graph\n",
    "for col,title in zip(columns,titles):\n",
    "    df3 = df2.sort_values(col)\n",
    "\n",
    "    # trace\n",
    "    data = []\n",
    "    for s in standings:\n",
    "        trace = go.Bar(x=df3[df3.standings==s].name.tolist(),\n",
    "                       y=df3[df3.standings==s][col].tolist(),name=s)\n",
    "        data.append(trace)\n",
    "\n",
    "    #layout\n",
    "    layout = go.Layout(title=title,\n",
    "                       barmode='group')\n",
    "\n",
    "    # fig\n",
    "    fig = go.Figure(data=data, layout=layout)\n",
    "    \n",
    "    py.iplot(fig)"
   ]
  },
  {
   "cell_type": "code",
   "execution_count": null,
   "metadata": {},
   "outputs": [],
   "source": []
  }
 ],
 "metadata": {
  "kernelspec": {
   "display_name": "Python 3",
   "language": "python",
   "name": "python3"
  },
  "language_info": {
   "codemirror_mode": {
    "name": "ipython",
    "version": 3
   },
   "file_extension": ".py",
   "mimetype": "text/x-python",
   "name": "python",
   "nbconvert_exporter": "python",
   "pygments_lexer": "ipython3",
   "version": "3.6.5"
  }
 },
 "nbformat": 4,
 "nbformat_minor": 2
}
