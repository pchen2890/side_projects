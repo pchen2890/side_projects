{
 "cells": [
  {
   "cell_type": "code",
   "execution_count": 50,
   "metadata": {},
   "outputs": [
    {
     "data": {
      "text/html": [
       "<script>requirejs.config({paths: { 'plotly': ['https://cdn.plot.ly/plotly-latest.min']},});if(!window.Plotly) {{require(['plotly'],function(plotly) {window.Plotly=plotly;});}}</script>"
      ],
      "text/vnd.plotly.v1+html": [
       "<script>requirejs.config({paths: { 'plotly': ['https://cdn.plot.ly/plotly-latest.min']},});if(!window.Plotly) {{require(['plotly'],function(plotly) {window.Plotly=plotly;});}}</script>"
      ]
     },
     "metadata": {},
     "output_type": "display_data"
    }
   ],
   "source": [
    "import pandas as pd\n",
    "from espnff import League\n",
    "import plotly.offline as py\n",
    "import plotly.graph_objs as go\n",
    "py.init_notebook_mode(connected=True)"
   ]
  },
  {
   "cell_type": "code",
   "execution_count": 51,
   "metadata": {},
   "outputs": [],
   "source": [
    "# connection\n",
    "cred = pd.read_csv(\"/Users/patrick.chen/Desktop/espn_cred.csv\")\n",
    "league = League(749478,\n",
    "                2018,\n",
    "                espn_s2=cred['espn2'][0],\n",
    "                swid=cred['swid'][0])"
   ]
  },
  {
   "cell_type": "markdown",
   "metadata": {},
   "source": [
    "# Standings Table"
   ]
  },
  {
   "cell_type": "code",
   "execution_count": 52,
   "metadata": {},
   "outputs": [],
   "source": [
    "team_name = []\n",
    "standings =[]\n",
    "for i in range(12):\n",
    "    team = league.teams[i]\n",
    "    team_name.append(team.team_name)\n",
    "    standings.append(str(team.wins)+\"-\"+str(team.losses))\n",
    "\n",
    "team_standings = pd.DataFrame({'team':team_name,'standings':standings})"
   ]
  },
  {
   "cell_type": "markdown",
   "metadata": {},
   "source": [
    "# Scores Table"
   ]
  },
  {
   "cell_type": "code",
   "execution_count": 53,
   "metadata": {},
   "outputs": [],
   "source": [
    "scores = []\n",
    "team_name = []\n",
    "opp = []\n",
    "week= ['Week 1','Week 2','Week 3','Week 4','Week 5','Week 6','Week 7',\n",
    "       'Week 8','Week 9','Week 10','Week 11','Week 12','Week 13']*12\n",
    "for i in range(12):\n",
    "    team = league.teams[i]\n",
    "    opp = opp+team.schedule\n",
    "    scores = scores + team.scores\n",
    "    for i in range(13):\n",
    "        team_name.append(team.team_name)"
   ]
  },
  {
   "cell_type": "code",
   "execution_count": 54,
   "metadata": {},
   "outputs": [
    {
     "name": "stdout",
     "output_type": "stream",
     "text": [
      "156\n",
      "156\n",
      "156\n",
      "156\n"
     ]
    }
   ],
   "source": [
    "for i in [scores,team_name,opp,week]:\n",
    "    print(len(i))"
   ]
  },
  {
   "cell_type": "code",
   "execution_count": 55,
   "metadata": {},
   "outputs": [],
   "source": [
    "df = pd.DataFrame({'Team':team_name,\n",
    "                   'Week':week,\n",
    "                   'Score':scores,\n",
    "                   'Opp':opp})"
   ]
  },
  {
   "cell_type": "code",
   "execution_count": 56,
   "metadata": {},
   "outputs": [],
   "source": [
    "df['Opp'] = df.Opp.astype(str).str.replace('Team(', '', regex=False).str.strip(\")\")"
   ]
  },
  {
   "cell_type": "code",
   "execution_count": 57,
   "metadata": {},
   "outputs": [],
   "source": [
    "df2 = df.copy().drop('Opp',axis=1)"
   ]
  },
  {
   "cell_type": "code",
   "execution_count": 58,
   "metadata": {},
   "outputs": [],
   "source": [
    "df2.columns = ['Opp','Week','Opp_Score']"
   ]
  },
  {
   "cell_type": "code",
   "execution_count": 59,
   "metadata": {},
   "outputs": [],
   "source": [
    "df3 = df.merge(df2,on=['Opp','Week'])"
   ]
  },
  {
   "cell_type": "code",
   "execution_count": 60,
   "metadata": {},
   "outputs": [],
   "source": [
    "df3['margin'] = df3.Score-df3.Opp_Score"
   ]
  },
  {
   "cell_type": "code",
   "execution_count": 61,
   "metadata": {},
   "outputs": [],
   "source": [
    "names = df3.Team.unique().tolist()"
   ]
  },
  {
   "cell_type": "code",
   "execution_count": 62,
   "metadata": {},
   "outputs": [],
   "source": [
    "# create lists\n",
    "lost_margin = []\n",
    "win_margin = []\n",
    "avg = []\n",
    "std = []\n",
    "for n in names:\n",
    "    avg.append(df3[(df3.Team==n)].Score.mean())\n",
    "    std.append(df3[(df3.Team==n)].Score.std())\n",
    "    lost_margin.append(df3[(df3.Team==n)&(df3.margin<0)].margin.mean())\n",
    "    win_margin.append(df3[(df3.Team==n)&(df3.margin>0)].margin.mean())"
   ]
  },
  {
   "cell_type": "code",
   "execution_count": 63,
   "metadata": {},
   "outputs": [],
   "source": [
    "# create df\n",
    "df4 = pd.DataFrame(data={'team':names,\n",
    "                   'avg_score':avg,\n",
    "                   'std':std,\n",
    "                   'win_margin':win_margin,\n",
    "                   'lost_margin':lost_margin\n",
    "                  })"
   ]
  },
  {
   "cell_type": "code",
   "execution_count": 64,
   "metadata": {},
   "outputs": [],
   "source": [
    "df5 = df4.merge(team_standings, on ='team')"
   ]
  },
  {
   "cell_type": "code",
   "execution_count": 65,
   "metadata": {},
   "outputs": [],
   "source": [
    "df5 = df5.sort_values(['standings','avg_score'],ascending=True)"
   ]
  },
  {
   "cell_type": "code",
   "execution_count": 66,
   "metadata": {},
   "outputs": [],
   "source": [
    "columns = ['avg_score','std','win_margin','lost_margin']\n",
    "titles = ['Average Score (mean)','BOOM or BUST (std)', 'Barely Won a Game (Win Margin)', 'Almost Won a Game (Loss Margin)']\n",
    "standings = df5.standings.unique().tolist()"
   ]
  },
  {
   "cell_type": "code",
   "execution_count": 67,
   "metadata": {
    "scrolled": false
   },
   "outputs": [
    {
     "data": {
      "application/vnd.plotly.v1+json": {
       "data": [
        {
         "name": "2-8",
         "type": "bar",
         "uid": "c90aae58-e908-11e8-a72f-360038087701",
         "x": [
          "âï¸GODS PLANâï¸"
         ],
         "y": [
          70.3153846153846
         ]
        },
        {
         "name": "3-7",
         "type": "bar",
         "uid": "c90ab054-e908-11e8-a8fc-360038087701",
         "x": [
          "Catch - 22"
         ],
         "y": [
          79.5353846153846
         ]
        },
        {
         "name": "4-6",
         "type": "bar",
         "uid": "c90ab19e-e908-11e8-8801-360038087701",
         "x": [
          "TB on my Brown TDs",
          "SMOOTH JAZZ",
          "Krispy Kareem"
         ],
         "y": [
          77.08461538461539,
          80.04769230769232,
          81.80307692307693
         ]
        },
        {
         "name": "5-5",
         "type": "bar",
         "uid": "c90ab27a-e908-11e8-beb9-360038087701",
         "x": [
          "THE SUSPENDERS"
         ],
         "y": [
          85.96923076923078
         ]
        },
        {
         "name": "6-4",
         "type": "bar",
         "uid": "c90ab306-e908-11e8-9e96-360038087701",
         "x": [
          "FULL  CHUBB",
          "RB Graveyard",
          "Settlers of Saquon",
          "WHITE PRIVILEGE",
          "i am the kamara man"
         ],
         "y": [
          83.47230769230768,
          84.57384615384616,
          92.51538461538462,
          98.89384615384614,
          100.75538461538461
         ]
        },
        {
         "name": "8-2",
         "type": "bar",
         "uid": "c90ab392-e908-11e8-a247-360038087701",
         "x": [
          "Gurleys Gone Wild"
         ],
         "y": [
          82.78769230769231
         ]
        }
       ],
       "layout": {
        "barmode": "group",
        "title": "Average Score (mean)"
       }
      },
      "text/html": [
       "<div id=\"c75c9dab-1fb3-437c-8147-c2cd20c1ace8\" style=\"height: 525px; width: 100%;\" class=\"plotly-graph-div\"></div><script type=\"text/javascript\">require([\"plotly\"], function(Plotly) { window.PLOTLYENV=window.PLOTLYENV || {};window.PLOTLYENV.BASE_URL=\"https://plot.ly\";\n",
       "        Plotly.plot(\n",
       "            'c75c9dab-1fb3-437c-8147-c2cd20c1ace8',\n",
       "            [{\"name\": \"2-8\", \"x\": [\"\\u00e2\\u009c\\u008c\\u00ef\\u00b8\\u008fGODS PLAN\\u00e2\\u009c\\u008c\\u00ef\\u00b8\\u008f\"], \"y\": [70.3153846153846], \"type\": \"bar\", \"uid\": \"c90aae58-e908-11e8-a72f-360038087701\"}, {\"name\": \"3-7\", \"x\": [\"Catch - 22\"], \"y\": [79.5353846153846], \"type\": \"bar\", \"uid\": \"c90ab054-e908-11e8-a8fc-360038087701\"}, {\"name\": \"4-6\", \"x\": [\"TB on my Brown TDs\", \"SMOOTH JAZZ\", \"Krispy Kareem\"], \"y\": [77.08461538461539, 80.04769230769232, 81.80307692307693], \"type\": \"bar\", \"uid\": \"c90ab19e-e908-11e8-8801-360038087701\"}, {\"name\": \"5-5\", \"x\": [\"THE SUSPENDERS\"], \"y\": [85.96923076923078], \"type\": \"bar\", \"uid\": \"c90ab27a-e908-11e8-beb9-360038087701\"}, {\"name\": \"6-4\", \"x\": [\"FULL  CHUBB\", \"RB Graveyard\", \"Settlers of Saquon\", \"WHITE PRIVILEGE\", \"i am the kamara man\"], \"y\": [83.47230769230768, 84.57384615384616, 92.51538461538462, 98.89384615384614, 100.75538461538461], \"type\": \"bar\", \"uid\": \"c90ab306-e908-11e8-9e96-360038087701\"}, {\"name\": \"8-2\", \"x\": [\"Gurleys Gone Wild\"], \"y\": [82.78769230769231], \"type\": \"bar\", \"uid\": \"c90ab392-e908-11e8-a247-360038087701\"}],\n",
       "            {\"barmode\": \"group\", \"title\": \"Average Score (mean)\"},\n",
       "            {\"showLink\": true, \"linkText\": \"Export to plot.ly\"}\n",
       "        ).then(function () {return Plotly.addFrames('c75c9dab-1fb3-437c-8147-c2cd20c1ace8',{});}).then(function(){Plotly.animate('c75c9dab-1fb3-437c-8147-c2cd20c1ace8');})\n",
       "        });</script>"
      ],
      "text/vnd.plotly.v1+html": [
       "<div id=\"c75c9dab-1fb3-437c-8147-c2cd20c1ace8\" style=\"height: 525px; width: 100%;\" class=\"plotly-graph-div\"></div><script type=\"text/javascript\">require([\"plotly\"], function(Plotly) { window.PLOTLYENV=window.PLOTLYENV || {};window.PLOTLYENV.BASE_URL=\"https://plot.ly\";\n",
       "        Plotly.plot(\n",
       "            'c75c9dab-1fb3-437c-8147-c2cd20c1ace8',\n",
       "            [{\"name\": \"2-8\", \"x\": [\"\\u00e2\\u009c\\u008c\\u00ef\\u00b8\\u008fGODS PLAN\\u00e2\\u009c\\u008c\\u00ef\\u00b8\\u008f\"], \"y\": [70.3153846153846], \"type\": \"bar\", \"uid\": \"c90aae58-e908-11e8-a72f-360038087701\"}, {\"name\": \"3-7\", \"x\": [\"Catch - 22\"], \"y\": [79.5353846153846], \"type\": \"bar\", \"uid\": \"c90ab054-e908-11e8-a8fc-360038087701\"}, {\"name\": \"4-6\", \"x\": [\"TB on my Brown TDs\", \"SMOOTH JAZZ\", \"Krispy Kareem\"], \"y\": [77.08461538461539, 80.04769230769232, 81.80307692307693], \"type\": \"bar\", \"uid\": \"c90ab19e-e908-11e8-8801-360038087701\"}, {\"name\": \"5-5\", \"x\": [\"THE SUSPENDERS\"], \"y\": [85.96923076923078], \"type\": \"bar\", \"uid\": \"c90ab27a-e908-11e8-beb9-360038087701\"}, {\"name\": \"6-4\", \"x\": [\"FULL  CHUBB\", \"RB Graveyard\", \"Settlers of Saquon\", \"WHITE PRIVILEGE\", \"i am the kamara man\"], \"y\": [83.47230769230768, 84.57384615384616, 92.51538461538462, 98.89384615384614, 100.75538461538461], \"type\": \"bar\", \"uid\": \"c90ab306-e908-11e8-9e96-360038087701\"}, {\"name\": \"8-2\", \"x\": [\"Gurleys Gone Wild\"], \"y\": [82.78769230769231], \"type\": \"bar\", \"uid\": \"c90ab392-e908-11e8-a247-360038087701\"}],\n",
       "            {\"barmode\": \"group\", \"title\": \"Average Score (mean)\"},\n",
       "            {\"showLink\": true, \"linkText\": \"Export to plot.ly\"}\n",
       "        ).then(function () {return Plotly.addFrames('c75c9dab-1fb3-437c-8147-c2cd20c1ace8',{});}).then(function(){Plotly.animate('c75c9dab-1fb3-437c-8147-c2cd20c1ace8');})\n",
       "        });</script>"
      ]
     },
     "metadata": {},
     "output_type": "display_data"
    },
    {
     "data": {
      "application/vnd.plotly.v1+json": {
       "data": [
        {
         "name": "2-8",
         "type": "bar",
         "uid": "c91f84ca-e908-11e8-98d4-360038087701",
         "x": [
          "âï¸GODS PLANâï¸"
         ],
         "y": [
          45.39611081274558
         ]
        },
        {
         "name": "3-7",
         "type": "bar",
         "uid": "c91f860a-e908-11e8-9256-360038087701",
         "x": [
          "Catch - 22"
         ],
         "y": [
          47.147725398542924
         ]
        },
        {
         "name": "4-6",
         "type": "bar",
         "uid": "c91f86b4-e908-11e8-ab14-360038087701",
         "x": [
          "TB on my Brown TDs",
          "SMOOTH JAZZ",
          "Krispy Kareem"
         ],
         "y": [
          45.311249636152645,
          47.41704583688693,
          51.91052548771064
         ]
        },
        {
         "name": "5-5",
         "type": "bar",
         "uid": "c91f874a-e908-11e8-9daa-360038087701",
         "x": [
          "THE SUSPENDERS"
         ],
         "y": [
          51.40884983177159
         ]
        },
        {
         "name": "6-4",
         "type": "bar",
         "uid": "c91f87cc-e908-11e8-813f-360038087701",
         "x": [
          "RB Graveyard",
          "FULL  CHUBB",
          "Settlers of Saquon",
          "WHITE PRIVILEGE",
          "i am the kamara man"
         ],
         "y": [
          50.8781802508799,
          55.64443520452669,
          57.684159670771635,
          59.32747895346944,
          60.396800772803715
         ]
        },
        {
         "name": "8-2",
         "type": "bar",
         "uid": "c91f8846-e908-11e8-a317-360038087701",
         "x": [
          "Gurleys Gone Wild"
         ],
         "y": [
          48.582685213603646
         ]
        }
       ],
       "layout": {
        "barmode": "group",
        "title": "BOOM or BUST (std)"
       }
      },
      "text/html": [
       "<div id=\"e28677bc-c945-4d4e-b12b-9a4adb9d77c4\" style=\"height: 525px; width: 100%;\" class=\"plotly-graph-div\"></div><script type=\"text/javascript\">require([\"plotly\"], function(Plotly) { window.PLOTLYENV=window.PLOTLYENV || {};window.PLOTLYENV.BASE_URL=\"https://plot.ly\";\n",
       "        Plotly.plot(\n",
       "            'e28677bc-c945-4d4e-b12b-9a4adb9d77c4',\n",
       "            [{\"name\": \"2-8\", \"x\": [\"\\u00e2\\u009c\\u008c\\u00ef\\u00b8\\u008fGODS PLAN\\u00e2\\u009c\\u008c\\u00ef\\u00b8\\u008f\"], \"y\": [45.39611081274558], \"type\": \"bar\", \"uid\": \"c91f84ca-e908-11e8-98d4-360038087701\"}, {\"name\": \"3-7\", \"x\": [\"Catch - 22\"], \"y\": [47.147725398542924], \"type\": \"bar\", \"uid\": \"c91f860a-e908-11e8-9256-360038087701\"}, {\"name\": \"4-6\", \"x\": [\"TB on my Brown TDs\", \"SMOOTH JAZZ\", \"Krispy Kareem\"], \"y\": [45.311249636152645, 47.41704583688693, 51.91052548771064], \"type\": \"bar\", \"uid\": \"c91f86b4-e908-11e8-ab14-360038087701\"}, {\"name\": \"5-5\", \"x\": [\"THE SUSPENDERS\"], \"y\": [51.40884983177159], \"type\": \"bar\", \"uid\": \"c91f874a-e908-11e8-9daa-360038087701\"}, {\"name\": \"6-4\", \"x\": [\"RB Graveyard\", \"FULL  CHUBB\", \"Settlers of Saquon\", \"WHITE PRIVILEGE\", \"i am the kamara man\"], \"y\": [50.8781802508799, 55.64443520452669, 57.684159670771635, 59.32747895346944, 60.396800772803715], \"type\": \"bar\", \"uid\": \"c91f87cc-e908-11e8-813f-360038087701\"}, {\"name\": \"8-2\", \"x\": [\"Gurleys Gone Wild\"], \"y\": [48.582685213603646], \"type\": \"bar\", \"uid\": \"c91f8846-e908-11e8-a317-360038087701\"}],\n",
       "            {\"barmode\": \"group\", \"title\": \"BOOM or BUST (std)\"},\n",
       "            {\"showLink\": true, \"linkText\": \"Export to plot.ly\"}\n",
       "        ).then(function () {return Plotly.addFrames('e28677bc-c945-4d4e-b12b-9a4adb9d77c4',{});}).then(function(){Plotly.animate('e28677bc-c945-4d4e-b12b-9a4adb9d77c4');})\n",
       "        });</script>"
      ],
      "text/vnd.plotly.v1+html": [
       "<div id=\"e28677bc-c945-4d4e-b12b-9a4adb9d77c4\" style=\"height: 525px; width: 100%;\" class=\"plotly-graph-div\"></div><script type=\"text/javascript\">require([\"plotly\"], function(Plotly) { window.PLOTLYENV=window.PLOTLYENV || {};window.PLOTLYENV.BASE_URL=\"https://plot.ly\";\n",
       "        Plotly.plot(\n",
       "            'e28677bc-c945-4d4e-b12b-9a4adb9d77c4',\n",
       "            [{\"name\": \"2-8\", \"x\": [\"\\u00e2\\u009c\\u008c\\u00ef\\u00b8\\u008fGODS PLAN\\u00e2\\u009c\\u008c\\u00ef\\u00b8\\u008f\"], \"y\": [45.39611081274558], \"type\": \"bar\", \"uid\": \"c91f84ca-e908-11e8-98d4-360038087701\"}, {\"name\": \"3-7\", \"x\": [\"Catch - 22\"], \"y\": [47.147725398542924], \"type\": \"bar\", \"uid\": \"c91f860a-e908-11e8-9256-360038087701\"}, {\"name\": \"4-6\", \"x\": [\"TB on my Brown TDs\", \"SMOOTH JAZZ\", \"Krispy Kareem\"], \"y\": [45.311249636152645, 47.41704583688693, 51.91052548771064], \"type\": \"bar\", \"uid\": \"c91f86b4-e908-11e8-ab14-360038087701\"}, {\"name\": \"5-5\", \"x\": [\"THE SUSPENDERS\"], \"y\": [51.40884983177159], \"type\": \"bar\", \"uid\": \"c91f874a-e908-11e8-9daa-360038087701\"}, {\"name\": \"6-4\", \"x\": [\"RB Graveyard\", \"FULL  CHUBB\", \"Settlers of Saquon\", \"WHITE PRIVILEGE\", \"i am the kamara man\"], \"y\": [50.8781802508799, 55.64443520452669, 57.684159670771635, 59.32747895346944, 60.396800772803715], \"type\": \"bar\", \"uid\": \"c91f87cc-e908-11e8-813f-360038087701\"}, {\"name\": \"8-2\", \"x\": [\"Gurleys Gone Wild\"], \"y\": [48.582685213603646], \"type\": \"bar\", \"uid\": \"c91f8846-e908-11e8-a317-360038087701\"}],\n",
       "            {\"barmode\": \"group\", \"title\": \"BOOM or BUST (std)\"},\n",
       "            {\"showLink\": true, \"linkText\": \"Export to plot.ly\"}\n",
       "        ).then(function () {return Plotly.addFrames('e28677bc-c945-4d4e-b12b-9a4adb9d77c4',{});}).then(function(){Plotly.animate('e28677bc-c945-4d4e-b12b-9a4adb9d77c4');})\n",
       "        });</script>"
      ]
     },
     "metadata": {},
     "output_type": "display_data"
    },
    {
     "data": {
      "application/vnd.plotly.v1+json": {
       "data": [
        {
         "name": "2-8",
         "type": "bar",
         "uid": "c92a82c6-e908-11e8-8865-360038087701",
         "x": [
          "âï¸GODS PLANâï¸"
         ],
         "y": [
          8.909999999999997
         ]
        },
        {
         "name": "3-7",
         "type": "bar",
         "uid": "c92a841a-e908-11e8-8684-360038087701",
         "x": [
          "Catch - 22"
         ],
         "y": [
          12.580000000000004
         ]
        },
        {
         "name": "4-6",
         "type": "bar",
         "uid": "c92a84cc-e908-11e8-965d-360038087701",
         "x": [
          "SMOOTH JAZZ",
          "Krispy Kareem",
          "TB on my Brown TDs"
         ],
         "y": [
          5.080000000000002,
          15.145,
          25.965
         ]
        },
        {
         "name": "5-5",
         "type": "bar",
         "uid": "c92a8564-e908-11e8-b87f-360038087701",
         "x": [
          "THE SUSPENDERS"
         ],
         "y": [
          14.280000000000001
         ]
        },
        {
         "name": "6-4",
         "type": "bar",
         "uid": "c92a85e6-e908-11e8-bcc8-360038087701",
         "x": [
          "RB Graveyard",
          "WHITE PRIVILEGE",
          "Settlers of Saquon",
          "i am the kamara man",
          "FULL  CHUBB"
         ],
         "y": [
          16.333333333333332,
          23.75333333333333,
          30.889999999999997,
          32.76666666666667,
          35.943333333333335
         ]
        },
        {
         "name": "8-2",
         "type": "bar",
         "uid": "c92a8674-e908-11e8-9d1b-360038087701",
         "x": [
          "Gurleys Gone Wild"
         ],
         "y": [
          16.619999999999997
         ]
        }
       ],
       "layout": {
        "barmode": "group",
        "title": "Barely Won a Game (Win Margin)"
       }
      },
      "text/html": [
       "<div id=\"8bc786ed-1bab-4cc7-952c-31e96f0e1dfc\" style=\"height: 525px; width: 100%;\" class=\"plotly-graph-div\"></div><script type=\"text/javascript\">require([\"plotly\"], function(Plotly) { window.PLOTLYENV=window.PLOTLYENV || {};window.PLOTLYENV.BASE_URL=\"https://plot.ly\";\n",
       "        Plotly.plot(\n",
       "            '8bc786ed-1bab-4cc7-952c-31e96f0e1dfc',\n",
       "            [{\"name\": \"2-8\", \"x\": [\"\\u00e2\\u009c\\u008c\\u00ef\\u00b8\\u008fGODS PLAN\\u00e2\\u009c\\u008c\\u00ef\\u00b8\\u008f\"], \"y\": [8.909999999999997], \"type\": \"bar\", \"uid\": \"c92a82c6-e908-11e8-8865-360038087701\"}, {\"name\": \"3-7\", \"x\": [\"Catch - 22\"], \"y\": [12.580000000000004], \"type\": \"bar\", \"uid\": \"c92a841a-e908-11e8-8684-360038087701\"}, {\"name\": \"4-6\", \"x\": [\"SMOOTH JAZZ\", \"Krispy Kareem\", \"TB on my Brown TDs\"], \"y\": [5.080000000000002, 15.145, 25.965], \"type\": \"bar\", \"uid\": \"c92a84cc-e908-11e8-965d-360038087701\"}, {\"name\": \"5-5\", \"x\": [\"THE SUSPENDERS\"], \"y\": [14.280000000000001], \"type\": \"bar\", \"uid\": \"c92a8564-e908-11e8-b87f-360038087701\"}, {\"name\": \"6-4\", \"x\": [\"RB Graveyard\", \"WHITE PRIVILEGE\", \"Settlers of Saquon\", \"i am the kamara man\", \"FULL  CHUBB\"], \"y\": [16.333333333333332, 23.75333333333333, 30.889999999999997, 32.76666666666667, 35.943333333333335], \"type\": \"bar\", \"uid\": \"c92a85e6-e908-11e8-bcc8-360038087701\"}, {\"name\": \"8-2\", \"x\": [\"Gurleys Gone Wild\"], \"y\": [16.619999999999997], \"type\": \"bar\", \"uid\": \"c92a8674-e908-11e8-9d1b-360038087701\"}],\n",
       "            {\"barmode\": \"group\", \"title\": \"Barely Won a Game (Win Margin)\"},\n",
       "            {\"showLink\": true, \"linkText\": \"Export to plot.ly\"}\n",
       "        ).then(function () {return Plotly.addFrames('8bc786ed-1bab-4cc7-952c-31e96f0e1dfc',{});}).then(function(){Plotly.animate('8bc786ed-1bab-4cc7-952c-31e96f0e1dfc');})\n",
       "        });</script>"
      ],
      "text/vnd.plotly.v1+html": [
       "<div id=\"8bc786ed-1bab-4cc7-952c-31e96f0e1dfc\" style=\"height: 525px; width: 100%;\" class=\"plotly-graph-div\"></div><script type=\"text/javascript\">require([\"plotly\"], function(Plotly) { window.PLOTLYENV=window.PLOTLYENV || {};window.PLOTLYENV.BASE_URL=\"https://plot.ly\";\n",
       "        Plotly.plot(\n",
       "            '8bc786ed-1bab-4cc7-952c-31e96f0e1dfc',\n",
       "            [{\"name\": \"2-8\", \"x\": [\"\\u00e2\\u009c\\u008c\\u00ef\\u00b8\\u008fGODS PLAN\\u00e2\\u009c\\u008c\\u00ef\\u00b8\\u008f\"], \"y\": [8.909999999999997], \"type\": \"bar\", \"uid\": \"c92a82c6-e908-11e8-8865-360038087701\"}, {\"name\": \"3-7\", \"x\": [\"Catch - 22\"], \"y\": [12.580000000000004], \"type\": \"bar\", \"uid\": \"c92a841a-e908-11e8-8684-360038087701\"}, {\"name\": \"4-6\", \"x\": [\"SMOOTH JAZZ\", \"Krispy Kareem\", \"TB on my Brown TDs\"], \"y\": [5.080000000000002, 15.145, 25.965], \"type\": \"bar\", \"uid\": \"c92a84cc-e908-11e8-965d-360038087701\"}, {\"name\": \"5-5\", \"x\": [\"THE SUSPENDERS\"], \"y\": [14.280000000000001], \"type\": \"bar\", \"uid\": \"c92a8564-e908-11e8-b87f-360038087701\"}, {\"name\": \"6-4\", \"x\": [\"RB Graveyard\", \"WHITE PRIVILEGE\", \"Settlers of Saquon\", \"i am the kamara man\", \"FULL  CHUBB\"], \"y\": [16.333333333333332, 23.75333333333333, 30.889999999999997, 32.76666666666667, 35.943333333333335], \"type\": \"bar\", \"uid\": \"c92a85e6-e908-11e8-bcc8-360038087701\"}, {\"name\": \"8-2\", \"x\": [\"Gurleys Gone Wild\"], \"y\": [16.619999999999997], \"type\": \"bar\", \"uid\": \"c92a8674-e908-11e8-9d1b-360038087701\"}],\n",
       "            {\"barmode\": \"group\", \"title\": \"Barely Won a Game (Win Margin)\"},\n",
       "            {\"showLink\": true, \"linkText\": \"Export to plot.ly\"}\n",
       "        ).then(function () {return Plotly.addFrames('8bc786ed-1bab-4cc7-952c-31e96f0e1dfc',{});}).then(function(){Plotly.animate('8bc786ed-1bab-4cc7-952c-31e96f0e1dfc');})\n",
       "        });</script>"
      ]
     },
     "metadata": {},
     "output_type": "display_data"
    },
    {
     "data": {
      "application/vnd.plotly.v1+json": {
       "data": [
        {
         "name": "2-8",
         "type": "bar",
         "uid": "c937b658-e908-11e8-88fb-360038087701",
         "x": [
          "âï¸GODS PLANâï¸"
         ],
         "y": [
          -23.542499999999997
         ]
        },
        {
         "name": "3-7",
         "type": "bar",
         "uid": "c937b7e8-e908-11e8-a7b9-360038087701",
         "x": [
          "Catch - 22"
         ],
         "y": [
          -18.285714285714285
         ]
        },
        {
         "name": "4-6",
         "type": "bar",
         "uid": "c937b89c-e908-11e8-abbe-360038087701",
         "x": [
          "SMOOTH JAZZ",
          "Krispy Kareem",
          "TB on my Brown TDs"
         ],
         "y": [
          -23.223333333333333,
          -21.726666666666663,
          -16.09
         ]
        },
        {
         "name": "5-5",
         "type": "bar",
         "uid": "c937b93a-e908-11e8-ae0d-360038087701",
         "x": [
          "THE SUSPENDERS"
         ],
         "y": [
          -17.871999999999993
         ]
        },
        {
         "name": "6-4",
         "type": "bar",
         "uid": "c937b9c8-e908-11e8-aa7d-360038087701",
         "x": [
          "FULL  CHUBB",
          "Settlers of Saquon",
          "WHITE PRIVILEGE",
          "i am the kamara man",
          "RB Graveyard"
         ],
         "y": [
          -37.010000000000005,
          -33.965,
          -21.905000000000005,
          -15.099999999999994,
          -13.859999999999996
         ]
        },
        {
         "name": "8-2",
         "type": "bar",
         "uid": "c937ba4a-e908-11e8-b1f6-360038087701",
         "x": [
          "Gurleys Gone Wild"
         ],
         "y": [
          -11.75
         ]
        }
       ],
       "layout": {
        "barmode": "group",
        "title": "Almost Won a Game (Loss Margin)"
       }
      },
      "text/html": [
       "<div id=\"e0a1636b-2da6-46bd-bcba-007d9aca40be\" style=\"height: 525px; width: 100%;\" class=\"plotly-graph-div\"></div><script type=\"text/javascript\">require([\"plotly\"], function(Plotly) { window.PLOTLYENV=window.PLOTLYENV || {};window.PLOTLYENV.BASE_URL=\"https://plot.ly\";\n",
       "        Plotly.plot(\n",
       "            'e0a1636b-2da6-46bd-bcba-007d9aca40be',\n",
       "            [{\"name\": \"2-8\", \"x\": [\"\\u00e2\\u009c\\u008c\\u00ef\\u00b8\\u008fGODS PLAN\\u00e2\\u009c\\u008c\\u00ef\\u00b8\\u008f\"], \"y\": [-23.542499999999997], \"type\": \"bar\", \"uid\": \"c937b658-e908-11e8-88fb-360038087701\"}, {\"name\": \"3-7\", \"x\": [\"Catch - 22\"], \"y\": [-18.285714285714285], \"type\": \"bar\", \"uid\": \"c937b7e8-e908-11e8-a7b9-360038087701\"}, {\"name\": \"4-6\", \"x\": [\"SMOOTH JAZZ\", \"Krispy Kareem\", \"TB on my Brown TDs\"], \"y\": [-23.223333333333333, -21.726666666666663, -16.09], \"type\": \"bar\", \"uid\": \"c937b89c-e908-11e8-abbe-360038087701\"}, {\"name\": \"5-5\", \"x\": [\"THE SUSPENDERS\"], \"y\": [-17.871999999999993], \"type\": \"bar\", \"uid\": \"c937b93a-e908-11e8-ae0d-360038087701\"}, {\"name\": \"6-4\", \"x\": [\"FULL  CHUBB\", \"Settlers of Saquon\", \"WHITE PRIVILEGE\", \"i am the kamara man\", \"RB Graveyard\"], \"y\": [-37.010000000000005, -33.965, -21.905000000000005, -15.099999999999994, -13.859999999999996], \"type\": \"bar\", \"uid\": \"c937b9c8-e908-11e8-aa7d-360038087701\"}, {\"name\": \"8-2\", \"x\": [\"Gurleys Gone Wild\"], \"y\": [-11.75], \"type\": \"bar\", \"uid\": \"c937ba4a-e908-11e8-b1f6-360038087701\"}],\n",
       "            {\"barmode\": \"group\", \"title\": \"Almost Won a Game (Loss Margin)\"},\n",
       "            {\"showLink\": true, \"linkText\": \"Export to plot.ly\"}\n",
       "        ).then(function () {return Plotly.addFrames('e0a1636b-2da6-46bd-bcba-007d9aca40be',{});}).then(function(){Plotly.animate('e0a1636b-2da6-46bd-bcba-007d9aca40be');})\n",
       "        });</script>"
      ],
      "text/vnd.plotly.v1+html": [
       "<div id=\"e0a1636b-2da6-46bd-bcba-007d9aca40be\" style=\"height: 525px; width: 100%;\" class=\"plotly-graph-div\"></div><script type=\"text/javascript\">require([\"plotly\"], function(Plotly) { window.PLOTLYENV=window.PLOTLYENV || {};window.PLOTLYENV.BASE_URL=\"https://plot.ly\";\n",
       "        Plotly.plot(\n",
       "            'e0a1636b-2da6-46bd-bcba-007d9aca40be',\n",
       "            [{\"name\": \"2-8\", \"x\": [\"\\u00e2\\u009c\\u008c\\u00ef\\u00b8\\u008fGODS PLAN\\u00e2\\u009c\\u008c\\u00ef\\u00b8\\u008f\"], \"y\": [-23.542499999999997], \"type\": \"bar\", \"uid\": \"c937b658-e908-11e8-88fb-360038087701\"}, {\"name\": \"3-7\", \"x\": [\"Catch - 22\"], \"y\": [-18.285714285714285], \"type\": \"bar\", \"uid\": \"c937b7e8-e908-11e8-a7b9-360038087701\"}, {\"name\": \"4-6\", \"x\": [\"SMOOTH JAZZ\", \"Krispy Kareem\", \"TB on my Brown TDs\"], \"y\": [-23.223333333333333, -21.726666666666663, -16.09], \"type\": \"bar\", \"uid\": \"c937b89c-e908-11e8-abbe-360038087701\"}, {\"name\": \"5-5\", \"x\": [\"THE SUSPENDERS\"], \"y\": [-17.871999999999993], \"type\": \"bar\", \"uid\": \"c937b93a-e908-11e8-ae0d-360038087701\"}, {\"name\": \"6-4\", \"x\": [\"FULL  CHUBB\", \"Settlers of Saquon\", \"WHITE PRIVILEGE\", \"i am the kamara man\", \"RB Graveyard\"], \"y\": [-37.010000000000005, -33.965, -21.905000000000005, -15.099999999999994, -13.859999999999996], \"type\": \"bar\", \"uid\": \"c937b9c8-e908-11e8-aa7d-360038087701\"}, {\"name\": \"8-2\", \"x\": [\"Gurleys Gone Wild\"], \"y\": [-11.75], \"type\": \"bar\", \"uid\": \"c937ba4a-e908-11e8-b1f6-360038087701\"}],\n",
       "            {\"barmode\": \"group\", \"title\": \"Almost Won a Game (Loss Margin)\"},\n",
       "            {\"showLink\": true, \"linkText\": \"Export to plot.ly\"}\n",
       "        ).then(function () {return Plotly.addFrames('e0a1636b-2da6-46bd-bcba-007d9aca40be',{});}).then(function(){Plotly.animate('e0a1636b-2da6-46bd-bcba-007d9aca40be');})\n",
       "        });</script>"
      ]
     },
     "metadata": {},
     "output_type": "display_data"
    }
   ],
   "source": [
    "# create graph\n",
    "for col,title in zip(columns,titles):\n",
    "    df6 = df5.sort_values(col)\n",
    "\n",
    "    # trace\n",
    "    data = []\n",
    "    for s in standings:\n",
    "        trace = go.Bar(x=df6[df6.standings==s].team.tolist(),\n",
    "                       y=df6[df6.standings==s][col].tolist(),name=s)\n",
    "        data.append(trace)\n",
    "\n",
    "    #layout\n",
    "    layout = go.Layout(title=title,\n",
    "                       barmode='group')\n",
    "\n",
    "    # fig\n",
    "    fig = go.Figure(data=data, layout=layout)\n",
    "    \n",
    "    py.iplot(fig)"
   ]
  },
  {
   "cell_type": "code",
   "execution_count": null,
   "metadata": {},
   "outputs": [],
   "source": []
  },
  {
   "cell_type": "code",
   "execution_count": null,
   "metadata": {},
   "outputs": [],
   "source": []
  }
 ],
 "metadata": {
  "kernelspec": {
   "display_name": "Python 3",
   "language": "python",
   "name": "python3"
  },
  "language_info": {
   "codemirror_mode": {
    "name": "ipython",
    "version": 3
   },
   "file_extension": ".py",
   "mimetype": "text/x-python",
   "name": "python",
   "nbconvert_exporter": "python",
   "pygments_lexer": "ipython3",
   "version": "3.6.5"
  }
 },
 "nbformat": 4,
 "nbformat_minor": 2
}
