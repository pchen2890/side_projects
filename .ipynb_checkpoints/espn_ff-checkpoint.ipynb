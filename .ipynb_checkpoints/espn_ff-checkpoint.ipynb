{
 "cells": [
  {
   "cell_type": "code",
   "execution_count": 27,
   "metadata": {},
   "outputs": [
    {
     "data": {
      "text/html": [
       "<script>requirejs.config({paths: { 'plotly': ['https://cdn.plot.ly/plotly-latest.min']},});if(!window.Plotly) {{require(['plotly'],function(plotly) {window.Plotly=plotly;});}}</script>"
      ],
      "text/vnd.plotly.v1+html": [
       "<script>requirejs.config({paths: { 'plotly': ['https://cdn.plot.ly/plotly-latest.min']},});if(!window.Plotly) {{require(['plotly'],function(plotly) {window.Plotly=plotly;});}}</script>"
      ]
     },
     "metadata": {},
     "output_type": "display_data"
    }
   ],
   "source": [
    "import pandas as pd\n",
    "from espnff import League\n",
    "import plotly.offline as py\n",
    "import plotly.graph_objs as go\n",
    "py.init_notebook_mode(connected=True)"
   ]
  },
  {
   "cell_type": "code",
   "execution_count": 28,
   "metadata": {},
   "outputs": [],
   "source": [
    "# connection\n",
    "cred = pd.read_csv(\"/Users/patrick.chen/Desktop/espn_cred.csv\")\n",
    "league = League(749478,\n",
    "                2018,\n",
    "                espn_s2=cred['espn2'][0],\n",
    "                swid=cred['swid'][0])"
   ]
  },
  {
   "cell_type": "markdown",
   "metadata": {},
   "source": [
    "# Standings Table"
   ]
  },
  {
   "cell_type": "code",
   "execution_count": 29,
   "metadata": {},
   "outputs": [],
   "source": [
    "team_name = []\n",
    "standings =[]\n",
    "for i in range(12):\n",
    "    team = league.teams[i]\n",
    "    team_name.append(team.team_name)\n",
    "    standings.append(str(team.wins)+\"-\"+str(team.losses))\n",
    "\n",
    "team_standings = pd.DataFrame({'team':team_name,'standings':standings})"
   ]
  },
  {
   "cell_type": "markdown",
   "metadata": {},
   "source": [
    "# Scores Table"
   ]
  },
  {
   "cell_type": "code",
   "execution_count": 30,
   "metadata": {},
   "outputs": [],
   "source": [
    "scores = []\n",
    "team_name = []\n",
    "opp = []\n",
    "week= ['Week 1','Week 2','Week 3','Week 4','Week 5','Week 6','Week 7',\n",
    "       'Week 8','Week 9','Week 10','Week 11','Week 12','Week 13']*12\n",
    "for i in range(12):\n",
    "    team = league.teams[i]\n",
    "    opp = opp+team.schedule\n",
    "    scores = scores + team.scores\n",
    "    for i in range(13):\n",
    "        team_name.append(team.team_name)"
   ]
  },
  {
   "cell_type": "code",
   "execution_count": 31,
   "metadata": {},
   "outputs": [
    {
     "name": "stdout",
     "output_type": "stream",
     "text": [
      "156\n",
      "156\n",
      "156\n",
      "156\n"
     ]
    }
   ],
   "source": [
    "for i in [scores,team_name,opp,week]:\n",
    "    print(len(i))"
   ]
  },
  {
   "cell_type": "code",
   "execution_count": 32,
   "metadata": {},
   "outputs": [],
   "source": [
    "df = pd.DataFrame({'Team':team_name,\n",
    "                   'Week':week,\n",
    "                   'Score':scores,\n",
    "                   'Opp':opp})"
   ]
  },
  {
   "cell_type": "code",
   "execution_count": 33,
   "metadata": {},
   "outputs": [],
   "source": [
    "df['Opp'] = df.Opp.astype(str).str.replace('Team(', '', regex=False).str.strip(\")\")"
   ]
  },
  {
   "cell_type": "code",
   "execution_count": 34,
   "metadata": {},
   "outputs": [],
   "source": [
    "df2 = df.copy().drop('Opp',axis=1)"
   ]
  },
  {
   "cell_type": "code",
   "execution_count": 35,
   "metadata": {},
   "outputs": [],
   "source": [
    "df2.columns = ['Opp','Week','Opp_Score']"
   ]
  },
  {
   "cell_type": "code",
   "execution_count": 36,
   "metadata": {},
   "outputs": [],
   "source": [
    "df3 = df.merge(df2,on=['Opp','Week'])"
   ]
  },
  {
   "cell_type": "code",
   "execution_count": 37,
   "metadata": {},
   "outputs": [],
   "source": [
    "df3['margin'] = df3.Score-df3.Opp_Score"
   ]
  },
  {
   "cell_type": "code",
   "execution_count": 38,
   "metadata": {},
   "outputs": [],
   "source": [
    "names = df3.Team.unique().tolist()"
   ]
  },
  {
   "cell_type": "code",
   "execution_count": 39,
   "metadata": {},
   "outputs": [],
   "source": [
    "# create lists\n",
    "lost_margin = []\n",
    "win_margin = []\n",
    "avg = []\n",
    "std = []\n",
    "for n in names:\n",
    "    avg.append(df3[(df3.Team==n)].Score.mean())\n",
    "    std.append(df3[(df3.Team==n)].Score.std())\n",
    "    lost_margin.append(df3[(df3.Team==n)&(df3.margin<0)].margin.mean())\n",
    "    win_margin.append(df3[(df3.Team==n)&(df3.margin>0)].margin.mean())"
   ]
  },
  {
   "cell_type": "code",
   "execution_count": 40,
   "metadata": {},
   "outputs": [],
   "source": [
    "# create df\n",
    "df4 = pd.DataFrame(data={'team':names,\n",
    "                   'avg_score':avg,\n",
    "                   'std':std,\n",
    "                   'win_margin':win_margin,\n",
    "                   'lost_margin':lost_margin\n",
    "                  })"
   ]
  },
  {
   "cell_type": "code",
   "execution_count": 41,
   "metadata": {},
   "outputs": [],
   "source": [
    "df5 = df4.merge(team_standings, on ='team')"
   ]
  },
  {
   "cell_type": "code",
   "execution_count": 42,
   "metadata": {},
   "outputs": [],
   "source": [
    "df5 = df5.sort_values(['standings','avg_score'],ascending=True)"
   ]
  },
  {
   "cell_type": "code",
   "execution_count": 43,
   "metadata": {},
   "outputs": [],
   "source": [
    "columns = ['avg_score','std','win_margin','lost_margin']\n",
    "titles = ['Average Score (mean)','BOOM or BUST (std)', 'Barely Won a Game (Win Margin)', 'Almost Won a Game (Loss Margin)']\n",
    "standings = df5.standings.unique().tolist()"
   ]
  },
  {
   "cell_type": "code",
   "execution_count": 44,
   "metadata": {
    "scrolled": false
   },
   "outputs": [
    {
     "data": {
      "application/vnd.plotly.v1+json": {
       "data": [
        {
         "name": "2-8",
         "type": "bar",
         "uid": "5429ec5c-e898-11e8-b0fb-360038087701",
         "x": [
          "âï¸GODS PLANâï¸"
         ],
         "y": [
          70.3153846153846
         ]
        },
        {
         "name": "3-7",
         "type": "bar",
         "uid": "5429edb0-e898-11e8-93b9-360038087701",
         "x": [
          "Catch - 22"
         ],
         "y": [
          79.5353846153846
         ]
        },
        {
         "name": "4-6",
         "type": "bar",
         "uid": "5429ee5a-e898-11e8-9521-360038087701",
         "x": [
          "SMOOTH JAZZ",
          "Krispy Kareem",
          "THE SUSPENDERS"
         ],
         "y": [
          80.04769230769232,
          81.80307692307693,
          85.93076923076924
         ]
        },
        {
         "name": "5-5",
         "type": "bar",
         "uid": "5429eee6-e898-11e8-b36b-360038087701",
         "x": [
          "TB on my Brown TDs"
         ],
         "y": [
          77.08461538461539
         ]
        },
        {
         "name": "6-4",
         "type": "bar",
         "uid": "5429ef68-e898-11e8-835b-360038087701",
         "x": [
          "FULL  CHUBB",
          "RB Graveyard",
          "Settlers of Saquon",
          "WHITE PRIVILEGE",
          "i am the kamara man"
         ],
         "y": [
          83.47230769230768,
          84.57384615384616,
          92.51538461538462,
          98.89384615384614,
          100.79384615384615
         ]
        },
        {
         "name": "8-2",
         "type": "bar",
         "uid": "5429efe2-e898-11e8-8329-360038087701",
         "x": [
          "Gurleys Gone Wild"
         ],
         "y": [
          82.74923076923076
         ]
        }
       ],
       "layout": {
        "barmode": "group",
        "title": "Average Score (mean)"
       }
      },
      "text/html": [
       "<div id=\"85318e12-7c73-4ebe-8f9c-fe552d538910\" style=\"height: 525px; width: 100%;\" class=\"plotly-graph-div\"></div><script type=\"text/javascript\">require([\"plotly\"], function(Plotly) { window.PLOTLYENV=window.PLOTLYENV || {};window.PLOTLYENV.BASE_URL=\"https://plot.ly\";\n",
       "        Plotly.plot(\n",
       "            '85318e12-7c73-4ebe-8f9c-fe552d538910',\n",
       "            [{\"name\": \"2-8\", \"x\": [\"\\u00e2\\u009c\\u008c\\u00ef\\u00b8\\u008fGODS PLAN\\u00e2\\u009c\\u008c\\u00ef\\u00b8\\u008f\"], \"y\": [70.3153846153846], \"type\": \"bar\", \"uid\": \"5429ec5c-e898-11e8-b0fb-360038087701\"}, {\"name\": \"3-7\", \"x\": [\"Catch - 22\"], \"y\": [79.5353846153846], \"type\": \"bar\", \"uid\": \"5429edb0-e898-11e8-93b9-360038087701\"}, {\"name\": \"4-6\", \"x\": [\"SMOOTH JAZZ\", \"Krispy Kareem\", \"THE SUSPENDERS\"], \"y\": [80.04769230769232, 81.80307692307693, 85.93076923076924], \"type\": \"bar\", \"uid\": \"5429ee5a-e898-11e8-9521-360038087701\"}, {\"name\": \"5-5\", \"x\": [\"TB on my Brown TDs\"], \"y\": [77.08461538461539], \"type\": \"bar\", \"uid\": \"5429eee6-e898-11e8-b36b-360038087701\"}, {\"name\": \"6-4\", \"x\": [\"FULL  CHUBB\", \"RB Graveyard\", \"Settlers of Saquon\", \"WHITE PRIVILEGE\", \"i am the kamara man\"], \"y\": [83.47230769230768, 84.57384615384616, 92.51538461538462, 98.89384615384614, 100.79384615384615], \"type\": \"bar\", \"uid\": \"5429ef68-e898-11e8-835b-360038087701\"}, {\"name\": \"8-2\", \"x\": [\"Gurleys Gone Wild\"], \"y\": [82.74923076923076], \"type\": \"bar\", \"uid\": \"5429efe2-e898-11e8-8329-360038087701\"}],\n",
       "            {\"barmode\": \"group\", \"title\": \"Average Score (mean)\"},\n",
       "            {\"showLink\": true, \"linkText\": \"Export to plot.ly\"}\n",
       "        ).then(function () {return Plotly.addFrames('85318e12-7c73-4ebe-8f9c-fe552d538910',{});}).then(function(){Plotly.animate('85318e12-7c73-4ebe-8f9c-fe552d538910');})\n",
       "        });</script>"
      ],
      "text/vnd.plotly.v1+html": [
       "<div id=\"85318e12-7c73-4ebe-8f9c-fe552d538910\" style=\"height: 525px; width: 100%;\" class=\"plotly-graph-div\"></div><script type=\"text/javascript\">require([\"plotly\"], function(Plotly) { window.PLOTLYENV=window.PLOTLYENV || {};window.PLOTLYENV.BASE_URL=\"https://plot.ly\";\n",
       "        Plotly.plot(\n",
       "            '85318e12-7c73-4ebe-8f9c-fe552d538910',\n",
       "            [{\"name\": \"2-8\", \"x\": [\"\\u00e2\\u009c\\u008c\\u00ef\\u00b8\\u008fGODS PLAN\\u00e2\\u009c\\u008c\\u00ef\\u00b8\\u008f\"], \"y\": [70.3153846153846], \"type\": \"bar\", \"uid\": \"5429ec5c-e898-11e8-b0fb-360038087701\"}, {\"name\": \"3-7\", \"x\": [\"Catch - 22\"], \"y\": [79.5353846153846], \"type\": \"bar\", \"uid\": \"5429edb0-e898-11e8-93b9-360038087701\"}, {\"name\": \"4-6\", \"x\": [\"SMOOTH JAZZ\", \"Krispy Kareem\", \"THE SUSPENDERS\"], \"y\": [80.04769230769232, 81.80307692307693, 85.93076923076924], \"type\": \"bar\", \"uid\": \"5429ee5a-e898-11e8-9521-360038087701\"}, {\"name\": \"5-5\", \"x\": [\"TB on my Brown TDs\"], \"y\": [77.08461538461539], \"type\": \"bar\", \"uid\": \"5429eee6-e898-11e8-b36b-360038087701\"}, {\"name\": \"6-4\", \"x\": [\"FULL  CHUBB\", \"RB Graveyard\", \"Settlers of Saquon\", \"WHITE PRIVILEGE\", \"i am the kamara man\"], \"y\": [83.47230769230768, 84.57384615384616, 92.51538461538462, 98.89384615384614, 100.79384615384615], \"type\": \"bar\", \"uid\": \"5429ef68-e898-11e8-835b-360038087701\"}, {\"name\": \"8-2\", \"x\": [\"Gurleys Gone Wild\"], \"y\": [82.74923076923076], \"type\": \"bar\", \"uid\": \"5429efe2-e898-11e8-8329-360038087701\"}],\n",
       "            {\"barmode\": \"group\", \"title\": \"Average Score (mean)\"},\n",
       "            {\"showLink\": true, \"linkText\": \"Export to plot.ly\"}\n",
       "        ).then(function () {return Plotly.addFrames('85318e12-7c73-4ebe-8f9c-fe552d538910',{});}).then(function(){Plotly.animate('85318e12-7c73-4ebe-8f9c-fe552d538910');})\n",
       "        });</script>"
      ]
     },
     "metadata": {},
     "output_type": "display_data"
    },
    {
     "data": {
      "application/vnd.plotly.v1+json": {
       "data": [
        {
         "name": "2-8",
         "type": "bar",
         "uid": "54353008-e898-11e8-b21f-360038087701",
         "x": [
          "âï¸GODS PLANâï¸"
         ],
         "y": [
          45.39611081274558
         ]
        },
        {
         "name": "3-7",
         "type": "bar",
         "uid": "54353224-e898-11e8-8e5b-360038087701",
         "x": [
          "Catch - 22"
         ],
         "y": [
          47.147725398542924
         ]
        },
        {
         "name": "4-6",
         "type": "bar",
         "uid": "54353378-e898-11e8-b89d-360038087701",
         "x": [
          "SMOOTH JAZZ",
          "THE SUSPENDERS",
          "Krispy Kareem"
         ],
         "y": [
          47.41704583688693,
          51.38139910861686,
          51.91052548771064
         ]
        },
        {
         "name": "5-5",
         "type": "bar",
         "uid": "5435349a-e898-11e8-bcb1-360038087701",
         "x": [
          "TB on my Brown TDs"
         ],
         "y": [
          45.311249636152645
         ]
        },
        {
         "name": "6-4",
         "type": "bar",
         "uid": "543535a8-e898-11e8-8679-360038087701",
         "x": [
          "RB Graveyard",
          "FULL  CHUBB",
          "Settlers of Saquon",
          "WHITE PRIVILEGE",
          "i am the kamara man"
         ],
         "y": [
          50.8781802508799,
          55.64443520452669,
          57.684159670771635,
          59.32747895346944,
          60.428565201464885
         ]
        },
        {
         "name": "8-2",
         "type": "bar",
         "uid": "543536b6-e898-11e8-a785-360038087701",
         "x": [
          "Gurleys Gone Wild"
         ],
         "y": [
          48.56497888766116
         ]
        }
       ],
       "layout": {
        "barmode": "group",
        "title": "BOOM or BUST (std)"
       }
      },
      "text/html": [
       "<div id=\"5e0e11ef-693f-4470-a70f-640838e9f245\" style=\"height: 525px; width: 100%;\" class=\"plotly-graph-div\"></div><script type=\"text/javascript\">require([\"plotly\"], function(Plotly) { window.PLOTLYENV=window.PLOTLYENV || {};window.PLOTLYENV.BASE_URL=\"https://plot.ly\";\n",
       "        Plotly.plot(\n",
       "            '5e0e11ef-693f-4470-a70f-640838e9f245',\n",
       "            [{\"name\": \"2-8\", \"x\": [\"\\u00e2\\u009c\\u008c\\u00ef\\u00b8\\u008fGODS PLAN\\u00e2\\u009c\\u008c\\u00ef\\u00b8\\u008f\"], \"y\": [45.39611081274558], \"type\": \"bar\", \"uid\": \"54353008-e898-11e8-b21f-360038087701\"}, {\"name\": \"3-7\", \"x\": [\"Catch - 22\"], \"y\": [47.147725398542924], \"type\": \"bar\", \"uid\": \"54353224-e898-11e8-8e5b-360038087701\"}, {\"name\": \"4-6\", \"x\": [\"SMOOTH JAZZ\", \"THE SUSPENDERS\", \"Krispy Kareem\"], \"y\": [47.41704583688693, 51.38139910861686, 51.91052548771064], \"type\": \"bar\", \"uid\": \"54353378-e898-11e8-b89d-360038087701\"}, {\"name\": \"5-5\", \"x\": [\"TB on my Brown TDs\"], \"y\": [45.311249636152645], \"type\": \"bar\", \"uid\": \"5435349a-e898-11e8-bcb1-360038087701\"}, {\"name\": \"6-4\", \"x\": [\"RB Graveyard\", \"FULL  CHUBB\", \"Settlers of Saquon\", \"WHITE PRIVILEGE\", \"i am the kamara man\"], \"y\": [50.8781802508799, 55.64443520452669, 57.684159670771635, 59.32747895346944, 60.428565201464885], \"type\": \"bar\", \"uid\": \"543535a8-e898-11e8-8679-360038087701\"}, {\"name\": \"8-2\", \"x\": [\"Gurleys Gone Wild\"], \"y\": [48.56497888766116], \"type\": \"bar\", \"uid\": \"543536b6-e898-11e8-a785-360038087701\"}],\n",
       "            {\"barmode\": \"group\", \"title\": \"BOOM or BUST (std)\"},\n",
       "            {\"showLink\": true, \"linkText\": \"Export to plot.ly\"}\n",
       "        ).then(function () {return Plotly.addFrames('5e0e11ef-693f-4470-a70f-640838e9f245',{});}).then(function(){Plotly.animate('5e0e11ef-693f-4470-a70f-640838e9f245');})\n",
       "        });</script>"
      ],
      "text/vnd.plotly.v1+html": [
       "<div id=\"5e0e11ef-693f-4470-a70f-640838e9f245\" style=\"height: 525px; width: 100%;\" class=\"plotly-graph-div\"></div><script type=\"text/javascript\">require([\"plotly\"], function(Plotly) { window.PLOTLYENV=window.PLOTLYENV || {};window.PLOTLYENV.BASE_URL=\"https://plot.ly\";\n",
       "        Plotly.plot(\n",
       "            '5e0e11ef-693f-4470-a70f-640838e9f245',\n",
       "            [{\"name\": \"2-8\", \"x\": [\"\\u00e2\\u009c\\u008c\\u00ef\\u00b8\\u008fGODS PLAN\\u00e2\\u009c\\u008c\\u00ef\\u00b8\\u008f\"], \"y\": [45.39611081274558], \"type\": \"bar\", \"uid\": \"54353008-e898-11e8-b21f-360038087701\"}, {\"name\": \"3-7\", \"x\": [\"Catch - 22\"], \"y\": [47.147725398542924], \"type\": \"bar\", \"uid\": \"54353224-e898-11e8-8e5b-360038087701\"}, {\"name\": \"4-6\", \"x\": [\"SMOOTH JAZZ\", \"THE SUSPENDERS\", \"Krispy Kareem\"], \"y\": [47.41704583688693, 51.38139910861686, 51.91052548771064], \"type\": \"bar\", \"uid\": \"54353378-e898-11e8-b89d-360038087701\"}, {\"name\": \"5-5\", \"x\": [\"TB on my Brown TDs\"], \"y\": [45.311249636152645], \"type\": \"bar\", \"uid\": \"5435349a-e898-11e8-bcb1-360038087701\"}, {\"name\": \"6-4\", \"x\": [\"RB Graveyard\", \"FULL  CHUBB\", \"Settlers of Saquon\", \"WHITE PRIVILEGE\", \"i am the kamara man\"], \"y\": [50.8781802508799, 55.64443520452669, 57.684159670771635, 59.32747895346944, 60.428565201464885], \"type\": \"bar\", \"uid\": \"543535a8-e898-11e8-8679-360038087701\"}, {\"name\": \"8-2\", \"x\": [\"Gurleys Gone Wild\"], \"y\": [48.56497888766116], \"type\": \"bar\", \"uid\": \"543536b6-e898-11e8-a785-360038087701\"}],\n",
       "            {\"barmode\": \"group\", \"title\": \"BOOM or BUST (std)\"},\n",
       "            {\"showLink\": true, \"linkText\": \"Export to plot.ly\"}\n",
       "        ).then(function () {return Plotly.addFrames('5e0e11ef-693f-4470-a70f-640838e9f245',{});}).then(function(){Plotly.animate('5e0e11ef-693f-4470-a70f-640838e9f245');})\n",
       "        });</script>"
      ]
     },
     "metadata": {},
     "output_type": "display_data"
    },
    {
     "data": {
      "application/vnd.plotly.v1+json": {
       "data": [
        {
         "name": "2-8",
         "type": "bar",
         "uid": "54429874-e898-11e8-84ee-360038087701",
         "x": [
          "âï¸GODS PLANâï¸"
         ],
         "y": [
          8.909999999999997
         ]
        },
        {
         "name": "3-7",
         "type": "bar",
         "uid": "544299e6-e898-11e8-914a-360038087701",
         "x": [
          "Catch - 22"
         ],
         "y": [
          12.580000000000004
         ]
        },
        {
         "name": "4-6",
         "type": "bar",
         "uid": "54429a9a-e898-11e8-98f4-360038087701",
         "x": [
          "SMOOTH JAZZ",
          "Krispy Kareem",
          "THE SUSPENDERS"
         ],
         "y": [
          5.080000000000002,
          15.145,
          17.825
         ]
        },
        {
         "name": "5-5",
         "type": "bar",
         "uid": "54429b3a-e898-11e8-ae15-360038087701",
         "x": [
          "TB on my Brown TDs"
         ],
         "y": [
          20.851999999999997
         ]
        },
        {
         "name": "6-4",
         "type": "bar",
         "uid": "54429bd0-e898-11e8-8d8a-360038087701",
         "x": [
          "RB Graveyard",
          "WHITE PRIVILEGE",
          "Settlers of Saquon",
          "i am the kamara man",
          "FULL  CHUBB"
         ],
         "y": [
          16.333333333333332,
          23.75333333333333,
          30.889999999999997,
          32.85,
          35.943333333333335
         ]
        },
        {
         "name": "8-2",
         "type": "bar",
         "uid": "54429c52-e898-11e8-bebf-360038087701",
         "x": [
          "Gurleys Gone Wild"
         ],
         "y": [
          16.557499999999997
         ]
        }
       ],
       "layout": {
        "barmode": "group",
        "title": "Barely Won a Game (Win Margin)"
       }
      },
      "text/html": [
       "<div id=\"5d0fb33e-9db3-44d4-96eb-5f14b4da0006\" style=\"height: 525px; width: 100%;\" class=\"plotly-graph-div\"></div><script type=\"text/javascript\">require([\"plotly\"], function(Plotly) { window.PLOTLYENV=window.PLOTLYENV || {};window.PLOTLYENV.BASE_URL=\"https://plot.ly\";\n",
       "        Plotly.plot(\n",
       "            '5d0fb33e-9db3-44d4-96eb-5f14b4da0006',\n",
       "            [{\"name\": \"2-8\", \"x\": [\"\\u00e2\\u009c\\u008c\\u00ef\\u00b8\\u008fGODS PLAN\\u00e2\\u009c\\u008c\\u00ef\\u00b8\\u008f\"], \"y\": [8.909999999999997], \"type\": \"bar\", \"uid\": \"54429874-e898-11e8-84ee-360038087701\"}, {\"name\": \"3-7\", \"x\": [\"Catch - 22\"], \"y\": [12.580000000000004], \"type\": \"bar\", \"uid\": \"544299e6-e898-11e8-914a-360038087701\"}, {\"name\": \"4-6\", \"x\": [\"SMOOTH JAZZ\", \"Krispy Kareem\", \"THE SUSPENDERS\"], \"y\": [5.080000000000002, 15.145, 17.825], \"type\": \"bar\", \"uid\": \"54429a9a-e898-11e8-98f4-360038087701\"}, {\"name\": \"5-5\", \"x\": [\"TB on my Brown TDs\"], \"y\": [20.851999999999997], \"type\": \"bar\", \"uid\": \"54429b3a-e898-11e8-ae15-360038087701\"}, {\"name\": \"6-4\", \"x\": [\"RB Graveyard\", \"WHITE PRIVILEGE\", \"Settlers of Saquon\", \"i am the kamara man\", \"FULL  CHUBB\"], \"y\": [16.333333333333332, 23.75333333333333, 30.889999999999997, 32.85, 35.943333333333335], \"type\": \"bar\", \"uid\": \"54429bd0-e898-11e8-8d8a-360038087701\"}, {\"name\": \"8-2\", \"x\": [\"Gurleys Gone Wild\"], \"y\": [16.557499999999997], \"type\": \"bar\", \"uid\": \"54429c52-e898-11e8-bebf-360038087701\"}],\n",
       "            {\"barmode\": \"group\", \"title\": \"Barely Won a Game (Win Margin)\"},\n",
       "            {\"showLink\": true, \"linkText\": \"Export to plot.ly\"}\n",
       "        ).then(function () {return Plotly.addFrames('5d0fb33e-9db3-44d4-96eb-5f14b4da0006',{});}).then(function(){Plotly.animate('5d0fb33e-9db3-44d4-96eb-5f14b4da0006');})\n",
       "        });</script>"
      ],
      "text/vnd.plotly.v1+html": [
       "<div id=\"5d0fb33e-9db3-44d4-96eb-5f14b4da0006\" style=\"height: 525px; width: 100%;\" class=\"plotly-graph-div\"></div><script type=\"text/javascript\">require([\"plotly\"], function(Plotly) { window.PLOTLYENV=window.PLOTLYENV || {};window.PLOTLYENV.BASE_URL=\"https://plot.ly\";\n",
       "        Plotly.plot(\n",
       "            '5d0fb33e-9db3-44d4-96eb-5f14b4da0006',\n",
       "            [{\"name\": \"2-8\", \"x\": [\"\\u00e2\\u009c\\u008c\\u00ef\\u00b8\\u008fGODS PLAN\\u00e2\\u009c\\u008c\\u00ef\\u00b8\\u008f\"], \"y\": [8.909999999999997], \"type\": \"bar\", \"uid\": \"54429874-e898-11e8-84ee-360038087701\"}, {\"name\": \"3-7\", \"x\": [\"Catch - 22\"], \"y\": [12.580000000000004], \"type\": \"bar\", \"uid\": \"544299e6-e898-11e8-914a-360038087701\"}, {\"name\": \"4-6\", \"x\": [\"SMOOTH JAZZ\", \"Krispy Kareem\", \"THE SUSPENDERS\"], \"y\": [5.080000000000002, 15.145, 17.825], \"type\": \"bar\", \"uid\": \"54429a9a-e898-11e8-98f4-360038087701\"}, {\"name\": \"5-5\", \"x\": [\"TB on my Brown TDs\"], \"y\": [20.851999999999997], \"type\": \"bar\", \"uid\": \"54429b3a-e898-11e8-ae15-360038087701\"}, {\"name\": \"6-4\", \"x\": [\"RB Graveyard\", \"WHITE PRIVILEGE\", \"Settlers of Saquon\", \"i am the kamara man\", \"FULL  CHUBB\"], \"y\": [16.333333333333332, 23.75333333333333, 30.889999999999997, 32.85, 35.943333333333335], \"type\": \"bar\", \"uid\": \"54429bd0-e898-11e8-8d8a-360038087701\"}, {\"name\": \"8-2\", \"x\": [\"Gurleys Gone Wild\"], \"y\": [16.557499999999997], \"type\": \"bar\", \"uid\": \"54429c52-e898-11e8-bebf-360038087701\"}],\n",
       "            {\"barmode\": \"group\", \"title\": \"Barely Won a Game (Win Margin)\"},\n",
       "            {\"showLink\": true, \"linkText\": \"Export to plot.ly\"}\n",
       "        ).then(function () {return Plotly.addFrames('5d0fb33e-9db3-44d4-96eb-5f14b4da0006',{});}).then(function(){Plotly.animate('5d0fb33e-9db3-44d4-96eb-5f14b4da0006');})\n",
       "        });</script>"
      ]
     },
     "metadata": {},
     "output_type": "display_data"
    },
    {
     "data": {
      "application/vnd.plotly.v1+json": {
       "data": [
        {
         "name": "2-8",
         "type": "bar",
         "uid": "544faa00-e898-11e8-b6f6-360038087701",
         "x": [
          "âï¸GODS PLANâï¸"
         ],
         "y": [
          -23.542499999999997
         ]
        },
        {
         "name": "3-7",
         "type": "bar",
         "uid": "544fab68-e898-11e8-88f6-360038087701",
         "x": [
          "Catch - 22"
         ],
         "y": [
          -18.285714285714285
         ]
        },
        {
         "name": "4-6",
         "type": "bar",
         "uid": "544fac3a-e898-11e8-9c08-360038087701",
         "x": [
          "SMOOTH JAZZ",
          "Krispy Kareem",
          "THE SUSPENDERS"
         ],
         "y": [
          -23.223333333333333,
          -21.64333333333333,
          -14.959999999999994
         ]
        },
        {
         "name": "5-5",
         "type": "bar",
         "uid": "544facd0-e898-11e8-a53c-360038087701",
         "x": [
          "TB on my Brown TDs"
         ],
         "y": [
          -19.287999999999997
         ]
        },
        {
         "name": "6-4",
         "type": "bar",
         "uid": "544fad5c-e898-11e8-b42b-360038087701",
         "x": [
          "FULL  CHUBB",
          "Settlers of Saquon",
          "WHITE PRIVILEGE",
          "i am the kamara man",
          "RB Graveyard"
         ],
         "y": [
          -37.010000000000005,
          -34.09,
          -21.905000000000005,
          -15.099999999999994,
          -13.859999999999996
         ]
        },
        {
         "name": "8-2",
         "type": "bar",
         "uid": "544fadde-e898-11e8-a617-360038087701",
         "x": [
          "Gurleys Gone Wild"
         ],
         "y": [
          -11.75
         ]
        }
       ],
       "layout": {
        "barmode": "group",
        "title": "Almost Won a Game (Loss Margin)"
       }
      },
      "text/html": [
       "<div id=\"9f69a9bf-ca3a-4d91-9c67-fdb92b97930c\" style=\"height: 525px; width: 100%;\" class=\"plotly-graph-div\"></div><script type=\"text/javascript\">require([\"plotly\"], function(Plotly) { window.PLOTLYENV=window.PLOTLYENV || {};window.PLOTLYENV.BASE_URL=\"https://plot.ly\";\n",
       "        Plotly.plot(\n",
       "            '9f69a9bf-ca3a-4d91-9c67-fdb92b97930c',\n",
       "            [{\"name\": \"2-8\", \"x\": [\"\\u00e2\\u009c\\u008c\\u00ef\\u00b8\\u008fGODS PLAN\\u00e2\\u009c\\u008c\\u00ef\\u00b8\\u008f\"], \"y\": [-23.542499999999997], \"type\": \"bar\", \"uid\": \"544faa00-e898-11e8-b6f6-360038087701\"}, {\"name\": \"3-7\", \"x\": [\"Catch - 22\"], \"y\": [-18.285714285714285], \"type\": \"bar\", \"uid\": \"544fab68-e898-11e8-88f6-360038087701\"}, {\"name\": \"4-6\", \"x\": [\"SMOOTH JAZZ\", \"Krispy Kareem\", \"THE SUSPENDERS\"], \"y\": [-23.223333333333333, -21.64333333333333, -14.959999999999994], \"type\": \"bar\", \"uid\": \"544fac3a-e898-11e8-9c08-360038087701\"}, {\"name\": \"5-5\", \"x\": [\"TB on my Brown TDs\"], \"y\": [-19.287999999999997], \"type\": \"bar\", \"uid\": \"544facd0-e898-11e8-a53c-360038087701\"}, {\"name\": \"6-4\", \"x\": [\"FULL  CHUBB\", \"Settlers of Saquon\", \"WHITE PRIVILEGE\", \"i am the kamara man\", \"RB Graveyard\"], \"y\": [-37.010000000000005, -34.09, -21.905000000000005, -15.099999999999994, -13.859999999999996], \"type\": \"bar\", \"uid\": \"544fad5c-e898-11e8-b42b-360038087701\"}, {\"name\": \"8-2\", \"x\": [\"Gurleys Gone Wild\"], \"y\": [-11.75], \"type\": \"bar\", \"uid\": \"544fadde-e898-11e8-a617-360038087701\"}],\n",
       "            {\"barmode\": \"group\", \"title\": \"Almost Won a Game (Loss Margin)\"},\n",
       "            {\"showLink\": true, \"linkText\": \"Export to plot.ly\"}\n",
       "        ).then(function () {return Plotly.addFrames('9f69a9bf-ca3a-4d91-9c67-fdb92b97930c',{});}).then(function(){Plotly.animate('9f69a9bf-ca3a-4d91-9c67-fdb92b97930c');})\n",
       "        });</script>"
      ],
      "text/vnd.plotly.v1+html": [
       "<div id=\"9f69a9bf-ca3a-4d91-9c67-fdb92b97930c\" style=\"height: 525px; width: 100%;\" class=\"plotly-graph-div\"></div><script type=\"text/javascript\">require([\"plotly\"], function(Plotly) { window.PLOTLYENV=window.PLOTLYENV || {};window.PLOTLYENV.BASE_URL=\"https://plot.ly\";\n",
       "        Plotly.plot(\n",
       "            '9f69a9bf-ca3a-4d91-9c67-fdb92b97930c',\n",
       "            [{\"name\": \"2-8\", \"x\": [\"\\u00e2\\u009c\\u008c\\u00ef\\u00b8\\u008fGODS PLAN\\u00e2\\u009c\\u008c\\u00ef\\u00b8\\u008f\"], \"y\": [-23.542499999999997], \"type\": \"bar\", \"uid\": \"544faa00-e898-11e8-b6f6-360038087701\"}, {\"name\": \"3-7\", \"x\": [\"Catch - 22\"], \"y\": [-18.285714285714285], \"type\": \"bar\", \"uid\": \"544fab68-e898-11e8-88f6-360038087701\"}, {\"name\": \"4-6\", \"x\": [\"SMOOTH JAZZ\", \"Krispy Kareem\", \"THE SUSPENDERS\"], \"y\": [-23.223333333333333, -21.64333333333333, -14.959999999999994], \"type\": \"bar\", \"uid\": \"544fac3a-e898-11e8-9c08-360038087701\"}, {\"name\": \"5-5\", \"x\": [\"TB on my Brown TDs\"], \"y\": [-19.287999999999997], \"type\": \"bar\", \"uid\": \"544facd0-e898-11e8-a53c-360038087701\"}, {\"name\": \"6-4\", \"x\": [\"FULL  CHUBB\", \"Settlers of Saquon\", \"WHITE PRIVILEGE\", \"i am the kamara man\", \"RB Graveyard\"], \"y\": [-37.010000000000005, -34.09, -21.905000000000005, -15.099999999999994, -13.859999999999996], \"type\": \"bar\", \"uid\": \"544fad5c-e898-11e8-b42b-360038087701\"}, {\"name\": \"8-2\", \"x\": [\"Gurleys Gone Wild\"], \"y\": [-11.75], \"type\": \"bar\", \"uid\": \"544fadde-e898-11e8-a617-360038087701\"}],\n",
       "            {\"barmode\": \"group\", \"title\": \"Almost Won a Game (Loss Margin)\"},\n",
       "            {\"showLink\": true, \"linkText\": \"Export to plot.ly\"}\n",
       "        ).then(function () {return Plotly.addFrames('9f69a9bf-ca3a-4d91-9c67-fdb92b97930c',{});}).then(function(){Plotly.animate('9f69a9bf-ca3a-4d91-9c67-fdb92b97930c');})\n",
       "        });</script>"
      ]
     },
     "metadata": {},
     "output_type": "display_data"
    }
   ],
   "source": [
    "# create graph\n",
    "for col,title in zip(columns,titles):\n",
    "    df6 = df5.sort_values(col)\n",
    "\n",
    "    # trace\n",
    "    data = []\n",
    "    for s in standings:\n",
    "        trace = go.Bar(x=df6[df6.standings==s].team.tolist(),\n",
    "                       y=df6[df6.standings==s][col].tolist(),name=s)\n",
    "        data.append(trace)\n",
    "\n",
    "    #layout\n",
    "    layout = go.Layout(title=title,\n",
    "                       barmode='group')\n",
    "\n",
    "    # fig\n",
    "    fig = go.Figure(data=data, layout=layout)\n",
    "    \n",
    "    py.iplot(fig)"
   ]
  },
  {
   "cell_type": "code",
   "execution_count": null,
   "metadata": {},
   "outputs": [],
   "source": []
  },
  {
   "cell_type": "code",
   "execution_count": null,
   "metadata": {},
   "outputs": [],
   "source": []
  }
 ],
 "metadata": {
  "kernelspec": {
   "display_name": "Python 3",
   "language": "python",
   "name": "python3"
  },
  "language_info": {
   "codemirror_mode": {
    "name": "ipython",
    "version": 3
   },
   "file_extension": ".py",
   "mimetype": "text/x-python",
   "name": "python",
   "nbconvert_exporter": "python",
   "pygments_lexer": "ipython3",
   "version": "3.6.5"
  }
 },
 "nbformat": 4,
 "nbformat_minor": 2
}
