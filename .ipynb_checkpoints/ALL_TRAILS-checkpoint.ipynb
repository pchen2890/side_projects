{
 "cells": [
  {
   "cell_type": "code",
   "execution_count": 471,
   "metadata": {},
   "outputs": [],
   "source": [
    "import pandas as pd"
   ]
  },
  {
   "cell_type": "code",
   "execution_count": 472,
   "metadata": {},
   "outputs": [
    {
     "data": {
      "text/html": [
       "<script type=\"text/javascript\">window.PlotlyConfig = {MathJaxConfig: 'local'};</script><script type=\"text/javascript\">if (window.MathJax) {MathJax.Hub.Config({SVG: {font: \"STIX-Web\"}});}</script><script>requirejs.config({paths: { 'plotly': ['https://cdn.plot.ly/plotly-latest.min']},});if(!window._Plotly) {require(['plotly'],function(plotly) {window._Plotly=plotly;});}</script>"
      ],
      "text/vnd.plotly.v1+html": [
       "<script type=\"text/javascript\">window.PlotlyConfig = {MathJaxConfig: 'local'};</script><script type=\"text/javascript\">if (window.MathJax) {MathJax.Hub.Config({SVG: {font: \"STIX-Web\"}});}</script><script>requirejs.config({paths: { 'plotly': ['https://cdn.plot.ly/plotly-latest.min']},});if(!window._Plotly) {require(['plotly'],function(plotly) {window._Plotly=plotly;});}</script>"
      ]
     },
     "metadata": {},
     "output_type": "display_data"
    }
   ],
   "source": [
    "import plotly.graph_objs as go\n",
    "import plotly.offline as py\n",
    "from plotly.offline import download_plotlyjs, init_notebook_mode, iplot\n",
    "py.init_notebook_mode(connected=True)"
   ]
  },
  {
   "cell_type": "code",
   "execution_count": 473,
   "metadata": {},
   "outputs": [],
   "source": [
    "import requests, bs4\n",
    "url = 'https://www.alltrails.com/parks/us/montana/glacier-national-park'\n",
    "r = requests.get(url)\n",
    "soup = bs4.BeautifulSoup(r.text, 'lxml')"
   ]
  },
  {
   "cell_type": "code",
   "execution_count": 474,
   "metadata": {},
   "outputs": [],
   "source": [
    "ranking = []\n",
    "link = []\n",
    "name = []\n",
    "diff = []\n",
    "rating = []\n",
    "location = []\n",
    "distance = []\n",
    "elevation = []\n",
    "route_type =[]"
   ]
  },
  {
   "cell_type": "code",
   "execution_count": 475,
   "metadata": {},
   "outputs": [],
   "source": [
    "for i in range(len(soup.find_all('div', class_=\"trail-result-card\"))):\n",
    "    \n",
    "    # ranking\n",
    "    try:\n",
    "        ranking.append(soup.find_all('span',class_='item-rank xlate-none')[i].get_text())\n",
    "    except Exception:\n",
    "        ranking.append(\"\")\n",
    "   \n",
    "    # link\n",
    "    try:\n",
    "        url = \"https://www.alltrails.com\" + (soup.find_all('a',class_='item-link')[i]['href'])\n",
    "        link.append(url)\n",
    "    except Exception:\n",
    "        link.append(\"\")\n",
    "    \n",
    "    # trail name\n",
    "    try:\n",
    "        name.append(soup.find_all('h3',class_='name xlate-none short')[i].get_text())\n",
    "    except Exception:\n",
    "        name.append(\"\")\n",
    "    \n",
    "    # difficulty\n",
    "    try:\n",
    "        diff.append(soup.find_all('div',class_='difficulty-info')[i].get_text())\n",
    "    except Exception:\n",
    "        diff.append(\"\")\n",
    "    \n",
    "    # rating\n",
    "    try:\n",
    "        rating.append(soup.find_all('div',class_='difficulty-info')[i].find_all('span')[1]['title'])\n",
    "    except Exception:\n",
    "        rating.append(\"\")\n",
    "\n",
    "    # location\n",
    "    try:\n",
    "        location.append(soup.find_all('div',class_='clickable xlate-none')[i]['title'])\n",
    "    except Exception:\n",
    "        location.append(\"\")\n",
    "    \n",
    "    # GRAB TRAIL DETAILS\n",
    "    r2 = requests.get(url)\n",
    "    soup2 = bs4.BeautifulSoup(r2.text, 'lxml')\n",
    "    \n",
    "    # distance\n",
    "    try:\n",
    "        distance.append(soup2.find_all('div', class_=\"detail-data\")[0].get_text())\n",
    "    except Exception:\n",
    "        distance.append(\"\")\n",
    "    \n",
    "    # elevation gain\n",
    "    try:\n",
    "        elevation.append(soup2.find_all('div', class_=\"detail-data\")[1].get_text())\n",
    "    except Exception:\n",
    "        elevation.append(\"\")\n",
    "    \n",
    "    # route type\n",
    "    try:\n",
    "        route_type.append(soup2.find_all('div', class_=\"detail-data\")[2].get_text())\n",
    "    except Exception:\n",
    "        route_type.append(\"\")"
   ]
  },
  {
   "cell_type": "code",
   "execution_count": 476,
   "metadata": {},
   "outputs": [],
   "source": [
    "df = pd.DataFrame(\n",
    "    {'ranking': ranking,\n",
    "     'num_reviews': num_reviews,\n",
    "     'name': name,\n",
    "     'difficulty': diff,\n",
    "     'distance_miles': distance,\n",
    "     'elevation_feet': elevation,\n",
    "     'route_type': route_type,\n",
    "     'rating': rating,\n",
    "     'location': location,\n",
    "     'link': link\n",
    "    })"
   ]
  },
  {
   "cell_type": "code",
   "execution_count": 477,
   "metadata": {},
   "outputs": [],
   "source": [
    "# format columns\n",
    "df.num_reviews = df.num_reviews.str.strip(\"()\").astype(int)\n",
    "df.distance_miles = df.distance_miles.str.strip(\"miles\").astype(float)\n",
    "df.elevation_feet = df.elevation_feet.str.replace(\",\",\"\").str.strip('feet').astype(int)\n",
    "df.difficulty = df.difficulty.str.replace('[^a-zA-Z]','')\n",
    "df['duration_hours'] = df.distance_miles/2\n",
    "df['elevation_per_mile'] = df.elevation_feet/df.distance_miles"
   ]
  },
  {
   "cell_type": "code",
   "execution_count": 478,
   "metadata": {},
   "outputs": [],
   "source": [
    "df = df[['ranking', 'num_reviews', 'name', 'difficulty','duration_hours','elevation_per_mile',\n",
    "         'distance_miles','elevation_feet','route_type', 'rating', 'location', 'link']]"
   ]
  },
  {
   "cell_type": "code",
   "execution_count": 479,
   "metadata": {},
   "outputs": [],
   "source": [
    "def make_clickable(val):\n",
    "    return '<a href=\"{}\">{}</a>'.format(val,val)\n",
    "\n",
    "df_links = df.style.format({'link':make_clickable})"
   ]
  },
  {
   "cell_type": "code",
   "execution_count": 480,
   "metadata": {
    "scrolled": false
   },
   "outputs": [
    {
     "data": {
      "application/vnd.plotly.v1+json": {
       "config": {
        "linkText": "Export to plot.ly",
        "plotlyServerURL": "https://plot.ly",
        "showLink": true
       },
       "data": [
        {
         "name": "EASY",
         "text": [
          "St. Mary and Virginia Falls Trail",
          "Grinnell Lake Trail",
          "Trail of the Cedars",
          "Going-to-the-Sun Road - West Glacier to Saint Mary Scenic Drive",
          "McDonald Creek Trail",
          "Redrock Falls via Swiftcurrent Pass",
          "Apikuni Falls Trail",
          "Running Eagle Falls Trail",
          "Johns Lake Loop"
         ],
         "textposition": "auto",
         "type": "bar",
         "uid": "3fc29978-dd77-4593-8b90-67555680afa8",
         "x": [
          "#6",
          "#10",
          "#13",
          "#14",
          "#17",
          "#18",
          "#20",
          "#21",
          "#24"
         ],
         "y": [
          361,
          239,
          163,
          220,
          131,
          136,
          125,
          128,
          124
         ]
        },
        {
         "name": "MODERATE",
         "text": [
          "Avalanche Lake via the Trail of the Cedars",
          "Grinnell Glacier Trail",
          "Iceberg Lake Trail",
          "Hidden Lake Trail",
          "Cracker Lake Trail",
          "Hidden Lake Overlook",
          "Bullhead Lake Trail"
         ],
         "textposition": "auto",
         "type": "bar",
         "uid": "4329236b-ced7-469f-a462-d02fcaba4a6b",
         "x": [
          "#1",
          "#2",
          "#3",
          "#4",
          "#7",
          "#8",
          "#22"
         ],
         "y": [
          926,
          690,
          835,
          480,
          384,
          276,
          92
         ]
        },
        {
         "name": "HARD",
         "text": [
          "Highline Trail",
          "The Garden Wall",
          "Swiftcurrent Pass Trail To Swiftcurrent Mountain",
          "Highline Trail to Granite Park",
          "Siyeh Pass Trail",
          "Scenic Point",
          "Dawson Pass and Pitamakan Pass Loop",
          "Apgar Lookout Trail"
         ],
         "textposition": "auto",
         "type": "bar",
         "uid": "1d2d47ee-9ec3-49a6-8b35-58ccf086a388",
         "x": [
          "#5",
          "#9",
          "#11",
          "#12",
          "#15",
          "#16",
          "#19",
          "#23"
         ],
         "y": [
          304,
          288,
          320,
          168,
          187,
          215,
          143,
          72
         ]
        }
       ],
       "layout": {
        "title": "num_reviews"
       }
      },
      "text/html": [
       "<div id=\"1a5c4e4a-f173-49b2-abcd-e405db8d3080\" style=\"height: 525px; width: 100%;\" class=\"plotly-graph-div\"></div><script type=\"text/javascript\">require([\"plotly\"], function(Plotly) { window.PLOTLYENV=window.PLOTLYENV || {};window.PLOTLYENV.BASE_URL=\"https://plot.ly\";Plotly.newPlot(\"1a5c4e4a-f173-49b2-abcd-e405db8d3080\", [{\"name\": \"EASY\", \"text\": [\"St. Mary and Virginia Falls Trail\", \"Grinnell Lake Trail\", \"Trail of the Cedars\", \"Going-to-the-Sun Road - West Glacier to Saint Mary Scenic Drive\", \"McDonald Creek Trail\", \"Redrock Falls via Swiftcurrent Pass\", \"Apikuni Falls Trail\", \"Running Eagle Falls Trail\", \"Johns Lake Loop\"], \"textposition\": \"auto\", \"x\": [\"#6\", \"#10\", \"#13\", \"#14\", \"#17\", \"#18\", \"#20\", \"#21\", \"#24\"], \"y\": [361, 239, 163, 220, 131, 136, 125, 128, 124], \"type\": \"bar\", \"uid\": \"3fc29978-dd77-4593-8b90-67555680afa8\"}, {\"name\": \"MODERATE\", \"text\": [\"Avalanche Lake via the Trail of the Cedars\", \"Grinnell Glacier Trail\", \"Iceberg Lake Trail\", \"Hidden Lake Trail\", \"Cracker Lake Trail\", \"Hidden Lake Overlook\", \"Bullhead Lake Trail\"], \"textposition\": \"auto\", \"x\": [\"#1\", \"#2\", \"#3\", \"#4\", \"#7\", \"#8\", \"#22\"], \"y\": [926, 690, 835, 480, 384, 276, 92], \"type\": \"bar\", \"uid\": \"4329236b-ced7-469f-a462-d02fcaba4a6b\"}, {\"name\": \"HARD\", \"text\": [\"Highline Trail\", \"The Garden Wall\", \"Swiftcurrent Pass Trail To Swiftcurrent Mountain\", \"Highline Trail to Granite Park\", \"Siyeh Pass Trail\", \"Scenic Point\", \"Dawson Pass and Pitamakan Pass Loop\", \"Apgar Lookout Trail\"], \"textposition\": \"auto\", \"x\": [\"#5\", \"#9\", \"#11\", \"#12\", \"#15\", \"#16\", \"#19\", \"#23\"], \"y\": [304, 288, 320, 168, 187, 215, 143, 72], \"type\": \"bar\", \"uid\": \"1d2d47ee-9ec3-49a6-8b35-58ccf086a388\"}], {\"title\": \"num_reviews\"}, {\"showLink\": true, \"linkText\": \"Export to plot.ly\", \"plotlyServerURL\": \"https://plot.ly\"})});</script><script type=\"text/javascript\">window.addEventListener(\"resize\", function(){window._Plotly.Plots.resize(document.getElementById(\"1a5c4e4a-f173-49b2-abcd-e405db8d3080\"));});</script>"
      ],
      "text/vnd.plotly.v1+html": [
       "<div id=\"1a5c4e4a-f173-49b2-abcd-e405db8d3080\" style=\"height: 525px; width: 100%;\" class=\"plotly-graph-div\"></div><script type=\"text/javascript\">require([\"plotly\"], function(Plotly) { window.PLOTLYENV=window.PLOTLYENV || {};window.PLOTLYENV.BASE_URL=\"https://plot.ly\";Plotly.newPlot(\"1a5c4e4a-f173-49b2-abcd-e405db8d3080\", [{\"name\": \"EASY\", \"text\": [\"St. Mary and Virginia Falls Trail\", \"Grinnell Lake Trail\", \"Trail of the Cedars\", \"Going-to-the-Sun Road - West Glacier to Saint Mary Scenic Drive\", \"McDonald Creek Trail\", \"Redrock Falls via Swiftcurrent Pass\", \"Apikuni Falls Trail\", \"Running Eagle Falls Trail\", \"Johns Lake Loop\"], \"textposition\": \"auto\", \"x\": [\"#6\", \"#10\", \"#13\", \"#14\", \"#17\", \"#18\", \"#20\", \"#21\", \"#24\"], \"y\": [361, 239, 163, 220, 131, 136, 125, 128, 124], \"type\": \"bar\", \"uid\": \"3fc29978-dd77-4593-8b90-67555680afa8\"}, {\"name\": \"MODERATE\", \"text\": [\"Avalanche Lake via the Trail of the Cedars\", \"Grinnell Glacier Trail\", \"Iceberg Lake Trail\", \"Hidden Lake Trail\", \"Cracker Lake Trail\", \"Hidden Lake Overlook\", \"Bullhead Lake Trail\"], \"textposition\": \"auto\", \"x\": [\"#1\", \"#2\", \"#3\", \"#4\", \"#7\", \"#8\", \"#22\"], \"y\": [926, 690, 835, 480, 384, 276, 92], \"type\": \"bar\", \"uid\": \"4329236b-ced7-469f-a462-d02fcaba4a6b\"}, {\"name\": \"HARD\", \"text\": [\"Highline Trail\", \"The Garden Wall\", \"Swiftcurrent Pass Trail To Swiftcurrent Mountain\", \"Highline Trail to Granite Park\", \"Siyeh Pass Trail\", \"Scenic Point\", \"Dawson Pass and Pitamakan Pass Loop\", \"Apgar Lookout Trail\"], \"textposition\": \"auto\", \"x\": [\"#5\", \"#9\", \"#11\", \"#12\", \"#15\", \"#16\", \"#19\", \"#23\"], \"y\": [304, 288, 320, 168, 187, 215, 143, 72], \"type\": \"bar\", \"uid\": \"1d2d47ee-9ec3-49a6-8b35-58ccf086a388\"}], {\"title\": \"num_reviews\"}, {\"showLink\": true, \"linkText\": \"Export to plot.ly\", \"plotlyServerURL\": \"https://plot.ly\"})});</script><script type=\"text/javascript\">window.addEventListener(\"resize\", function(){window._Plotly.Plots.resize(document.getElementById(\"1a5c4e4a-f173-49b2-abcd-e405db8d3080\"));});</script>"
      ]
     },
     "metadata": {},
     "output_type": "display_data"
    },
    {
     "data": {
      "application/vnd.plotly.v1+json": {
       "config": {
        "linkText": "Export to plot.ly",
        "plotlyServerURL": "https://plot.ly",
        "showLink": true
       },
       "data": [
        {
         "name": "EASY",
         "text": [
          "St. Mary and Virginia Falls Trail",
          "Grinnell Lake Trail",
          "Trail of the Cedars",
          "Going-to-the-Sun Road - West Glacier to Saint Mary Scenic Drive",
          "McDonald Creek Trail",
          "Redrock Falls via Swiftcurrent Pass",
          "Apikuni Falls Trail",
          "Running Eagle Falls Trail",
          "Johns Lake Loop"
         ],
         "textposition": "auto",
         "type": "bar",
         "uid": "21d8b053-3212-407f-9632-f406e9aa17a1",
         "x": [
          "#6",
          "#10",
          "#13",
          "#14",
          "#17",
          "#18",
          "#20",
          "#21",
          "#24"
         ],
         "y": [
          1.45,
          3.55,
          0.4,
          24.5,
          2.5,
          1.8,
          0.9,
          0.3,
          0.95
         ]
        },
        {
         "name": "MODERATE",
         "text": [
          "Avalanche Lake via the Trail of the Cedars",
          "Grinnell Glacier Trail",
          "Iceberg Lake Trail",
          "Hidden Lake Trail",
          "Cracker Lake Trail",
          "Hidden Lake Overlook",
          "Bullhead Lake Trail"
         ],
         "textposition": "auto",
         "type": "bar",
         "uid": "1bf1d065-87bb-4ab8-9ea1-cf1f8cbbe5da",
         "x": [
          "#1",
          "#2",
          "#3",
          "#4",
          "#7",
          "#8",
          "#22"
         ],
         "y": [
          2.85,
          4.85,
          4.65,
          2.65,
          6,
          1.4,
          3.45
         ]
        },
        {
         "name": "HARD",
         "text": [
          "Highline Trail",
          "The Garden Wall",
          "Swiftcurrent Pass Trail To Swiftcurrent Mountain",
          "Highline Trail to Granite Park",
          "Siyeh Pass Trail",
          "Scenic Point",
          "Dawson Pass and Pitamakan Pass Loop",
          "Apgar Lookout Trail"
         ],
         "textposition": "auto",
         "type": "bar",
         "uid": "35dbe280-a3b3-49e4-9546-342a86234a60",
         "x": [
          "#5",
          "#9",
          "#11",
          "#12",
          "#15",
          "#16",
          "#19",
          "#23"
         ],
         "y": [
          14.2,
          7.35,
          7.95,
          5.6,
          10.3,
          3.7,
          8.6,
          3.65
         ]
        }
       ],
       "layout": {
        "title": "duration_hours"
       }
      },
      "text/html": [
       "<div id=\"bc1c4425-babb-4540-90ba-7e4c200a8f4e\" style=\"height: 525px; width: 100%;\" class=\"plotly-graph-div\"></div><script type=\"text/javascript\">require([\"plotly\"], function(Plotly) { window.PLOTLYENV=window.PLOTLYENV || {};window.PLOTLYENV.BASE_URL=\"https://plot.ly\";Plotly.newPlot(\"bc1c4425-babb-4540-90ba-7e4c200a8f4e\", [{\"name\": \"EASY\", \"text\": [\"St. Mary and Virginia Falls Trail\", \"Grinnell Lake Trail\", \"Trail of the Cedars\", \"Going-to-the-Sun Road - West Glacier to Saint Mary Scenic Drive\", \"McDonald Creek Trail\", \"Redrock Falls via Swiftcurrent Pass\", \"Apikuni Falls Trail\", \"Running Eagle Falls Trail\", \"Johns Lake Loop\"], \"textposition\": \"auto\", \"x\": [\"#6\", \"#10\", \"#13\", \"#14\", \"#17\", \"#18\", \"#20\", \"#21\", \"#24\"], \"y\": [1.45, 3.55, 0.4, 24.5, 2.5, 1.8, 0.9, 0.3, 0.95], \"type\": \"bar\", \"uid\": \"21d8b053-3212-407f-9632-f406e9aa17a1\"}, {\"name\": \"MODERATE\", \"text\": [\"Avalanche Lake via the Trail of the Cedars\", \"Grinnell Glacier Trail\", \"Iceberg Lake Trail\", \"Hidden Lake Trail\", \"Cracker Lake Trail\", \"Hidden Lake Overlook\", \"Bullhead Lake Trail\"], \"textposition\": \"auto\", \"x\": [\"#1\", \"#2\", \"#3\", \"#4\", \"#7\", \"#8\", \"#22\"], \"y\": [2.85, 4.85, 4.65, 2.65, 6.0, 1.4, 3.45], \"type\": \"bar\", \"uid\": \"1bf1d065-87bb-4ab8-9ea1-cf1f8cbbe5da\"}, {\"name\": \"HARD\", \"text\": [\"Highline Trail\", \"The Garden Wall\", \"Swiftcurrent Pass Trail To Swiftcurrent Mountain\", \"Highline Trail to Granite Park\", \"Siyeh Pass Trail\", \"Scenic Point\", \"Dawson Pass and Pitamakan Pass Loop\", \"Apgar Lookout Trail\"], \"textposition\": \"auto\", \"x\": [\"#5\", \"#9\", \"#11\", \"#12\", \"#15\", \"#16\", \"#19\", \"#23\"], \"y\": [14.2, 7.35, 7.95, 5.6, 10.3, 3.7, 8.6, 3.65], \"type\": \"bar\", \"uid\": \"35dbe280-a3b3-49e4-9546-342a86234a60\"}], {\"title\": \"duration_hours\"}, {\"showLink\": true, \"linkText\": \"Export to plot.ly\", \"plotlyServerURL\": \"https://plot.ly\"})});</script><script type=\"text/javascript\">window.addEventListener(\"resize\", function(){window._Plotly.Plots.resize(document.getElementById(\"bc1c4425-babb-4540-90ba-7e4c200a8f4e\"));});</script>"
      ],
      "text/vnd.plotly.v1+html": [
       "<div id=\"bc1c4425-babb-4540-90ba-7e4c200a8f4e\" style=\"height: 525px; width: 100%;\" class=\"plotly-graph-div\"></div><script type=\"text/javascript\">require([\"plotly\"], function(Plotly) { window.PLOTLYENV=window.PLOTLYENV || {};window.PLOTLYENV.BASE_URL=\"https://plot.ly\";Plotly.newPlot(\"bc1c4425-babb-4540-90ba-7e4c200a8f4e\", [{\"name\": \"EASY\", \"text\": [\"St. Mary and Virginia Falls Trail\", \"Grinnell Lake Trail\", \"Trail of the Cedars\", \"Going-to-the-Sun Road - West Glacier to Saint Mary Scenic Drive\", \"McDonald Creek Trail\", \"Redrock Falls via Swiftcurrent Pass\", \"Apikuni Falls Trail\", \"Running Eagle Falls Trail\", \"Johns Lake Loop\"], \"textposition\": \"auto\", \"x\": [\"#6\", \"#10\", \"#13\", \"#14\", \"#17\", \"#18\", \"#20\", \"#21\", \"#24\"], \"y\": [1.45, 3.55, 0.4, 24.5, 2.5, 1.8, 0.9, 0.3, 0.95], \"type\": \"bar\", \"uid\": \"21d8b053-3212-407f-9632-f406e9aa17a1\"}, {\"name\": \"MODERATE\", \"text\": [\"Avalanche Lake via the Trail of the Cedars\", \"Grinnell Glacier Trail\", \"Iceberg Lake Trail\", \"Hidden Lake Trail\", \"Cracker Lake Trail\", \"Hidden Lake Overlook\", \"Bullhead Lake Trail\"], \"textposition\": \"auto\", \"x\": [\"#1\", \"#2\", \"#3\", \"#4\", \"#7\", \"#8\", \"#22\"], \"y\": [2.85, 4.85, 4.65, 2.65, 6.0, 1.4, 3.45], \"type\": \"bar\", \"uid\": \"1bf1d065-87bb-4ab8-9ea1-cf1f8cbbe5da\"}, {\"name\": \"HARD\", \"text\": [\"Highline Trail\", \"The Garden Wall\", \"Swiftcurrent Pass Trail To Swiftcurrent Mountain\", \"Highline Trail to Granite Park\", \"Siyeh Pass Trail\", \"Scenic Point\", \"Dawson Pass and Pitamakan Pass Loop\", \"Apgar Lookout Trail\"], \"textposition\": \"auto\", \"x\": [\"#5\", \"#9\", \"#11\", \"#12\", \"#15\", \"#16\", \"#19\", \"#23\"], \"y\": [14.2, 7.35, 7.95, 5.6, 10.3, 3.7, 8.6, 3.65], \"type\": \"bar\", \"uid\": \"35dbe280-a3b3-49e4-9546-342a86234a60\"}], {\"title\": \"duration_hours\"}, {\"showLink\": true, \"linkText\": \"Export to plot.ly\", \"plotlyServerURL\": \"https://plot.ly\"})});</script><script type=\"text/javascript\">window.addEventListener(\"resize\", function(){window._Plotly.Plots.resize(document.getElementById(\"bc1c4425-babb-4540-90ba-7e4c200a8f4e\"));});</script>"
      ]
     },
     "metadata": {},
     "output_type": "display_data"
    },
    {
     "data": {
      "application/vnd.plotly.v1+json": {
       "config": {
        "linkText": "Export to plot.ly",
        "plotlyServerURL": "https://plot.ly",
        "showLink": true
       },
       "data": [
        {
         "name": "EASY",
         "text": [
          "St. Mary and Virginia Falls Trail",
          "Grinnell Lake Trail",
          "Trail of the Cedars",
          "Going-to-the-Sun Road - West Glacier to Saint Mary Scenic Drive",
          "McDonald Creek Trail",
          "Redrock Falls via Swiftcurrent Pass",
          "Apikuni Falls Trail",
          "Running Eagle Falls Trail",
          "Johns Lake Loop"
         ],
         "textposition": "auto",
         "type": "bar",
         "uid": "f2a313cd-e47c-46e5-9723-f69772822211",
         "x": [
          "#6",
          "#10",
          "#13",
          "#14",
          "#17",
          "#18",
          "#20",
          "#21",
          "#24"
         ],
         "y": [
          155.86206896551724,
          49.43661971830986,
          45,
          114.34693877551021,
          42.6,
          65.55555555555556,
          340.55555555555554,
          43.333333333333336,
          96.31578947368422
         ]
        },
        {
         "name": "MODERATE",
         "text": [
          "Avalanche Lake via the Trail of the Cedars",
          "Grinnell Glacier Trail",
          "Iceberg Lake Trail",
          "Hidden Lake Trail",
          "Cracker Lake Trail",
          "Hidden Lake Overlook",
          "Bullhead Lake Trail"
         ],
         "textposition": "auto",
         "type": "bar",
         "uid": "ba9651a2-7ccc-44e8-ace7-1e126cabf43c",
         "x": [
          "#1",
          "#2",
          "#3",
          "#4",
          "#7",
          "#8",
          "#22"
         ],
         "y": [
          131.2280701754386,
          210.30927835051548,
          155.91397849462365,
          259.24528301886795,
          137.5,
          207.14285714285717,
          64.05797101449275
         ]
        },
        {
         "name": "HARD",
         "text": [
          "Highline Trail",
          "The Garden Wall",
          "Swiftcurrent Pass Trail To Swiftcurrent Mountain",
          "Highline Trail to Granite Park",
          "Siyeh Pass Trail",
          "Scenic Point",
          "Dawson Pass and Pitamakan Pass Loop",
          "Apgar Lookout Trail"
         ],
         "textposition": "auto",
         "type": "bar",
         "uid": "aae2496a-6f7f-45ca-a204-6008aa8897a3",
         "x": [
          "#5",
          "#9",
          "#11",
          "#12",
          "#15",
          "#16",
          "#19",
          "#23"
         ],
         "y": [
          172.35915492957747,
          238.57142857142858,
          236.85534591194968,
          130.89285714285714,
          269.4660194174757,
          317.8378378378378,
          211.68604651162792,
          266.8493150684932
         ]
        }
       ],
       "layout": {
        "title": "elevation_per_mile"
       }
      },
      "text/html": [
       "<div id=\"9fe3ed93-8e0b-462a-8bcd-99ce547620d6\" style=\"height: 525px; width: 100%;\" class=\"plotly-graph-div\"></div><script type=\"text/javascript\">require([\"plotly\"], function(Plotly) { window.PLOTLYENV=window.PLOTLYENV || {};window.PLOTLYENV.BASE_URL=\"https://plot.ly\";Plotly.newPlot(\"9fe3ed93-8e0b-462a-8bcd-99ce547620d6\", [{\"name\": \"EASY\", \"text\": [\"St. Mary and Virginia Falls Trail\", \"Grinnell Lake Trail\", \"Trail of the Cedars\", \"Going-to-the-Sun Road - West Glacier to Saint Mary Scenic Drive\", \"McDonald Creek Trail\", \"Redrock Falls via Swiftcurrent Pass\", \"Apikuni Falls Trail\", \"Running Eagle Falls Trail\", \"Johns Lake Loop\"], \"textposition\": \"auto\", \"x\": [\"#6\", \"#10\", \"#13\", \"#14\", \"#17\", \"#18\", \"#20\", \"#21\", \"#24\"], \"y\": [155.86206896551724, 49.43661971830986, 45.0, 114.34693877551021, 42.6, 65.55555555555556, 340.55555555555554, 43.333333333333336, 96.31578947368422], \"type\": \"bar\", \"uid\": \"f2a313cd-e47c-46e5-9723-f69772822211\"}, {\"name\": \"MODERATE\", \"text\": [\"Avalanche Lake via the Trail of the Cedars\", \"Grinnell Glacier Trail\", \"Iceberg Lake Trail\", \"Hidden Lake Trail\", \"Cracker Lake Trail\", \"Hidden Lake Overlook\", \"Bullhead Lake Trail\"], \"textposition\": \"auto\", \"x\": [\"#1\", \"#2\", \"#3\", \"#4\", \"#7\", \"#8\", \"#22\"], \"y\": [131.2280701754386, 210.30927835051548, 155.91397849462365, 259.24528301886795, 137.5, 207.14285714285717, 64.05797101449275], \"type\": \"bar\", \"uid\": \"ba9651a2-7ccc-44e8-ace7-1e126cabf43c\"}, {\"name\": \"HARD\", \"text\": [\"Highline Trail\", \"The Garden Wall\", \"Swiftcurrent Pass Trail To Swiftcurrent Mountain\", \"Highline Trail to Granite Park\", \"Siyeh Pass Trail\", \"Scenic Point\", \"Dawson Pass and Pitamakan Pass Loop\", \"Apgar Lookout Trail\"], \"textposition\": \"auto\", \"x\": [\"#5\", \"#9\", \"#11\", \"#12\", \"#15\", \"#16\", \"#19\", \"#23\"], \"y\": [172.35915492957747, 238.57142857142858, 236.85534591194968, 130.89285714285714, 269.4660194174757, 317.8378378378378, 211.68604651162792, 266.8493150684932], \"type\": \"bar\", \"uid\": \"aae2496a-6f7f-45ca-a204-6008aa8897a3\"}], {\"title\": \"elevation_per_mile\"}, {\"showLink\": true, \"linkText\": \"Export to plot.ly\", \"plotlyServerURL\": \"https://plot.ly\"})});</script><script type=\"text/javascript\">window.addEventListener(\"resize\", function(){window._Plotly.Plots.resize(document.getElementById(\"9fe3ed93-8e0b-462a-8bcd-99ce547620d6\"));});</script>"
      ],
      "text/vnd.plotly.v1+html": [
       "<div id=\"9fe3ed93-8e0b-462a-8bcd-99ce547620d6\" style=\"height: 525px; width: 100%;\" class=\"plotly-graph-div\"></div><script type=\"text/javascript\">require([\"plotly\"], function(Plotly) { window.PLOTLYENV=window.PLOTLYENV || {};window.PLOTLYENV.BASE_URL=\"https://plot.ly\";Plotly.newPlot(\"9fe3ed93-8e0b-462a-8bcd-99ce547620d6\", [{\"name\": \"EASY\", \"text\": [\"St. Mary and Virginia Falls Trail\", \"Grinnell Lake Trail\", \"Trail of the Cedars\", \"Going-to-the-Sun Road - West Glacier to Saint Mary Scenic Drive\", \"McDonald Creek Trail\", \"Redrock Falls via Swiftcurrent Pass\", \"Apikuni Falls Trail\", \"Running Eagle Falls Trail\", \"Johns Lake Loop\"], \"textposition\": \"auto\", \"x\": [\"#6\", \"#10\", \"#13\", \"#14\", \"#17\", \"#18\", \"#20\", \"#21\", \"#24\"], \"y\": [155.86206896551724, 49.43661971830986, 45.0, 114.34693877551021, 42.6, 65.55555555555556, 340.55555555555554, 43.333333333333336, 96.31578947368422], \"type\": \"bar\", \"uid\": \"f2a313cd-e47c-46e5-9723-f69772822211\"}, {\"name\": \"MODERATE\", \"text\": [\"Avalanche Lake via the Trail of the Cedars\", \"Grinnell Glacier Trail\", \"Iceberg Lake Trail\", \"Hidden Lake Trail\", \"Cracker Lake Trail\", \"Hidden Lake Overlook\", \"Bullhead Lake Trail\"], \"textposition\": \"auto\", \"x\": [\"#1\", \"#2\", \"#3\", \"#4\", \"#7\", \"#8\", \"#22\"], \"y\": [131.2280701754386, 210.30927835051548, 155.91397849462365, 259.24528301886795, 137.5, 207.14285714285717, 64.05797101449275], \"type\": \"bar\", \"uid\": \"ba9651a2-7ccc-44e8-ace7-1e126cabf43c\"}, {\"name\": \"HARD\", \"text\": [\"Highline Trail\", \"The Garden Wall\", \"Swiftcurrent Pass Trail To Swiftcurrent Mountain\", \"Highline Trail to Granite Park\", \"Siyeh Pass Trail\", \"Scenic Point\", \"Dawson Pass and Pitamakan Pass Loop\", \"Apgar Lookout Trail\"], \"textposition\": \"auto\", \"x\": [\"#5\", \"#9\", \"#11\", \"#12\", \"#15\", \"#16\", \"#19\", \"#23\"], \"y\": [172.35915492957747, 238.57142857142858, 236.85534591194968, 130.89285714285714, 269.4660194174757, 317.8378378378378, 211.68604651162792, 266.8493150684932], \"type\": \"bar\", \"uid\": \"aae2496a-6f7f-45ca-a204-6008aa8897a3\"}], {\"title\": \"elevation_per_mile\"}, {\"showLink\": true, \"linkText\": \"Export to plot.ly\", \"plotlyServerURL\": \"https://plot.ly\"})});</script><script type=\"text/javascript\">window.addEventListener(\"resize\", function(){window._Plotly.Plots.resize(document.getElementById(\"9fe3ed93-8e0b-462a-8bcd-99ce547620d6\"));});</script>"
      ]
     },
     "metadata": {},
     "output_type": "display_data"
    },
    {
     "data": {
      "application/vnd.plotly.v1+json": {
       "config": {
        "linkText": "Export to plot.ly",
        "plotlyServerURL": "https://plot.ly",
        "showLink": true
       },
       "data": [
        {
         "name": "EASY",
         "text": [
          "St. Mary and Virginia Falls Trail",
          "Grinnell Lake Trail",
          "Trail of the Cedars",
          "Going-to-the-Sun Road - West Glacier to Saint Mary Scenic Drive",
          "McDonald Creek Trail",
          "Redrock Falls via Swiftcurrent Pass",
          "Apikuni Falls Trail",
          "Running Eagle Falls Trail",
          "Johns Lake Loop"
         ],
         "textposition": "auto",
         "type": "bar",
         "uid": "ac6fd765-baff-413f-a5ed-52fb5bd6cbb4",
         "x": [
          "#6",
          "#10",
          "#13",
          "#14",
          "#17",
          "#18",
          "#20",
          "#21",
          "#24"
         ],
         "y": [
          2.9,
          7.1,
          0.8,
          49,
          5,
          3.6,
          1.8,
          0.6,
          1.9
         ]
        },
        {
         "name": "MODERATE",
         "text": [
          "Avalanche Lake via the Trail of the Cedars",
          "Grinnell Glacier Trail",
          "Iceberg Lake Trail",
          "Hidden Lake Trail",
          "Cracker Lake Trail",
          "Hidden Lake Overlook",
          "Bullhead Lake Trail"
         ],
         "textposition": "auto",
         "type": "bar",
         "uid": "ec195cf3-13cd-4211-bdde-e866cabb67bc",
         "x": [
          "#1",
          "#2",
          "#3",
          "#4",
          "#7",
          "#8",
          "#22"
         ],
         "y": [
          5.7,
          9.7,
          9.3,
          5.3,
          12,
          2.8,
          6.9
         ]
        },
        {
         "name": "HARD",
         "text": [
          "Highline Trail",
          "The Garden Wall",
          "Swiftcurrent Pass Trail To Swiftcurrent Mountain",
          "Highline Trail to Granite Park",
          "Siyeh Pass Trail",
          "Scenic Point",
          "Dawson Pass and Pitamakan Pass Loop",
          "Apgar Lookout Trail"
         ],
         "textposition": "auto",
         "type": "bar",
         "uid": "b7deda47-ddf7-485c-9ac8-f643257d3f20",
         "x": [
          "#5",
          "#9",
          "#11",
          "#12",
          "#15",
          "#16",
          "#19",
          "#23"
         ],
         "y": [
          28.4,
          14.7,
          15.9,
          11.2,
          20.6,
          7.4,
          17.2,
          7.3
         ]
        }
       ],
       "layout": {
        "title": "distance_miles"
       }
      },
      "text/html": [
       "<div id=\"bfc9f7b4-4abc-4552-99ad-956b8d4f5c92\" style=\"height: 525px; width: 100%;\" class=\"plotly-graph-div\"></div><script type=\"text/javascript\">require([\"plotly\"], function(Plotly) { window.PLOTLYENV=window.PLOTLYENV || {};window.PLOTLYENV.BASE_URL=\"https://plot.ly\";Plotly.newPlot(\"bfc9f7b4-4abc-4552-99ad-956b8d4f5c92\", [{\"name\": \"EASY\", \"text\": [\"St. Mary and Virginia Falls Trail\", \"Grinnell Lake Trail\", \"Trail of the Cedars\", \"Going-to-the-Sun Road - West Glacier to Saint Mary Scenic Drive\", \"McDonald Creek Trail\", \"Redrock Falls via Swiftcurrent Pass\", \"Apikuni Falls Trail\", \"Running Eagle Falls Trail\", \"Johns Lake Loop\"], \"textposition\": \"auto\", \"x\": [\"#6\", \"#10\", \"#13\", \"#14\", \"#17\", \"#18\", \"#20\", \"#21\", \"#24\"], \"y\": [2.9, 7.1, 0.8, 49.0, 5.0, 3.6, 1.8, 0.6, 1.9], \"type\": \"bar\", \"uid\": \"ac6fd765-baff-413f-a5ed-52fb5bd6cbb4\"}, {\"name\": \"MODERATE\", \"text\": [\"Avalanche Lake via the Trail of the Cedars\", \"Grinnell Glacier Trail\", \"Iceberg Lake Trail\", \"Hidden Lake Trail\", \"Cracker Lake Trail\", \"Hidden Lake Overlook\", \"Bullhead Lake Trail\"], \"textposition\": \"auto\", \"x\": [\"#1\", \"#2\", \"#3\", \"#4\", \"#7\", \"#8\", \"#22\"], \"y\": [5.7, 9.7, 9.3, 5.3, 12.0, 2.8, 6.9], \"type\": \"bar\", \"uid\": \"ec195cf3-13cd-4211-bdde-e866cabb67bc\"}, {\"name\": \"HARD\", \"text\": [\"Highline Trail\", \"The Garden Wall\", \"Swiftcurrent Pass Trail To Swiftcurrent Mountain\", \"Highline Trail to Granite Park\", \"Siyeh Pass Trail\", \"Scenic Point\", \"Dawson Pass and Pitamakan Pass Loop\", \"Apgar Lookout Trail\"], \"textposition\": \"auto\", \"x\": [\"#5\", \"#9\", \"#11\", \"#12\", \"#15\", \"#16\", \"#19\", \"#23\"], \"y\": [28.4, 14.7, 15.9, 11.2, 20.6, 7.4, 17.2, 7.3], \"type\": \"bar\", \"uid\": \"b7deda47-ddf7-485c-9ac8-f643257d3f20\"}], {\"title\": \"distance_miles\"}, {\"showLink\": true, \"linkText\": \"Export to plot.ly\", \"plotlyServerURL\": \"https://plot.ly\"})});</script><script type=\"text/javascript\">window.addEventListener(\"resize\", function(){window._Plotly.Plots.resize(document.getElementById(\"bfc9f7b4-4abc-4552-99ad-956b8d4f5c92\"));});</script>"
      ],
      "text/vnd.plotly.v1+html": [
       "<div id=\"bfc9f7b4-4abc-4552-99ad-956b8d4f5c92\" style=\"height: 525px; width: 100%;\" class=\"plotly-graph-div\"></div><script type=\"text/javascript\">require([\"plotly\"], function(Plotly) { window.PLOTLYENV=window.PLOTLYENV || {};window.PLOTLYENV.BASE_URL=\"https://plot.ly\";Plotly.newPlot(\"bfc9f7b4-4abc-4552-99ad-956b8d4f5c92\", [{\"name\": \"EASY\", \"text\": [\"St. Mary and Virginia Falls Trail\", \"Grinnell Lake Trail\", \"Trail of the Cedars\", \"Going-to-the-Sun Road - West Glacier to Saint Mary Scenic Drive\", \"McDonald Creek Trail\", \"Redrock Falls via Swiftcurrent Pass\", \"Apikuni Falls Trail\", \"Running Eagle Falls Trail\", \"Johns Lake Loop\"], \"textposition\": \"auto\", \"x\": [\"#6\", \"#10\", \"#13\", \"#14\", \"#17\", \"#18\", \"#20\", \"#21\", \"#24\"], \"y\": [2.9, 7.1, 0.8, 49.0, 5.0, 3.6, 1.8, 0.6, 1.9], \"type\": \"bar\", \"uid\": \"ac6fd765-baff-413f-a5ed-52fb5bd6cbb4\"}, {\"name\": \"MODERATE\", \"text\": [\"Avalanche Lake via the Trail of the Cedars\", \"Grinnell Glacier Trail\", \"Iceberg Lake Trail\", \"Hidden Lake Trail\", \"Cracker Lake Trail\", \"Hidden Lake Overlook\", \"Bullhead Lake Trail\"], \"textposition\": \"auto\", \"x\": [\"#1\", \"#2\", \"#3\", \"#4\", \"#7\", \"#8\", \"#22\"], \"y\": [5.7, 9.7, 9.3, 5.3, 12.0, 2.8, 6.9], \"type\": \"bar\", \"uid\": \"ec195cf3-13cd-4211-bdde-e866cabb67bc\"}, {\"name\": \"HARD\", \"text\": [\"Highline Trail\", \"The Garden Wall\", \"Swiftcurrent Pass Trail To Swiftcurrent Mountain\", \"Highline Trail to Granite Park\", \"Siyeh Pass Trail\", \"Scenic Point\", \"Dawson Pass and Pitamakan Pass Loop\", \"Apgar Lookout Trail\"], \"textposition\": \"auto\", \"x\": [\"#5\", \"#9\", \"#11\", \"#12\", \"#15\", \"#16\", \"#19\", \"#23\"], \"y\": [28.4, 14.7, 15.9, 11.2, 20.6, 7.4, 17.2, 7.3], \"type\": \"bar\", \"uid\": \"b7deda47-ddf7-485c-9ac8-f643257d3f20\"}], {\"title\": \"distance_miles\"}, {\"showLink\": true, \"linkText\": \"Export to plot.ly\", \"plotlyServerURL\": \"https://plot.ly\"})});</script><script type=\"text/javascript\">window.addEventListener(\"resize\", function(){window._Plotly.Plots.resize(document.getElementById(\"bfc9f7b4-4abc-4552-99ad-956b8d4f5c92\"));});</script>"
      ]
     },
     "metadata": {},
     "output_type": "display_data"
    },
    {
     "data": {
      "application/vnd.plotly.v1+json": {
       "config": {
        "linkText": "Export to plot.ly",
        "plotlyServerURL": "https://plot.ly",
        "showLink": true
       },
       "data": [
        {
         "name": "EASY",
         "text": [
          "St. Mary and Virginia Falls Trail",
          "Grinnell Lake Trail",
          "Trail of the Cedars",
          "Going-to-the-Sun Road - West Glacier to Saint Mary Scenic Drive",
          "McDonald Creek Trail",
          "Redrock Falls via Swiftcurrent Pass",
          "Apikuni Falls Trail",
          "Running Eagle Falls Trail",
          "Johns Lake Loop"
         ],
         "textposition": "auto",
         "type": "bar",
         "uid": "50903e13-26e2-4bc1-9795-b1834072102a",
         "x": [
          "#6",
          "#10",
          "#13",
          "#14",
          "#17",
          "#18",
          "#20",
          "#21",
          "#24"
         ],
         "y": [
          452,
          351,
          36,
          5603,
          213,
          236,
          613,
          26,
          183
         ]
        },
        {
         "name": "MODERATE",
         "text": [
          "Avalanche Lake via the Trail of the Cedars",
          "Grinnell Glacier Trail",
          "Iceberg Lake Trail",
          "Hidden Lake Trail",
          "Cracker Lake Trail",
          "Hidden Lake Overlook",
          "Bullhead Lake Trail"
         ],
         "textposition": "auto",
         "type": "bar",
         "uid": "ae5bfa4c-add3-4a7b-9e2c-ca77f4477f4b",
         "x": [
          "#1",
          "#2",
          "#3",
          "#4",
          "#7",
          "#8",
          "#22"
         ],
         "y": [
          748,
          2040,
          1450,
          1374,
          1650,
          580,
          442
         ]
        },
        {
         "name": "HARD",
         "text": [
          "Highline Trail",
          "The Garden Wall",
          "Swiftcurrent Pass Trail To Swiftcurrent Mountain",
          "Highline Trail to Granite Park",
          "Siyeh Pass Trail",
          "Scenic Point",
          "Dawson Pass and Pitamakan Pass Loop",
          "Apgar Lookout Trail"
         ],
         "textposition": "auto",
         "type": "bar",
         "uid": "881dd9d7-d1fa-4b88-8a8e-f621ca0968cb",
         "x": [
          "#5",
          "#9",
          "#11",
          "#12",
          "#15",
          "#16",
          "#19",
          "#23"
         ],
         "y": [
          4895,
          3507,
          3766,
          1466,
          5551,
          2352,
          3641,
          1948
         ]
        }
       ],
       "layout": {
        "title": "elevation_feet"
       }
      },
      "text/html": [
       "<div id=\"50777ed7-ff52-468a-88c9-8adaeffbb967\" style=\"height: 525px; width: 100%;\" class=\"plotly-graph-div\"></div><script type=\"text/javascript\">require([\"plotly\"], function(Plotly) { window.PLOTLYENV=window.PLOTLYENV || {};window.PLOTLYENV.BASE_URL=\"https://plot.ly\";Plotly.newPlot(\"50777ed7-ff52-468a-88c9-8adaeffbb967\", [{\"name\": \"EASY\", \"text\": [\"St. Mary and Virginia Falls Trail\", \"Grinnell Lake Trail\", \"Trail of the Cedars\", \"Going-to-the-Sun Road - West Glacier to Saint Mary Scenic Drive\", \"McDonald Creek Trail\", \"Redrock Falls via Swiftcurrent Pass\", \"Apikuni Falls Trail\", \"Running Eagle Falls Trail\", \"Johns Lake Loop\"], \"textposition\": \"auto\", \"x\": [\"#6\", \"#10\", \"#13\", \"#14\", \"#17\", \"#18\", \"#20\", \"#21\", \"#24\"], \"y\": [452, 351, 36, 5603, 213, 236, 613, 26, 183], \"type\": \"bar\", \"uid\": \"50903e13-26e2-4bc1-9795-b1834072102a\"}, {\"name\": \"MODERATE\", \"text\": [\"Avalanche Lake via the Trail of the Cedars\", \"Grinnell Glacier Trail\", \"Iceberg Lake Trail\", \"Hidden Lake Trail\", \"Cracker Lake Trail\", \"Hidden Lake Overlook\", \"Bullhead Lake Trail\"], \"textposition\": \"auto\", \"x\": [\"#1\", \"#2\", \"#3\", \"#4\", \"#7\", \"#8\", \"#22\"], \"y\": [748, 2040, 1450, 1374, 1650, 580, 442], \"type\": \"bar\", \"uid\": \"ae5bfa4c-add3-4a7b-9e2c-ca77f4477f4b\"}, {\"name\": \"HARD\", \"text\": [\"Highline Trail\", \"The Garden Wall\", \"Swiftcurrent Pass Trail To Swiftcurrent Mountain\", \"Highline Trail to Granite Park\", \"Siyeh Pass Trail\", \"Scenic Point\", \"Dawson Pass and Pitamakan Pass Loop\", \"Apgar Lookout Trail\"], \"textposition\": \"auto\", \"x\": [\"#5\", \"#9\", \"#11\", \"#12\", \"#15\", \"#16\", \"#19\", \"#23\"], \"y\": [4895, 3507, 3766, 1466, 5551, 2352, 3641, 1948], \"type\": \"bar\", \"uid\": \"881dd9d7-d1fa-4b88-8a8e-f621ca0968cb\"}], {\"title\": \"elevation_feet\"}, {\"showLink\": true, \"linkText\": \"Export to plot.ly\", \"plotlyServerURL\": \"https://plot.ly\"})});</script><script type=\"text/javascript\">window.addEventListener(\"resize\", function(){window._Plotly.Plots.resize(document.getElementById(\"50777ed7-ff52-468a-88c9-8adaeffbb967\"));});</script>"
      ],
      "text/vnd.plotly.v1+html": [
       "<div id=\"50777ed7-ff52-468a-88c9-8adaeffbb967\" style=\"height: 525px; width: 100%;\" class=\"plotly-graph-div\"></div><script type=\"text/javascript\">require([\"plotly\"], function(Plotly) { window.PLOTLYENV=window.PLOTLYENV || {};window.PLOTLYENV.BASE_URL=\"https://plot.ly\";Plotly.newPlot(\"50777ed7-ff52-468a-88c9-8adaeffbb967\", [{\"name\": \"EASY\", \"text\": [\"St. Mary and Virginia Falls Trail\", \"Grinnell Lake Trail\", \"Trail of the Cedars\", \"Going-to-the-Sun Road - West Glacier to Saint Mary Scenic Drive\", \"McDonald Creek Trail\", \"Redrock Falls via Swiftcurrent Pass\", \"Apikuni Falls Trail\", \"Running Eagle Falls Trail\", \"Johns Lake Loop\"], \"textposition\": \"auto\", \"x\": [\"#6\", \"#10\", \"#13\", \"#14\", \"#17\", \"#18\", \"#20\", \"#21\", \"#24\"], \"y\": [452, 351, 36, 5603, 213, 236, 613, 26, 183], \"type\": \"bar\", \"uid\": \"50903e13-26e2-4bc1-9795-b1834072102a\"}, {\"name\": \"MODERATE\", \"text\": [\"Avalanche Lake via the Trail of the Cedars\", \"Grinnell Glacier Trail\", \"Iceberg Lake Trail\", \"Hidden Lake Trail\", \"Cracker Lake Trail\", \"Hidden Lake Overlook\", \"Bullhead Lake Trail\"], \"textposition\": \"auto\", \"x\": [\"#1\", \"#2\", \"#3\", \"#4\", \"#7\", \"#8\", \"#22\"], \"y\": [748, 2040, 1450, 1374, 1650, 580, 442], \"type\": \"bar\", \"uid\": \"ae5bfa4c-add3-4a7b-9e2c-ca77f4477f4b\"}, {\"name\": \"HARD\", \"text\": [\"Highline Trail\", \"The Garden Wall\", \"Swiftcurrent Pass Trail To Swiftcurrent Mountain\", \"Highline Trail to Granite Park\", \"Siyeh Pass Trail\", \"Scenic Point\", \"Dawson Pass and Pitamakan Pass Loop\", \"Apgar Lookout Trail\"], \"textposition\": \"auto\", \"x\": [\"#5\", \"#9\", \"#11\", \"#12\", \"#15\", \"#16\", \"#19\", \"#23\"], \"y\": [4895, 3507, 3766, 1466, 5551, 2352, 3641, 1948], \"type\": \"bar\", \"uid\": \"881dd9d7-d1fa-4b88-8a8e-f621ca0968cb\"}], {\"title\": \"elevation_feet\"}, {\"showLink\": true, \"linkText\": \"Export to plot.ly\", \"plotlyServerURL\": \"https://plot.ly\"})});</script><script type=\"text/javascript\">window.addEventListener(\"resize\", function(){window._Plotly.Plots.resize(document.getElementById(\"50777ed7-ff52-468a-88c9-8adaeffbb967\"));});</script>"
      ]
     },
     "metadata": {},
     "output_type": "display_data"
    },
    {
     "data": {
      "application/vnd.plotly.v1+json": {
       "config": {
        "linkText": "Export to plot.ly",
        "plotlyServerURL": "https://plot.ly",
        "showLink": true
       },
       "data": [
        {
         "name": "EASY",
         "text": [
          "St. Mary and Virginia Falls Trail",
          "Grinnell Lake Trail",
          "Trail of the Cedars",
          "Going-to-the-Sun Road - West Glacier to Saint Mary Scenic Drive",
          "McDonald Creek Trail",
          "Redrock Falls via Swiftcurrent Pass",
          "Apikuni Falls Trail",
          "Running Eagle Falls Trail",
          "Johns Lake Loop"
         ],
         "textposition": "auto",
         "type": "bar",
         "uid": "14b20255-ecfb-4eb5-adf5-e2a6e8da3cdf",
         "x": [
          "#6",
          "#10",
          "#13",
          "#14",
          "#17",
          "#18",
          "#20",
          "#21",
          "#24"
         ],
         "y": [
          "4.5",
          "4.5",
          "4",
          "5",
          "4.5",
          "4.5",
          "4.5",
          "4.5",
          "4"
         ]
        },
        {
         "name": "MODERATE",
         "text": [
          "Avalanche Lake via the Trail of the Cedars",
          "Grinnell Glacier Trail",
          "Iceberg Lake Trail",
          "Hidden Lake Trail",
          "Cracker Lake Trail",
          "Hidden Lake Overlook",
          "Bullhead Lake Trail"
         ],
         "textposition": "auto",
         "type": "bar",
         "uid": "d67ef8b5-9157-408c-bc42-0a764fd266c9",
         "x": [
          "#1",
          "#2",
          "#3",
          "#4",
          "#7",
          "#8",
          "#22"
         ],
         "y": [
          "4.5",
          "5",
          "5",
          "4.5",
          "4.5",
          "4.5",
          "4.5"
         ]
        },
        {
         "name": "HARD",
         "text": [
          "Highline Trail",
          "The Garden Wall",
          "Swiftcurrent Pass Trail To Swiftcurrent Mountain",
          "Highline Trail to Granite Park",
          "Siyeh Pass Trail",
          "Scenic Point",
          "Dawson Pass and Pitamakan Pass Loop",
          "Apgar Lookout Trail"
         ],
         "textposition": "auto",
         "type": "bar",
         "uid": "4acb1afb-5906-4470-988b-0a3f8677910b",
         "x": [
          "#5",
          "#9",
          "#11",
          "#12",
          "#15",
          "#16",
          "#19",
          "#23"
         ],
         "y": [
          "5",
          "5",
          "5",
          "5",
          "5",
          "5",
          "5",
          "4"
         ]
        }
       ],
       "layout": {
        "title": "rating"
       }
      },
      "text/html": [
       "<div id=\"a27a9b4d-19a9-4622-885f-8559d7708810\" style=\"height: 525px; width: 100%;\" class=\"plotly-graph-div\"></div><script type=\"text/javascript\">require([\"plotly\"], function(Plotly) { window.PLOTLYENV=window.PLOTLYENV || {};window.PLOTLYENV.BASE_URL=\"https://plot.ly\";Plotly.newPlot(\"a27a9b4d-19a9-4622-885f-8559d7708810\", [{\"name\": \"EASY\", \"text\": [\"St. Mary and Virginia Falls Trail\", \"Grinnell Lake Trail\", \"Trail of the Cedars\", \"Going-to-the-Sun Road - West Glacier to Saint Mary Scenic Drive\", \"McDonald Creek Trail\", \"Redrock Falls via Swiftcurrent Pass\", \"Apikuni Falls Trail\", \"Running Eagle Falls Trail\", \"Johns Lake Loop\"], \"textposition\": \"auto\", \"x\": [\"#6\", \"#10\", \"#13\", \"#14\", \"#17\", \"#18\", \"#20\", \"#21\", \"#24\"], \"y\": [\"4.5\", \"4.5\", \"4\", \"5\", \"4.5\", \"4.5\", \"4.5\", \"4.5\", \"4\"], \"type\": \"bar\", \"uid\": \"14b20255-ecfb-4eb5-adf5-e2a6e8da3cdf\"}, {\"name\": \"MODERATE\", \"text\": [\"Avalanche Lake via the Trail of the Cedars\", \"Grinnell Glacier Trail\", \"Iceberg Lake Trail\", \"Hidden Lake Trail\", \"Cracker Lake Trail\", \"Hidden Lake Overlook\", \"Bullhead Lake Trail\"], \"textposition\": \"auto\", \"x\": [\"#1\", \"#2\", \"#3\", \"#4\", \"#7\", \"#8\", \"#22\"], \"y\": [\"4.5\", \"5\", \"5\", \"4.5\", \"4.5\", \"4.5\", \"4.5\"], \"type\": \"bar\", \"uid\": \"d67ef8b5-9157-408c-bc42-0a764fd266c9\"}, {\"name\": \"HARD\", \"text\": [\"Highline Trail\", \"The Garden Wall\", \"Swiftcurrent Pass Trail To Swiftcurrent Mountain\", \"Highline Trail to Granite Park\", \"Siyeh Pass Trail\", \"Scenic Point\", \"Dawson Pass and Pitamakan Pass Loop\", \"Apgar Lookout Trail\"], \"textposition\": \"auto\", \"x\": [\"#5\", \"#9\", \"#11\", \"#12\", \"#15\", \"#16\", \"#19\", \"#23\"], \"y\": [\"5\", \"5\", \"5\", \"5\", \"5\", \"5\", \"5\", \"4\"], \"type\": \"bar\", \"uid\": \"4acb1afb-5906-4470-988b-0a3f8677910b\"}], {\"title\": \"rating\"}, {\"showLink\": true, \"linkText\": \"Export to plot.ly\", \"plotlyServerURL\": \"https://plot.ly\"})});</script><script type=\"text/javascript\">window.addEventListener(\"resize\", function(){window._Plotly.Plots.resize(document.getElementById(\"a27a9b4d-19a9-4622-885f-8559d7708810\"));});</script>"
      ],
      "text/vnd.plotly.v1+html": [
       "<div id=\"a27a9b4d-19a9-4622-885f-8559d7708810\" style=\"height: 525px; width: 100%;\" class=\"plotly-graph-div\"></div><script type=\"text/javascript\">require([\"plotly\"], function(Plotly) { window.PLOTLYENV=window.PLOTLYENV || {};window.PLOTLYENV.BASE_URL=\"https://plot.ly\";Plotly.newPlot(\"a27a9b4d-19a9-4622-885f-8559d7708810\", [{\"name\": \"EASY\", \"text\": [\"St. Mary and Virginia Falls Trail\", \"Grinnell Lake Trail\", \"Trail of the Cedars\", \"Going-to-the-Sun Road - West Glacier to Saint Mary Scenic Drive\", \"McDonald Creek Trail\", \"Redrock Falls via Swiftcurrent Pass\", \"Apikuni Falls Trail\", \"Running Eagle Falls Trail\", \"Johns Lake Loop\"], \"textposition\": \"auto\", \"x\": [\"#6\", \"#10\", \"#13\", \"#14\", \"#17\", \"#18\", \"#20\", \"#21\", \"#24\"], \"y\": [\"4.5\", \"4.5\", \"4\", \"5\", \"4.5\", \"4.5\", \"4.5\", \"4.5\", \"4\"], \"type\": \"bar\", \"uid\": \"14b20255-ecfb-4eb5-adf5-e2a6e8da3cdf\"}, {\"name\": \"MODERATE\", \"text\": [\"Avalanche Lake via the Trail of the Cedars\", \"Grinnell Glacier Trail\", \"Iceberg Lake Trail\", \"Hidden Lake Trail\", \"Cracker Lake Trail\", \"Hidden Lake Overlook\", \"Bullhead Lake Trail\"], \"textposition\": \"auto\", \"x\": [\"#1\", \"#2\", \"#3\", \"#4\", \"#7\", \"#8\", \"#22\"], \"y\": [\"4.5\", \"5\", \"5\", \"4.5\", \"4.5\", \"4.5\", \"4.5\"], \"type\": \"bar\", \"uid\": \"d67ef8b5-9157-408c-bc42-0a764fd266c9\"}, {\"name\": \"HARD\", \"text\": [\"Highline Trail\", \"The Garden Wall\", \"Swiftcurrent Pass Trail To Swiftcurrent Mountain\", \"Highline Trail to Granite Park\", \"Siyeh Pass Trail\", \"Scenic Point\", \"Dawson Pass and Pitamakan Pass Loop\", \"Apgar Lookout Trail\"], \"textposition\": \"auto\", \"x\": [\"#5\", \"#9\", \"#11\", \"#12\", \"#15\", \"#16\", \"#19\", \"#23\"], \"y\": [\"5\", \"5\", \"5\", \"5\", \"5\", \"5\", \"5\", \"4\"], \"type\": \"bar\", \"uid\": \"4acb1afb-5906-4470-988b-0a3f8677910b\"}], {\"title\": \"rating\"}, {\"showLink\": true, \"linkText\": \"Export to plot.ly\", \"plotlyServerURL\": \"https://plot.ly\"})});</script><script type=\"text/javascript\">window.addEventListener(\"resize\", function(){window._Plotly.Plots.resize(document.getElementById(\"a27a9b4d-19a9-4622-885f-8559d7708810\"));});</script>"
      ]
     },
     "metadata": {},
     "output_type": "display_data"
    }
   ],
   "source": [
    "columns = ['num_reviews','duration_hours','elevation_per_mile','distance_miles','elevation_feet','rating']\n",
    "for col in columns:\n",
    "    t1 = go.Bar(x= df[df.difficulty == 'EASY']['ranking'],\n",
    "                y= df[df.difficulty == 'EASY'][col],\n",
    "                text=df[df.difficulty == 'EASY']['name'],\n",
    "                textposition = 'auto',\n",
    "                name='EASY')\n",
    "\n",
    "    t2 = go.Bar(x= df[df.difficulty == 'MODERATE']['ranking'],\n",
    "                y= df[df.difficulty == 'MODERATE'][col],\n",
    "                text=df[df.difficulty == 'MODERATE']['name'],\n",
    "                textposition = 'auto',\n",
    "                name='MODERATE')\n",
    "\n",
    "    t3 = go.Bar(x= df[df.difficulty == 'HARD']['ranking'],\n",
    "                y= df[df.difficulty == 'HARD'][col],\n",
    "                text=df[df.difficulty == 'HARD']['name'],\n",
    "                textposition = 'auto',\n",
    "                name='HARD')\n",
    "    data = [t1,t2,t3]\n",
    "    layout = go.Layout(title=col)\n",
    "    fig = go.Figure(data,layout)\n",
    "    py.iplot(fig)"
   ]
  },
  {
   "cell_type": "code",
   "execution_count": 482,
   "metadata": {},
   "outputs": [
    {
     "data": {
      "text/html": [
       "<style  type=\"text/css\" >\n",
       "</style>  \n",
       "<table id=\"T_65b57674_4146_11e9_8de4_8c8590c1c849\" > \n",
       "<thead>    <tr> \n",
       "        <th class=\"blank level0\" ></th> \n",
       "        <th class=\"col_heading level0 col0\" >ranking</th> \n",
       "        <th class=\"col_heading level0 col1\" >num_reviews</th> \n",
       "        <th class=\"col_heading level0 col2\" >name</th> \n",
       "        <th class=\"col_heading level0 col3\" >difficulty</th> \n",
       "        <th class=\"col_heading level0 col4\" >duration_hours</th> \n",
       "        <th class=\"col_heading level0 col5\" >distance_miles</th> \n",
       "        <th class=\"col_heading level0 col6\" >elevation_feet</th> \n",
       "        <th class=\"col_heading level0 col7\" >route_type</th> \n",
       "        <th class=\"col_heading level0 col8\" >rating</th> \n",
       "        <th class=\"col_heading level0 col9\" >location</th> \n",
       "        <th class=\"col_heading level0 col10\" >link</th> \n",
       "    </tr></thead> \n",
       "<tbody>    <tr> \n",
       "        <th id=\"T_65b57674_4146_11e9_8de4_8c8590c1c849level0_row0\" class=\"row_heading level0 row0\" >0</th> \n",
       "        <td id=\"T_65b57674_4146_11e9_8de4_8c8590c1c849row0_col0\" class=\"data row0 col0\" >#1</td> \n",
       "        <td id=\"T_65b57674_4146_11e9_8de4_8c8590c1c849row0_col1\" class=\"data row0 col1\" >926</td> \n",
       "        <td id=\"T_65b57674_4146_11e9_8de4_8c8590c1c849row0_col2\" class=\"data row0 col2\" >Sturtevant Falls Trail</td> \n",
       "        <td id=\"T_65b57674_4146_11e9_8de4_8c8590c1c849row0_col3\" class=\"data row0 col3\" >MODERATE</td> \n",
       "        <td id=\"T_65b57674_4146_11e9_8de4_8c8590c1c849row0_col4\" class=\"data row0 col4\" >1.5</td> \n",
       "        <td id=\"T_65b57674_4146_11e9_8de4_8c8590c1c849row0_col5\" class=\"data row0 col5\" >3</td> \n",
       "        <td id=\"T_65b57674_4146_11e9_8de4_8c8590c1c849row0_col6\" class=\"data row0 col6\" >646</td> \n",
       "        <td id=\"T_65b57674_4146_11e9_8de4_8c8590c1c849row0_col7\" class=\"data row0 col7\" >Out & Back</td> \n",
       "        <td id=\"T_65b57674_4146_11e9_8de4_8c8590c1c849row0_col8\" class=\"data row0 col8\" >4.5</td> \n",
       "        <td id=\"T_65b57674_4146_11e9_8de4_8c8590c1c849row0_col9\" class=\"data row0 col9\" >Sierra Madre, California</td> \n",
       "        <td id=\"T_65b57674_4146_11e9_8de4_8c8590c1c849row0_col10\" class=\"data row0 col10\" ><a href=\"https://www.alltrails.com/trail/us/california/sturtevant-falls-trail?ref=result-card\">https://www.alltrails.com/trail/us/california/sturtevant-falls-trail?ref=result-card</a></td> \n",
       "    </tr>    <tr> \n",
       "        <th id=\"T_65b57674_4146_11e9_8de4_8c8590c1c849level0_row1\" class=\"row_heading level0 row1\" >1</th> \n",
       "        <td id=\"T_65b57674_4146_11e9_8de4_8c8590c1c849row1_col0\" class=\"data row1 col0\" >#2</td> \n",
       "        <td id=\"T_65b57674_4146_11e9_8de4_8c8590c1c849row1_col1\" class=\"data row1 col1\" >690</td> \n",
       "        <td id=\"T_65b57674_4146_11e9_8de4_8c8590c1c849row1_col2\" class=\"data row1 col2\" >Mount San Antonio & Mount Baldy Notch Trail</td> \n",
       "        <td id=\"T_65b57674_4146_11e9_8de4_8c8590c1c849row1_col3\" class=\"data row1 col3\" >HARD</td> \n",
       "        <td id=\"T_65b57674_4146_11e9_8de4_8c8590c1c849row1_col4\" class=\"data row1 col4\" >4.6</td> \n",
       "        <td id=\"T_65b57674_4146_11e9_8de4_8c8590c1c849row1_col5\" class=\"data row1 col5\" >9.2</td> \n",
       "        <td id=\"T_65b57674_4146_11e9_8de4_8c8590c1c849row1_col6\" class=\"data row1 col6\" >3940</td> \n",
       "        <td id=\"T_65b57674_4146_11e9_8de4_8c8590c1c849row1_col7\" class=\"data row1 col7\" >Loop</td> \n",
       "        <td id=\"T_65b57674_4146_11e9_8de4_8c8590c1c849row1_col8\" class=\"data row1 col8\" >4.5</td> \n",
       "        <td id=\"T_65b57674_4146_11e9_8de4_8c8590c1c849row1_col9\" class=\"data row1 col9\" >Mt Baldy, California</td> \n",
       "        <td id=\"T_65b57674_4146_11e9_8de4_8c8590c1c849row1_col10\" class=\"data row1 col10\" ><a href=\"https://www.alltrails.com/trail/us/california/mount-san-antonio-mount-baldy-notch-trail?ref=result-card\">https://www.alltrails.com/trail/us/california/mount-san-antonio-mount-baldy-notch-trail?ref=result-card</a></td> \n",
       "    </tr>    <tr> \n",
       "        <th id=\"T_65b57674_4146_11e9_8de4_8c8590c1c849level0_row2\" class=\"row_heading level0 row2\" >2</th> \n",
       "        <td id=\"T_65b57674_4146_11e9_8de4_8c8590c1c849row2_col0\" class=\"data row2 col0\" >#3</td> \n",
       "        <td id=\"T_65b57674_4146_11e9_8de4_8c8590c1c849row2_col1\" class=\"data row2 col1\" >835</td> \n",
       "        <td id=\"T_65b57674_4146_11e9_8de4_8c8590c1c849row2_col2\" class=\"data row2 col2\" >Echo Mountain via Sam Merrill Trail</td> \n",
       "        <td id=\"T_65b57674_4146_11e9_8de4_8c8590c1c849row2_col3\" class=\"data row2 col3\" >MODERATE</td> \n",
       "        <td id=\"T_65b57674_4146_11e9_8de4_8c8590c1c849row2_col4\" class=\"data row2 col4\" >2.7</td> \n",
       "        <td id=\"T_65b57674_4146_11e9_8de4_8c8590c1c849row2_col5\" class=\"data row2 col5\" >5.4</td> \n",
       "        <td id=\"T_65b57674_4146_11e9_8de4_8c8590c1c849row2_col6\" class=\"data row2 col6\" >1417</td> \n",
       "        <td id=\"T_65b57674_4146_11e9_8de4_8c8590c1c849row2_col7\" class=\"data row2 col7\" >Out & Back</td> \n",
       "        <td id=\"T_65b57674_4146_11e9_8de4_8c8590c1c849row2_col8\" class=\"data row2 col8\" >4.5</td> \n",
       "        <td id=\"T_65b57674_4146_11e9_8de4_8c8590c1c849row2_col9\" class=\"data row2 col9\" >Altadena, California</td> \n",
       "        <td id=\"T_65b57674_4146_11e9_8de4_8c8590c1c849row2_col10\" class=\"data row2 col10\" ><a href=\"https://www.alltrails.com/trail/us/california/echo-mountain?ref=result-card\">https://www.alltrails.com/trail/us/california/echo-mountain?ref=result-card</a></td> \n",
       "    </tr>    <tr> \n",
       "        <th id=\"T_65b57674_4146_11e9_8de4_8c8590c1c849level0_row3\" class=\"row_heading level0 row3\" >3</th> \n",
       "        <td id=\"T_65b57674_4146_11e9_8de4_8c8590c1c849row3_col0\" class=\"data row3 col0\" >#4</td> \n",
       "        <td id=\"T_65b57674_4146_11e9_8de4_8c8590c1c849row3_col1\" class=\"data row3 col1\" >480</td> \n",
       "        <td id=\"T_65b57674_4146_11e9_8de4_8c8590c1c849row3_col2\" class=\"data row3 col2\" >Dawn Mine and Sunset Trail Loop</td> \n",
       "        <td id=\"T_65b57674_4146_11e9_8de4_8c8590c1c849row3_col3\" class=\"data row3 col3\" >MODERATE</td> \n",
       "        <td id=\"T_65b57674_4146_11e9_8de4_8c8590c1c849row3_col4\" class=\"data row3 col4\" >3</td> \n",
       "        <td id=\"T_65b57674_4146_11e9_8de4_8c8590c1c849row3_col5\" class=\"data row3 col5\" >6</td> \n",
       "        <td id=\"T_65b57674_4146_11e9_8de4_8c8590c1c849row3_col6\" class=\"data row3 col6\" >1633</td> \n",
       "        <td id=\"T_65b57674_4146_11e9_8de4_8c8590c1c849row3_col7\" class=\"data row3 col7\" >Loop</td> \n",
       "        <td id=\"T_65b57674_4146_11e9_8de4_8c8590c1c849row3_col8\" class=\"data row3 col8\" >4.5</td> \n",
       "        <td id=\"T_65b57674_4146_11e9_8de4_8c8590c1c849row3_col9\" class=\"data row3 col9\" >Altadena, California</td> \n",
       "        <td id=\"T_65b57674_4146_11e9_8de4_8c8590c1c849row3_col10\" class=\"data row3 col10\" ><a href=\"https://www.alltrails.com/trail/us/california/dawn-mine-trail-loop?ref=result-card\">https://www.alltrails.com/trail/us/california/dawn-mine-trail-loop?ref=result-card</a></td> \n",
       "    </tr>    <tr> \n",
       "        <th id=\"T_65b57674_4146_11e9_8de4_8c8590c1c849level0_row4\" class=\"row_heading level0 row4\" >4</th> \n",
       "        <td id=\"T_65b57674_4146_11e9_8de4_8c8590c1c849row4_col0\" class=\"data row4 col0\" >#5</td> \n",
       "        <td id=\"T_65b57674_4146_11e9_8de4_8c8590c1c849row4_col1\" class=\"data row4 col1\" >304</td> \n",
       "        <td id=\"T_65b57674_4146_11e9_8de4_8c8590c1c849row4_col2\" class=\"data row4 col2\" >Mount Baldy via Devil's Backbone Trail</td> \n",
       "        <td id=\"T_65b57674_4146_11e9_8de4_8c8590c1c849row4_col3\" class=\"data row4 col3\" >HARD</td> \n",
       "        <td id=\"T_65b57674_4146_11e9_8de4_8c8590c1c849row4_col4\" class=\"data row4 col4\" >6.25</td> \n",
       "        <td id=\"T_65b57674_4146_11e9_8de4_8c8590c1c849row4_col5\" class=\"data row4 col5\" >12.5</td> \n",
       "        <td id=\"T_65b57674_4146_11e9_8de4_8c8590c1c849row4_col6\" class=\"data row4 col6\" >3956</td> \n",
       "        <td id=\"T_65b57674_4146_11e9_8de4_8c8590c1c849row4_col7\" class=\"data row4 col7\" >Out & Back</td> \n",
       "        <td id=\"T_65b57674_4146_11e9_8de4_8c8590c1c849row4_col8\" class=\"data row4 col8\" >4.5</td> \n",
       "        <td id=\"T_65b57674_4146_11e9_8de4_8c8590c1c849row4_col9\" class=\"data row4 col9\" >Mt Baldy, California</td> \n",
       "        <td id=\"T_65b57674_4146_11e9_8de4_8c8590c1c849row4_col10\" class=\"data row4 col10\" ><a href=\"https://www.alltrails.com/trail/us/california/mt-baldy-via-devils-backbone-trail?ref=result-card\">https://www.alltrails.com/trail/us/california/mt-baldy-via-devils-backbone-trail?ref=result-card</a></td> \n",
       "    </tr>    <tr> \n",
       "        <th id=\"T_65b57674_4146_11e9_8de4_8c8590c1c849level0_row5\" class=\"row_heading level0 row5\" >5</th> \n",
       "        <td id=\"T_65b57674_4146_11e9_8de4_8c8590c1c849row5_col0\" class=\"data row5 col0\" >#6</td> \n",
       "        <td id=\"T_65b57674_4146_11e9_8de4_8c8590c1c849row5_col1\" class=\"data row5 col1\" >361</td> \n",
       "        <td id=\"T_65b57674_4146_11e9_8de4_8c8590c1c849row5_col2\" class=\"data row5 col2\" >Trail Canyon Falls</td> \n",
       "        <td id=\"T_65b57674_4146_11e9_8de4_8c8590c1c849row5_col3\" class=\"data row5 col3\" >MODERATE</td> \n",
       "        <td id=\"T_65b57674_4146_11e9_8de4_8c8590c1c849row5_col4\" class=\"data row5 col4\" >2.4</td> \n",
       "        <td id=\"T_65b57674_4146_11e9_8de4_8c8590c1c849row5_col5\" class=\"data row5 col5\" >4.8</td> \n",
       "        <td id=\"T_65b57674_4146_11e9_8de4_8c8590c1c849row5_col6\" class=\"data row5 col6\" >1053</td> \n",
       "        <td id=\"T_65b57674_4146_11e9_8de4_8c8590c1c849row5_col7\" class=\"data row5 col7\" >Out & Back</td> \n",
       "        <td id=\"T_65b57674_4146_11e9_8de4_8c8590c1c849row5_col8\" class=\"data row5 col8\" >4.5</td> \n",
       "        <td id=\"T_65b57674_4146_11e9_8de4_8c8590c1c849row5_col9\" class=\"data row5 col9\" >Sunland-Tujunga, California</td> \n",
       "        <td id=\"T_65b57674_4146_11e9_8de4_8c8590c1c849row5_col10\" class=\"data row5 col10\" ><a href=\"https://www.alltrails.com/trail/us/california/trail-canyon-falls?ref=result-card\">https://www.alltrails.com/trail/us/california/trail-canyon-falls?ref=result-card</a></td> \n",
       "    </tr>    <tr> \n",
       "        <th id=\"T_65b57674_4146_11e9_8de4_8c8590c1c849level0_row6\" class=\"row_heading level0 row6\" >6</th> \n",
       "        <td id=\"T_65b57674_4146_11e9_8de4_8c8590c1c849row6_col0\" class=\"data row6 col0\" >#7</td> \n",
       "        <td id=\"T_65b57674_4146_11e9_8de4_8c8590c1c849row6_col1\" class=\"data row6 col1\" >384</td> \n",
       "        <td id=\"T_65b57674_4146_11e9_8de4_8c8590c1c849row6_col2\" class=\"data row6 col2\" >Mount Baden Powell Trail</td> \n",
       "        <td id=\"T_65b57674_4146_11e9_8de4_8c8590c1c849row6_col3\" class=\"data row6 col3\" >HARD</td> \n",
       "        <td id=\"T_65b57674_4146_11e9_8de4_8c8590c1c849row6_col4\" class=\"data row6 col4\" >4.45</td> \n",
       "        <td id=\"T_65b57674_4146_11e9_8de4_8c8590c1c849row6_col5\" class=\"data row6 col5\" >8.9</td> \n",
       "        <td id=\"T_65b57674_4146_11e9_8de4_8c8590c1c849row6_col6\" class=\"data row6 col6\" >2788</td> \n",
       "        <td id=\"T_65b57674_4146_11e9_8de4_8c8590c1c849row6_col7\" class=\"data row6 col7\" >Out & Back</td> \n",
       "        <td id=\"T_65b57674_4146_11e9_8de4_8c8590c1c849row6_col8\" class=\"data row6 col8\" >4.5</td> \n",
       "        <td id=\"T_65b57674_4146_11e9_8de4_8c8590c1c849row6_col9\" class=\"data row6 col9\" >Valyermo, California</td> \n",
       "        <td id=\"T_65b57674_4146_11e9_8de4_8c8590c1c849row6_col10\" class=\"data row6 col10\" ><a href=\"https://www.alltrails.com/trail/us/california/mount-baden-powell?ref=result-card\">https://www.alltrails.com/trail/us/california/mount-baden-powell?ref=result-card</a></td> \n",
       "    </tr>    <tr> \n",
       "        <th id=\"T_65b57674_4146_11e9_8de4_8c8590c1c849level0_row7\" class=\"row_heading level0 row7\" >7</th> \n",
       "        <td id=\"T_65b57674_4146_11e9_8de4_8c8590c1c849row7_col0\" class=\"data row7 col0\" >#8</td> \n",
       "        <td id=\"T_65b57674_4146_11e9_8de4_8c8590c1c849row7_col1\" class=\"data row7 col1\" >276</td> \n",
       "        <td id=\"T_65b57674_4146_11e9_8de4_8c8590c1c849row7_col2\" class=\"data row7 col2\" >Mount Zion Loop - Sturtevant to Winter Creek Trails</td> \n",
       "        <td id=\"T_65b57674_4146_11e9_8de4_8c8590c1c849row7_col3\" class=\"data row7 col3\" >HARD</td> \n",
       "        <td id=\"T_65b57674_4146_11e9_8de4_8c8590c1c849row7_col4\" class=\"data row7 col4\" >4.65</td> \n",
       "        <td id=\"T_65b57674_4146_11e9_8de4_8c8590c1c849row7_col5\" class=\"data row7 col5\" >9.3</td> \n",
       "        <td id=\"T_65b57674_4146_11e9_8de4_8c8590c1c849row7_col6\" class=\"data row7 col6\" >2339</td> \n",
       "        <td id=\"T_65b57674_4146_11e9_8de4_8c8590c1c849row7_col7\" class=\"data row7 col7\" >Loop</td> \n",
       "        <td id=\"T_65b57674_4146_11e9_8de4_8c8590c1c849row7_col8\" class=\"data row7 col8\" >4.5</td> \n",
       "        <td id=\"T_65b57674_4146_11e9_8de4_8c8590c1c849row7_col9\" class=\"data row7 col9\" >Sierra Madre, California</td> \n",
       "        <td id=\"T_65b57674_4146_11e9_8de4_8c8590c1c849row7_col10\" class=\"data row7 col10\" ><a href=\"https://www.alltrails.com/trail/us/california/mount-zion-loop-sturtevant-to-winter-creek-trails?ref=result-card\">https://www.alltrails.com/trail/us/california/mount-zion-loop-sturtevant-to-winter-creek-trails?ref=result-card</a></td> \n",
       "    </tr>    <tr> \n",
       "        <th id=\"T_65b57674_4146_11e9_8de4_8c8590c1c849level0_row8\" class=\"row_heading level0 row8\" >8</th> \n",
       "        <td id=\"T_65b57674_4146_11e9_8de4_8c8590c1c849row8_col0\" class=\"data row8 col0\" >#9</td> \n",
       "        <td id=\"T_65b57674_4146_11e9_8de4_8c8590c1c849row8_col1\" class=\"data row8 col1\" >288</td> \n",
       "        <td id=\"T_65b57674_4146_11e9_8de4_8c8590c1c849row8_col2\" class=\"data row8 col2\" >Mount Wilson Loop via Chantry Flats</td> \n",
       "        <td id=\"T_65b57674_4146_11e9_8de4_8c8590c1c849row8_col3\" class=\"data row8 col3\" >HARD</td> \n",
       "        <td id=\"T_65b57674_4146_11e9_8de4_8c8590c1c849row8_col4\" class=\"data row8 col4\" >6.3</td> \n",
       "        <td id=\"T_65b57674_4146_11e9_8de4_8c8590c1c849row8_col5\" class=\"data row8 col5\" >12.6</td> \n",
       "        <td id=\"T_65b57674_4146_11e9_8de4_8c8590c1c849row8_col6\" class=\"data row8 col6\" >4274</td> \n",
       "        <td id=\"T_65b57674_4146_11e9_8de4_8c8590c1c849row8_col7\" class=\"data row8 col7\" >Loop</td> \n",
       "        <td id=\"T_65b57674_4146_11e9_8de4_8c8590c1c849row8_col8\" class=\"data row8 col8\" >4.5</td> \n",
       "        <td id=\"T_65b57674_4146_11e9_8de4_8c8590c1c849row8_col9\" class=\"data row8 col9\" >Sierra Madre, California</td> \n",
       "        <td id=\"T_65b57674_4146_11e9_8de4_8c8590c1c849row8_col10\" class=\"data row8 col10\" ><a href=\"https://www.alltrails.com/trail/us/california/mount-wilson-loop-via-chantry-flats?ref=result-card\">https://www.alltrails.com/trail/us/california/mount-wilson-loop-via-chantry-flats?ref=result-card</a></td> \n",
       "    </tr>    <tr> \n",
       "        <th id=\"T_65b57674_4146_11e9_8de4_8c8590c1c849level0_row9\" class=\"row_heading level0 row9\" >9</th> \n",
       "        <td id=\"T_65b57674_4146_11e9_8de4_8c8590c1c849row9_col0\" class=\"data row9 col0\" >#10</td> \n",
       "        <td id=\"T_65b57674_4146_11e9_8de4_8c8590c1c849row9_col1\" class=\"data row9 col1\" >239</td> \n",
       "        <td id=\"T_65b57674_4146_11e9_8de4_8c8590c1c849row9_col2\" class=\"data row9 col2\" >Millard Canyon Falls Trail</td> \n",
       "        <td id=\"T_65b57674_4146_11e9_8de4_8c8590c1c849row9_col3\" class=\"data row9 col3\" >MODERATE</td> \n",
       "        <td id=\"T_65b57674_4146_11e9_8de4_8c8590c1c849row9_col4\" class=\"data row9 col4\" >1.3</td> \n",
       "        <td id=\"T_65b57674_4146_11e9_8de4_8c8590c1c849row9_col5\" class=\"data row9 col5\" >2.6</td> \n",
       "        <td id=\"T_65b57674_4146_11e9_8de4_8c8590c1c849row9_col6\" class=\"data row9 col6\" >564</td> \n",
       "        <td id=\"T_65b57674_4146_11e9_8de4_8c8590c1c849row9_col7\" class=\"data row9 col7\" >Out & Back</td> \n",
       "        <td id=\"T_65b57674_4146_11e9_8de4_8c8590c1c849row9_col8\" class=\"data row9 col8\" >4.5</td> \n",
       "        <td id=\"T_65b57674_4146_11e9_8de4_8c8590c1c849row9_col9\" class=\"data row9 col9\" >Altadena, California</td> \n",
       "        <td id=\"T_65b57674_4146_11e9_8de4_8c8590c1c849row9_col10\" class=\"data row9 col10\" ><a href=\"https://www.alltrails.com/trail/us/california/millard-canyon-falls-trail?ref=result-card\">https://www.alltrails.com/trail/us/california/millard-canyon-falls-trail?ref=result-card</a></td> \n",
       "    </tr>    <tr> \n",
       "        <th id=\"T_65b57674_4146_11e9_8de4_8c8590c1c849level0_row10\" class=\"row_heading level0 row10\" >10</th> \n",
       "        <td id=\"T_65b57674_4146_11e9_8de4_8c8590c1c849row10_col0\" class=\"data row10 col0\" >#11</td> \n",
       "        <td id=\"T_65b57674_4146_11e9_8de4_8c8590c1c849row10_col1\" class=\"data row10 col1\" >320</td> \n",
       "        <td id=\"T_65b57674_4146_11e9_8de4_8c8590c1c849row10_col2\" class=\"data row10 col2\" >Bailey Canyon Trail to Jones Peak</td> \n",
       "        <td id=\"T_65b57674_4146_11e9_8de4_8c8590c1c849row10_col3\" class=\"data row10 col3\" >HARD</td> \n",
       "        <td id=\"T_65b57674_4146_11e9_8de4_8c8590c1c849row10_col4\" class=\"data row10 col4\" >3</td> \n",
       "        <td id=\"T_65b57674_4146_11e9_8de4_8c8590c1c849row10_col5\" class=\"data row10 col5\" >6</td> \n",
       "        <td id=\"T_65b57674_4146_11e9_8de4_8c8590c1c849row10_col6\" class=\"data row10 col6\" >2273</td> \n",
       "        <td id=\"T_65b57674_4146_11e9_8de4_8c8590c1c849row10_col7\" class=\"data row10 col7\" >Out & Back</td> \n",
       "        <td id=\"T_65b57674_4146_11e9_8de4_8c8590c1c849row10_col8\" class=\"data row10 col8\" >4.5</td> \n",
       "        <td id=\"T_65b57674_4146_11e9_8de4_8c8590c1c849row10_col9\" class=\"data row10 col9\" >Sierra Madre, California</td> \n",
       "        <td id=\"T_65b57674_4146_11e9_8de4_8c8590c1c849row10_col10\" class=\"data row10 col10\" ><a href=\"https://www.alltrails.com/trail/us/california/bailey-canyon-trail-to-jones-peak?ref=result-card\">https://www.alltrails.com/trail/us/california/bailey-canyon-trail-to-jones-peak?ref=result-card</a></td> \n",
       "    </tr>    <tr> \n",
       "        <th id=\"T_65b57674_4146_11e9_8de4_8c8590c1c849level0_row11\" class=\"row_heading level0 row11\" >11</th> \n",
       "        <td id=\"T_65b57674_4146_11e9_8de4_8c8590c1c849row11_col0\" class=\"data row11 col0\" >#12</td> \n",
       "        <td id=\"T_65b57674_4146_11e9_8de4_8c8590c1c849row11_col1\" class=\"data row11 col1\" >168</td> \n",
       "        <td id=\"T_65b57674_4146_11e9_8de4_8c8590c1c849row11_col2\" class=\"data row11 col2\" >San Antonio Falls Trail</td> \n",
       "        <td id=\"T_65b57674_4146_11e9_8de4_8c8590c1c849row11_col3\" class=\"data row11 col3\" >MODERATE</td> \n",
       "        <td id=\"T_65b57674_4146_11e9_8de4_8c8590c1c849row11_col4\" class=\"data row11 col4\" >0.65</td> \n",
       "        <td id=\"T_65b57674_4146_11e9_8de4_8c8590c1c849row11_col5\" class=\"data row11 col5\" >1.3</td> \n",
       "        <td id=\"T_65b57674_4146_11e9_8de4_8c8590c1c849row11_col6\" class=\"data row11 col6\" >272</td> \n",
       "        <td id=\"T_65b57674_4146_11e9_8de4_8c8590c1c849row11_col7\" class=\"data row11 col7\" >Out & Back</td> \n",
       "        <td id=\"T_65b57674_4146_11e9_8de4_8c8590c1c849row11_col8\" class=\"data row11 col8\" >4.5</td> \n",
       "        <td id=\"T_65b57674_4146_11e9_8de4_8c8590c1c849row11_col9\" class=\"data row11 col9\" >Mt Baldy, California</td> \n",
       "        <td id=\"T_65b57674_4146_11e9_8de4_8c8590c1c849row11_col10\" class=\"data row11 col10\" ><a href=\"https://www.alltrails.com/trail/us/california/san-antonio-falls-trail?ref=result-card\">https://www.alltrails.com/trail/us/california/san-antonio-falls-trail?ref=result-card</a></td> \n",
       "    </tr>    <tr> \n",
       "        <th id=\"T_65b57674_4146_11e9_8de4_8c8590c1c849level0_row12\" class=\"row_heading level0 row12\" >12</th> \n",
       "        <td id=\"T_65b57674_4146_11e9_8de4_8c8590c1c849row12_col0\" class=\"data row12 col0\" >#13</td> \n",
       "        <td id=\"T_65b57674_4146_11e9_8de4_8c8590c1c849row12_col1\" class=\"data row12 col1\" >163</td> \n",
       "        <td id=\"T_65b57674_4146_11e9_8de4_8c8590c1c849row12_col2\" class=\"data row12 col2\" >Mount Lowe Railway Loop</td> \n",
       "        <td id=\"T_65b57674_4146_11e9_8de4_8c8590c1c849row12_col3\" class=\"data row12 col3\" >HARD</td> \n",
       "        <td id=\"T_65b57674_4146_11e9_8de4_8c8590c1c849row12_col4\" class=\"data row12 col4\" >4.9</td> \n",
       "        <td id=\"T_65b57674_4146_11e9_8de4_8c8590c1c849row12_col5\" class=\"data row12 col5\" >9.8</td> \n",
       "        <td id=\"T_65b57674_4146_11e9_8de4_8c8590c1c849row12_col6\" class=\"data row12 col6\" >2762</td> \n",
       "        <td id=\"T_65b57674_4146_11e9_8de4_8c8590c1c849row12_col7\" class=\"data row12 col7\" >Loop</td> \n",
       "        <td id=\"T_65b57674_4146_11e9_8de4_8c8590c1c849row12_col8\" class=\"data row12 col8\" >4.5</td> \n",
       "        <td id=\"T_65b57674_4146_11e9_8de4_8c8590c1c849row12_col9\" class=\"data row12 col9\" >Altadena, California</td> \n",
       "        <td id=\"T_65b57674_4146_11e9_8de4_8c8590c1c849row12_col10\" class=\"data row12 col10\" ><a href=\"https://www.alltrails.com/trail/us/california/mount-lowe-railway-loop?ref=result-card\">https://www.alltrails.com/trail/us/california/mount-lowe-railway-loop?ref=result-card</a></td> \n",
       "    </tr>    <tr> \n",
       "        <th id=\"T_65b57674_4146_11e9_8de4_8c8590c1c849level0_row13\" class=\"row_heading level0 row13\" >13</th> \n",
       "        <td id=\"T_65b57674_4146_11e9_8de4_8c8590c1c849row13_col0\" class=\"data row13 col0\" >#14</td> \n",
       "        <td id=\"T_65b57674_4146_11e9_8de4_8c8590c1c849row13_col1\" class=\"data row13 col1\" >220</td> \n",
       "        <td id=\"T_65b57674_4146_11e9_8de4_8c8590c1c849row13_col2\" class=\"data row13 col2\" >Sunset Peak Trail</td> \n",
       "        <td id=\"T_65b57674_4146_11e9_8de4_8c8590c1c849row13_col3\" class=\"data row13 col3\" >MODERATE</td> \n",
       "        <td id=\"T_65b57674_4146_11e9_8de4_8c8590c1c849row13_col4\" class=\"data row13 col4\" >3.65</td> \n",
       "        <td id=\"T_65b57674_4146_11e9_8de4_8c8590c1c849row13_col5\" class=\"data row13 col5\" >7.3</td> \n",
       "        <td id=\"T_65b57674_4146_11e9_8de4_8c8590c1c849row13_col6\" class=\"data row13 col6\" >1272</td> \n",
       "        <td id=\"T_65b57674_4146_11e9_8de4_8c8590c1c849row13_col7\" class=\"data row13 col7\" >Out & Back</td> \n",
       "        <td id=\"T_65b57674_4146_11e9_8de4_8c8590c1c849row13_col8\" class=\"data row13 col8\" >4.5</td> \n",
       "        <td id=\"T_65b57674_4146_11e9_8de4_8c8590c1c849row13_col9\" class=\"data row13 col9\" >Mt Baldy, California</td> \n",
       "        <td id=\"T_65b57674_4146_11e9_8de4_8c8590c1c849row13_col10\" class=\"data row13 col10\" ><a href=\"https://www.alltrails.com/trail/us/california/sunset-peak-trail--2?ref=result-card\">https://www.alltrails.com/trail/us/california/sunset-peak-trail--2?ref=result-card</a></td> \n",
       "    </tr>    <tr> \n",
       "        <th id=\"T_65b57674_4146_11e9_8de4_8c8590c1c849level0_row14\" class=\"row_heading level0 row14\" >14</th> \n",
       "        <td id=\"T_65b57674_4146_11e9_8de4_8c8590c1c849row14_col0\" class=\"data row14 col0\" >#15</td> \n",
       "        <td id=\"T_65b57674_4146_11e9_8de4_8c8590c1c849row14_col1\" class=\"data row14 col1\" >187</td> \n",
       "        <td id=\"T_65b57674_4146_11e9_8de4_8c8590c1c849row14_col2\" class=\"data row14 col2\" >Mount San Antonio via Baldy Bowl Trail</td> \n",
       "        <td id=\"T_65b57674_4146_11e9_8de4_8c8590c1c849row14_col3\" class=\"data row14 col3\" >HARD</td> \n",
       "        <td id=\"T_65b57674_4146_11e9_8de4_8c8590c1c849row14_col4\" class=\"data row14 col4\" >4.4</td> \n",
       "        <td id=\"T_65b57674_4146_11e9_8de4_8c8590c1c849row14_col5\" class=\"data row14 col5\" >8.8</td> \n",
       "        <td id=\"T_65b57674_4146_11e9_8de4_8c8590c1c849row14_col6\" class=\"data row14 col6\" >3923</td> \n",
       "        <td id=\"T_65b57674_4146_11e9_8de4_8c8590c1c849row14_col7\" class=\"data row14 col7\" >Out & Back</td> \n",
       "        <td id=\"T_65b57674_4146_11e9_8de4_8c8590c1c849row14_col8\" class=\"data row14 col8\" >4.5</td> \n",
       "        <td id=\"T_65b57674_4146_11e9_8de4_8c8590c1c849row14_col9\" class=\"data row14 col9\" >Mt Baldy, California</td> \n",
       "        <td id=\"T_65b57674_4146_11e9_8de4_8c8590c1c849row14_col10\" class=\"data row14 col10\" ><a href=\"https://www.alltrails.com/trail/us/california/mount-san-antonio-via-baldy-bowl-trail?ref=result-card\">https://www.alltrails.com/trail/us/california/mount-san-antonio-via-baldy-bowl-trail?ref=result-card</a></td> \n",
       "    </tr>    <tr> \n",
       "        <th id=\"T_65b57674_4146_11e9_8de4_8c8590c1c849level0_row15\" class=\"row_heading level0 row15\" >15</th> \n",
       "        <td id=\"T_65b57674_4146_11e9_8de4_8c8590c1c849row15_col0\" class=\"data row15 col0\" >#16</td> \n",
       "        <td id=\"T_65b57674_4146_11e9_8de4_8c8590c1c849row15_col1\" class=\"data row15 col1\" >215</td> \n",
       "        <td id=\"T_65b57674_4146_11e9_8de4_8c8590c1c849row15_col2\" class=\"data row15 col2\" >Strawberry Peak Trail via Redbox Canyon</td> \n",
       "        <td id=\"T_65b57674_4146_11e9_8de4_8c8590c1c849row15_col3\" class=\"data row15 col3\" >HARD</td> \n",
       "        <td id=\"T_65b57674_4146_11e9_8de4_8c8590c1c849row15_col4\" class=\"data row15 col4\" >3.6</td> \n",
       "        <td id=\"T_65b57674_4146_11e9_8de4_8c8590c1c849row15_col5\" class=\"data row15 col5\" >7.2</td> \n",
       "        <td id=\"T_65b57674_4146_11e9_8de4_8c8590c1c849row15_col6\" class=\"data row15 col6\" >1788</td> \n",
       "        <td id=\"T_65b57674_4146_11e9_8de4_8c8590c1c849row15_col7\" class=\"data row15 col7\" >Out & Back</td> \n",
       "        <td id=\"T_65b57674_4146_11e9_8de4_8c8590c1c849row15_col8\" class=\"data row15 col8\" >4.5</td> \n",
       "        <td id=\"T_65b57674_4146_11e9_8de4_8c8590c1c849row15_col9\" class=\"data row15 col9\" >Mount Wilson, California</td> \n",
       "        <td id=\"T_65b57674_4146_11e9_8de4_8c8590c1c849row15_col10\" class=\"data row15 col10\" ><a href=\"https://www.alltrails.com/trail/us/california/strawberry-peak-trail-via-redbox-canyon?ref=result-card\">https://www.alltrails.com/trail/us/california/strawberry-peak-trail-via-redbox-canyon?ref=result-card</a></td> \n",
       "    </tr>    <tr> \n",
       "        <th id=\"T_65b57674_4146_11e9_8de4_8c8590c1c849level0_row16\" class=\"row_heading level0 row16\" >16</th> \n",
       "        <td id=\"T_65b57674_4146_11e9_8de4_8c8590c1c849row16_col0\" class=\"data row16 col0\" >#17</td> \n",
       "        <td id=\"T_65b57674_4146_11e9_8de4_8c8590c1c849row16_col1\" class=\"data row16 col1\" >131</td> \n",
       "        <td id=\"T_65b57674_4146_11e9_8de4_8c8590c1c849row16_col2\" class=\"data row16 col2\" >Cooper Canyon Falls Trail</td> \n",
       "        <td id=\"T_65b57674_4146_11e9_8de4_8c8590c1c849row16_col3\" class=\"data row16 col3\" >MODERATE</td> \n",
       "        <td id=\"T_65b57674_4146_11e9_8de4_8c8590c1c849row16_col4\" class=\"data row16 col4\" >3.1</td> \n",
       "        <td id=\"T_65b57674_4146_11e9_8de4_8c8590c1c849row16_col5\" class=\"data row16 col5\" >6.2</td> \n",
       "        <td id=\"T_65b57674_4146_11e9_8de4_8c8590c1c849row16_col6\" class=\"data row16 col6\" >1358</td> \n",
       "        <td id=\"T_65b57674_4146_11e9_8de4_8c8590c1c849row16_col7\" class=\"data row16 col7\" >Loop</td> \n",
       "        <td id=\"T_65b57674_4146_11e9_8de4_8c8590c1c849row16_col8\" class=\"data row16 col8\" >4.5</td> \n",
       "        <td id=\"T_65b57674_4146_11e9_8de4_8c8590c1c849row16_col9\" class=\"data row16 col9\" >Mount Wilson, California</td> \n",
       "        <td id=\"T_65b57674_4146_11e9_8de4_8c8590c1c849row16_col10\" class=\"data row16 col10\" ><a href=\"https://www.alltrails.com/trail/us/california/cooper-canyon-falls?ref=result-card\">https://www.alltrails.com/trail/us/california/cooper-canyon-falls?ref=result-card</a></td> \n",
       "    </tr>    <tr> \n",
       "        <th id=\"T_65b57674_4146_11e9_8de4_8c8590c1c849level0_row17\" class=\"row_heading level0 row17\" >17</th> \n",
       "        <td id=\"T_65b57674_4146_11e9_8de4_8c8590c1c849row17_col0\" class=\"data row17 col0\" >#18</td> \n",
       "        <td id=\"T_65b57674_4146_11e9_8de4_8c8590c1c849row17_col1\" class=\"data row17 col1\" >136</td> \n",
       "        <td id=\"T_65b57674_4146_11e9_8de4_8c8590c1c849row17_col2\" class=\"data row17 col2\" >Inspiration Point via Sam Merril Trail to Castle Canyon Trail</td> \n",
       "        <td id=\"T_65b57674_4146_11e9_8de4_8c8590c1c849row17_col3\" class=\"data row17 col3\" >HARD</td> \n",
       "        <td id=\"T_65b57674_4146_11e9_8de4_8c8590c1c849row17_col4\" class=\"data row17 col4\" >4.1</td> \n",
       "        <td id=\"T_65b57674_4146_11e9_8de4_8c8590c1c849row17_col5\" class=\"data row17 col5\" >8.2</td> \n",
       "        <td id=\"T_65b57674_4146_11e9_8de4_8c8590c1c849row17_col6\" class=\"data row17 col6\" >2732</td> \n",
       "        <td id=\"T_65b57674_4146_11e9_8de4_8c8590c1c849row17_col7\" class=\"data row17 col7\" >Out & Back</td> \n",
       "        <td id=\"T_65b57674_4146_11e9_8de4_8c8590c1c849row17_col8\" class=\"data row17 col8\" >4.5</td> \n",
       "        <td id=\"T_65b57674_4146_11e9_8de4_8c8590c1c849row17_col9\" class=\"data row17 col9\" >Altadena, California</td> \n",
       "        <td id=\"T_65b57674_4146_11e9_8de4_8c8590c1c849row17_col10\" class=\"data row17 col10\" ><a href=\"https://www.alltrails.com/trail/us/california/inspiration-point-via-sam-merril-trail-to-castle-canyon?ref=result-card\">https://www.alltrails.com/trail/us/california/inspiration-point-via-sam-merril-trail-to-castle-canyon?ref=result-card</a></td> \n",
       "    </tr>    <tr> \n",
       "        <th id=\"T_65b57674_4146_11e9_8de4_8c8590c1c849level0_row18\" class=\"row_heading level0 row18\" >18</th> \n",
       "        <td id=\"T_65b57674_4146_11e9_8de4_8c8590c1c849row18_col0\" class=\"data row18 col0\" >#19</td> \n",
       "        <td id=\"T_65b57674_4146_11e9_8de4_8c8590c1c849row18_col1\" class=\"data row18 col1\" >143</td> \n",
       "        <td id=\"T_65b57674_4146_11e9_8de4_8c8590c1c849row18_col2\" class=\"data row18 col2\" >Waterman Mountain Loop Trail</td> \n",
       "        <td id=\"T_65b57674_4146_11e9_8de4_8c8590c1c849row18_col3\" class=\"data row18 col3\" >MODERATE</td> \n",
       "        <td id=\"T_65b57674_4146_11e9_8de4_8c8590c1c849row18_col4\" class=\"data row18 col4\" >3</td> \n",
       "        <td id=\"T_65b57674_4146_11e9_8de4_8c8590c1c849row18_col5\" class=\"data row18 col5\" >6</td> \n",
       "        <td id=\"T_65b57674_4146_11e9_8de4_8c8590c1c849row18_col6\" class=\"data row18 col6\" >1456</td> \n",
       "        <td id=\"T_65b57674_4146_11e9_8de4_8c8590c1c849row18_col7\" class=\"data row18 col7\" >Loop</td> \n",
       "        <td id=\"T_65b57674_4146_11e9_8de4_8c8590c1c849row18_col8\" class=\"data row18 col8\" >4.5</td> \n",
       "        <td id=\"T_65b57674_4146_11e9_8de4_8c8590c1c849row18_col9\" class=\"data row18 col9\" >Mount Wilson, California</td> \n",
       "        <td id=\"T_65b57674_4146_11e9_8de4_8c8590c1c849row18_col10\" class=\"data row18 col10\" ><a href=\"https://www.alltrails.com/trail/us/california/waterman-mountain-loop-trail?ref=result-card\">https://www.alltrails.com/trail/us/california/waterman-mountain-loop-trail?ref=result-card</a></td> \n",
       "    </tr>    <tr> \n",
       "        <th id=\"T_65b57674_4146_11e9_8de4_8c8590c1c849level0_row19\" class=\"row_heading level0 row19\" >19</th> \n",
       "        <td id=\"T_65b57674_4146_11e9_8de4_8c8590c1c849row19_col0\" class=\"data row19 col0\" >#20</td> \n",
       "        <td id=\"T_65b57674_4146_11e9_8de4_8c8590c1c849row19_col1\" class=\"data row19 col1\" >125</td> \n",
       "        <td id=\"T_65b57674_4146_11e9_8de4_8c8590c1c849row19_col2\" class=\"data row19 col2\" >Old Mount Baldy Trail</td> \n",
       "        <td id=\"T_65b57674_4146_11e9_8de4_8c8590c1c849row19_col3\" class=\"data row19 col3\" >HARD</td> \n",
       "        <td id=\"T_65b57674_4146_11e9_8de4_8c8590c1c849row19_col4\" class=\"data row19 col4\" >5.65</td> \n",
       "        <td id=\"T_65b57674_4146_11e9_8de4_8c8590c1c849row19_col5\" class=\"data row19 col5\" >11.3</td> \n",
       "        <td id=\"T_65b57674_4146_11e9_8de4_8c8590c1c849row19_col6\" class=\"data row19 col6\" >5793</td> \n",
       "        <td id=\"T_65b57674_4146_11e9_8de4_8c8590c1c849row19_col7\" class=\"data row19 col7\" >Out & Back</td> \n",
       "        <td id=\"T_65b57674_4146_11e9_8de4_8c8590c1c849row19_col8\" class=\"data row19 col8\" >4.5</td> \n",
       "        <td id=\"T_65b57674_4146_11e9_8de4_8c8590c1c849row19_col9\" class=\"data row19 col9\" >Mt Baldy, California</td> \n",
       "        <td id=\"T_65b57674_4146_11e9_8de4_8c8590c1c849row19_col10\" class=\"data row19 col10\" ><a href=\"https://www.alltrails.com/trail/us/california/old-mount-baldy-trail?ref=result-card\">https://www.alltrails.com/trail/us/california/old-mount-baldy-trail?ref=result-card</a></td> \n",
       "    </tr>    <tr> \n",
       "        <th id=\"T_65b57674_4146_11e9_8de4_8c8590c1c849level0_row20\" class=\"row_heading level0 row20\" >20</th> \n",
       "        <td id=\"T_65b57674_4146_11e9_8de4_8c8590c1c849row20_col0\" class=\"data row20 col0\" >#21</td> \n",
       "        <td id=\"T_65b57674_4146_11e9_8de4_8c8590c1c849row20_col1\" class=\"data row20 col1\" >128</td> \n",
       "        <td id=\"T_65b57674_4146_11e9_8de4_8c8590c1c849row20_col2\" class=\"data row20 col2\" >Buckhart Trail to Cooper Canyon Falls</td> \n",
       "        <td id=\"T_65b57674_4146_11e9_8de4_8c8590c1c849row20_col3\" class=\"data row20 col3\" >MODERATE</td> \n",
       "        <td id=\"T_65b57674_4146_11e9_8de4_8c8590c1c849row20_col4\" class=\"data row20 col4\" >2.3</td> \n",
       "        <td id=\"T_65b57674_4146_11e9_8de4_8c8590c1c849row20_col5\" class=\"data row20 col5\" >4.6</td> \n",
       "        <td id=\"T_65b57674_4146_11e9_8de4_8c8590c1c849row20_col6\" class=\"data row20 col6\" >1013</td> \n",
       "        <td id=\"T_65b57674_4146_11e9_8de4_8c8590c1c849row20_col7\" class=\"data row20 col7\" >Out & Back</td> \n",
       "        <td id=\"T_65b57674_4146_11e9_8de4_8c8590c1c849row20_col8\" class=\"data row20 col8\" >4.5</td> \n",
       "        <td id=\"T_65b57674_4146_11e9_8de4_8c8590c1c849row20_col9\" class=\"data row20 col9\" >Mount Wilson, California</td> \n",
       "        <td id=\"T_65b57674_4146_11e9_8de4_8c8590c1c849row20_col10\" class=\"data row20 col10\" ><a href=\"https://www.alltrails.com/trail/us/california/buckhart-trail-to-cooper-canyon-falls?ref=result-card\">https://www.alltrails.com/trail/us/california/buckhart-trail-to-cooper-canyon-falls?ref=result-card</a></td> \n",
       "    </tr>    <tr> \n",
       "        <th id=\"T_65b57674_4146_11e9_8de4_8c8590c1c849level0_row21\" class=\"row_heading level0 row21\" >21</th> \n",
       "        <td id=\"T_65b57674_4146_11e9_8de4_8c8590c1c849row21_col0\" class=\"data row21 col0\" >#22</td> \n",
       "        <td id=\"T_65b57674_4146_11e9_8de4_8c8590c1c849row21_col1\" class=\"data row21 col1\" >92</td> \n",
       "        <td id=\"T_65b57674_4146_11e9_8de4_8c8590c1c849row21_col2\" class=\"data row21 col2\" >Lewis Falls Trail</td> \n",
       "        <td id=\"T_65b57674_4146_11e9_8de4_8c8590c1c849row21_col3\" class=\"data row21 col3\" >MODERATE</td> \n",
       "        <td id=\"T_65b57674_4146_11e9_8de4_8c8590c1c849row21_col4\" class=\"data row21 col4\" >0.4</td> \n",
       "        <td id=\"T_65b57674_4146_11e9_8de4_8c8590c1c849row21_col5\" class=\"data row21 col5\" >0.8</td> \n",
       "        <td id=\"T_65b57674_4146_11e9_8de4_8c8590c1c849row21_col6\" class=\"data row21 col6\" >341</td> \n",
       "        <td id=\"T_65b57674_4146_11e9_8de4_8c8590c1c849row21_col7\" class=\"data row21 col7\" >Out & Back</td> \n",
       "        <td id=\"T_65b57674_4146_11e9_8de4_8c8590c1c849row21_col8\" class=\"data row21 col8\" >4.5</td> \n",
       "        <td id=\"T_65b57674_4146_11e9_8de4_8c8590c1c849row21_col9\" class=\"data row21 col9\" >Azusa, California</td> \n",
       "        <td id=\"T_65b57674_4146_11e9_8de4_8c8590c1c849row21_col10\" class=\"data row21 col10\" ><a href=\"https://www.alltrails.com/trail/us/california/lewis-falls-trail?ref=result-card\">https://www.alltrails.com/trail/us/california/lewis-falls-trail?ref=result-card</a></td> \n",
       "    </tr>    <tr> \n",
       "        <th id=\"T_65b57674_4146_11e9_8de4_8c8590c1c849level0_row22\" class=\"row_heading level0 row22\" >22</th> \n",
       "        <td id=\"T_65b57674_4146_11e9_8de4_8c8590c1c849row22_col0\" class=\"data row22 col0\" >#23</td> \n",
       "        <td id=\"T_65b57674_4146_11e9_8de4_8c8590c1c849row22_col1\" class=\"data row22 col1\" >72</td> \n",
       "        <td id=\"T_65b57674_4146_11e9_8de4_8c8590c1c849row22_col2\" class=\"data row22 col2\" >Spruce Grove Campground Trail</td> \n",
       "        <td id=\"T_65b57674_4146_11e9_8de4_8c8590c1c849row22_col3\" class=\"data row22 col3\" >MODERATE</td> \n",
       "        <td id=\"T_65b57674_4146_11e9_8de4_8c8590c1c849row22_col4\" class=\"data row22 col4\" >3.65</td> \n",
       "        <td id=\"T_65b57674_4146_11e9_8de4_8c8590c1c849row22_col5\" class=\"data row22 col5\" >7.3</td> \n",
       "        <td id=\"T_65b57674_4146_11e9_8de4_8c8590c1c849row22_col6\" class=\"data row22 col6\" >1778</td> \n",
       "        <td id=\"T_65b57674_4146_11e9_8de4_8c8590c1c849row22_col7\" class=\"data row22 col7\" >Out & Back</td> \n",
       "        <td id=\"T_65b57674_4146_11e9_8de4_8c8590c1c849row22_col8\" class=\"data row22 col8\" >4.5</td> \n",
       "        <td id=\"T_65b57674_4146_11e9_8de4_8c8590c1c849row22_col9\" class=\"data row22 col9\" >Sierra Madre, California</td> \n",
       "        <td id=\"T_65b57674_4146_11e9_8de4_8c8590c1c849row22_col10\" class=\"data row22 col10\" ><a href=\"https://www.alltrails.com/trail/us/california/spruce-grove-campground-trail?ref=result-card\">https://www.alltrails.com/trail/us/california/spruce-grove-campground-trail?ref=result-card</a></td> \n",
       "    </tr>    <tr> \n",
       "        <th id=\"T_65b57674_4146_11e9_8de4_8c8590c1c849level0_row23\" class=\"row_heading level0 row23\" >23</th> \n",
       "        <td id=\"T_65b57674_4146_11e9_8de4_8c8590c1c849row23_col0\" class=\"data row23 col0\" >#24</td> \n",
       "        <td id=\"T_65b57674_4146_11e9_8de4_8c8590c1c849row23_col1\" class=\"data row23 col1\" >124</td> \n",
       "        <td id=\"T_65b57674_4146_11e9_8de4_8c8590c1c849row23_col2\" class=\"data row23 col2\" >Stoddard Peak</td> \n",
       "        <td id=\"T_65b57674_4146_11e9_8de4_8c8590c1c849row23_col3\" class=\"data row23 col3\" >MODERATE</td> \n",
       "        <td id=\"T_65b57674_4146_11e9_8de4_8c8590c1c849row23_col4\" class=\"data row23 col4\" >2.95</td> \n",
       "        <td id=\"T_65b57674_4146_11e9_8de4_8c8590c1c849row23_col5\" class=\"data row23 col5\" >5.9</td> \n",
       "        <td id=\"T_65b57674_4146_11e9_8de4_8c8590c1c849row23_col6\" class=\"data row23 col6\" >1145</td> \n",
       "        <td id=\"T_65b57674_4146_11e9_8de4_8c8590c1c849row23_col7\" class=\"data row23 col7\" >Out & Back</td> \n",
       "        <td id=\"T_65b57674_4146_11e9_8de4_8c8590c1c849row23_col8\" class=\"data row23 col8\" >4.5</td> \n",
       "        <td id=\"T_65b57674_4146_11e9_8de4_8c8590c1c849row23_col9\" class=\"data row23 col9\" >Claremont, California</td> \n",
       "        <td id=\"T_65b57674_4146_11e9_8de4_8c8590c1c849row23_col10\" class=\"data row23 col10\" ><a href=\"https://www.alltrails.com/trail/us/california/stoddard-peak-trail?ref=result-card\">https://www.alltrails.com/trail/us/california/stoddard-peak-trail?ref=result-card</a></td> \n",
       "    </tr></tbody> \n",
       "</table> "
      ],
      "text/plain": [
       "<pandas.io.formats.style.Styler at 0x11a6ec6d8>"
      ]
     },
     "execution_count": 482,
     "metadata": {},
     "output_type": "execute_result"
    }
   ],
   "source": [
    "df2"
   ]
  },
  {
   "cell_type": "code",
   "execution_count": null,
   "metadata": {},
   "outputs": [],
   "source": []
  }
 ],
 "metadata": {
  "kernelspec": {
   "display_name": "Python 3",
   "language": "python",
   "name": "python3"
  },
  "language_info": {
   "codemirror_mode": {
    "name": "ipython",
    "version": 3
   },
   "file_extension": ".py",
   "mimetype": "text/x-python",
   "name": "python",
   "nbconvert_exporter": "python",
   "pygments_lexer": "ipython3",
   "version": "3.6.8"
  }
 },
 "nbformat": 4,
 "nbformat_minor": 2
}
