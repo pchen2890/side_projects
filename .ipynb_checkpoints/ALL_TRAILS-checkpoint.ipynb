{
 "cells": [
  {
   "cell_type": "code",
   "execution_count": 457,
   "metadata": {},
   "outputs": [],
   "source": [
    "import pandas as pd"
   ]
  },
  {
   "cell_type": "code",
   "execution_count": 458,
   "metadata": {},
   "outputs": [
    {
     "data": {
      "text/html": [
       "<script type=\"text/javascript\">window.PlotlyConfig = {MathJaxConfig: 'local'};</script><script type=\"text/javascript\">if (window.MathJax) {MathJax.Hub.Config({SVG: {font: \"STIX-Web\"}});}</script><script>requirejs.config({paths: { 'plotly': ['https://cdn.plot.ly/plotly-latest.min']},});if(!window._Plotly) {require(['plotly'],function(plotly) {window._Plotly=plotly;});}</script>"
      ],
      "text/vnd.plotly.v1+html": [
       "<script type=\"text/javascript\">window.PlotlyConfig = {MathJaxConfig: 'local'};</script><script type=\"text/javascript\">if (window.MathJax) {MathJax.Hub.Config({SVG: {font: \"STIX-Web\"}});}</script><script>requirejs.config({paths: { 'plotly': ['https://cdn.plot.ly/plotly-latest.min']},});if(!window._Plotly) {require(['plotly'],function(plotly) {window._Plotly=plotly;});}</script>"
      ]
     },
     "metadata": {},
     "output_type": "display_data"
    }
   ],
   "source": [
    "import plotly.graph_objs as go\n",
    "import plotly.offline as py\n",
    "from plotly.offline import download_plotlyjs, init_notebook_mode, iplot\n",
    "py.init_notebook_mode(connected=True)"
   ]
  },
  {
   "cell_type": "code",
   "execution_count": 459,
   "metadata": {},
   "outputs": [],
   "source": [
    "import requests, bs4\n",
    "url = 'https://www.alltrails.com/parks/us/montana/glacier-national-park'\n",
    "r = requests.get(url)\n",
    "soup = bs4.BeautifulSoup(r.text, 'lxml')"
   ]
  },
  {
   "cell_type": "code",
   "execution_count": null,
   "metadata": {},
   "outputs": [],
   "source": [
    "ranking = []\n",
    "link = []\n",
    "name = []\n",
    "diff = []\n",
    "rating = []\n",
    "location = []\n",
    "distance = []\n",
    "elevation = []\n",
    "route_type =[]"
   ]
  },
  {
   "cell_type": "code",
   "execution_count": null,
   "metadata": {},
   "outputs": [],
   "source": [
    "for i in range(len(soup.find_all('div', class_=\"trail-result-card\"))):\n",
    "    \n",
    "    # ranking\n",
    "    try:\n",
    "        ranking.append(soup.find_all('span',class_='item-rank xlate-none')[i].get_text())\n",
    "    except Exception:\n",
    "        ranking.append(\"\")\n",
    "   \n",
    "    # link\n",
    "    try:\n",
    "        url = \"https://www.alltrails.com\" + (soup.find_all('a',class_='item-link')[i]['href'])\n",
    "        link.append(url)\n",
    "    except Exception:\n",
    "        link.append(\"\")\n",
    "    \n",
    "    # trail name\n",
    "    try:\n",
    "        name.append(soup.find_all('h3',class_='name xlate-none short')[i].get_text())\n",
    "    except Exception:\n",
    "        name.append(\"\")\n",
    "    \n",
    "    # difficulty\n",
    "    try:\n",
    "        diff.append(soup.find_all('div',class_='difficulty-info')[i].get_text())\n",
    "    except Exception:\n",
    "        diff.append(\"\")\n",
    "    \n",
    "    # rating\n",
    "    try:\n",
    "        rating.append(soup.find_all('div',class_='difficulty-info')[i].find_all('span')[1]['title'])\n",
    "    except Exception:\n",
    "        rating.append(\"\")\n",
    "\n",
    "    # location\n",
    "    try:\n",
    "        location.append(soup.find_all('div',class_='clickable xlate-none')[i]['title'])\n",
    "    except Exception:\n",
    "        location.append(\"\")\n",
    "    \n",
    "    # GRAB TRAIL DETAILS\n",
    "    r2 = requests.get(url)\n",
    "    soup2 = bs4.BeautifulSoup(r2.text, 'lxml')\n",
    "    \n",
    "    # distance\n",
    "    try:\n",
    "        distance.append(soup2.find_all('div', class_=\"detail-data\")[0].get_text())\n",
    "    except Exception:\n",
    "        distance.append(\"\")\n",
    "    \n",
    "    # elevation gain\n",
    "    try:\n",
    "        elevation.append(soup2.find_all('div', class_=\"detail-data\")[1].get_text())\n",
    "    except Exception:\n",
    "        elevation.append(\"\")\n",
    "    \n",
    "    # route type\n",
    "    try:\n",
    "        route_type.append(soup2.find_all('div', class_=\"detail-data\")[2].get_text())\n",
    "    except Exception:\n",
    "        route_type.append(\"\")"
   ]
  },
  {
   "cell_type": "code",
   "execution_count": null,
   "metadata": {},
   "outputs": [],
   "source": [
    "df = pd.DataFrame(\n",
    "    {'ranking': ranking,\n",
    "     'num_reviews': num_reviews,\n",
    "     'name': name,\n",
    "     'difficulty': diff,\n",
    "     'distance_miles': distance,\n",
    "     'elevation_feet': elevation,\n",
    "     'route_type': route_type,\n",
    "     'rating': rating,\n",
    "     'location': location,\n",
    "     'link': link\n",
    "    })"
   ]
  },
  {
   "cell_type": "code",
   "execution_count": null,
   "metadata": {},
   "outputs": [],
   "source": [
    "# format columns\n",
    "df.num_reviews = df.num_reviews.str.strip(\"()\").astype(int)\n",
    "df.distance_miles = df.distance_miles.str.strip(\"miles\").astype(float)\n",
    "df.elevation_feet = df.elevation_feet.str.replace(\",\",\"\").str.strip('feet').astype(int)\n",
    "df.difficulty = df.difficulty.str.replace('[^a-zA-Z]','')\n",
    "df['duration_hours'] = df.distance_miles/2\n",
    "df['elevation_per_mile'] = df.elevation_feet/df.distance_miles"
   ]
  },
  {
   "cell_type": "code",
   "execution_count": null,
   "metadata": {},
   "outputs": [],
   "source": [
    "df = df[['ranking', 'num_reviews', 'name', 'difficulty','duration_hours','elevation_per_mile',\n",
    "         'distance_miles','elevation_feet','route_type', 'rating', 'location', 'link']]"
   ]
  },
  {
   "cell_type": "code",
   "execution_count": null,
   "metadata": {},
   "outputs": [],
   "source": [
    "def make_clickable(val):\n",
    "    return '<a href=\"{}\">{}</a>'.format(val,val)\n",
    "\n",
    "df_links = df.style.format({'link':make_clickable})"
   ]
  },
  {
   "cell_type": "code",
   "execution_count": null,
   "metadata": {
    "scrolled": false
   },
   "outputs": [],
   "source": [
    "columns = ['num_reviews','duration_hours','elevation_per_mile','distance_miles','elevation_feet','rating']\n",
    "for col in columns:\n",
    "    t1 = go.Bar(x= df[df.difficulty == 'EASY']['ranking'],\n",
    "                y= df[df.difficulty == 'EASY'][col],\n",
    "                text=df[df.difficulty == 'EASY']['name'],\n",
    "                textposition = 'auto',\n",
    "                name='EASY')\n",
    "\n",
    "    t2 = go.Bar(x= df[df.difficulty == 'MODERATE']['ranking'],\n",
    "                y= df[df.difficulty == 'MODERATE'][col],\n",
    "                text=df[df.difficulty == 'MODERATE']['name'],\n",
    "                textposition = 'auto',\n",
    "                name='MODERATE')\n",
    "\n",
    "    t3 = go.Bar(x= df[df.difficulty == 'HARD']['ranking'],\n",
    "                y= df[df.difficulty == 'HARD'][col],\n",
    "                text=df[df.difficulty == 'HARD']['name'],\n",
    "                textposition = 'auto',\n",
    "                name='HARD')\n",
    "    data = [t1,t2,t3]\n",
    "    layout = go.Layout(title=col)\n",
    "    fig = go.Figure(data,layout)\n",
    "    py.iplot(fig)"
   ]
  },
  {
   "cell_type": "code",
   "execution_count": null,
   "metadata": {},
   "outputs": [],
   "source": [
    "df"
   ]
  },
  {
   "cell_type": "code",
   "execution_count": null,
   "metadata": {},
   "outputs": [],
   "source": []
  }
 ],
 "metadata": {
  "kernelspec": {
   "display_name": "Python 3",
   "language": "python",
   "name": "python3"
  },
  "language_info": {
   "codemirror_mode": {
    "name": "ipython",
    "version": 3
   },
   "file_extension": ".py",
   "mimetype": "text/x-python",
   "name": "python",
   "nbconvert_exporter": "python",
   "pygments_lexer": "ipython3",
   "version": "3.6.8"
  }
 },
 "nbformat": 4,
 "nbformat_minor": 2
}
