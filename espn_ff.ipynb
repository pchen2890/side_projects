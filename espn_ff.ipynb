{
 "cells": [
  {
   "cell_type": "code",
   "execution_count": 333,
   "metadata": {},
   "outputs": [
    {
     "data": {
      "text/html": [
       "<script>requirejs.config({paths: { 'plotly': ['https://cdn.plot.ly/plotly-latest.min']},});if(!window.Plotly) {{require(['plotly'],function(plotly) {window.Plotly=plotly;});}}</script>"
      ],
      "text/vnd.plotly.v1+html": [
       "<script>requirejs.config({paths: { 'plotly': ['https://cdn.plot.ly/plotly-latest.min']},});if(!window.Plotly) {{require(['plotly'],function(plotly) {window.Plotly=plotly;});}}</script>"
      ]
     },
     "metadata": {},
     "output_type": "display_data"
    }
   ],
   "source": [
    "import pandas as pd\n",
    "from espnff import League\n",
    "import plotly.offline as py\n",
    "import plotly.graph_objs as go\n",
    "py.init_notebook_mode(connected=True)"
   ]
  },
  {
   "cell_type": "code",
   "execution_count": 334,
   "metadata": {},
   "outputs": [],
   "source": [
    "# connection\n",
    "cred = pd.read_csv(\"/Users/patrick.chen/Desktop/espn_cred.csv\")\n",
    "league = League(749478,\n",
    "                2018,\n",
    "                espn_s2=cred['espn2'][0],\n",
    "                swid=cred['swid'][0])"
   ]
  },
  {
   "cell_type": "markdown",
   "metadata": {},
   "source": [
    "# Standings Table"
   ]
  },
  {
   "cell_type": "code",
   "execution_count": 335,
   "metadata": {},
   "outputs": [],
   "source": [
    "team_name = []\n",
    "standings =[]\n",
    "for i in range(12):\n",
    "    team = league.teams[i]\n",
    "    team_name.append(team.team_name)\n",
    "    standings.append(str(team.wins)+\"-\"+str(team.losses))\n",
    "\n",
    "team_standings = pd.DataFrame({'team':team_name,'standings':standings})"
   ]
  },
  {
   "cell_type": "markdown",
   "metadata": {},
   "source": [
    "# Scores Table"
   ]
  },
  {
   "cell_type": "code",
   "execution_count": 336,
   "metadata": {},
   "outputs": [],
   "source": [
    "scores = []\n",
    "team_name = []\n",
    "opp = []\n",
    "week= ['Week 1','Week 2','Week 3','Week 4','Week 5','Week 6','Week 7',\n",
    "       'Week 8','Week 9','Week 10','Week 11','Week 12','Week 13']*12\n",
    "for i in range(12):\n",
    "    team = league.teams[i]\n",
    "    opp = opp+team.schedule\n",
    "    scores = scores + team.scores\n",
    "    for i in range(13):\n",
    "        team_name.append(team.team_name)"
   ]
  },
  {
   "cell_type": "code",
   "execution_count": 337,
   "metadata": {},
   "outputs": [
    {
     "name": "stdout",
     "output_type": "stream",
     "text": [
      "156\n",
      "156\n",
      "156\n",
      "156\n"
     ]
    }
   ],
   "source": [
    "for i in [scores,team_name,opp,week]:\n",
    "    print(len(i))"
   ]
  },
  {
   "cell_type": "code",
   "execution_count": 338,
   "metadata": {},
   "outputs": [],
   "source": [
    "df = pd.DataFrame({'Team':team_name,\n",
    "                   'Week':week,\n",
    "                   'Score':scores,\n",
    "                   'Opp':opp})"
   ]
  },
  {
   "cell_type": "code",
   "execution_count": 339,
   "metadata": {},
   "outputs": [],
   "source": [
    "df['Opp'] = df.Opp.astype(str).str.replace('Team(', '', regex=False).str.strip(\")\")"
   ]
  },
  {
   "cell_type": "code",
   "execution_count": 340,
   "metadata": {},
   "outputs": [],
   "source": [
    "df2 = df.copy().drop('Opp',axis=1)"
   ]
  },
  {
   "cell_type": "code",
   "execution_count": 341,
   "metadata": {},
   "outputs": [],
   "source": [
    "df2.columns = ['Opp','Week','Opp_Score']"
   ]
  },
  {
   "cell_type": "code",
   "execution_count": 342,
   "metadata": {},
   "outputs": [],
   "source": [
    "df3 = df.merge(df2,on=['Opp','Week'])"
   ]
  },
  {
   "cell_type": "code",
   "execution_count": 343,
   "metadata": {},
   "outputs": [],
   "source": [
    "df3['margin'] = df3.Score-df3.Opp_Score"
   ]
  },
  {
   "cell_type": "code",
   "execution_count": 344,
   "metadata": {},
   "outputs": [],
   "source": [
    "names = df3.Team.unique().tolist()"
   ]
  },
  {
   "cell_type": "code",
   "execution_count": 345,
   "metadata": {},
   "outputs": [],
   "source": [
    "# create lists\n",
    "lost_margin = []\n",
    "win_margin = []\n",
    "avg = []\n",
    "std = []\n",
    "for n in names:\n",
    "    avg.append(df3[(df3.Team==n)].Score.mean())\n",
    "    std.append(df3[(df3.Team==n)].Score.std())\n",
    "    lost_margin.append(df3[(df3.Team==n)&(df3.margin<0)].margin.mean())\n",
    "    win_margin.append(df3[(df3.Team==n)&(df3.margin>0)].margin.mean())"
   ]
  },
  {
   "cell_type": "code",
   "execution_count": 346,
   "metadata": {},
   "outputs": [],
   "source": [
    "# create df\n",
    "df4 = pd.DataFrame(data={'team':names,\n",
    "                   'avg_score':avg,\n",
    "                   'std':std,\n",
    "                   'win_margin':win_margin,\n",
    "                   'lost_margin':lost_margin\n",
    "                  })"
   ]
  },
  {
   "cell_type": "code",
   "execution_count": 347,
   "metadata": {},
   "outputs": [],
   "source": [
    "df5 = df4.merge(team_standings, on ='team')"
   ]
  },
  {
   "cell_type": "code",
   "execution_count": 348,
   "metadata": {},
   "outputs": [
    {
     "data": {
      "text/html": [
       "<div>\n",
       "<style scoped>\n",
       "    .dataframe tbody tr th:only-of-type {\n",
       "        vertical-align: middle;\n",
       "    }\n",
       "\n",
       "    .dataframe tbody tr th {\n",
       "        vertical-align: top;\n",
       "    }\n",
       "\n",
       "    .dataframe thead th {\n",
       "        text-align: right;\n",
       "    }\n",
       "</style>\n",
       "<table border=\"1\" class=\"dataframe\">\n",
       "  <thead>\n",
       "    <tr style=\"text-align: right;\">\n",
       "      <th></th>\n",
       "      <th>team</th>\n",
       "      <th>avg_score</th>\n",
       "      <th>std</th>\n",
       "      <th>win_margin</th>\n",
       "      <th>lost_margin</th>\n",
       "      <th>standings</th>\n",
       "    </tr>\n",
       "  </thead>\n",
       "  <tbody>\n",
       "    <tr>\n",
       "      <th>5</th>\n",
       "      <td>Gurleys Gone Wild</td>\n",
       "      <td>82.749231</td>\n",
       "      <td>48.564979</td>\n",
       "      <td>16.557500</td>\n",
       "      <td>-11.750000</td>\n",
       "      <td>8-2</td>\n",
       "    </tr>\n",
       "    <tr>\n",
       "      <th>4</th>\n",
       "      <td>i am the kamara man</td>\n",
       "      <td>100.793846</td>\n",
       "      <td>60.428565</td>\n",
       "      <td>32.850000</td>\n",
       "      <td>-15.100000</td>\n",
       "      <td>6-4</td>\n",
       "    </tr>\n",
       "    <tr>\n",
       "      <th>9</th>\n",
       "      <td>WHITE PRIVILEGE</td>\n",
       "      <td>98.893846</td>\n",
       "      <td>59.327479</td>\n",
       "      <td>23.753333</td>\n",
       "      <td>-21.905000</td>\n",
       "      <td>6-4</td>\n",
       "    </tr>\n",
       "    <tr>\n",
       "      <th>3</th>\n",
       "      <td>Settlers of Saquon</td>\n",
       "      <td>92.515385</td>\n",
       "      <td>57.684160</td>\n",
       "      <td>30.890000</td>\n",
       "      <td>-34.090000</td>\n",
       "      <td>6-4</td>\n",
       "    </tr>\n",
       "    <tr>\n",
       "      <th>10</th>\n",
       "      <td>RB Graveyard</td>\n",
       "      <td>84.573846</td>\n",
       "      <td>50.878180</td>\n",
       "      <td>16.333333</td>\n",
       "      <td>-13.860000</td>\n",
       "      <td>6-4</td>\n",
       "    </tr>\n",
       "    <tr>\n",
       "      <th>1</th>\n",
       "      <td>FULL  CHUBB</td>\n",
       "      <td>83.472308</td>\n",
       "      <td>55.644435</td>\n",
       "      <td>35.943333</td>\n",
       "      <td>-37.010000</td>\n",
       "      <td>6-4</td>\n",
       "    </tr>\n",
       "    <tr>\n",
       "      <th>8</th>\n",
       "      <td>TB on my Brown TDs</td>\n",
       "      <td>77.084615</td>\n",
       "      <td>45.311250</td>\n",
       "      <td>20.852000</td>\n",
       "      <td>-19.288000</td>\n",
       "      <td>5-5</td>\n",
       "    </tr>\n",
       "    <tr>\n",
       "      <th>6</th>\n",
       "      <td>THE SUSPENDERS</td>\n",
       "      <td>85.930769</td>\n",
       "      <td>51.381399</td>\n",
       "      <td>17.825000</td>\n",
       "      <td>-14.960000</td>\n",
       "      <td>4-6</td>\n",
       "    </tr>\n",
       "    <tr>\n",
       "      <th>0</th>\n",
       "      <td>Krispy Kareem</td>\n",
       "      <td>81.803077</td>\n",
       "      <td>51.910525</td>\n",
       "      <td>15.145000</td>\n",
       "      <td>-21.643333</td>\n",
       "      <td>4-6</td>\n",
       "    </tr>\n",
       "    <tr>\n",
       "      <th>7</th>\n",
       "      <td>SMOOTH JAZZ</td>\n",
       "      <td>80.047692</td>\n",
       "      <td>47.417046</td>\n",
       "      <td>5.080000</td>\n",
       "      <td>-23.223333</td>\n",
       "      <td>4-6</td>\n",
       "    </tr>\n",
       "    <tr>\n",
       "      <th>11</th>\n",
       "      <td>Catch - 22</td>\n",
       "      <td>79.535385</td>\n",
       "      <td>47.147725</td>\n",
       "      <td>12.580000</td>\n",
       "      <td>-18.285714</td>\n",
       "      <td>3-7</td>\n",
       "    </tr>\n",
       "    <tr>\n",
       "      <th>2</th>\n",
       "      <td>âï¸GODS PLANâï¸</td>\n",
       "      <td>70.315385</td>\n",
       "      <td>45.396111</td>\n",
       "      <td>8.910000</td>\n",
       "      <td>-23.542500</td>\n",
       "      <td>2-8</td>\n",
       "    </tr>\n",
       "  </tbody>\n",
       "</table>\n",
       "</div>"
      ],
      "text/plain": [
       "                     team   avg_score        std  win_margin  lost_margin  \\\n",
       "5       Gurleys Gone Wild   82.749231  48.564979   16.557500   -11.750000   \n",
       "4     i am the kamara man  100.793846  60.428565   32.850000   -15.100000   \n",
       "9         WHITE PRIVILEGE   98.893846  59.327479   23.753333   -21.905000   \n",
       "3      Settlers of Saquon   92.515385  57.684160   30.890000   -34.090000   \n",
       "10           RB Graveyard   84.573846  50.878180   16.333333   -13.860000   \n",
       "1             FULL  CHUBB   83.472308  55.644435   35.943333   -37.010000   \n",
       "8      TB on my Brown TDs   77.084615  45.311250   20.852000   -19.288000   \n",
       "6          THE SUSPENDERS   85.930769  51.381399   17.825000   -14.960000   \n",
       "0           Krispy Kareem   81.803077  51.910525   15.145000   -21.643333   \n",
       "7             SMOOTH JAZZ   80.047692  47.417046    5.080000   -23.223333   \n",
       "11             Catch - 22   79.535385  47.147725   12.580000   -18.285714   \n",
       "2   âï¸GODS PLANâï¸   70.315385  45.396111    8.910000   -23.542500   \n",
       "\n",
       "   standings  \n",
       "5        8-2  \n",
       "4        6-4  \n",
       "9        6-4  \n",
       "3        6-4  \n",
       "10       6-4  \n",
       "1        6-4  \n",
       "8        5-5  \n",
       "6        4-6  \n",
       "0        4-6  \n",
       "7        4-6  \n",
       "11       3-7  \n",
       "2        2-8  "
      ]
     },
     "execution_count": 348,
     "metadata": {},
     "output_type": "execute_result"
    }
   ],
   "source": [
    "df5.sort_values(['standings','avg_score'],ascending=False)"
   ]
  },
  {
   "cell_type": "code",
   "execution_count": 349,
   "metadata": {},
   "outputs": [],
   "source": [
    "columns = ['avg_score','std','win_margin','lost_margin']\n",
    "titles = ['Average Score (mean)','BOOM or BUST (std)', 'Barely Won a Game (Win Margin)', 'Almost Won a Game (Loss Margin)']\n",
    "standings = df5.standings.unique().tolist()"
   ]
  },
  {
   "cell_type": "code",
   "execution_count": 350,
   "metadata": {},
   "outputs": [
    {
     "data": {
      "application/vnd.plotly.v1+json": {
       "data": [
        {
         "name": "4-6",
         "type": "bar",
         "uid": "d6d98308-e896-11e8-8c8c-360038087701",
         "x": [
          "SMOOTH JAZZ",
          "Krispy Kareem",
          "THE SUSPENDERS"
         ],
         "y": [
          80.04769230769232,
          81.80307692307693,
          85.93076923076924
         ]
        },
        {
         "name": "6-4",
         "type": "bar",
         "uid": "d6d9845c-e896-11e8-a0f1-360038087701",
         "x": [
          "FULL  CHUBB",
          "RB Graveyard",
          "Settlers of Saquon",
          "WHITE PRIVILEGE",
          "i am the kamara man"
         ],
         "y": [
          83.47230769230768,
          84.57384615384616,
          92.51538461538462,
          98.89384615384614,
          100.79384615384615
         ]
        },
        {
         "name": "2-8",
         "type": "bar",
         "uid": "d6d98506-e896-11e8-b748-360038087701",
         "x": [
          "âï¸GODS PLANâï¸"
         ],
         "y": [
          70.3153846153846
         ]
        },
        {
         "name": "8-2",
         "type": "bar",
         "uid": "d6d9859c-e896-11e8-a795-360038087701",
         "x": [
          "Gurleys Gone Wild"
         ],
         "y": [
          82.74923076923076
         ]
        },
        {
         "name": "5-5",
         "type": "bar",
         "uid": "d6d98628-e896-11e8-a76c-360038087701",
         "x": [
          "TB on my Brown TDs"
         ],
         "y": [
          77.08461538461539
         ]
        },
        {
         "name": "3-7",
         "type": "bar",
         "uid": "d6d986a8-e896-11e8-9eae-360038087701",
         "x": [
          "Catch - 22"
         ],
         "y": [
          79.5353846153846
         ]
        }
       ],
       "layout": {
        "barmode": "group",
        "title": "Average Score (mean)"
       }
      },
      "text/html": [
       "<div id=\"af3da318-98d7-4320-987f-d1c8a92c129d\" style=\"height: 525px; width: 100%;\" class=\"plotly-graph-div\"></div><script type=\"text/javascript\">require([\"plotly\"], function(Plotly) { window.PLOTLYENV=window.PLOTLYENV || {};window.PLOTLYENV.BASE_URL=\"https://plot.ly\";\n",
       "        Plotly.plot(\n",
       "            'af3da318-98d7-4320-987f-d1c8a92c129d',\n",
       "            [{\"name\": \"4-6\", \"x\": [\"SMOOTH JAZZ\", \"Krispy Kareem\", \"THE SUSPENDERS\"], \"y\": [80.04769230769232, 81.80307692307693, 85.93076923076924], \"type\": \"bar\", \"uid\": \"d6d98308-e896-11e8-8c8c-360038087701\"}, {\"name\": \"6-4\", \"x\": [\"FULL  CHUBB\", \"RB Graveyard\", \"Settlers of Saquon\", \"WHITE PRIVILEGE\", \"i am the kamara man\"], \"y\": [83.47230769230768, 84.57384615384616, 92.51538461538462, 98.89384615384614, 100.79384615384615], \"type\": \"bar\", \"uid\": \"d6d9845c-e896-11e8-a0f1-360038087701\"}, {\"name\": \"2-8\", \"x\": [\"\\u00e2\\u009c\\u008c\\u00ef\\u00b8\\u008fGODS PLAN\\u00e2\\u009c\\u008c\\u00ef\\u00b8\\u008f\"], \"y\": [70.3153846153846], \"type\": \"bar\", \"uid\": \"d6d98506-e896-11e8-b748-360038087701\"}, {\"name\": \"8-2\", \"x\": [\"Gurleys Gone Wild\"], \"y\": [82.74923076923076], \"type\": \"bar\", \"uid\": \"d6d9859c-e896-11e8-a795-360038087701\"}, {\"name\": \"5-5\", \"x\": [\"TB on my Brown TDs\"], \"y\": [77.08461538461539], \"type\": \"bar\", \"uid\": \"d6d98628-e896-11e8-a76c-360038087701\"}, {\"name\": \"3-7\", \"x\": [\"Catch - 22\"], \"y\": [79.5353846153846], \"type\": \"bar\", \"uid\": \"d6d986a8-e896-11e8-9eae-360038087701\"}],\n",
       "            {\"barmode\": \"group\", \"title\": \"Average Score (mean)\"},\n",
       "            {\"showLink\": true, \"linkText\": \"Export to plot.ly\"}\n",
       "        ).then(function () {return Plotly.addFrames('af3da318-98d7-4320-987f-d1c8a92c129d',{});}).then(function(){Plotly.animate('af3da318-98d7-4320-987f-d1c8a92c129d');})\n",
       "        });</script>"
      ],
      "text/vnd.plotly.v1+html": [
       "<div id=\"af3da318-98d7-4320-987f-d1c8a92c129d\" style=\"height: 525px; width: 100%;\" class=\"plotly-graph-div\"></div><script type=\"text/javascript\">require([\"plotly\"], function(Plotly) { window.PLOTLYENV=window.PLOTLYENV || {};window.PLOTLYENV.BASE_URL=\"https://plot.ly\";\n",
       "        Plotly.plot(\n",
       "            'af3da318-98d7-4320-987f-d1c8a92c129d',\n",
       "            [{\"name\": \"4-6\", \"x\": [\"SMOOTH JAZZ\", \"Krispy Kareem\", \"THE SUSPENDERS\"], \"y\": [80.04769230769232, 81.80307692307693, 85.93076923076924], \"type\": \"bar\", \"uid\": \"d6d98308-e896-11e8-8c8c-360038087701\"}, {\"name\": \"6-4\", \"x\": [\"FULL  CHUBB\", \"RB Graveyard\", \"Settlers of Saquon\", \"WHITE PRIVILEGE\", \"i am the kamara man\"], \"y\": [83.47230769230768, 84.57384615384616, 92.51538461538462, 98.89384615384614, 100.79384615384615], \"type\": \"bar\", \"uid\": \"d6d9845c-e896-11e8-a0f1-360038087701\"}, {\"name\": \"2-8\", \"x\": [\"\\u00e2\\u009c\\u008c\\u00ef\\u00b8\\u008fGODS PLAN\\u00e2\\u009c\\u008c\\u00ef\\u00b8\\u008f\"], \"y\": [70.3153846153846], \"type\": \"bar\", \"uid\": \"d6d98506-e896-11e8-b748-360038087701\"}, {\"name\": \"8-2\", \"x\": [\"Gurleys Gone Wild\"], \"y\": [82.74923076923076], \"type\": \"bar\", \"uid\": \"d6d9859c-e896-11e8-a795-360038087701\"}, {\"name\": \"5-5\", \"x\": [\"TB on my Brown TDs\"], \"y\": [77.08461538461539], \"type\": \"bar\", \"uid\": \"d6d98628-e896-11e8-a76c-360038087701\"}, {\"name\": \"3-7\", \"x\": [\"Catch - 22\"], \"y\": [79.5353846153846], \"type\": \"bar\", \"uid\": \"d6d986a8-e896-11e8-9eae-360038087701\"}],\n",
       "            {\"barmode\": \"group\", \"title\": \"Average Score (mean)\"},\n",
       "            {\"showLink\": true, \"linkText\": \"Export to plot.ly\"}\n",
       "        ).then(function () {return Plotly.addFrames('af3da318-98d7-4320-987f-d1c8a92c129d',{});}).then(function(){Plotly.animate('af3da318-98d7-4320-987f-d1c8a92c129d');})\n",
       "        });</script>"
      ]
     },
     "metadata": {},
     "output_type": "display_data"
    },
    {
     "data": {
      "application/vnd.plotly.v1+json": {
       "data": [
        {
         "name": "4-6",
         "type": "bar",
         "uid": "d6e4ab8c-e896-11e8-b4f0-360038087701",
         "x": [
          "SMOOTH JAZZ",
          "THE SUSPENDERS",
          "Krispy Kareem"
         ],
         "y": [
          47.41704583688693,
          51.38139910861686,
          51.91052548771064
         ]
        },
        {
         "name": "6-4",
         "type": "bar",
         "uid": "d6e4accc-e896-11e8-94a3-360038087701",
         "x": [
          "RB Graveyard",
          "FULL  CHUBB",
          "Settlers of Saquon",
          "WHITE PRIVILEGE",
          "i am the kamara man"
         ],
         "y": [
          50.8781802508799,
          55.64443520452669,
          57.684159670771635,
          59.32747895346944,
          60.428565201464885
         ]
        },
        {
         "name": "2-8",
         "type": "bar",
         "uid": "d6e4ad78-e896-11e8-af11-360038087701",
         "x": [
          "âï¸GODS PLANâï¸"
         ],
         "y": [
          45.39611081274558
         ]
        },
        {
         "name": "8-2",
         "type": "bar",
         "uid": "d6e4ae06-e896-11e8-be27-360038087701",
         "x": [
          "Gurleys Gone Wild"
         ],
         "y": [
          48.56497888766116
         ]
        },
        {
         "name": "5-5",
         "type": "bar",
         "uid": "d6e4ae86-e896-11e8-8eb8-360038087701",
         "x": [
          "TB on my Brown TDs"
         ],
         "y": [
          45.311249636152645
         ]
        },
        {
         "name": "3-7",
         "type": "bar",
         "uid": "d6e4af08-e896-11e8-a706-360038087701",
         "x": [
          "Catch - 22"
         ],
         "y": [
          47.147725398542924
         ]
        }
       ],
       "layout": {
        "barmode": "group",
        "title": "BOOM or BUST (std)"
       }
      },
      "text/html": [
       "<div id=\"307cc6bc-7ca4-4132-818f-c7c0dcb94b22\" style=\"height: 525px; width: 100%;\" class=\"plotly-graph-div\"></div><script type=\"text/javascript\">require([\"plotly\"], function(Plotly) { window.PLOTLYENV=window.PLOTLYENV || {};window.PLOTLYENV.BASE_URL=\"https://plot.ly\";\n",
       "        Plotly.plot(\n",
       "            '307cc6bc-7ca4-4132-818f-c7c0dcb94b22',\n",
       "            [{\"name\": \"4-6\", \"x\": [\"SMOOTH JAZZ\", \"THE SUSPENDERS\", \"Krispy Kareem\"], \"y\": [47.41704583688693, 51.38139910861686, 51.91052548771064], \"type\": \"bar\", \"uid\": \"d6e4ab8c-e896-11e8-b4f0-360038087701\"}, {\"name\": \"6-4\", \"x\": [\"RB Graveyard\", \"FULL  CHUBB\", \"Settlers of Saquon\", \"WHITE PRIVILEGE\", \"i am the kamara man\"], \"y\": [50.8781802508799, 55.64443520452669, 57.684159670771635, 59.32747895346944, 60.428565201464885], \"type\": \"bar\", \"uid\": \"d6e4accc-e896-11e8-94a3-360038087701\"}, {\"name\": \"2-8\", \"x\": [\"\\u00e2\\u009c\\u008c\\u00ef\\u00b8\\u008fGODS PLAN\\u00e2\\u009c\\u008c\\u00ef\\u00b8\\u008f\"], \"y\": [45.39611081274558], \"type\": \"bar\", \"uid\": \"d6e4ad78-e896-11e8-af11-360038087701\"}, {\"name\": \"8-2\", \"x\": [\"Gurleys Gone Wild\"], \"y\": [48.56497888766116], \"type\": \"bar\", \"uid\": \"d6e4ae06-e896-11e8-be27-360038087701\"}, {\"name\": \"5-5\", \"x\": [\"TB on my Brown TDs\"], \"y\": [45.311249636152645], \"type\": \"bar\", \"uid\": \"d6e4ae86-e896-11e8-8eb8-360038087701\"}, {\"name\": \"3-7\", \"x\": [\"Catch - 22\"], \"y\": [47.147725398542924], \"type\": \"bar\", \"uid\": \"d6e4af08-e896-11e8-a706-360038087701\"}],\n",
       "            {\"barmode\": \"group\", \"title\": \"BOOM or BUST (std)\"},\n",
       "            {\"showLink\": true, \"linkText\": \"Export to plot.ly\"}\n",
       "        ).then(function () {return Plotly.addFrames('307cc6bc-7ca4-4132-818f-c7c0dcb94b22',{});}).then(function(){Plotly.animate('307cc6bc-7ca4-4132-818f-c7c0dcb94b22');})\n",
       "        });</script>"
      ],
      "text/vnd.plotly.v1+html": [
       "<div id=\"307cc6bc-7ca4-4132-818f-c7c0dcb94b22\" style=\"height: 525px; width: 100%;\" class=\"plotly-graph-div\"></div><script type=\"text/javascript\">require([\"plotly\"], function(Plotly) { window.PLOTLYENV=window.PLOTLYENV || {};window.PLOTLYENV.BASE_URL=\"https://plot.ly\";\n",
       "        Plotly.plot(\n",
       "            '307cc6bc-7ca4-4132-818f-c7c0dcb94b22',\n",
       "            [{\"name\": \"4-6\", \"x\": [\"SMOOTH JAZZ\", \"THE SUSPENDERS\", \"Krispy Kareem\"], \"y\": [47.41704583688693, 51.38139910861686, 51.91052548771064], \"type\": \"bar\", \"uid\": \"d6e4ab8c-e896-11e8-b4f0-360038087701\"}, {\"name\": \"6-4\", \"x\": [\"RB Graveyard\", \"FULL  CHUBB\", \"Settlers of Saquon\", \"WHITE PRIVILEGE\", \"i am the kamara man\"], \"y\": [50.8781802508799, 55.64443520452669, 57.684159670771635, 59.32747895346944, 60.428565201464885], \"type\": \"bar\", \"uid\": \"d6e4accc-e896-11e8-94a3-360038087701\"}, {\"name\": \"2-8\", \"x\": [\"\\u00e2\\u009c\\u008c\\u00ef\\u00b8\\u008fGODS PLAN\\u00e2\\u009c\\u008c\\u00ef\\u00b8\\u008f\"], \"y\": [45.39611081274558], \"type\": \"bar\", \"uid\": \"d6e4ad78-e896-11e8-af11-360038087701\"}, {\"name\": \"8-2\", \"x\": [\"Gurleys Gone Wild\"], \"y\": [48.56497888766116], \"type\": \"bar\", \"uid\": \"d6e4ae06-e896-11e8-be27-360038087701\"}, {\"name\": \"5-5\", \"x\": [\"TB on my Brown TDs\"], \"y\": [45.311249636152645], \"type\": \"bar\", \"uid\": \"d6e4ae86-e896-11e8-8eb8-360038087701\"}, {\"name\": \"3-7\", \"x\": [\"Catch - 22\"], \"y\": [47.147725398542924], \"type\": \"bar\", \"uid\": \"d6e4af08-e896-11e8-a706-360038087701\"}],\n",
       "            {\"barmode\": \"group\", \"title\": \"BOOM or BUST (std)\"},\n",
       "            {\"showLink\": true, \"linkText\": \"Export to plot.ly\"}\n",
       "        ).then(function () {return Plotly.addFrames('307cc6bc-7ca4-4132-818f-c7c0dcb94b22',{});}).then(function(){Plotly.animate('307cc6bc-7ca4-4132-818f-c7c0dcb94b22');})\n",
       "        });</script>"
      ]
     },
     "metadata": {},
     "output_type": "display_data"
    },
    {
     "data": {
      "application/vnd.plotly.v1+json": {
       "data": [
        {
         "name": "4-6",
         "type": "bar",
         "uid": "d6f0d31e-e896-11e8-aea6-360038087701",
         "x": [
          "SMOOTH JAZZ",
          "Krispy Kareem",
          "THE SUSPENDERS"
         ],
         "y": [
          5.080000000000002,
          15.145,
          17.825
         ]
        },
        {
         "name": "6-4",
         "type": "bar",
         "uid": "d6f0d468-e896-11e8-91b3-360038087701",
         "x": [
          "RB Graveyard",
          "WHITE PRIVILEGE",
          "Settlers of Saquon",
          "i am the kamara man",
          "FULL  CHUBB"
         ],
         "y": [
          16.333333333333332,
          23.75333333333333,
          30.889999999999997,
          32.85,
          35.943333333333335
         ]
        },
        {
         "name": "2-8",
         "type": "bar",
         "uid": "d6f0d512-e896-11e8-9516-360038087701",
         "x": [
          "âï¸GODS PLANâï¸"
         ],
         "y": [
          8.909999999999997
         ]
        },
        {
         "name": "8-2",
         "type": "bar",
         "uid": "d6f0d5a8-e896-11e8-9734-360038087701",
         "x": [
          "Gurleys Gone Wild"
         ],
         "y": [
          16.557499999999997
         ]
        },
        {
         "name": "5-5",
         "type": "bar",
         "uid": "d6f0d628-e896-11e8-8689-360038087701",
         "x": [
          "TB on my Brown TDs"
         ],
         "y": [
          20.851999999999997
         ]
        },
        {
         "name": "3-7",
         "type": "bar",
         "uid": "d6f0d6a2-e896-11e8-b92b-360038087701",
         "x": [
          "Catch - 22"
         ],
         "y": [
          12.580000000000004
         ]
        }
       ],
       "layout": {
        "barmode": "group",
        "title": "Barely Won a Game (Win Margin)"
       }
      },
      "text/html": [
       "<div id=\"5a12a169-6ba9-45ec-a2db-6a1fea900daf\" style=\"height: 525px; width: 100%;\" class=\"plotly-graph-div\"></div><script type=\"text/javascript\">require([\"plotly\"], function(Plotly) { window.PLOTLYENV=window.PLOTLYENV || {};window.PLOTLYENV.BASE_URL=\"https://plot.ly\";\n",
       "        Plotly.plot(\n",
       "            '5a12a169-6ba9-45ec-a2db-6a1fea900daf',\n",
       "            [{\"name\": \"4-6\", \"x\": [\"SMOOTH JAZZ\", \"Krispy Kareem\", \"THE SUSPENDERS\"], \"y\": [5.080000000000002, 15.145, 17.825], \"type\": \"bar\", \"uid\": \"d6f0d31e-e896-11e8-aea6-360038087701\"}, {\"name\": \"6-4\", \"x\": [\"RB Graveyard\", \"WHITE PRIVILEGE\", \"Settlers of Saquon\", \"i am the kamara man\", \"FULL  CHUBB\"], \"y\": [16.333333333333332, 23.75333333333333, 30.889999999999997, 32.85, 35.943333333333335], \"type\": \"bar\", \"uid\": \"d6f0d468-e896-11e8-91b3-360038087701\"}, {\"name\": \"2-8\", \"x\": [\"\\u00e2\\u009c\\u008c\\u00ef\\u00b8\\u008fGODS PLAN\\u00e2\\u009c\\u008c\\u00ef\\u00b8\\u008f\"], \"y\": [8.909999999999997], \"type\": \"bar\", \"uid\": \"d6f0d512-e896-11e8-9516-360038087701\"}, {\"name\": \"8-2\", \"x\": [\"Gurleys Gone Wild\"], \"y\": [16.557499999999997], \"type\": \"bar\", \"uid\": \"d6f0d5a8-e896-11e8-9734-360038087701\"}, {\"name\": \"5-5\", \"x\": [\"TB on my Brown TDs\"], \"y\": [20.851999999999997], \"type\": \"bar\", \"uid\": \"d6f0d628-e896-11e8-8689-360038087701\"}, {\"name\": \"3-7\", \"x\": [\"Catch - 22\"], \"y\": [12.580000000000004], \"type\": \"bar\", \"uid\": \"d6f0d6a2-e896-11e8-b92b-360038087701\"}],\n",
       "            {\"barmode\": \"group\", \"title\": \"Barely Won a Game (Win Margin)\"},\n",
       "            {\"showLink\": true, \"linkText\": \"Export to plot.ly\"}\n",
       "        ).then(function () {return Plotly.addFrames('5a12a169-6ba9-45ec-a2db-6a1fea900daf',{});}).then(function(){Plotly.animate('5a12a169-6ba9-45ec-a2db-6a1fea900daf');})\n",
       "        });</script>"
      ],
      "text/vnd.plotly.v1+html": [
       "<div id=\"5a12a169-6ba9-45ec-a2db-6a1fea900daf\" style=\"height: 525px; width: 100%;\" class=\"plotly-graph-div\"></div><script type=\"text/javascript\">require([\"plotly\"], function(Plotly) { window.PLOTLYENV=window.PLOTLYENV || {};window.PLOTLYENV.BASE_URL=\"https://plot.ly\";\n",
       "        Plotly.plot(\n",
       "            '5a12a169-6ba9-45ec-a2db-6a1fea900daf',\n",
       "            [{\"name\": \"4-6\", \"x\": [\"SMOOTH JAZZ\", \"Krispy Kareem\", \"THE SUSPENDERS\"], \"y\": [5.080000000000002, 15.145, 17.825], \"type\": \"bar\", \"uid\": \"d6f0d31e-e896-11e8-aea6-360038087701\"}, {\"name\": \"6-4\", \"x\": [\"RB Graveyard\", \"WHITE PRIVILEGE\", \"Settlers of Saquon\", \"i am the kamara man\", \"FULL  CHUBB\"], \"y\": [16.333333333333332, 23.75333333333333, 30.889999999999997, 32.85, 35.943333333333335], \"type\": \"bar\", \"uid\": \"d6f0d468-e896-11e8-91b3-360038087701\"}, {\"name\": \"2-8\", \"x\": [\"\\u00e2\\u009c\\u008c\\u00ef\\u00b8\\u008fGODS PLAN\\u00e2\\u009c\\u008c\\u00ef\\u00b8\\u008f\"], \"y\": [8.909999999999997], \"type\": \"bar\", \"uid\": \"d6f0d512-e896-11e8-9516-360038087701\"}, {\"name\": \"8-2\", \"x\": [\"Gurleys Gone Wild\"], \"y\": [16.557499999999997], \"type\": \"bar\", \"uid\": \"d6f0d5a8-e896-11e8-9734-360038087701\"}, {\"name\": \"5-5\", \"x\": [\"TB on my Brown TDs\"], \"y\": [20.851999999999997], \"type\": \"bar\", \"uid\": \"d6f0d628-e896-11e8-8689-360038087701\"}, {\"name\": \"3-7\", \"x\": [\"Catch - 22\"], \"y\": [12.580000000000004], \"type\": \"bar\", \"uid\": \"d6f0d6a2-e896-11e8-b92b-360038087701\"}],\n",
       "            {\"barmode\": \"group\", \"title\": \"Barely Won a Game (Win Margin)\"},\n",
       "            {\"showLink\": true, \"linkText\": \"Export to plot.ly\"}\n",
       "        ).then(function () {return Plotly.addFrames('5a12a169-6ba9-45ec-a2db-6a1fea900daf',{});}).then(function(){Plotly.animate('5a12a169-6ba9-45ec-a2db-6a1fea900daf');})\n",
       "        });</script>"
      ]
     },
     "metadata": {},
     "output_type": "display_data"
    },
    {
     "data": {
      "application/vnd.plotly.v1+json": {
       "data": [
        {
         "name": "4-6",
         "type": "bar",
         "uid": "d6fb5f78-e896-11e8-8775-360038087701",
         "x": [
          "SMOOTH JAZZ",
          "Krispy Kareem",
          "THE SUSPENDERS"
         ],
         "y": [
          -23.223333333333333,
          -21.64333333333333,
          -14.959999999999994
         ]
        },
        {
         "name": "6-4",
         "type": "bar",
         "uid": "d6fb60cc-e896-11e8-ae1f-360038087701",
         "x": [
          "FULL  CHUBB",
          "Settlers of Saquon",
          "WHITE PRIVILEGE",
          "i am the kamara man",
          "RB Graveyard"
         ],
         "y": [
          -37.010000000000005,
          -34.09,
          -21.905000000000005,
          -15.099999999999994,
          -13.859999999999996
         ]
        },
        {
         "name": "2-8",
         "type": "bar",
         "uid": "d6fb6176-e896-11e8-a580-360038087701",
         "x": [
          "âï¸GODS PLANâï¸"
         ],
         "y": [
          -23.542499999999997
         ]
        },
        {
         "name": "8-2",
         "type": "bar",
         "uid": "d6fb6202-e896-11e8-971b-360038087701",
         "x": [
          "Gurleys Gone Wild"
         ],
         "y": [
          -11.75
         ]
        },
        {
         "name": "5-5",
         "type": "bar",
         "uid": "d6fb628c-e896-11e8-9ed6-360038087701",
         "x": [
          "TB on my Brown TDs"
         ],
         "y": [
          -19.287999999999997
         ]
        },
        {
         "name": "3-7",
         "type": "bar",
         "uid": "d6fb6310-e896-11e8-8c8f-360038087701",
         "x": [
          "Catch - 22"
         ],
         "y": [
          -18.285714285714285
         ]
        }
       ],
       "layout": {
        "barmode": "group",
        "title": "Almost Won a Game (Loss Margin)"
       }
      },
      "text/html": [
       "<div id=\"ff9ec537-4109-4ee1-80b5-db08fd3aaf86\" style=\"height: 525px; width: 100%;\" class=\"plotly-graph-div\"></div><script type=\"text/javascript\">require([\"plotly\"], function(Plotly) { window.PLOTLYENV=window.PLOTLYENV || {};window.PLOTLYENV.BASE_URL=\"https://plot.ly\";\n",
       "        Plotly.plot(\n",
       "            'ff9ec537-4109-4ee1-80b5-db08fd3aaf86',\n",
       "            [{\"name\": \"4-6\", \"x\": [\"SMOOTH JAZZ\", \"Krispy Kareem\", \"THE SUSPENDERS\"], \"y\": [-23.223333333333333, -21.64333333333333, -14.959999999999994], \"type\": \"bar\", \"uid\": \"d6fb5f78-e896-11e8-8775-360038087701\"}, {\"name\": \"6-4\", \"x\": [\"FULL  CHUBB\", \"Settlers of Saquon\", \"WHITE PRIVILEGE\", \"i am the kamara man\", \"RB Graveyard\"], \"y\": [-37.010000000000005, -34.09, -21.905000000000005, -15.099999999999994, -13.859999999999996], \"type\": \"bar\", \"uid\": \"d6fb60cc-e896-11e8-ae1f-360038087701\"}, {\"name\": \"2-8\", \"x\": [\"\\u00e2\\u009c\\u008c\\u00ef\\u00b8\\u008fGODS PLAN\\u00e2\\u009c\\u008c\\u00ef\\u00b8\\u008f\"], \"y\": [-23.542499999999997], \"type\": \"bar\", \"uid\": \"d6fb6176-e896-11e8-a580-360038087701\"}, {\"name\": \"8-2\", \"x\": [\"Gurleys Gone Wild\"], \"y\": [-11.75], \"type\": \"bar\", \"uid\": \"d6fb6202-e896-11e8-971b-360038087701\"}, {\"name\": \"5-5\", \"x\": [\"TB on my Brown TDs\"], \"y\": [-19.287999999999997], \"type\": \"bar\", \"uid\": \"d6fb628c-e896-11e8-9ed6-360038087701\"}, {\"name\": \"3-7\", \"x\": [\"Catch - 22\"], \"y\": [-18.285714285714285], \"type\": \"bar\", \"uid\": \"d6fb6310-e896-11e8-8c8f-360038087701\"}],\n",
       "            {\"barmode\": \"group\", \"title\": \"Almost Won a Game (Loss Margin)\"},\n",
       "            {\"showLink\": true, \"linkText\": \"Export to plot.ly\"}\n",
       "        ).then(function () {return Plotly.addFrames('ff9ec537-4109-4ee1-80b5-db08fd3aaf86',{});}).then(function(){Plotly.animate('ff9ec537-4109-4ee1-80b5-db08fd3aaf86');})\n",
       "        });</script>"
      ],
      "text/vnd.plotly.v1+html": [
       "<div id=\"ff9ec537-4109-4ee1-80b5-db08fd3aaf86\" style=\"height: 525px; width: 100%;\" class=\"plotly-graph-div\"></div><script type=\"text/javascript\">require([\"plotly\"], function(Plotly) { window.PLOTLYENV=window.PLOTLYENV || {};window.PLOTLYENV.BASE_URL=\"https://plot.ly\";\n",
       "        Plotly.plot(\n",
       "            'ff9ec537-4109-4ee1-80b5-db08fd3aaf86',\n",
       "            [{\"name\": \"4-6\", \"x\": [\"SMOOTH JAZZ\", \"Krispy Kareem\", \"THE SUSPENDERS\"], \"y\": [-23.223333333333333, -21.64333333333333, -14.959999999999994], \"type\": \"bar\", \"uid\": \"d6fb5f78-e896-11e8-8775-360038087701\"}, {\"name\": \"6-4\", \"x\": [\"FULL  CHUBB\", \"Settlers of Saquon\", \"WHITE PRIVILEGE\", \"i am the kamara man\", \"RB Graveyard\"], \"y\": [-37.010000000000005, -34.09, -21.905000000000005, -15.099999999999994, -13.859999999999996], \"type\": \"bar\", \"uid\": \"d6fb60cc-e896-11e8-ae1f-360038087701\"}, {\"name\": \"2-8\", \"x\": [\"\\u00e2\\u009c\\u008c\\u00ef\\u00b8\\u008fGODS PLAN\\u00e2\\u009c\\u008c\\u00ef\\u00b8\\u008f\"], \"y\": [-23.542499999999997], \"type\": \"bar\", \"uid\": \"d6fb6176-e896-11e8-a580-360038087701\"}, {\"name\": \"8-2\", \"x\": [\"Gurleys Gone Wild\"], \"y\": [-11.75], \"type\": \"bar\", \"uid\": \"d6fb6202-e896-11e8-971b-360038087701\"}, {\"name\": \"5-5\", \"x\": [\"TB on my Brown TDs\"], \"y\": [-19.287999999999997], \"type\": \"bar\", \"uid\": \"d6fb628c-e896-11e8-9ed6-360038087701\"}, {\"name\": \"3-7\", \"x\": [\"Catch - 22\"], \"y\": [-18.285714285714285], \"type\": \"bar\", \"uid\": \"d6fb6310-e896-11e8-8c8f-360038087701\"}],\n",
       "            {\"barmode\": \"group\", \"title\": \"Almost Won a Game (Loss Margin)\"},\n",
       "            {\"showLink\": true, \"linkText\": \"Export to plot.ly\"}\n",
       "        ).then(function () {return Plotly.addFrames('ff9ec537-4109-4ee1-80b5-db08fd3aaf86',{});}).then(function(){Plotly.animate('ff9ec537-4109-4ee1-80b5-db08fd3aaf86');})\n",
       "        });</script>"
      ]
     },
     "metadata": {},
     "output_type": "display_data"
    }
   ],
   "source": [
    "# create graph\n",
    "for col,title in zip(columns,titles):\n",
    "    df6 = df5.sort_values(col)\n",
    "\n",
    "    # trace\n",
    "    data = []\n",
    "    for s in standings:\n",
    "        trace = go.Bar(x=df6[df6.standings==s].team.tolist(),\n",
    "                       y=df6[df6.standings==s][col].tolist(),name=s)\n",
    "        data.append(trace)\n",
    "\n",
    "    #layout\n",
    "    layout = go.Layout(title=title,\n",
    "                       barmode='group')\n",
    "\n",
    "    # fig\n",
    "    fig = go.Figure(data=data, layout=layout)\n",
    "    \n",
    "    py.iplot(fig)"
   ]
  },
  {
   "cell_type": "code",
   "execution_count": null,
   "metadata": {},
   "outputs": [],
   "source": []
  },
  {
   "cell_type": "code",
   "execution_count": null,
   "metadata": {},
   "outputs": [],
   "source": []
  }
 ],
 "metadata": {
  "kernelspec": {
   "display_name": "Python 3",
   "language": "python",
   "name": "python3"
  },
  "language_info": {
   "codemirror_mode": {
    "name": "ipython",
    "version": 3
   },
   "file_extension": ".py",
   "mimetype": "text/x-python",
   "name": "python",
   "nbconvert_exporter": "python",
   "pygments_lexer": "ipython3",
   "version": "3.6.5"
  }
 },
 "nbformat": 4,
 "nbformat_minor": 2
}
