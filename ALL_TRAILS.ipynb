{
 "cells": [
  {
   "cell_type": "code",
   "execution_count": 457,
   "metadata": {},
   "outputs": [],
   "source": [
    "import pandas as pd"
   ]
  },
  {
   "cell_type": "code",
   "execution_count": 458,
   "metadata": {},
   "outputs": [
    {
     "data": {
      "text/html": [
       "<script type=\"text/javascript\">window.PlotlyConfig = {MathJaxConfig: 'local'};</script><script type=\"text/javascript\">if (window.MathJax) {MathJax.Hub.Config({SVG: {font: \"STIX-Web\"}});}</script><script>requirejs.config({paths: { 'plotly': ['https://cdn.plot.ly/plotly-latest.min']},});if(!window._Plotly) {require(['plotly'],function(plotly) {window._Plotly=plotly;});}</script>"
      ],
      "text/vnd.plotly.v1+html": [
       "<script type=\"text/javascript\">window.PlotlyConfig = {MathJaxConfig: 'local'};</script><script type=\"text/javascript\">if (window.MathJax) {MathJax.Hub.Config({SVG: {font: \"STIX-Web\"}});}</script><script>requirejs.config({paths: { 'plotly': ['https://cdn.plot.ly/plotly-latest.min']},});if(!window._Plotly) {require(['plotly'],function(plotly) {window._Plotly=plotly;});}</script>"
      ]
     },
     "metadata": {},
     "output_type": "display_data"
    }
   ],
   "source": [
    "import plotly.graph_objs as go\n",
    "import plotly.offline as py\n",
    "from plotly.offline import download_plotlyjs, init_notebook_mode, iplot\n",
    "py.init_notebook_mode(connected=True)"
   ]
  },
  {
   "cell_type": "code",
   "execution_count": 459,
   "metadata": {},
   "outputs": [],
   "source": [
    "import requests, bs4\n",
    "url = 'https://www.alltrails.com/parks/us/montana/glacier-national-park'\n",
    "r = requests.get(url)\n",
    "soup = bs4.BeautifulSoup(r.text, 'lxml')"
   ]
  },
  {
   "cell_type": "code",
   "execution_count": 460,
   "metadata": {},
   "outputs": [],
   "source": [
    "ranking = []\n",
    "link = []\n",
    "name = []\n",
    "diff = []\n",
    "rating = []\n",
    "location = []\n",
    "distance = []\n",
    "elevation = []\n",
    "route_type =[]"
   ]
  },
  {
   "cell_type": "code",
   "execution_count": 461,
   "metadata": {},
   "outputs": [],
   "source": [
    "for i in range(len(soup.find_all('div', class_=\"trail-result-card\"))):\n",
    "    \n",
    "    # ranking\n",
    "    try:\n",
    "        ranking.append(soup.find_all('span',class_='item-rank xlate-none')[i].get_text())\n",
    "    except Exception:\n",
    "        ranking.append(\"\")\n",
    "   \n",
    "    # link\n",
    "    try:\n",
    "        url = \"https://www.alltrails.com\" + (soup.find_all('a',class_='item-link')[i]['href'])\n",
    "        link.append(url)\n",
    "    except Exception:\n",
    "        link.append(\"\")\n",
    "    \n",
    "    # trail name\n",
    "    try:\n",
    "        name.append(soup.find_all('h3',class_='name xlate-none short')[i].get_text())\n",
    "    except Exception:\n",
    "        name.append(\"\")\n",
    "    \n",
    "    # difficulty\n",
    "    try:\n",
    "        diff.append(soup.find_all('div',class_='difficulty-info')[i].get_text())\n",
    "    except Exception:\n",
    "        diff.append(\"\")\n",
    "    \n",
    "    # rating\n",
    "    try:\n",
    "        rating.append(soup.find_all('div',class_='difficulty-info')[i].find_all('span')[1]['title'])\n",
    "    except Exception:\n",
    "        rating.append(\"\")\n",
    "\n",
    "    # location\n",
    "    try:\n",
    "        location.append(soup.find_all('div',class_='clickable xlate-none')[i]['title'])\n",
    "    except Exception:\n",
    "        location.append(\"\")\n",
    "    \n",
    "    # GRAB TRAIL DETAILS\n",
    "    r2 = requests.get(url)\n",
    "    soup2 = bs4.BeautifulSoup(r2.text, 'lxml')\n",
    "    \n",
    "    # distance\n",
    "    try:\n",
    "        distance.append(soup2.find_all('div', class_=\"detail-data\")[0].get_text())\n",
    "    except Exception:\n",
    "        distance.append(\"\")\n",
    "    \n",
    "    # elevation gain\n",
    "    try:\n",
    "        elevation.append(soup2.find_all('div', class_=\"detail-data\")[1].get_text())\n",
    "    except Exception:\n",
    "        elevation.append(\"\")\n",
    "    \n",
    "    # route type\n",
    "    try:\n",
    "        route_type.append(soup2.find_all('div', class_=\"detail-data\")[2].get_text())\n",
    "    except Exception:\n",
    "        route_type.append(\"\")"
   ]
  },
  {
   "cell_type": "code",
   "execution_count": 462,
   "metadata": {},
   "outputs": [],
   "source": [
    "df = pd.DataFrame(\n",
    "    {'ranking': ranking,\n",
    "     'num_reviews': num_reviews,\n",
    "     'name': name,\n",
    "     'difficulty': diff,\n",
    "     'distance_miles': distance,\n",
    "     'elevation_feet': elevation,\n",
    "     'route_type': route_type,\n",
    "     'rating': rating,\n",
    "     'location': location,\n",
    "     'link': link\n",
    "    })"
   ]
  },
  {
   "cell_type": "code",
   "execution_count": 463,
   "metadata": {},
   "outputs": [],
   "source": [
    "# format columns\n",
    "df.num_reviews = df.num_reviews.str.strip(\"()\").astype(int)\n",
    "df.distance_miles = df.distance_miles.str.strip(\"miles\").astype(float)\n",
    "df.elevation_feet = df.elevation_feet.str.replace(\",\",\"\").str.strip('feet').astype(int)\n",
    "df.difficulty = df.difficulty.str.replace('[^a-zA-Z]','')\n",
    "df['duration_hours'] = df.distance_miles/2\n",
    "df['elevation_per_mile'] = df.elevation_feet/df.distance_miles"
   ]
  },
  {
   "cell_type": "code",
   "execution_count": 464,
   "metadata": {},
   "outputs": [],
   "source": [
    "df = df[['ranking', 'num_reviews', 'name', 'difficulty','duration_hours','elevation_per_mile',\n",
    "         'distance_miles','elevation_feet','route_type', 'rating', 'location', 'link']]"
   ]
  },
  {
   "cell_type": "code",
   "execution_count": 465,
   "metadata": {},
   "outputs": [],
   "source": [
    "def make_clickable(val):\n",
    "    return '<a href=\"{}\">{}</a>'.format(val,val)\n",
    "\n",
    "df_links = df.style.format({'link':make_clickable})"
   ]
  },
  {
   "cell_type": "code",
   "execution_count": 466,
   "metadata": {
    "scrolled": false
   },
   "outputs": [
    {
     "data": {
      "application/vnd.plotly.v1+json": {
       "config": {
        "linkText": "Export to plot.ly",
        "plotlyServerURL": "https://plot.ly",
        "showLink": true
       },
       "data": [
        {
         "name": "EASY",
         "text": [
          "St. Mary and Virginia Falls Trail",
          "Grinnell Lake Trail",
          "Trail of the Cedars",
          "Going-to-the-Sun Road - West Glacier to Saint Mary Scenic Drive",
          "McDonald Creek Trail",
          "Redrock Falls via Swiftcurrent Pass",
          "Apikuni Falls Trail",
          "Running Eagle Falls Trail",
          "Johns Lake Loop"
         ],
         "textposition": "auto",
         "type": "bar",
         "uid": "132d0b8a-d3eb-41db-9030-bb87ad8ad857",
         "x": [
          "#6",
          "#10",
          "#13",
          "#14",
          "#17",
          "#18",
          "#20",
          "#21",
          "#24"
         ],
         "y": [
          361,
          239,
          163,
          220,
          131,
          136,
          125,
          128,
          124
         ]
        },
        {
         "name": "MODERATE",
         "text": [
          "Avalanche Lake via the Trail of the Cedars",
          "Grinnell Glacier Trail",
          "Iceberg Lake Trail",
          "Hidden Lake Trail",
          "Cracker Lake Trail",
          "Hidden Lake Overlook",
          "Bullhead Lake Trail"
         ],
         "textposition": "auto",
         "type": "bar",
         "uid": "d90d5db0-9ba7-46e9-a129-dcb3e6b31110",
         "x": [
          "#1",
          "#2",
          "#3",
          "#4",
          "#7",
          "#8",
          "#22"
         ],
         "y": [
          926,
          690,
          835,
          480,
          384,
          276,
          92
         ]
        },
        {
         "name": "HARD",
         "text": [
          "Highline Trail",
          "The Garden Wall",
          "Swiftcurrent Pass Trail To Swiftcurrent Mountain",
          "Highline Trail to Granite Park",
          "Siyeh Pass Trail",
          "Scenic Point",
          "Dawson Pass and Pitamakan Pass Loop",
          "Apgar Lookout Trail"
         ],
         "textposition": "auto",
         "type": "bar",
         "uid": "2ebafe4a-5401-4a08-9000-38615a6ffb00",
         "x": [
          "#5",
          "#9",
          "#11",
          "#12",
          "#15",
          "#16",
          "#19",
          "#23"
         ],
         "y": [
          304,
          288,
          320,
          168,
          187,
          215,
          143,
          72
         ]
        }
       ],
       "layout": {
        "title": "num_reviews"
       }
      },
      "text/html": [
       "<div id=\"92eaabdf-8ccc-4810-9128-3cd6b0f276f8\" style=\"height: 525px; width: 100%;\" class=\"plotly-graph-div\"></div><script type=\"text/javascript\">require([\"plotly\"], function(Plotly) { window.PLOTLYENV=window.PLOTLYENV || {};window.PLOTLYENV.BASE_URL=\"https://plot.ly\";Plotly.newPlot(\"92eaabdf-8ccc-4810-9128-3cd6b0f276f8\", [{\"name\": \"EASY\", \"text\": [\"St. Mary and Virginia Falls Trail\", \"Grinnell Lake Trail\", \"Trail of the Cedars\", \"Going-to-the-Sun Road - West Glacier to Saint Mary Scenic Drive\", \"McDonald Creek Trail\", \"Redrock Falls via Swiftcurrent Pass\", \"Apikuni Falls Trail\", \"Running Eagle Falls Trail\", \"Johns Lake Loop\"], \"textposition\": \"auto\", \"x\": [\"#6\", \"#10\", \"#13\", \"#14\", \"#17\", \"#18\", \"#20\", \"#21\", \"#24\"], \"y\": [361, 239, 163, 220, 131, 136, 125, 128, 124], \"type\": \"bar\", \"uid\": \"132d0b8a-d3eb-41db-9030-bb87ad8ad857\"}, {\"name\": \"MODERATE\", \"text\": [\"Avalanche Lake via the Trail of the Cedars\", \"Grinnell Glacier Trail\", \"Iceberg Lake Trail\", \"Hidden Lake Trail\", \"Cracker Lake Trail\", \"Hidden Lake Overlook\", \"Bullhead Lake Trail\"], \"textposition\": \"auto\", \"x\": [\"#1\", \"#2\", \"#3\", \"#4\", \"#7\", \"#8\", \"#22\"], \"y\": [926, 690, 835, 480, 384, 276, 92], \"type\": \"bar\", \"uid\": \"d90d5db0-9ba7-46e9-a129-dcb3e6b31110\"}, {\"name\": \"HARD\", \"text\": [\"Highline Trail\", \"The Garden Wall\", \"Swiftcurrent Pass Trail To Swiftcurrent Mountain\", \"Highline Trail to Granite Park\", \"Siyeh Pass Trail\", \"Scenic Point\", \"Dawson Pass and Pitamakan Pass Loop\", \"Apgar Lookout Trail\"], \"textposition\": \"auto\", \"x\": [\"#5\", \"#9\", \"#11\", \"#12\", \"#15\", \"#16\", \"#19\", \"#23\"], \"y\": [304, 288, 320, 168, 187, 215, 143, 72], \"type\": \"bar\", \"uid\": \"2ebafe4a-5401-4a08-9000-38615a6ffb00\"}], {\"title\": \"num_reviews\"}, {\"showLink\": true, \"linkText\": \"Export to plot.ly\", \"plotlyServerURL\": \"https://plot.ly\"})});</script><script type=\"text/javascript\">window.addEventListener(\"resize\", function(){window._Plotly.Plots.resize(document.getElementById(\"92eaabdf-8ccc-4810-9128-3cd6b0f276f8\"));});</script>"
      ],
      "text/vnd.plotly.v1+html": [
       "<div id=\"92eaabdf-8ccc-4810-9128-3cd6b0f276f8\" style=\"height: 525px; width: 100%;\" class=\"plotly-graph-div\"></div><script type=\"text/javascript\">require([\"plotly\"], function(Plotly) { window.PLOTLYENV=window.PLOTLYENV || {};window.PLOTLYENV.BASE_URL=\"https://plot.ly\";Plotly.newPlot(\"92eaabdf-8ccc-4810-9128-3cd6b0f276f8\", [{\"name\": \"EASY\", \"text\": [\"St. Mary and Virginia Falls Trail\", \"Grinnell Lake Trail\", \"Trail of the Cedars\", \"Going-to-the-Sun Road - West Glacier to Saint Mary Scenic Drive\", \"McDonald Creek Trail\", \"Redrock Falls via Swiftcurrent Pass\", \"Apikuni Falls Trail\", \"Running Eagle Falls Trail\", \"Johns Lake Loop\"], \"textposition\": \"auto\", \"x\": [\"#6\", \"#10\", \"#13\", \"#14\", \"#17\", \"#18\", \"#20\", \"#21\", \"#24\"], \"y\": [361, 239, 163, 220, 131, 136, 125, 128, 124], \"type\": \"bar\", \"uid\": \"132d0b8a-d3eb-41db-9030-bb87ad8ad857\"}, {\"name\": \"MODERATE\", \"text\": [\"Avalanche Lake via the Trail of the Cedars\", \"Grinnell Glacier Trail\", \"Iceberg Lake Trail\", \"Hidden Lake Trail\", \"Cracker Lake Trail\", \"Hidden Lake Overlook\", \"Bullhead Lake Trail\"], \"textposition\": \"auto\", \"x\": [\"#1\", \"#2\", \"#3\", \"#4\", \"#7\", \"#8\", \"#22\"], \"y\": [926, 690, 835, 480, 384, 276, 92], \"type\": \"bar\", \"uid\": \"d90d5db0-9ba7-46e9-a129-dcb3e6b31110\"}, {\"name\": \"HARD\", \"text\": [\"Highline Trail\", \"The Garden Wall\", \"Swiftcurrent Pass Trail To Swiftcurrent Mountain\", \"Highline Trail to Granite Park\", \"Siyeh Pass Trail\", \"Scenic Point\", \"Dawson Pass and Pitamakan Pass Loop\", \"Apgar Lookout Trail\"], \"textposition\": \"auto\", \"x\": [\"#5\", \"#9\", \"#11\", \"#12\", \"#15\", \"#16\", \"#19\", \"#23\"], \"y\": [304, 288, 320, 168, 187, 215, 143, 72], \"type\": \"bar\", \"uid\": \"2ebafe4a-5401-4a08-9000-38615a6ffb00\"}], {\"title\": \"num_reviews\"}, {\"showLink\": true, \"linkText\": \"Export to plot.ly\", \"plotlyServerURL\": \"https://plot.ly\"})});</script><script type=\"text/javascript\">window.addEventListener(\"resize\", function(){window._Plotly.Plots.resize(document.getElementById(\"92eaabdf-8ccc-4810-9128-3cd6b0f276f8\"));});</script>"
      ]
     },
     "metadata": {},
     "output_type": "display_data"
    },
    {
     "data": {
      "application/vnd.plotly.v1+json": {
       "config": {
        "linkText": "Export to plot.ly",
        "plotlyServerURL": "https://plot.ly",
        "showLink": true
       },
       "data": [
        {
         "name": "EASY",
         "text": [
          "St. Mary and Virginia Falls Trail",
          "Grinnell Lake Trail",
          "Trail of the Cedars",
          "Going-to-the-Sun Road - West Glacier to Saint Mary Scenic Drive",
          "McDonald Creek Trail",
          "Redrock Falls via Swiftcurrent Pass",
          "Apikuni Falls Trail",
          "Running Eagle Falls Trail",
          "Johns Lake Loop"
         ],
         "textposition": "auto",
         "type": "bar",
         "uid": "c67d7853-2d8f-4b5b-821a-f2ef1dcdb08a",
         "x": [
          "#6",
          "#10",
          "#13",
          "#14",
          "#17",
          "#18",
          "#20",
          "#21",
          "#24"
         ],
         "y": [
          1.45,
          3.55,
          0.4,
          24.5,
          2.5,
          1.8,
          0.9,
          0.3,
          0.95
         ]
        },
        {
         "name": "MODERATE",
         "text": [
          "Avalanche Lake via the Trail of the Cedars",
          "Grinnell Glacier Trail",
          "Iceberg Lake Trail",
          "Hidden Lake Trail",
          "Cracker Lake Trail",
          "Hidden Lake Overlook",
          "Bullhead Lake Trail"
         ],
         "textposition": "auto",
         "type": "bar",
         "uid": "15f43331-2a5d-4abf-86f8-ecdfda244e01",
         "x": [
          "#1",
          "#2",
          "#3",
          "#4",
          "#7",
          "#8",
          "#22"
         ],
         "y": [
          2.85,
          4.85,
          4.65,
          2.65,
          6,
          1.4,
          3.45
         ]
        },
        {
         "name": "HARD",
         "text": [
          "Highline Trail",
          "The Garden Wall",
          "Swiftcurrent Pass Trail To Swiftcurrent Mountain",
          "Highline Trail to Granite Park",
          "Siyeh Pass Trail",
          "Scenic Point",
          "Dawson Pass and Pitamakan Pass Loop",
          "Apgar Lookout Trail"
         ],
         "textposition": "auto",
         "type": "bar",
         "uid": "2e9a6939-5c89-4221-ae6d-ff1f4efe7817",
         "x": [
          "#5",
          "#9",
          "#11",
          "#12",
          "#15",
          "#16",
          "#19",
          "#23"
         ],
         "y": [
          14.2,
          7.35,
          7.95,
          5.6,
          10.3,
          3.7,
          8.6,
          3.65
         ]
        }
       ],
       "layout": {
        "title": "duration_hours"
       }
      },
      "text/html": [
       "<div id=\"b6a76b08-8184-434d-8fa2-3f1c59a0216a\" style=\"height: 525px; width: 100%;\" class=\"plotly-graph-div\"></div><script type=\"text/javascript\">require([\"plotly\"], function(Plotly) { window.PLOTLYENV=window.PLOTLYENV || {};window.PLOTLYENV.BASE_URL=\"https://plot.ly\";Plotly.newPlot(\"b6a76b08-8184-434d-8fa2-3f1c59a0216a\", [{\"name\": \"EASY\", \"text\": [\"St. Mary and Virginia Falls Trail\", \"Grinnell Lake Trail\", \"Trail of the Cedars\", \"Going-to-the-Sun Road - West Glacier to Saint Mary Scenic Drive\", \"McDonald Creek Trail\", \"Redrock Falls via Swiftcurrent Pass\", \"Apikuni Falls Trail\", \"Running Eagle Falls Trail\", \"Johns Lake Loop\"], \"textposition\": \"auto\", \"x\": [\"#6\", \"#10\", \"#13\", \"#14\", \"#17\", \"#18\", \"#20\", \"#21\", \"#24\"], \"y\": [1.45, 3.55, 0.4, 24.5, 2.5, 1.8, 0.9, 0.3, 0.95], \"type\": \"bar\", \"uid\": \"c67d7853-2d8f-4b5b-821a-f2ef1dcdb08a\"}, {\"name\": \"MODERATE\", \"text\": [\"Avalanche Lake via the Trail of the Cedars\", \"Grinnell Glacier Trail\", \"Iceberg Lake Trail\", \"Hidden Lake Trail\", \"Cracker Lake Trail\", \"Hidden Lake Overlook\", \"Bullhead Lake Trail\"], \"textposition\": \"auto\", \"x\": [\"#1\", \"#2\", \"#3\", \"#4\", \"#7\", \"#8\", \"#22\"], \"y\": [2.85, 4.85, 4.65, 2.65, 6.0, 1.4, 3.45], \"type\": \"bar\", \"uid\": \"15f43331-2a5d-4abf-86f8-ecdfda244e01\"}, {\"name\": \"HARD\", \"text\": [\"Highline Trail\", \"The Garden Wall\", \"Swiftcurrent Pass Trail To Swiftcurrent Mountain\", \"Highline Trail to Granite Park\", \"Siyeh Pass Trail\", \"Scenic Point\", \"Dawson Pass and Pitamakan Pass Loop\", \"Apgar Lookout Trail\"], \"textposition\": \"auto\", \"x\": [\"#5\", \"#9\", \"#11\", \"#12\", \"#15\", \"#16\", \"#19\", \"#23\"], \"y\": [14.2, 7.35, 7.95, 5.6, 10.3, 3.7, 8.6, 3.65], \"type\": \"bar\", \"uid\": \"2e9a6939-5c89-4221-ae6d-ff1f4efe7817\"}], {\"title\": \"duration_hours\"}, {\"showLink\": true, \"linkText\": \"Export to plot.ly\", \"plotlyServerURL\": \"https://plot.ly\"})});</script><script type=\"text/javascript\">window.addEventListener(\"resize\", function(){window._Plotly.Plots.resize(document.getElementById(\"b6a76b08-8184-434d-8fa2-3f1c59a0216a\"));});</script>"
      ],
      "text/vnd.plotly.v1+html": [
       "<div id=\"b6a76b08-8184-434d-8fa2-3f1c59a0216a\" style=\"height: 525px; width: 100%;\" class=\"plotly-graph-div\"></div><script type=\"text/javascript\">require([\"plotly\"], function(Plotly) { window.PLOTLYENV=window.PLOTLYENV || {};window.PLOTLYENV.BASE_URL=\"https://plot.ly\";Plotly.newPlot(\"b6a76b08-8184-434d-8fa2-3f1c59a0216a\", [{\"name\": \"EASY\", \"text\": [\"St. Mary and Virginia Falls Trail\", \"Grinnell Lake Trail\", \"Trail of the Cedars\", \"Going-to-the-Sun Road - West Glacier to Saint Mary Scenic Drive\", \"McDonald Creek Trail\", \"Redrock Falls via Swiftcurrent Pass\", \"Apikuni Falls Trail\", \"Running Eagle Falls Trail\", \"Johns Lake Loop\"], \"textposition\": \"auto\", \"x\": [\"#6\", \"#10\", \"#13\", \"#14\", \"#17\", \"#18\", \"#20\", \"#21\", \"#24\"], \"y\": [1.45, 3.55, 0.4, 24.5, 2.5, 1.8, 0.9, 0.3, 0.95], \"type\": \"bar\", \"uid\": \"c67d7853-2d8f-4b5b-821a-f2ef1dcdb08a\"}, {\"name\": \"MODERATE\", \"text\": [\"Avalanche Lake via the Trail of the Cedars\", \"Grinnell Glacier Trail\", \"Iceberg Lake Trail\", \"Hidden Lake Trail\", \"Cracker Lake Trail\", \"Hidden Lake Overlook\", \"Bullhead Lake Trail\"], \"textposition\": \"auto\", \"x\": [\"#1\", \"#2\", \"#3\", \"#4\", \"#7\", \"#8\", \"#22\"], \"y\": [2.85, 4.85, 4.65, 2.65, 6.0, 1.4, 3.45], \"type\": \"bar\", \"uid\": \"15f43331-2a5d-4abf-86f8-ecdfda244e01\"}, {\"name\": \"HARD\", \"text\": [\"Highline Trail\", \"The Garden Wall\", \"Swiftcurrent Pass Trail To Swiftcurrent Mountain\", \"Highline Trail to Granite Park\", \"Siyeh Pass Trail\", \"Scenic Point\", \"Dawson Pass and Pitamakan Pass Loop\", \"Apgar Lookout Trail\"], \"textposition\": \"auto\", \"x\": [\"#5\", \"#9\", \"#11\", \"#12\", \"#15\", \"#16\", \"#19\", \"#23\"], \"y\": [14.2, 7.35, 7.95, 5.6, 10.3, 3.7, 8.6, 3.65], \"type\": \"bar\", \"uid\": \"2e9a6939-5c89-4221-ae6d-ff1f4efe7817\"}], {\"title\": \"duration_hours\"}, {\"showLink\": true, \"linkText\": \"Export to plot.ly\", \"plotlyServerURL\": \"https://plot.ly\"})});</script><script type=\"text/javascript\">window.addEventListener(\"resize\", function(){window._Plotly.Plots.resize(document.getElementById(\"b6a76b08-8184-434d-8fa2-3f1c59a0216a\"));});</script>"
      ]
     },
     "metadata": {},
     "output_type": "display_data"
    },
    {
     "data": {
      "application/vnd.plotly.v1+json": {
       "config": {
        "linkText": "Export to plot.ly",
        "plotlyServerURL": "https://plot.ly",
        "showLink": true
       },
       "data": [
        {
         "name": "EASY",
         "text": [
          "St. Mary and Virginia Falls Trail",
          "Grinnell Lake Trail",
          "Trail of the Cedars",
          "Going-to-the-Sun Road - West Glacier to Saint Mary Scenic Drive",
          "McDonald Creek Trail",
          "Redrock Falls via Swiftcurrent Pass",
          "Apikuni Falls Trail",
          "Running Eagle Falls Trail",
          "Johns Lake Loop"
         ],
         "textposition": "auto",
         "type": "bar",
         "uid": "dfb7c227-5b06-4cdd-9a93-dc7dd08663c5",
         "x": [
          "#6",
          "#10",
          "#13",
          "#14",
          "#17",
          "#18",
          "#20",
          "#21",
          "#24"
         ],
         "y": [
          155.86206896551724,
          49.43661971830986,
          45,
          114.34693877551021,
          42.6,
          65.55555555555556,
          340.55555555555554,
          43.333333333333336,
          96.31578947368422
         ]
        },
        {
         "name": "MODERATE",
         "text": [
          "Avalanche Lake via the Trail of the Cedars",
          "Grinnell Glacier Trail",
          "Iceberg Lake Trail",
          "Hidden Lake Trail",
          "Cracker Lake Trail",
          "Hidden Lake Overlook",
          "Bullhead Lake Trail"
         ],
         "textposition": "auto",
         "type": "bar",
         "uid": "39679e5a-0828-4f27-9317-12f8dfa930d8",
         "x": [
          "#1",
          "#2",
          "#3",
          "#4",
          "#7",
          "#8",
          "#22"
         ],
         "y": [
          131.2280701754386,
          210.30927835051548,
          155.91397849462365,
          259.24528301886795,
          137.5,
          207.14285714285717,
          64.05797101449275
         ]
        },
        {
         "name": "HARD",
         "text": [
          "Highline Trail",
          "The Garden Wall",
          "Swiftcurrent Pass Trail To Swiftcurrent Mountain",
          "Highline Trail to Granite Park",
          "Siyeh Pass Trail",
          "Scenic Point",
          "Dawson Pass and Pitamakan Pass Loop",
          "Apgar Lookout Trail"
         ],
         "textposition": "auto",
         "type": "bar",
         "uid": "2ed4745c-dde4-4056-a9d5-b821907bdd72",
         "x": [
          "#5",
          "#9",
          "#11",
          "#12",
          "#15",
          "#16",
          "#19",
          "#23"
         ],
         "y": [
          172.35915492957747,
          238.57142857142858,
          236.85534591194968,
          130.89285714285714,
          269.4660194174757,
          317.8378378378378,
          211.68604651162792,
          266.8493150684932
         ]
        }
       ],
       "layout": {
        "title": "elevation_per_mile"
       }
      },
      "text/html": [
       "<div id=\"0deeb650-6f3b-4fc3-a2b6-6d716b4790bf\" style=\"height: 525px; width: 100%;\" class=\"plotly-graph-div\"></div><script type=\"text/javascript\">require([\"plotly\"], function(Plotly) { window.PLOTLYENV=window.PLOTLYENV || {};window.PLOTLYENV.BASE_URL=\"https://plot.ly\";Plotly.newPlot(\"0deeb650-6f3b-4fc3-a2b6-6d716b4790bf\", [{\"name\": \"EASY\", \"text\": [\"St. Mary and Virginia Falls Trail\", \"Grinnell Lake Trail\", \"Trail of the Cedars\", \"Going-to-the-Sun Road - West Glacier to Saint Mary Scenic Drive\", \"McDonald Creek Trail\", \"Redrock Falls via Swiftcurrent Pass\", \"Apikuni Falls Trail\", \"Running Eagle Falls Trail\", \"Johns Lake Loop\"], \"textposition\": \"auto\", \"x\": [\"#6\", \"#10\", \"#13\", \"#14\", \"#17\", \"#18\", \"#20\", \"#21\", \"#24\"], \"y\": [155.86206896551724, 49.43661971830986, 45.0, 114.34693877551021, 42.6, 65.55555555555556, 340.55555555555554, 43.333333333333336, 96.31578947368422], \"type\": \"bar\", \"uid\": \"dfb7c227-5b06-4cdd-9a93-dc7dd08663c5\"}, {\"name\": \"MODERATE\", \"text\": [\"Avalanche Lake via the Trail of the Cedars\", \"Grinnell Glacier Trail\", \"Iceberg Lake Trail\", \"Hidden Lake Trail\", \"Cracker Lake Trail\", \"Hidden Lake Overlook\", \"Bullhead Lake Trail\"], \"textposition\": \"auto\", \"x\": [\"#1\", \"#2\", \"#3\", \"#4\", \"#7\", \"#8\", \"#22\"], \"y\": [131.2280701754386, 210.30927835051548, 155.91397849462365, 259.24528301886795, 137.5, 207.14285714285717, 64.05797101449275], \"type\": \"bar\", \"uid\": \"39679e5a-0828-4f27-9317-12f8dfa930d8\"}, {\"name\": \"HARD\", \"text\": [\"Highline Trail\", \"The Garden Wall\", \"Swiftcurrent Pass Trail To Swiftcurrent Mountain\", \"Highline Trail to Granite Park\", \"Siyeh Pass Trail\", \"Scenic Point\", \"Dawson Pass and Pitamakan Pass Loop\", \"Apgar Lookout Trail\"], \"textposition\": \"auto\", \"x\": [\"#5\", \"#9\", \"#11\", \"#12\", \"#15\", \"#16\", \"#19\", \"#23\"], \"y\": [172.35915492957747, 238.57142857142858, 236.85534591194968, 130.89285714285714, 269.4660194174757, 317.8378378378378, 211.68604651162792, 266.8493150684932], \"type\": \"bar\", \"uid\": \"2ed4745c-dde4-4056-a9d5-b821907bdd72\"}], {\"title\": \"elevation_per_mile\"}, {\"showLink\": true, \"linkText\": \"Export to plot.ly\", \"plotlyServerURL\": \"https://plot.ly\"})});</script><script type=\"text/javascript\">window.addEventListener(\"resize\", function(){window._Plotly.Plots.resize(document.getElementById(\"0deeb650-6f3b-4fc3-a2b6-6d716b4790bf\"));});</script>"
      ],
      "text/vnd.plotly.v1+html": [
       "<div id=\"0deeb650-6f3b-4fc3-a2b6-6d716b4790bf\" style=\"height: 525px; width: 100%;\" class=\"plotly-graph-div\"></div><script type=\"text/javascript\">require([\"plotly\"], function(Plotly) { window.PLOTLYENV=window.PLOTLYENV || {};window.PLOTLYENV.BASE_URL=\"https://plot.ly\";Plotly.newPlot(\"0deeb650-6f3b-4fc3-a2b6-6d716b4790bf\", [{\"name\": \"EASY\", \"text\": [\"St. Mary and Virginia Falls Trail\", \"Grinnell Lake Trail\", \"Trail of the Cedars\", \"Going-to-the-Sun Road - West Glacier to Saint Mary Scenic Drive\", \"McDonald Creek Trail\", \"Redrock Falls via Swiftcurrent Pass\", \"Apikuni Falls Trail\", \"Running Eagle Falls Trail\", \"Johns Lake Loop\"], \"textposition\": \"auto\", \"x\": [\"#6\", \"#10\", \"#13\", \"#14\", \"#17\", \"#18\", \"#20\", \"#21\", \"#24\"], \"y\": [155.86206896551724, 49.43661971830986, 45.0, 114.34693877551021, 42.6, 65.55555555555556, 340.55555555555554, 43.333333333333336, 96.31578947368422], \"type\": \"bar\", \"uid\": \"dfb7c227-5b06-4cdd-9a93-dc7dd08663c5\"}, {\"name\": \"MODERATE\", \"text\": [\"Avalanche Lake via the Trail of the Cedars\", \"Grinnell Glacier Trail\", \"Iceberg Lake Trail\", \"Hidden Lake Trail\", \"Cracker Lake Trail\", \"Hidden Lake Overlook\", \"Bullhead Lake Trail\"], \"textposition\": \"auto\", \"x\": [\"#1\", \"#2\", \"#3\", \"#4\", \"#7\", \"#8\", \"#22\"], \"y\": [131.2280701754386, 210.30927835051548, 155.91397849462365, 259.24528301886795, 137.5, 207.14285714285717, 64.05797101449275], \"type\": \"bar\", \"uid\": \"39679e5a-0828-4f27-9317-12f8dfa930d8\"}, {\"name\": \"HARD\", \"text\": [\"Highline Trail\", \"The Garden Wall\", \"Swiftcurrent Pass Trail To Swiftcurrent Mountain\", \"Highline Trail to Granite Park\", \"Siyeh Pass Trail\", \"Scenic Point\", \"Dawson Pass and Pitamakan Pass Loop\", \"Apgar Lookout Trail\"], \"textposition\": \"auto\", \"x\": [\"#5\", \"#9\", \"#11\", \"#12\", \"#15\", \"#16\", \"#19\", \"#23\"], \"y\": [172.35915492957747, 238.57142857142858, 236.85534591194968, 130.89285714285714, 269.4660194174757, 317.8378378378378, 211.68604651162792, 266.8493150684932], \"type\": \"bar\", \"uid\": \"2ed4745c-dde4-4056-a9d5-b821907bdd72\"}], {\"title\": \"elevation_per_mile\"}, {\"showLink\": true, \"linkText\": \"Export to plot.ly\", \"plotlyServerURL\": \"https://plot.ly\"})});</script><script type=\"text/javascript\">window.addEventListener(\"resize\", function(){window._Plotly.Plots.resize(document.getElementById(\"0deeb650-6f3b-4fc3-a2b6-6d716b4790bf\"));});</script>"
      ]
     },
     "metadata": {},
     "output_type": "display_data"
    },
    {
     "data": {
      "application/vnd.plotly.v1+json": {
       "config": {
        "linkText": "Export to plot.ly",
        "plotlyServerURL": "https://plot.ly",
        "showLink": true
       },
       "data": [
        {
         "name": "EASY",
         "text": [
          "St. Mary and Virginia Falls Trail",
          "Grinnell Lake Trail",
          "Trail of the Cedars",
          "Going-to-the-Sun Road - West Glacier to Saint Mary Scenic Drive",
          "McDonald Creek Trail",
          "Redrock Falls via Swiftcurrent Pass",
          "Apikuni Falls Trail",
          "Running Eagle Falls Trail",
          "Johns Lake Loop"
         ],
         "textposition": "auto",
         "type": "bar",
         "uid": "09c6db9f-84f6-4eb7-abda-0f1c32dee1c2",
         "x": [
          "#6",
          "#10",
          "#13",
          "#14",
          "#17",
          "#18",
          "#20",
          "#21",
          "#24"
         ],
         "y": [
          2.9,
          7.1,
          0.8,
          49,
          5,
          3.6,
          1.8,
          0.6,
          1.9
         ]
        },
        {
         "name": "MODERATE",
         "text": [
          "Avalanche Lake via the Trail of the Cedars",
          "Grinnell Glacier Trail",
          "Iceberg Lake Trail",
          "Hidden Lake Trail",
          "Cracker Lake Trail",
          "Hidden Lake Overlook",
          "Bullhead Lake Trail"
         ],
         "textposition": "auto",
         "type": "bar",
         "uid": "efaca1d6-e584-425a-9f37-053b79d23f68",
         "x": [
          "#1",
          "#2",
          "#3",
          "#4",
          "#7",
          "#8",
          "#22"
         ],
         "y": [
          5.7,
          9.7,
          9.3,
          5.3,
          12,
          2.8,
          6.9
         ]
        },
        {
         "name": "HARD",
         "text": [
          "Highline Trail",
          "The Garden Wall",
          "Swiftcurrent Pass Trail To Swiftcurrent Mountain",
          "Highline Trail to Granite Park",
          "Siyeh Pass Trail",
          "Scenic Point",
          "Dawson Pass and Pitamakan Pass Loop",
          "Apgar Lookout Trail"
         ],
         "textposition": "auto",
         "type": "bar",
         "uid": "9bbfb628-40f6-45df-a6b1-d92672495694",
         "x": [
          "#5",
          "#9",
          "#11",
          "#12",
          "#15",
          "#16",
          "#19",
          "#23"
         ],
         "y": [
          28.4,
          14.7,
          15.9,
          11.2,
          20.6,
          7.4,
          17.2,
          7.3
         ]
        }
       ],
       "layout": {
        "title": "distance_miles"
       }
      },
      "text/html": [
       "<div id=\"7ac567f8-9286-4d4e-bc2c-a8738121f8ef\" style=\"height: 525px; width: 100%;\" class=\"plotly-graph-div\"></div><script type=\"text/javascript\">require([\"plotly\"], function(Plotly) { window.PLOTLYENV=window.PLOTLYENV || {};window.PLOTLYENV.BASE_URL=\"https://plot.ly\";Plotly.newPlot(\"7ac567f8-9286-4d4e-bc2c-a8738121f8ef\", [{\"name\": \"EASY\", \"text\": [\"St. Mary and Virginia Falls Trail\", \"Grinnell Lake Trail\", \"Trail of the Cedars\", \"Going-to-the-Sun Road - West Glacier to Saint Mary Scenic Drive\", \"McDonald Creek Trail\", \"Redrock Falls via Swiftcurrent Pass\", \"Apikuni Falls Trail\", \"Running Eagle Falls Trail\", \"Johns Lake Loop\"], \"textposition\": \"auto\", \"x\": [\"#6\", \"#10\", \"#13\", \"#14\", \"#17\", \"#18\", \"#20\", \"#21\", \"#24\"], \"y\": [2.9, 7.1, 0.8, 49.0, 5.0, 3.6, 1.8, 0.6, 1.9], \"type\": \"bar\", \"uid\": \"09c6db9f-84f6-4eb7-abda-0f1c32dee1c2\"}, {\"name\": \"MODERATE\", \"text\": [\"Avalanche Lake via the Trail of the Cedars\", \"Grinnell Glacier Trail\", \"Iceberg Lake Trail\", \"Hidden Lake Trail\", \"Cracker Lake Trail\", \"Hidden Lake Overlook\", \"Bullhead Lake Trail\"], \"textposition\": \"auto\", \"x\": [\"#1\", \"#2\", \"#3\", \"#4\", \"#7\", \"#8\", \"#22\"], \"y\": [5.7, 9.7, 9.3, 5.3, 12.0, 2.8, 6.9], \"type\": \"bar\", \"uid\": \"efaca1d6-e584-425a-9f37-053b79d23f68\"}, {\"name\": \"HARD\", \"text\": [\"Highline Trail\", \"The Garden Wall\", \"Swiftcurrent Pass Trail To Swiftcurrent Mountain\", \"Highline Trail to Granite Park\", \"Siyeh Pass Trail\", \"Scenic Point\", \"Dawson Pass and Pitamakan Pass Loop\", \"Apgar Lookout Trail\"], \"textposition\": \"auto\", \"x\": [\"#5\", \"#9\", \"#11\", \"#12\", \"#15\", \"#16\", \"#19\", \"#23\"], \"y\": [28.4, 14.7, 15.9, 11.2, 20.6, 7.4, 17.2, 7.3], \"type\": \"bar\", \"uid\": \"9bbfb628-40f6-45df-a6b1-d92672495694\"}], {\"title\": \"distance_miles\"}, {\"showLink\": true, \"linkText\": \"Export to plot.ly\", \"plotlyServerURL\": \"https://plot.ly\"})});</script><script type=\"text/javascript\">window.addEventListener(\"resize\", function(){window._Plotly.Plots.resize(document.getElementById(\"7ac567f8-9286-4d4e-bc2c-a8738121f8ef\"));});</script>"
      ],
      "text/vnd.plotly.v1+html": [
       "<div id=\"7ac567f8-9286-4d4e-bc2c-a8738121f8ef\" style=\"height: 525px; width: 100%;\" class=\"plotly-graph-div\"></div><script type=\"text/javascript\">require([\"plotly\"], function(Plotly) { window.PLOTLYENV=window.PLOTLYENV || {};window.PLOTLYENV.BASE_URL=\"https://plot.ly\";Plotly.newPlot(\"7ac567f8-9286-4d4e-bc2c-a8738121f8ef\", [{\"name\": \"EASY\", \"text\": [\"St. Mary and Virginia Falls Trail\", \"Grinnell Lake Trail\", \"Trail of the Cedars\", \"Going-to-the-Sun Road - West Glacier to Saint Mary Scenic Drive\", \"McDonald Creek Trail\", \"Redrock Falls via Swiftcurrent Pass\", \"Apikuni Falls Trail\", \"Running Eagle Falls Trail\", \"Johns Lake Loop\"], \"textposition\": \"auto\", \"x\": [\"#6\", \"#10\", \"#13\", \"#14\", \"#17\", \"#18\", \"#20\", \"#21\", \"#24\"], \"y\": [2.9, 7.1, 0.8, 49.0, 5.0, 3.6, 1.8, 0.6, 1.9], \"type\": \"bar\", \"uid\": \"09c6db9f-84f6-4eb7-abda-0f1c32dee1c2\"}, {\"name\": \"MODERATE\", \"text\": [\"Avalanche Lake via the Trail of the Cedars\", \"Grinnell Glacier Trail\", \"Iceberg Lake Trail\", \"Hidden Lake Trail\", \"Cracker Lake Trail\", \"Hidden Lake Overlook\", \"Bullhead Lake Trail\"], \"textposition\": \"auto\", \"x\": [\"#1\", \"#2\", \"#3\", \"#4\", \"#7\", \"#8\", \"#22\"], \"y\": [5.7, 9.7, 9.3, 5.3, 12.0, 2.8, 6.9], \"type\": \"bar\", \"uid\": \"efaca1d6-e584-425a-9f37-053b79d23f68\"}, {\"name\": \"HARD\", \"text\": [\"Highline Trail\", \"The Garden Wall\", \"Swiftcurrent Pass Trail To Swiftcurrent Mountain\", \"Highline Trail to Granite Park\", \"Siyeh Pass Trail\", \"Scenic Point\", \"Dawson Pass and Pitamakan Pass Loop\", \"Apgar Lookout Trail\"], \"textposition\": \"auto\", \"x\": [\"#5\", \"#9\", \"#11\", \"#12\", \"#15\", \"#16\", \"#19\", \"#23\"], \"y\": [28.4, 14.7, 15.9, 11.2, 20.6, 7.4, 17.2, 7.3], \"type\": \"bar\", \"uid\": \"9bbfb628-40f6-45df-a6b1-d92672495694\"}], {\"title\": \"distance_miles\"}, {\"showLink\": true, \"linkText\": \"Export to plot.ly\", \"plotlyServerURL\": \"https://plot.ly\"})});</script><script type=\"text/javascript\">window.addEventListener(\"resize\", function(){window._Plotly.Plots.resize(document.getElementById(\"7ac567f8-9286-4d4e-bc2c-a8738121f8ef\"));});</script>"
      ]
     },
     "metadata": {},
     "output_type": "display_data"
    },
    {
     "data": {
      "application/vnd.plotly.v1+json": {
       "config": {
        "linkText": "Export to plot.ly",
        "plotlyServerURL": "https://plot.ly",
        "showLink": true
       },
       "data": [
        {
         "name": "EASY",
         "text": [
          "St. Mary and Virginia Falls Trail",
          "Grinnell Lake Trail",
          "Trail of the Cedars",
          "Going-to-the-Sun Road - West Glacier to Saint Mary Scenic Drive",
          "McDonald Creek Trail",
          "Redrock Falls via Swiftcurrent Pass",
          "Apikuni Falls Trail",
          "Running Eagle Falls Trail",
          "Johns Lake Loop"
         ],
         "textposition": "auto",
         "type": "bar",
         "uid": "337317f1-fd81-427a-afc8-4e7f6a627738",
         "x": [
          "#6",
          "#10",
          "#13",
          "#14",
          "#17",
          "#18",
          "#20",
          "#21",
          "#24"
         ],
         "y": [
          452,
          351,
          36,
          5603,
          213,
          236,
          613,
          26,
          183
         ]
        },
        {
         "name": "MODERATE",
         "text": [
          "Avalanche Lake via the Trail of the Cedars",
          "Grinnell Glacier Trail",
          "Iceberg Lake Trail",
          "Hidden Lake Trail",
          "Cracker Lake Trail",
          "Hidden Lake Overlook",
          "Bullhead Lake Trail"
         ],
         "textposition": "auto",
         "type": "bar",
         "uid": "a4d0d36f-4368-470b-8d6d-ec96bdcfff87",
         "x": [
          "#1",
          "#2",
          "#3",
          "#4",
          "#7",
          "#8",
          "#22"
         ],
         "y": [
          748,
          2040,
          1450,
          1374,
          1650,
          580,
          442
         ]
        },
        {
         "name": "HARD",
         "text": [
          "Highline Trail",
          "The Garden Wall",
          "Swiftcurrent Pass Trail To Swiftcurrent Mountain",
          "Highline Trail to Granite Park",
          "Siyeh Pass Trail",
          "Scenic Point",
          "Dawson Pass and Pitamakan Pass Loop",
          "Apgar Lookout Trail"
         ],
         "textposition": "auto",
         "type": "bar",
         "uid": "42a60536-a0f0-48ec-953e-cfc66bf16047",
         "x": [
          "#5",
          "#9",
          "#11",
          "#12",
          "#15",
          "#16",
          "#19",
          "#23"
         ],
         "y": [
          4895,
          3507,
          3766,
          1466,
          5551,
          2352,
          3641,
          1948
         ]
        }
       ],
       "layout": {
        "title": "elevation_feet"
       }
      },
      "text/html": [
       "<div id=\"1c7b279a-8682-4120-9a9f-3cb0ddc9dd03\" style=\"height: 525px; width: 100%;\" class=\"plotly-graph-div\"></div><script type=\"text/javascript\">require([\"plotly\"], function(Plotly) { window.PLOTLYENV=window.PLOTLYENV || {};window.PLOTLYENV.BASE_URL=\"https://plot.ly\";Plotly.newPlot(\"1c7b279a-8682-4120-9a9f-3cb0ddc9dd03\", [{\"name\": \"EASY\", \"text\": [\"St. Mary and Virginia Falls Trail\", \"Grinnell Lake Trail\", \"Trail of the Cedars\", \"Going-to-the-Sun Road - West Glacier to Saint Mary Scenic Drive\", \"McDonald Creek Trail\", \"Redrock Falls via Swiftcurrent Pass\", \"Apikuni Falls Trail\", \"Running Eagle Falls Trail\", \"Johns Lake Loop\"], \"textposition\": \"auto\", \"x\": [\"#6\", \"#10\", \"#13\", \"#14\", \"#17\", \"#18\", \"#20\", \"#21\", \"#24\"], \"y\": [452, 351, 36, 5603, 213, 236, 613, 26, 183], \"type\": \"bar\", \"uid\": \"337317f1-fd81-427a-afc8-4e7f6a627738\"}, {\"name\": \"MODERATE\", \"text\": [\"Avalanche Lake via the Trail of the Cedars\", \"Grinnell Glacier Trail\", \"Iceberg Lake Trail\", \"Hidden Lake Trail\", \"Cracker Lake Trail\", \"Hidden Lake Overlook\", \"Bullhead Lake Trail\"], \"textposition\": \"auto\", \"x\": [\"#1\", \"#2\", \"#3\", \"#4\", \"#7\", \"#8\", \"#22\"], \"y\": [748, 2040, 1450, 1374, 1650, 580, 442], \"type\": \"bar\", \"uid\": \"a4d0d36f-4368-470b-8d6d-ec96bdcfff87\"}, {\"name\": \"HARD\", \"text\": [\"Highline Trail\", \"The Garden Wall\", \"Swiftcurrent Pass Trail To Swiftcurrent Mountain\", \"Highline Trail to Granite Park\", \"Siyeh Pass Trail\", \"Scenic Point\", \"Dawson Pass and Pitamakan Pass Loop\", \"Apgar Lookout Trail\"], \"textposition\": \"auto\", \"x\": [\"#5\", \"#9\", \"#11\", \"#12\", \"#15\", \"#16\", \"#19\", \"#23\"], \"y\": [4895, 3507, 3766, 1466, 5551, 2352, 3641, 1948], \"type\": \"bar\", \"uid\": \"42a60536-a0f0-48ec-953e-cfc66bf16047\"}], {\"title\": \"elevation_feet\"}, {\"showLink\": true, \"linkText\": \"Export to plot.ly\", \"plotlyServerURL\": \"https://plot.ly\"})});</script><script type=\"text/javascript\">window.addEventListener(\"resize\", function(){window._Plotly.Plots.resize(document.getElementById(\"1c7b279a-8682-4120-9a9f-3cb0ddc9dd03\"));});</script>"
      ],
      "text/vnd.plotly.v1+html": [
       "<div id=\"1c7b279a-8682-4120-9a9f-3cb0ddc9dd03\" style=\"height: 525px; width: 100%;\" class=\"plotly-graph-div\"></div><script type=\"text/javascript\">require([\"plotly\"], function(Plotly) { window.PLOTLYENV=window.PLOTLYENV || {};window.PLOTLYENV.BASE_URL=\"https://plot.ly\";Plotly.newPlot(\"1c7b279a-8682-4120-9a9f-3cb0ddc9dd03\", [{\"name\": \"EASY\", \"text\": [\"St. Mary and Virginia Falls Trail\", \"Grinnell Lake Trail\", \"Trail of the Cedars\", \"Going-to-the-Sun Road - West Glacier to Saint Mary Scenic Drive\", \"McDonald Creek Trail\", \"Redrock Falls via Swiftcurrent Pass\", \"Apikuni Falls Trail\", \"Running Eagle Falls Trail\", \"Johns Lake Loop\"], \"textposition\": \"auto\", \"x\": [\"#6\", \"#10\", \"#13\", \"#14\", \"#17\", \"#18\", \"#20\", \"#21\", \"#24\"], \"y\": [452, 351, 36, 5603, 213, 236, 613, 26, 183], \"type\": \"bar\", \"uid\": \"337317f1-fd81-427a-afc8-4e7f6a627738\"}, {\"name\": \"MODERATE\", \"text\": [\"Avalanche Lake via the Trail of the Cedars\", \"Grinnell Glacier Trail\", \"Iceberg Lake Trail\", \"Hidden Lake Trail\", \"Cracker Lake Trail\", \"Hidden Lake Overlook\", \"Bullhead Lake Trail\"], \"textposition\": \"auto\", \"x\": [\"#1\", \"#2\", \"#3\", \"#4\", \"#7\", \"#8\", \"#22\"], \"y\": [748, 2040, 1450, 1374, 1650, 580, 442], \"type\": \"bar\", \"uid\": \"a4d0d36f-4368-470b-8d6d-ec96bdcfff87\"}, {\"name\": \"HARD\", \"text\": [\"Highline Trail\", \"The Garden Wall\", \"Swiftcurrent Pass Trail To Swiftcurrent Mountain\", \"Highline Trail to Granite Park\", \"Siyeh Pass Trail\", \"Scenic Point\", \"Dawson Pass and Pitamakan Pass Loop\", \"Apgar Lookout Trail\"], \"textposition\": \"auto\", \"x\": [\"#5\", \"#9\", \"#11\", \"#12\", \"#15\", \"#16\", \"#19\", \"#23\"], \"y\": [4895, 3507, 3766, 1466, 5551, 2352, 3641, 1948], \"type\": \"bar\", \"uid\": \"42a60536-a0f0-48ec-953e-cfc66bf16047\"}], {\"title\": \"elevation_feet\"}, {\"showLink\": true, \"linkText\": \"Export to plot.ly\", \"plotlyServerURL\": \"https://plot.ly\"})});</script><script type=\"text/javascript\">window.addEventListener(\"resize\", function(){window._Plotly.Plots.resize(document.getElementById(\"1c7b279a-8682-4120-9a9f-3cb0ddc9dd03\"));});</script>"
      ]
     },
     "metadata": {},
     "output_type": "display_data"
    },
    {
     "data": {
      "application/vnd.plotly.v1+json": {
       "config": {
        "linkText": "Export to plot.ly",
        "plotlyServerURL": "https://plot.ly",
        "showLink": true
       },
       "data": [
        {
         "name": "EASY",
         "text": [
          "St. Mary and Virginia Falls Trail",
          "Grinnell Lake Trail",
          "Trail of the Cedars",
          "Going-to-the-Sun Road - West Glacier to Saint Mary Scenic Drive",
          "McDonald Creek Trail",
          "Redrock Falls via Swiftcurrent Pass",
          "Apikuni Falls Trail",
          "Running Eagle Falls Trail",
          "Johns Lake Loop"
         ],
         "textposition": "auto",
         "type": "bar",
         "uid": "9aa88c8c-0488-40e7-889d-ac519688ad16",
         "x": [
          "#6",
          "#10",
          "#13",
          "#14",
          "#17",
          "#18",
          "#20",
          "#21",
          "#24"
         ],
         "y": [
          "4.5",
          "4.5",
          "4",
          "5",
          "4.5",
          "4.5",
          "4.5",
          "4.5",
          "4"
         ]
        },
        {
         "name": "MODERATE",
         "text": [
          "Avalanche Lake via the Trail of the Cedars",
          "Grinnell Glacier Trail",
          "Iceberg Lake Trail",
          "Hidden Lake Trail",
          "Cracker Lake Trail",
          "Hidden Lake Overlook",
          "Bullhead Lake Trail"
         ],
         "textposition": "auto",
         "type": "bar",
         "uid": "0541c4db-5d01-4b35-b50a-2dcb52708661",
         "x": [
          "#1",
          "#2",
          "#3",
          "#4",
          "#7",
          "#8",
          "#22"
         ],
         "y": [
          "4.5",
          "5",
          "5",
          "4.5",
          "4.5",
          "4.5",
          "4.5"
         ]
        },
        {
         "name": "HARD",
         "text": [
          "Highline Trail",
          "The Garden Wall",
          "Swiftcurrent Pass Trail To Swiftcurrent Mountain",
          "Highline Trail to Granite Park",
          "Siyeh Pass Trail",
          "Scenic Point",
          "Dawson Pass and Pitamakan Pass Loop",
          "Apgar Lookout Trail"
         ],
         "textposition": "auto",
         "type": "bar",
         "uid": "8bd1bc3c-8e74-4ebf-9cca-a7c1edf37ee2",
         "x": [
          "#5",
          "#9",
          "#11",
          "#12",
          "#15",
          "#16",
          "#19",
          "#23"
         ],
         "y": [
          "5",
          "5",
          "5",
          "5",
          "5",
          "5",
          "5",
          "4"
         ]
        }
       ],
       "layout": {
        "title": "rating"
       }
      },
      "text/html": [
       "<div id=\"976e5a46-f1b8-465d-aaf7-346695542e94\" style=\"height: 525px; width: 100%;\" class=\"plotly-graph-div\"></div><script type=\"text/javascript\">require([\"plotly\"], function(Plotly) { window.PLOTLYENV=window.PLOTLYENV || {};window.PLOTLYENV.BASE_URL=\"https://plot.ly\";Plotly.newPlot(\"976e5a46-f1b8-465d-aaf7-346695542e94\", [{\"name\": \"EASY\", \"text\": [\"St. Mary and Virginia Falls Trail\", \"Grinnell Lake Trail\", \"Trail of the Cedars\", \"Going-to-the-Sun Road - West Glacier to Saint Mary Scenic Drive\", \"McDonald Creek Trail\", \"Redrock Falls via Swiftcurrent Pass\", \"Apikuni Falls Trail\", \"Running Eagle Falls Trail\", \"Johns Lake Loop\"], \"textposition\": \"auto\", \"x\": [\"#6\", \"#10\", \"#13\", \"#14\", \"#17\", \"#18\", \"#20\", \"#21\", \"#24\"], \"y\": [\"4.5\", \"4.5\", \"4\", \"5\", \"4.5\", \"4.5\", \"4.5\", \"4.5\", \"4\"], \"type\": \"bar\", \"uid\": \"9aa88c8c-0488-40e7-889d-ac519688ad16\"}, {\"name\": \"MODERATE\", \"text\": [\"Avalanche Lake via the Trail of the Cedars\", \"Grinnell Glacier Trail\", \"Iceberg Lake Trail\", \"Hidden Lake Trail\", \"Cracker Lake Trail\", \"Hidden Lake Overlook\", \"Bullhead Lake Trail\"], \"textposition\": \"auto\", \"x\": [\"#1\", \"#2\", \"#3\", \"#4\", \"#7\", \"#8\", \"#22\"], \"y\": [\"4.5\", \"5\", \"5\", \"4.5\", \"4.5\", \"4.5\", \"4.5\"], \"type\": \"bar\", \"uid\": \"0541c4db-5d01-4b35-b50a-2dcb52708661\"}, {\"name\": \"HARD\", \"text\": [\"Highline Trail\", \"The Garden Wall\", \"Swiftcurrent Pass Trail To Swiftcurrent Mountain\", \"Highline Trail to Granite Park\", \"Siyeh Pass Trail\", \"Scenic Point\", \"Dawson Pass and Pitamakan Pass Loop\", \"Apgar Lookout Trail\"], \"textposition\": \"auto\", \"x\": [\"#5\", \"#9\", \"#11\", \"#12\", \"#15\", \"#16\", \"#19\", \"#23\"], \"y\": [\"5\", \"5\", \"5\", \"5\", \"5\", \"5\", \"5\", \"4\"], \"type\": \"bar\", \"uid\": \"8bd1bc3c-8e74-4ebf-9cca-a7c1edf37ee2\"}], {\"title\": \"rating\"}, {\"showLink\": true, \"linkText\": \"Export to plot.ly\", \"plotlyServerURL\": \"https://plot.ly\"})});</script><script type=\"text/javascript\">window.addEventListener(\"resize\", function(){window._Plotly.Plots.resize(document.getElementById(\"976e5a46-f1b8-465d-aaf7-346695542e94\"));});</script>"
      ],
      "text/vnd.plotly.v1+html": [
       "<div id=\"976e5a46-f1b8-465d-aaf7-346695542e94\" style=\"height: 525px; width: 100%;\" class=\"plotly-graph-div\"></div><script type=\"text/javascript\">require([\"plotly\"], function(Plotly) { window.PLOTLYENV=window.PLOTLYENV || {};window.PLOTLYENV.BASE_URL=\"https://plot.ly\";Plotly.newPlot(\"976e5a46-f1b8-465d-aaf7-346695542e94\", [{\"name\": \"EASY\", \"text\": [\"St. Mary and Virginia Falls Trail\", \"Grinnell Lake Trail\", \"Trail of the Cedars\", \"Going-to-the-Sun Road - West Glacier to Saint Mary Scenic Drive\", \"McDonald Creek Trail\", \"Redrock Falls via Swiftcurrent Pass\", \"Apikuni Falls Trail\", \"Running Eagle Falls Trail\", \"Johns Lake Loop\"], \"textposition\": \"auto\", \"x\": [\"#6\", \"#10\", \"#13\", \"#14\", \"#17\", \"#18\", \"#20\", \"#21\", \"#24\"], \"y\": [\"4.5\", \"4.5\", \"4\", \"5\", \"4.5\", \"4.5\", \"4.5\", \"4.5\", \"4\"], \"type\": \"bar\", \"uid\": \"9aa88c8c-0488-40e7-889d-ac519688ad16\"}, {\"name\": \"MODERATE\", \"text\": [\"Avalanche Lake via the Trail of the Cedars\", \"Grinnell Glacier Trail\", \"Iceberg Lake Trail\", \"Hidden Lake Trail\", \"Cracker Lake Trail\", \"Hidden Lake Overlook\", \"Bullhead Lake Trail\"], \"textposition\": \"auto\", \"x\": [\"#1\", \"#2\", \"#3\", \"#4\", \"#7\", \"#8\", \"#22\"], \"y\": [\"4.5\", \"5\", \"5\", \"4.5\", \"4.5\", \"4.5\", \"4.5\"], \"type\": \"bar\", \"uid\": \"0541c4db-5d01-4b35-b50a-2dcb52708661\"}, {\"name\": \"HARD\", \"text\": [\"Highline Trail\", \"The Garden Wall\", \"Swiftcurrent Pass Trail To Swiftcurrent Mountain\", \"Highline Trail to Granite Park\", \"Siyeh Pass Trail\", \"Scenic Point\", \"Dawson Pass and Pitamakan Pass Loop\", \"Apgar Lookout Trail\"], \"textposition\": \"auto\", \"x\": [\"#5\", \"#9\", \"#11\", \"#12\", \"#15\", \"#16\", \"#19\", \"#23\"], \"y\": [\"5\", \"5\", \"5\", \"5\", \"5\", \"5\", \"5\", \"4\"], \"type\": \"bar\", \"uid\": \"8bd1bc3c-8e74-4ebf-9cca-a7c1edf37ee2\"}], {\"title\": \"rating\"}, {\"showLink\": true, \"linkText\": \"Export to plot.ly\", \"plotlyServerURL\": \"https://plot.ly\"})});</script><script type=\"text/javascript\">window.addEventListener(\"resize\", function(){window._Plotly.Plots.resize(document.getElementById(\"976e5a46-f1b8-465d-aaf7-346695542e94\"));});</script>"
      ]
     },
     "metadata": {},
     "output_type": "display_data"
    }
   ],
   "source": [
    "columns = ['num_reviews','duration_hours','elevation_per_mile','distance_miles','elevation_feet','rating']\n",
    "for col in columns:\n",
    "    t1 = go.Bar(x= df[df.difficulty == 'EASY']['ranking'],\n",
    "                y= df[df.difficulty == 'EASY'][col],\n",
    "                text=df[df.difficulty == 'EASY']['name'],\n",
    "                textposition = 'auto',\n",
    "                name='EASY')\n",
    "\n",
    "    t2 = go.Bar(x= df[df.difficulty == 'MODERATE']['ranking'],\n",
    "                y= df[df.difficulty == 'MODERATE'][col],\n",
    "                text=df[df.difficulty == 'MODERATE']['name'],\n",
    "                textposition = 'auto',\n",
    "                name='MODERATE')\n",
    "\n",
    "    t3 = go.Bar(x= df[df.difficulty == 'HARD']['ranking'],\n",
    "                y= df[df.difficulty == 'HARD'][col],\n",
    "                text=df[df.difficulty == 'HARD']['name'],\n",
    "                textposition = 'auto',\n",
    "                name='HARD')\n",
    "    data = [t1,t2,t3]\n",
    "    layout = go.Layout(title=col)\n",
    "    fig = go.Figure(data,layout)\n",
    "    py.iplot(fig)"
   ]
  },
  {
   "cell_type": "code",
   "execution_count": 468,
   "metadata": {},
   "outputs": [
    {
     "data": {
      "text/html": [
       "<div>\n",
       "<style scoped>\n",
       "    .dataframe tbody tr th:only-of-type {\n",
       "        vertical-align: middle;\n",
       "    }\n",
       "\n",
       "    .dataframe tbody tr th {\n",
       "        vertical-align: top;\n",
       "    }\n",
       "\n",
       "    .dataframe thead th {\n",
       "        text-align: right;\n",
       "    }\n",
       "</style>\n",
       "<table border=\"1\" class=\"dataframe\">\n",
       "  <thead>\n",
       "    <tr style=\"text-align: right;\">\n",
       "      <th></th>\n",
       "      <th>ranking</th>\n",
       "      <th>num_reviews</th>\n",
       "      <th>name</th>\n",
       "      <th>difficulty</th>\n",
       "      <th>duration_hours</th>\n",
       "      <th>elevation_per_mile</th>\n",
       "      <th>distance_miles</th>\n",
       "      <th>elevation_feet</th>\n",
       "      <th>route_type</th>\n",
       "      <th>rating</th>\n",
       "      <th>location</th>\n",
       "      <th>link</th>\n",
       "    </tr>\n",
       "  </thead>\n",
       "  <tbody>\n",
       "    <tr>\n",
       "      <th>0</th>\n",
       "      <td>#1</td>\n",
       "      <td>926</td>\n",
       "      <td>Avalanche Lake via the Trail of the Cedars</td>\n",
       "      <td>MODERATE</td>\n",
       "      <td>2.85</td>\n",
       "      <td>131.228070</td>\n",
       "      <td>5.7</td>\n",
       "      <td>748</td>\n",
       "      <td>Out &amp; Back</td>\n",
       "      <td>4.5</td>\n",
       "      <td>Essex, Montana</td>\n",
       "      <td>https://www.alltrails.com/trail/us/montana/ava...</td>\n",
       "    </tr>\n",
       "    <tr>\n",
       "      <th>1</th>\n",
       "      <td>#2</td>\n",
       "      <td>690</td>\n",
       "      <td>Grinnell Glacier Trail</td>\n",
       "      <td>MODERATE</td>\n",
       "      <td>4.85</td>\n",
       "      <td>210.309278</td>\n",
       "      <td>9.7</td>\n",
       "      <td>2040</td>\n",
       "      <td>Out &amp; Back</td>\n",
       "      <td>5</td>\n",
       "      <td>Browning, Montana</td>\n",
       "      <td>https://www.alltrails.com/trail/us/montana/gri...</td>\n",
       "    </tr>\n",
       "    <tr>\n",
       "      <th>2</th>\n",
       "      <td>#3</td>\n",
       "      <td>835</td>\n",
       "      <td>Iceberg Lake Trail</td>\n",
       "      <td>MODERATE</td>\n",
       "      <td>4.65</td>\n",
       "      <td>155.913978</td>\n",
       "      <td>9.3</td>\n",
       "      <td>1450</td>\n",
       "      <td>Out &amp; Back</td>\n",
       "      <td>5</td>\n",
       "      <td>Browning, Montana</td>\n",
       "      <td>https://www.alltrails.com/trail/us/montana/ice...</td>\n",
       "    </tr>\n",
       "    <tr>\n",
       "      <th>3</th>\n",
       "      <td>#4</td>\n",
       "      <td>480</td>\n",
       "      <td>Hidden Lake Trail</td>\n",
       "      <td>MODERATE</td>\n",
       "      <td>2.65</td>\n",
       "      <td>259.245283</td>\n",
       "      <td>5.3</td>\n",
       "      <td>1374</td>\n",
       "      <td>Out &amp; Back</td>\n",
       "      <td>4.5</td>\n",
       "      <td>East Glacier Park Village, Montana</td>\n",
       "      <td>https://www.alltrails.com/trail/us/montana/hid...</td>\n",
       "    </tr>\n",
       "    <tr>\n",
       "      <th>4</th>\n",
       "      <td>#5</td>\n",
       "      <td>304</td>\n",
       "      <td>Highline Trail</td>\n",
       "      <td>HARD</td>\n",
       "      <td>14.20</td>\n",
       "      <td>172.359155</td>\n",
       "      <td>28.4</td>\n",
       "      <td>4895</td>\n",
       "      <td>Out &amp; Back</td>\n",
       "      <td>5</td>\n",
       "      <td>Browning, Montana</td>\n",
       "      <td>https://www.alltrails.com/trail/us/montana/hig...</td>\n",
       "    </tr>\n",
       "    <tr>\n",
       "      <th>5</th>\n",
       "      <td>#6</td>\n",
       "      <td>361</td>\n",
       "      <td>St. Mary and Virginia Falls Trail</td>\n",
       "      <td>EASY</td>\n",
       "      <td>1.45</td>\n",
       "      <td>155.862069</td>\n",
       "      <td>2.9</td>\n",
       "      <td>452</td>\n",
       "      <td>Out &amp; Back</td>\n",
       "      <td>4.5</td>\n",
       "      <td>East Glacier Park Village, Montana</td>\n",
       "      <td>https://www.alltrails.com/trail/us/montana/st-...</td>\n",
       "    </tr>\n",
       "    <tr>\n",
       "      <th>6</th>\n",
       "      <td>#7</td>\n",
       "      <td>384</td>\n",
       "      <td>Cracker Lake Trail</td>\n",
       "      <td>MODERATE</td>\n",
       "      <td>6.00</td>\n",
       "      <td>137.500000</td>\n",
       "      <td>12.0</td>\n",
       "      <td>1650</td>\n",
       "      <td>Out &amp; Back</td>\n",
       "      <td>4.5</td>\n",
       "      <td>Browning, Montana</td>\n",
       "      <td>https://www.alltrails.com/trail/us/montana/cra...</td>\n",
       "    </tr>\n",
       "    <tr>\n",
       "      <th>7</th>\n",
       "      <td>#8</td>\n",
       "      <td>276</td>\n",
       "      <td>Hidden Lake Overlook</td>\n",
       "      <td>MODERATE</td>\n",
       "      <td>1.40</td>\n",
       "      <td>207.142857</td>\n",
       "      <td>2.8</td>\n",
       "      <td>580</td>\n",
       "      <td>Out &amp; Back</td>\n",
       "      <td>4.5</td>\n",
       "      <td>East Glacier Park Village, Montana</td>\n",
       "      <td>https://www.alltrails.com/trail/us/montana/hid...</td>\n",
       "    </tr>\n",
       "    <tr>\n",
       "      <th>8</th>\n",
       "      <td>#9</td>\n",
       "      <td>288</td>\n",
       "      <td>The Garden Wall</td>\n",
       "      <td>HARD</td>\n",
       "      <td>7.35</td>\n",
       "      <td>238.571429</td>\n",
       "      <td>14.7</td>\n",
       "      <td>3507</td>\n",
       "      <td>Out &amp; Back</td>\n",
       "      <td>5</td>\n",
       "      <td>West Glacier, Montana</td>\n",
       "      <td>https://www.alltrails.com/trail/us/montana/the...</td>\n",
       "    </tr>\n",
       "    <tr>\n",
       "      <th>9</th>\n",
       "      <td>#10</td>\n",
       "      <td>239</td>\n",
       "      <td>Grinnell Lake Trail</td>\n",
       "      <td>EASY</td>\n",
       "      <td>3.55</td>\n",
       "      <td>49.436620</td>\n",
       "      <td>7.1</td>\n",
       "      <td>351</td>\n",
       "      <td>Loop</td>\n",
       "      <td>4.5</td>\n",
       "      <td>Browning, Montana</td>\n",
       "      <td>https://www.alltrails.com/trail/us/montana/gri...</td>\n",
       "    </tr>\n",
       "    <tr>\n",
       "      <th>10</th>\n",
       "      <td>#11</td>\n",
       "      <td>320</td>\n",
       "      <td>Swiftcurrent Pass Trail To Swiftcurrent Mountain</td>\n",
       "      <td>HARD</td>\n",
       "      <td>7.95</td>\n",
       "      <td>236.855346</td>\n",
       "      <td>15.9</td>\n",
       "      <td>3766</td>\n",
       "      <td>Out &amp; Back</td>\n",
       "      <td>5</td>\n",
       "      <td>Browning, Montana</td>\n",
       "      <td>https://www.alltrails.com/trail/us/montana/swi...</td>\n",
       "    </tr>\n",
       "    <tr>\n",
       "      <th>11</th>\n",
       "      <td>#12</td>\n",
       "      <td>168</td>\n",
       "      <td>Highline Trail to Granite Park</td>\n",
       "      <td>HARD</td>\n",
       "      <td>5.60</td>\n",
       "      <td>130.892857</td>\n",
       "      <td>11.2</td>\n",
       "      <td>1466</td>\n",
       "      <td>Point to Point</td>\n",
       "      <td>5</td>\n",
       "      <td>East Glacier Park Village, Montana</td>\n",
       "      <td>https://www.alltrails.com/trail/us/montana/hig...</td>\n",
       "    </tr>\n",
       "    <tr>\n",
       "      <th>12</th>\n",
       "      <td>#13</td>\n",
       "      <td>163</td>\n",
       "      <td>Trail of the Cedars</td>\n",
       "      <td>EASY</td>\n",
       "      <td>0.40</td>\n",
       "      <td>45.000000</td>\n",
       "      <td>0.8</td>\n",
       "      <td>36</td>\n",
       "      <td>Loop</td>\n",
       "      <td>4</td>\n",
       "      <td>West Glacier, Montana</td>\n",
       "      <td>https://www.alltrails.com/trail/us/montana/tra...</td>\n",
       "    </tr>\n",
       "    <tr>\n",
       "      <th>13</th>\n",
       "      <td>#14</td>\n",
       "      <td>220</td>\n",
       "      <td>Going-to-the-Sun Road - West Glacier to Saint ...</td>\n",
       "      <td>EASY</td>\n",
       "      <td>24.50</td>\n",
       "      <td>114.346939</td>\n",
       "      <td>49.0</td>\n",
       "      <td>5603</td>\n",
       "      <td>Point to Point</td>\n",
       "      <td>5</td>\n",
       "      <td>West Glacier, Montana</td>\n",
       "      <td>https://www.alltrails.com/trail/us/montana/goi...</td>\n",
       "    </tr>\n",
       "    <tr>\n",
       "      <th>14</th>\n",
       "      <td>#15</td>\n",
       "      <td>187</td>\n",
       "      <td>Siyeh Pass Trail</td>\n",
       "      <td>HARD</td>\n",
       "      <td>10.30</td>\n",
       "      <td>269.466019</td>\n",
       "      <td>20.6</td>\n",
       "      <td>5551</td>\n",
       "      <td>Out &amp; Back</td>\n",
       "      <td>5</td>\n",
       "      <td>East Glacier Park Village, Montana</td>\n",
       "      <td>https://www.alltrails.com/trail/us/montana/siy...</td>\n",
       "    </tr>\n",
       "    <tr>\n",
       "      <th>15</th>\n",
       "      <td>#16</td>\n",
       "      <td>215</td>\n",
       "      <td>Scenic Point</td>\n",
       "      <td>HARD</td>\n",
       "      <td>3.70</td>\n",
       "      <td>317.837838</td>\n",
       "      <td>7.4</td>\n",
       "      <td>2352</td>\n",
       "      <td>Out &amp; Back</td>\n",
       "      <td>5</td>\n",
       "      <td>East Glacier Park Village, Montana</td>\n",
       "      <td>https://www.alltrails.com/trail/us/montana/sce...</td>\n",
       "    </tr>\n",
       "    <tr>\n",
       "      <th>16</th>\n",
       "      <td>#17</td>\n",
       "      <td>131</td>\n",
       "      <td>McDonald Creek Trail</td>\n",
       "      <td>EASY</td>\n",
       "      <td>2.50</td>\n",
       "      <td>42.600000</td>\n",
       "      <td>5.0</td>\n",
       "      <td>213</td>\n",
       "      <td>Out &amp; Back</td>\n",
       "      <td>4.5</td>\n",
       "      <td>Essex, Montana</td>\n",
       "      <td>https://www.alltrails.com/trail/us/montana/mcd...</td>\n",
       "    </tr>\n",
       "    <tr>\n",
       "      <th>17</th>\n",
       "      <td>#18</td>\n",
       "      <td>136</td>\n",
       "      <td>Redrock Falls via Swiftcurrent Pass</td>\n",
       "      <td>EASY</td>\n",
       "      <td>1.80</td>\n",
       "      <td>65.555556</td>\n",
       "      <td>3.6</td>\n",
       "      <td>236</td>\n",
       "      <td>Out &amp; Back</td>\n",
       "      <td>4.5</td>\n",
       "      <td>Browning, Montana</td>\n",
       "      <td>https://www.alltrails.com/trail/us/montana/red...</td>\n",
       "    </tr>\n",
       "    <tr>\n",
       "      <th>18</th>\n",
       "      <td>#19</td>\n",
       "      <td>143</td>\n",
       "      <td>Dawson Pass and Pitamakan Pass Loop</td>\n",
       "      <td>HARD</td>\n",
       "      <td>8.60</td>\n",
       "      <td>211.686047</td>\n",
       "      <td>17.2</td>\n",
       "      <td>3641</td>\n",
       "      <td>Loop</td>\n",
       "      <td>5</td>\n",
       "      <td>East Glacier Park Village, Montana</td>\n",
       "      <td>https://www.alltrails.com/trail/us/montana/daw...</td>\n",
       "    </tr>\n",
       "    <tr>\n",
       "      <th>19</th>\n",
       "      <td>#20</td>\n",
       "      <td>125</td>\n",
       "      <td>Apikuni Falls Trail</td>\n",
       "      <td>EASY</td>\n",
       "      <td>0.90</td>\n",
       "      <td>340.555556</td>\n",
       "      <td>1.8</td>\n",
       "      <td>613</td>\n",
       "      <td>Out &amp; Back</td>\n",
       "      <td>4.5</td>\n",
       "      <td>Browning, Montana</td>\n",
       "      <td>https://www.alltrails.com/trail/us/montana/api...</td>\n",
       "    </tr>\n",
       "    <tr>\n",
       "      <th>20</th>\n",
       "      <td>#21</td>\n",
       "      <td>128</td>\n",
       "      <td>Running Eagle Falls Trail</td>\n",
       "      <td>EASY</td>\n",
       "      <td>0.30</td>\n",
       "      <td>43.333333</td>\n",
       "      <td>0.6</td>\n",
       "      <td>26</td>\n",
       "      <td>Loop</td>\n",
       "      <td>4.5</td>\n",
       "      <td>East Glacier Park Village, Montana</td>\n",
       "      <td>https://www.alltrails.com/trail/us/montana/run...</td>\n",
       "    </tr>\n",
       "    <tr>\n",
       "      <th>21</th>\n",
       "      <td>#22</td>\n",
       "      <td>92</td>\n",
       "      <td>Bullhead Lake Trail</td>\n",
       "      <td>MODERATE</td>\n",
       "      <td>3.45</td>\n",
       "      <td>64.057971</td>\n",
       "      <td>6.9</td>\n",
       "      <td>442</td>\n",
       "      <td>Out &amp; Back</td>\n",
       "      <td>4.5</td>\n",
       "      <td>Browning, Montana</td>\n",
       "      <td>https://www.alltrails.com/trail/us/montana/bul...</td>\n",
       "    </tr>\n",
       "    <tr>\n",
       "      <th>22</th>\n",
       "      <td>#23</td>\n",
       "      <td>72</td>\n",
       "      <td>Apgar Lookout Trail</td>\n",
       "      <td>HARD</td>\n",
       "      <td>3.65</td>\n",
       "      <td>266.849315</td>\n",
       "      <td>7.3</td>\n",
       "      <td>1948</td>\n",
       "      <td>Out &amp; Back</td>\n",
       "      <td>4</td>\n",
       "      <td>Columbia Falls, Montana</td>\n",
       "      <td>https://www.alltrails.com/trail/us/montana/apg...</td>\n",
       "    </tr>\n",
       "    <tr>\n",
       "      <th>23</th>\n",
       "      <td>#24</td>\n",
       "      <td>124</td>\n",
       "      <td>Johns Lake Loop</td>\n",
       "      <td>EASY</td>\n",
       "      <td>0.95</td>\n",
       "      <td>96.315789</td>\n",
       "      <td>1.9</td>\n",
       "      <td>183</td>\n",
       "      <td>Loop</td>\n",
       "      <td>4</td>\n",
       "      <td>Essex, Montana</td>\n",
       "      <td>https://www.alltrails.com/trail/us/montana/joh...</td>\n",
       "    </tr>\n",
       "  </tbody>\n",
       "</table>\n",
       "</div>"
      ],
      "text/plain": [
       "   ranking  num_reviews                                               name  \\\n",
       "0       #1          926         Avalanche Lake via the Trail of the Cedars   \n",
       "1       #2          690                             Grinnell Glacier Trail   \n",
       "2       #3          835                                 Iceberg Lake Trail   \n",
       "3       #4          480                                  Hidden Lake Trail   \n",
       "4       #5          304                                     Highline Trail   \n",
       "5       #6          361                  St. Mary and Virginia Falls Trail   \n",
       "6       #7          384                                 Cracker Lake Trail   \n",
       "7       #8          276                               Hidden Lake Overlook   \n",
       "8       #9          288                                    The Garden Wall   \n",
       "9      #10          239                                Grinnell Lake Trail   \n",
       "10     #11          320   Swiftcurrent Pass Trail To Swiftcurrent Mountain   \n",
       "11     #12          168                     Highline Trail to Granite Park   \n",
       "12     #13          163                                Trail of the Cedars   \n",
       "13     #14          220  Going-to-the-Sun Road - West Glacier to Saint ...   \n",
       "14     #15          187                                   Siyeh Pass Trail   \n",
       "15     #16          215                                       Scenic Point   \n",
       "16     #17          131                               McDonald Creek Trail   \n",
       "17     #18          136                Redrock Falls via Swiftcurrent Pass   \n",
       "18     #19          143                Dawson Pass and Pitamakan Pass Loop   \n",
       "19     #20          125                                Apikuni Falls Trail   \n",
       "20     #21          128                          Running Eagle Falls Trail   \n",
       "21     #22           92                                Bullhead Lake Trail   \n",
       "22     #23           72                                Apgar Lookout Trail   \n",
       "23     #24          124                                    Johns Lake Loop   \n",
       "\n",
       "   difficulty  duration_hours  elevation_per_mile  distance_miles  \\\n",
       "0    MODERATE            2.85          131.228070             5.7   \n",
       "1    MODERATE            4.85          210.309278             9.7   \n",
       "2    MODERATE            4.65          155.913978             9.3   \n",
       "3    MODERATE            2.65          259.245283             5.3   \n",
       "4        HARD           14.20          172.359155            28.4   \n",
       "5        EASY            1.45          155.862069             2.9   \n",
       "6    MODERATE            6.00          137.500000            12.0   \n",
       "7    MODERATE            1.40          207.142857             2.8   \n",
       "8        HARD            7.35          238.571429            14.7   \n",
       "9        EASY            3.55           49.436620             7.1   \n",
       "10       HARD            7.95          236.855346            15.9   \n",
       "11       HARD            5.60          130.892857            11.2   \n",
       "12       EASY            0.40           45.000000             0.8   \n",
       "13       EASY           24.50          114.346939            49.0   \n",
       "14       HARD           10.30          269.466019            20.6   \n",
       "15       HARD            3.70          317.837838             7.4   \n",
       "16       EASY            2.50           42.600000             5.0   \n",
       "17       EASY            1.80           65.555556             3.6   \n",
       "18       HARD            8.60          211.686047            17.2   \n",
       "19       EASY            0.90          340.555556             1.8   \n",
       "20       EASY            0.30           43.333333             0.6   \n",
       "21   MODERATE            3.45           64.057971             6.9   \n",
       "22       HARD            3.65          266.849315             7.3   \n",
       "23       EASY            0.95           96.315789             1.9   \n",
       "\n",
       "    elevation_feet      route_type rating                            location  \\\n",
       "0              748      Out & Back    4.5                      Essex, Montana   \n",
       "1             2040      Out & Back      5                   Browning, Montana   \n",
       "2             1450      Out & Back      5                   Browning, Montana   \n",
       "3             1374      Out & Back    4.5  East Glacier Park Village, Montana   \n",
       "4             4895      Out & Back      5                   Browning, Montana   \n",
       "5              452      Out & Back    4.5  East Glacier Park Village, Montana   \n",
       "6             1650      Out & Back    4.5                   Browning, Montana   \n",
       "7              580      Out & Back    4.5  East Glacier Park Village, Montana   \n",
       "8             3507      Out & Back      5               West Glacier, Montana   \n",
       "9              351            Loop    4.5                   Browning, Montana   \n",
       "10            3766      Out & Back      5                   Browning, Montana   \n",
       "11            1466  Point to Point      5  East Glacier Park Village, Montana   \n",
       "12              36            Loop      4               West Glacier, Montana   \n",
       "13            5603  Point to Point      5               West Glacier, Montana   \n",
       "14            5551      Out & Back      5  East Glacier Park Village, Montana   \n",
       "15            2352      Out & Back      5  East Glacier Park Village, Montana   \n",
       "16             213      Out & Back    4.5                      Essex, Montana   \n",
       "17             236      Out & Back    4.5                   Browning, Montana   \n",
       "18            3641            Loop      5  East Glacier Park Village, Montana   \n",
       "19             613      Out & Back    4.5                   Browning, Montana   \n",
       "20              26            Loop    4.5  East Glacier Park Village, Montana   \n",
       "21             442      Out & Back    4.5                   Browning, Montana   \n",
       "22            1948      Out & Back      4             Columbia Falls, Montana   \n",
       "23             183            Loop      4                      Essex, Montana   \n",
       "\n",
       "                                                 link  \n",
       "0   https://www.alltrails.com/trail/us/montana/ava...  \n",
       "1   https://www.alltrails.com/trail/us/montana/gri...  \n",
       "2   https://www.alltrails.com/trail/us/montana/ice...  \n",
       "3   https://www.alltrails.com/trail/us/montana/hid...  \n",
       "4   https://www.alltrails.com/trail/us/montana/hig...  \n",
       "5   https://www.alltrails.com/trail/us/montana/st-...  \n",
       "6   https://www.alltrails.com/trail/us/montana/cra...  \n",
       "7   https://www.alltrails.com/trail/us/montana/hid...  \n",
       "8   https://www.alltrails.com/trail/us/montana/the...  \n",
       "9   https://www.alltrails.com/trail/us/montana/gri...  \n",
       "10  https://www.alltrails.com/trail/us/montana/swi...  \n",
       "11  https://www.alltrails.com/trail/us/montana/hig...  \n",
       "12  https://www.alltrails.com/trail/us/montana/tra...  \n",
       "13  https://www.alltrails.com/trail/us/montana/goi...  \n",
       "14  https://www.alltrails.com/trail/us/montana/siy...  \n",
       "15  https://www.alltrails.com/trail/us/montana/sce...  \n",
       "16  https://www.alltrails.com/trail/us/montana/mcd...  \n",
       "17  https://www.alltrails.com/trail/us/montana/red...  \n",
       "18  https://www.alltrails.com/trail/us/montana/daw...  \n",
       "19  https://www.alltrails.com/trail/us/montana/api...  \n",
       "20  https://www.alltrails.com/trail/us/montana/run...  \n",
       "21  https://www.alltrails.com/trail/us/montana/bul...  \n",
       "22  https://www.alltrails.com/trail/us/montana/apg...  \n",
       "23  https://www.alltrails.com/trail/us/montana/joh...  "
      ]
     },
     "execution_count": 468,
     "metadata": {},
     "output_type": "execute_result"
    }
   ],
   "source": [
    "df"
   ]
  },
  {
   "cell_type": "code",
   "execution_count": null,
   "metadata": {},
   "outputs": [],
   "source": []
  }
 ],
 "metadata": {
  "kernelspec": {
   "display_name": "Python 3",
   "language": "python",
   "name": "python3"
  },
  "language_info": {
   "codemirror_mode": {
    "name": "ipython",
    "version": 3
   },
   "file_extension": ".py",
   "mimetype": "text/x-python",
   "name": "python",
   "nbconvert_exporter": "python",
   "pygments_lexer": "ipython3",
   "version": "3.6.8"
  }
 },
 "nbformat": 4,
 "nbformat_minor": 2
}
