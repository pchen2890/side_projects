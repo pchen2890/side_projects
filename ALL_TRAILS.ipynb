{
 "cells": [
  {
   "cell_type": "code",
   "execution_count": 1,
   "metadata": {},
   "outputs": [],
   "source": [
    "import pandas as pd"
   ]
  },
  {
   "cell_type": "code",
   "execution_count": 2,
   "metadata": {},
   "outputs": [
    {
     "data": {
      "text/html": [
       "<script type=\"text/javascript\">window.PlotlyConfig = {MathJaxConfig: 'local'};</script><script type=\"text/javascript\">if (window.MathJax) {MathJax.Hub.Config({SVG: {font: \"STIX-Web\"}});}</script><script>requirejs.config({paths: { 'plotly': ['https://cdn.plot.ly/plotly-latest.min']},});if(!window._Plotly) {require(['plotly'],function(plotly) {window._Plotly=plotly;});}</script>"
      ],
      "text/vnd.plotly.v1+html": [
       "<script type=\"text/javascript\">window.PlotlyConfig = {MathJaxConfig: 'local'};</script><script type=\"text/javascript\">if (window.MathJax) {MathJax.Hub.Config({SVG: {font: \"STIX-Web\"}});}</script><script>requirejs.config({paths: { 'plotly': ['https://cdn.plot.ly/plotly-latest.min']},});if(!window._Plotly) {require(['plotly'],function(plotly) {window._Plotly=plotly;});}</script>"
      ]
     },
     "metadata": {},
     "output_type": "display_data"
    }
   ],
   "source": [
    "import plotly.graph_objs as go\n",
    "import plotly.offline as py\n",
    "from plotly.offline import download_plotlyjs, init_notebook_mode, iplot\n",
    "py.init_notebook_mode(connected=True)"
   ]
  },
  {
   "cell_type": "code",
   "execution_count": 3,
   "metadata": {},
   "outputs": [],
   "source": [
    "import requests, bs4\n",
    "url = 'https://www.alltrails.com/parks/us/montana/glacier-national-park'\n",
    "r = requests.get(url)\n",
    "soup = bs4.BeautifulSoup(r.text, 'lxml')"
   ]
  },
  {
   "cell_type": "code",
   "execution_count": 4,
   "metadata": {},
   "outputs": [],
   "source": [
    "ranking = []\n",
    "link = []\n",
    "name = []\n",
    "diff = []\n",
    "rating = []\n",
    "location = []\n",
    "distance = []\n",
    "elevation = []\n",
    "route_type =[]\n",
    "num_reviews = []"
   ]
  },
  {
   "cell_type": "code",
   "execution_count": 5,
   "metadata": {},
   "outputs": [],
   "source": [
    "for i in range(len(soup.find_all('div', class_=\"trail-result-card\"))):\n",
    "    \n",
    "    # ranking\n",
    "    try:\n",
    "        ranking.append(soup.find_all('span',class_='item-rank xlate-none')[i].get_text())\n",
    "    except Exception:\n",
    "        ranking.append(\"\")\n",
    "   \n",
    "    # link\n",
    "    try:\n",
    "        url = \"https://www.alltrails.com\" + (soup.find_all('a',class_='item-link')[i]['href'])\n",
    "        link.append(url)\n",
    "    except Exception:\n",
    "        link.append(\"\")\n",
    "    \n",
    "    # trail name\n",
    "    try:\n",
    "        name.append(soup.find_all('h3',class_='name xlate-none short')[i].get_text())\n",
    "    except Exception:\n",
    "        name.append(\"\")\n",
    "    \n",
    "    # difficulty\n",
    "    try:\n",
    "        diff.append(soup.find_all('div',class_='difficulty-info')[i].get_text())\n",
    "    except Exception:\n",
    "        diff.append(\"\")\n",
    "    \n",
    "    # rating\n",
    "    try:\n",
    "        rating.append(soup.find_all('div',class_='difficulty-info')[i].find_all('span')[1]['title'])\n",
    "    except Exception:\n",
    "        rating.append(\"\")\n",
    "\n",
    "    # location\n",
    "    try:\n",
    "        location.append(soup.find_all('div',class_='clickable xlate-none')[i]['title'])\n",
    "    except Exception:\n",
    "        location.append(\"\")\n",
    "    \n",
    "    # GRAB TRAIL DETAILS\n",
    "    r2 = requests.get(url)\n",
    "    soup2 = bs4.BeautifulSoup(r2.text, 'lxml')\n",
    "    \n",
    "    # distance\n",
    "    try:\n",
    "        distance.append(soup2.find_all('div', class_=\"detail-data\")[0].get_text())\n",
    "    except Exception:\n",
    "        distance.append(\"\")\n",
    "    \n",
    "    # elevation gain\n",
    "    try:\n",
    "        elevation.append(soup2.find_all('div', class_=\"detail-data\")[1].get_text())\n",
    "    except Exception:\n",
    "        elevation.append(\"\")\n",
    "    \n",
    "    # route type\n",
    "    try:\n",
    "        route_type.append(soup2.find_all('div', class_=\"detail-data\")[2].get_text())\n",
    "    except Exception:\n",
    "        route_type.append(\"\")"
   ]
  },
  {
   "cell_type": "code",
   "execution_count": 6,
   "metadata": {},
   "outputs": [],
   "source": [
    "df = pd.DataFrame(\n",
    "    {'ranking': ranking,\n",
    "     'name': name,\n",
    "     'difficulty': diff,\n",
    "     'distance_miles': distance,\n",
    "     'elevation_feet': elevation,\n",
    "     'route_type': route_type,\n",
    "     'rating': rating,\n",
    "     'location': location,\n",
    "     'link': link\n",
    "    })"
   ]
  },
  {
   "cell_type": "code",
   "execution_count": 7,
   "metadata": {},
   "outputs": [],
   "source": [
    "# format columns\n",
    "df['num_reviews'] = df['difficulty'].str.split(\"(\").str[1].str.strip(\")\")\n",
    "df['distance_miles'] = df.distance_miles.str.strip(\"miles\").astype(float)\n",
    "df['elevation_feet'] = df.elevation_feet.str.replace(\",\",\"\").str.strip('feet').astype(int)\n",
    "df['difficulty'] = df.difficulty.str.replace('[^a-zA-Z]','')\n",
    "df['duration_hours'] = df.distance_miles/2\n",
    "df['elevation_per_mile'] = df.elevation_feet/df.distance_miles"
   ]
  },
  {
   "cell_type": "code",
   "execution_count": 8,
   "metadata": {},
   "outputs": [],
   "source": [
    "df = df[['ranking', 'num_reviews', 'name', 'difficulty','duration_hours','elevation_per_mile',\n",
    "         'distance_miles','elevation_feet','route_type', 'rating', 'location', 'link']]"
   ]
  },
  {
   "cell_type": "code",
   "execution_count": 9,
   "metadata": {},
   "outputs": [],
   "source": [
    "def make_clickable(val):\n",
    "    return '<a href=\"{}\">{}</a>'.format(val,val)\n",
    "\n",
    "df_links = df.style.format({'link':make_clickable})"
   ]
  },
  {
   "cell_type": "code",
   "execution_count": 10,
   "metadata": {
    "scrolled": false
   },
   "outputs": [
    {
     "data": {
      "application/vnd.plotly.v1+json": {
       "config": {
        "linkText": "Export to plot.ly",
        "plotlyServerURL": "https://plot.ly",
        "showLink": true
       },
       "data": [
        {
         "name": "EASY",
         "text": [
          "St. Mary and Virginia Falls Trail",
          "Grinnell Lake Trail",
          "Trail of the Cedars",
          "Going-to-the-Sun Road - West Glacier to Saint Mary Scenic Drive",
          "McDonald Creek Trail",
          "Redrock Falls via Swiftcurrent Pass",
          "Apikuni Falls Trail",
          "Running Eagle Falls Trail",
          "Johns Lake Loop"
         ],
         "textposition": "auto",
         "type": "bar",
         "uid": "7abc06c3-6780-4565-b8b8-022e6a831ee7",
         "x": [
          "#6",
          "#10",
          "#13",
          "#14",
          "#17",
          "#18",
          "#20",
          "#21",
          "#24"
         ],
         "y": [
          "227",
          "80",
          "84",
          "77",
          "42",
          "73",
          "56",
          "57",
          "75"
         ]
        },
        {
         "name": "MODERATE",
         "text": [
          "Avalanche Lake via the Trail of the Cedars",
          "Grinnell Glacier Trail",
          "Iceberg Lake Trail",
          "Hidden Lake Trail",
          "Cracker Lake Trail",
          "Hidden Lake Overlook",
          "Bullhead Lake Trail"
         ],
         "textposition": "auto",
         "type": "bar",
         "uid": "19f957c0-aeb0-4ee2-b989-2c8902fda713",
         "x": [
          "#1",
          "#2",
          "#3",
          "#4",
          "#7",
          "#8",
          "#22"
         ],
         "y": [
          "727",
          "528",
          "352",
          "326",
          "120",
          "137",
          "40"
         ]
        },
        {
         "name": "HARD",
         "text": [
          "Highline Trail",
          "The Garden Wall",
          "Swiftcurrent Pass Trail To Swiftcurrent Mountain",
          "Highline Trail to Granite Park",
          "Siyeh Pass Trail",
          "Scenic Point",
          "Dawson Pass and Pitamakan Pass Loop",
          "Apgar Lookout Trail"
         ],
         "textposition": "auto",
         "type": "bar",
         "uid": "989aed8d-b0a9-4e38-9c90-e66b254ea50b",
         "x": [
          "#5",
          "#9",
          "#11",
          "#12",
          "#15",
          "#16",
          "#19",
          "#23"
         ],
         "y": [
          "280",
          "31",
          "70",
          "62",
          "72",
          "74",
          "66",
          "115"
         ]
        }
       ],
       "layout": {
        "title": "num_reviews"
       }
      },
      "text/html": [
       "<div id=\"e2e5243f-8468-4f14-93a9-04af086374de\" style=\"height: 525px; width: 100%;\" class=\"plotly-graph-div\"></div><script type=\"text/javascript\">require([\"plotly\"], function(Plotly) { window.PLOTLYENV=window.PLOTLYENV || {};window.PLOTLYENV.BASE_URL=\"https://plot.ly\";Plotly.newPlot(\"e2e5243f-8468-4f14-93a9-04af086374de\", [{\"name\": \"EASY\", \"text\": [\"St. Mary and Virginia Falls Trail\", \"Grinnell Lake Trail\", \"Trail of the Cedars\", \"Going-to-the-Sun Road - West Glacier to Saint Mary Scenic Drive\", \"McDonald Creek Trail\", \"Redrock Falls via Swiftcurrent Pass\", \"Apikuni Falls Trail\", \"Running Eagle Falls Trail\", \"Johns Lake Loop\"], \"textposition\": \"auto\", \"x\": [\"#6\", \"#10\", \"#13\", \"#14\", \"#17\", \"#18\", \"#20\", \"#21\", \"#24\"], \"y\": [\"227\", \"80\", \"84\", \"77\", \"42\", \"73\", \"56\", \"57\", \"75\"], \"type\": \"bar\", \"uid\": \"7abc06c3-6780-4565-b8b8-022e6a831ee7\"}, {\"name\": \"MODERATE\", \"text\": [\"Avalanche Lake via the Trail of the Cedars\", \"Grinnell Glacier Trail\", \"Iceberg Lake Trail\", \"Hidden Lake Trail\", \"Cracker Lake Trail\", \"Hidden Lake Overlook\", \"Bullhead Lake Trail\"], \"textposition\": \"auto\", \"x\": [\"#1\", \"#2\", \"#3\", \"#4\", \"#7\", \"#8\", \"#22\"], \"y\": [\"727\", \"528\", \"352\", \"326\", \"120\", \"137\", \"40\"], \"type\": \"bar\", \"uid\": \"19f957c0-aeb0-4ee2-b989-2c8902fda713\"}, {\"name\": \"HARD\", \"text\": [\"Highline Trail\", \"The Garden Wall\", \"Swiftcurrent Pass Trail To Swiftcurrent Mountain\", \"Highline Trail to Granite Park\", \"Siyeh Pass Trail\", \"Scenic Point\", \"Dawson Pass and Pitamakan Pass Loop\", \"Apgar Lookout Trail\"], \"textposition\": \"auto\", \"x\": [\"#5\", \"#9\", \"#11\", \"#12\", \"#15\", \"#16\", \"#19\", \"#23\"], \"y\": [\"280\", \"31\", \"70\", \"62\", \"72\", \"74\", \"66\", \"115\"], \"type\": \"bar\", \"uid\": \"989aed8d-b0a9-4e38-9c90-e66b254ea50b\"}], {\"title\": \"num_reviews\"}, {\"showLink\": true, \"linkText\": \"Export to plot.ly\", \"plotlyServerURL\": \"https://plot.ly\"})});</script><script type=\"text/javascript\">window.addEventListener(\"resize\", function(){window._Plotly.Plots.resize(document.getElementById(\"e2e5243f-8468-4f14-93a9-04af086374de\"));});</script>"
      ],
      "text/vnd.plotly.v1+html": [
       "<div id=\"e2e5243f-8468-4f14-93a9-04af086374de\" style=\"height: 525px; width: 100%;\" class=\"plotly-graph-div\"></div><script type=\"text/javascript\">require([\"plotly\"], function(Plotly) { window.PLOTLYENV=window.PLOTLYENV || {};window.PLOTLYENV.BASE_URL=\"https://plot.ly\";Plotly.newPlot(\"e2e5243f-8468-4f14-93a9-04af086374de\", [{\"name\": \"EASY\", \"text\": [\"St. Mary and Virginia Falls Trail\", \"Grinnell Lake Trail\", \"Trail of the Cedars\", \"Going-to-the-Sun Road - West Glacier to Saint Mary Scenic Drive\", \"McDonald Creek Trail\", \"Redrock Falls via Swiftcurrent Pass\", \"Apikuni Falls Trail\", \"Running Eagle Falls Trail\", \"Johns Lake Loop\"], \"textposition\": \"auto\", \"x\": [\"#6\", \"#10\", \"#13\", \"#14\", \"#17\", \"#18\", \"#20\", \"#21\", \"#24\"], \"y\": [\"227\", \"80\", \"84\", \"77\", \"42\", \"73\", \"56\", \"57\", \"75\"], \"type\": \"bar\", \"uid\": \"7abc06c3-6780-4565-b8b8-022e6a831ee7\"}, {\"name\": \"MODERATE\", \"text\": [\"Avalanche Lake via the Trail of the Cedars\", \"Grinnell Glacier Trail\", \"Iceberg Lake Trail\", \"Hidden Lake Trail\", \"Cracker Lake Trail\", \"Hidden Lake Overlook\", \"Bullhead Lake Trail\"], \"textposition\": \"auto\", \"x\": [\"#1\", \"#2\", \"#3\", \"#4\", \"#7\", \"#8\", \"#22\"], \"y\": [\"727\", \"528\", \"352\", \"326\", \"120\", \"137\", \"40\"], \"type\": \"bar\", \"uid\": \"19f957c0-aeb0-4ee2-b989-2c8902fda713\"}, {\"name\": \"HARD\", \"text\": [\"Highline Trail\", \"The Garden Wall\", \"Swiftcurrent Pass Trail To Swiftcurrent Mountain\", \"Highline Trail to Granite Park\", \"Siyeh Pass Trail\", \"Scenic Point\", \"Dawson Pass and Pitamakan Pass Loop\", \"Apgar Lookout Trail\"], \"textposition\": \"auto\", \"x\": [\"#5\", \"#9\", \"#11\", \"#12\", \"#15\", \"#16\", \"#19\", \"#23\"], \"y\": [\"280\", \"31\", \"70\", \"62\", \"72\", \"74\", \"66\", \"115\"], \"type\": \"bar\", \"uid\": \"989aed8d-b0a9-4e38-9c90-e66b254ea50b\"}], {\"title\": \"num_reviews\"}, {\"showLink\": true, \"linkText\": \"Export to plot.ly\", \"plotlyServerURL\": \"https://plot.ly\"})});</script><script type=\"text/javascript\">window.addEventListener(\"resize\", function(){window._Plotly.Plots.resize(document.getElementById(\"e2e5243f-8468-4f14-93a9-04af086374de\"));});</script>"
      ]
     },
     "metadata": {},
     "output_type": "display_data"
    },
    {
     "data": {
      "application/vnd.plotly.v1+json": {
       "config": {
        "linkText": "Export to plot.ly",
        "plotlyServerURL": "https://plot.ly",
        "showLink": true
       },
       "data": [
        {
         "name": "EASY",
         "text": [
          "St. Mary and Virginia Falls Trail",
          "Grinnell Lake Trail",
          "Trail of the Cedars",
          "Going-to-the-Sun Road - West Glacier to Saint Mary Scenic Drive",
          "McDonald Creek Trail",
          "Redrock Falls via Swiftcurrent Pass",
          "Apikuni Falls Trail",
          "Running Eagle Falls Trail",
          "Johns Lake Loop"
         ],
         "textposition": "auto",
         "type": "bar",
         "uid": "3b6db042-2314-49ea-8efe-c4607306c2c4",
         "x": [
          "#6",
          "#10",
          "#13",
          "#14",
          "#17",
          "#18",
          "#20",
          "#21",
          "#24"
         ],
         "y": [
          1.45,
          3.55,
          0.4,
          24.5,
          2.5,
          1.8,
          0.9,
          0.3,
          0.95
         ]
        },
        {
         "name": "MODERATE",
         "text": [
          "Avalanche Lake via the Trail of the Cedars",
          "Grinnell Glacier Trail",
          "Iceberg Lake Trail",
          "Hidden Lake Trail",
          "Cracker Lake Trail",
          "Hidden Lake Overlook",
          "Bullhead Lake Trail"
         ],
         "textposition": "auto",
         "type": "bar",
         "uid": "46f008ef-2a70-49ce-8597-2bc8e5532559",
         "x": [
          "#1",
          "#2",
          "#3",
          "#4",
          "#7",
          "#8",
          "#22"
         ],
         "y": [
          2.85,
          4.85,
          4.65,
          2.65,
          6,
          1.4,
          3.45
         ]
        },
        {
         "name": "HARD",
         "text": [
          "Highline Trail",
          "The Garden Wall",
          "Swiftcurrent Pass Trail To Swiftcurrent Mountain",
          "Highline Trail to Granite Park",
          "Siyeh Pass Trail",
          "Scenic Point",
          "Dawson Pass and Pitamakan Pass Loop",
          "Apgar Lookout Trail"
         ],
         "textposition": "auto",
         "type": "bar",
         "uid": "49c75609-d4c1-40da-b5d0-650f8f90b93c",
         "x": [
          "#5",
          "#9",
          "#11",
          "#12",
          "#15",
          "#16",
          "#19",
          "#23"
         ],
         "y": [
          14.2,
          7.35,
          7.95,
          5.6,
          10.3,
          3.7,
          8.6,
          3.65
         ]
        }
       ],
       "layout": {
        "title": "duration_hours"
       }
      },
      "text/html": [
       "<div id=\"2299a8b9-723b-48b1-9cb1-233d88a33342\" style=\"height: 525px; width: 100%;\" class=\"plotly-graph-div\"></div><script type=\"text/javascript\">require([\"plotly\"], function(Plotly) { window.PLOTLYENV=window.PLOTLYENV || {};window.PLOTLYENV.BASE_URL=\"https://plot.ly\";Plotly.newPlot(\"2299a8b9-723b-48b1-9cb1-233d88a33342\", [{\"name\": \"EASY\", \"text\": [\"St. Mary and Virginia Falls Trail\", \"Grinnell Lake Trail\", \"Trail of the Cedars\", \"Going-to-the-Sun Road - West Glacier to Saint Mary Scenic Drive\", \"McDonald Creek Trail\", \"Redrock Falls via Swiftcurrent Pass\", \"Apikuni Falls Trail\", \"Running Eagle Falls Trail\", \"Johns Lake Loop\"], \"textposition\": \"auto\", \"x\": [\"#6\", \"#10\", \"#13\", \"#14\", \"#17\", \"#18\", \"#20\", \"#21\", \"#24\"], \"y\": [1.45, 3.55, 0.4, 24.5, 2.5, 1.8, 0.9, 0.3, 0.95], \"type\": \"bar\", \"uid\": \"3b6db042-2314-49ea-8efe-c4607306c2c4\"}, {\"name\": \"MODERATE\", \"text\": [\"Avalanche Lake via the Trail of the Cedars\", \"Grinnell Glacier Trail\", \"Iceberg Lake Trail\", \"Hidden Lake Trail\", \"Cracker Lake Trail\", \"Hidden Lake Overlook\", \"Bullhead Lake Trail\"], \"textposition\": \"auto\", \"x\": [\"#1\", \"#2\", \"#3\", \"#4\", \"#7\", \"#8\", \"#22\"], \"y\": [2.85, 4.85, 4.65, 2.65, 6.0, 1.4, 3.45], \"type\": \"bar\", \"uid\": \"46f008ef-2a70-49ce-8597-2bc8e5532559\"}, {\"name\": \"HARD\", \"text\": [\"Highline Trail\", \"The Garden Wall\", \"Swiftcurrent Pass Trail To Swiftcurrent Mountain\", \"Highline Trail to Granite Park\", \"Siyeh Pass Trail\", \"Scenic Point\", \"Dawson Pass and Pitamakan Pass Loop\", \"Apgar Lookout Trail\"], \"textposition\": \"auto\", \"x\": [\"#5\", \"#9\", \"#11\", \"#12\", \"#15\", \"#16\", \"#19\", \"#23\"], \"y\": [14.2, 7.35, 7.95, 5.6, 10.3, 3.7, 8.6, 3.65], \"type\": \"bar\", \"uid\": \"49c75609-d4c1-40da-b5d0-650f8f90b93c\"}], {\"title\": \"duration_hours\"}, {\"showLink\": true, \"linkText\": \"Export to plot.ly\", \"plotlyServerURL\": \"https://plot.ly\"})});</script><script type=\"text/javascript\">window.addEventListener(\"resize\", function(){window._Plotly.Plots.resize(document.getElementById(\"2299a8b9-723b-48b1-9cb1-233d88a33342\"));});</script>"
      ],
      "text/vnd.plotly.v1+html": [
       "<div id=\"2299a8b9-723b-48b1-9cb1-233d88a33342\" style=\"height: 525px; width: 100%;\" class=\"plotly-graph-div\"></div><script type=\"text/javascript\">require([\"plotly\"], function(Plotly) { window.PLOTLYENV=window.PLOTLYENV || {};window.PLOTLYENV.BASE_URL=\"https://plot.ly\";Plotly.newPlot(\"2299a8b9-723b-48b1-9cb1-233d88a33342\", [{\"name\": \"EASY\", \"text\": [\"St. Mary and Virginia Falls Trail\", \"Grinnell Lake Trail\", \"Trail of the Cedars\", \"Going-to-the-Sun Road - West Glacier to Saint Mary Scenic Drive\", \"McDonald Creek Trail\", \"Redrock Falls via Swiftcurrent Pass\", \"Apikuni Falls Trail\", \"Running Eagle Falls Trail\", \"Johns Lake Loop\"], \"textposition\": \"auto\", \"x\": [\"#6\", \"#10\", \"#13\", \"#14\", \"#17\", \"#18\", \"#20\", \"#21\", \"#24\"], \"y\": [1.45, 3.55, 0.4, 24.5, 2.5, 1.8, 0.9, 0.3, 0.95], \"type\": \"bar\", \"uid\": \"3b6db042-2314-49ea-8efe-c4607306c2c4\"}, {\"name\": \"MODERATE\", \"text\": [\"Avalanche Lake via the Trail of the Cedars\", \"Grinnell Glacier Trail\", \"Iceberg Lake Trail\", \"Hidden Lake Trail\", \"Cracker Lake Trail\", \"Hidden Lake Overlook\", \"Bullhead Lake Trail\"], \"textposition\": \"auto\", \"x\": [\"#1\", \"#2\", \"#3\", \"#4\", \"#7\", \"#8\", \"#22\"], \"y\": [2.85, 4.85, 4.65, 2.65, 6.0, 1.4, 3.45], \"type\": \"bar\", \"uid\": \"46f008ef-2a70-49ce-8597-2bc8e5532559\"}, {\"name\": \"HARD\", \"text\": [\"Highline Trail\", \"The Garden Wall\", \"Swiftcurrent Pass Trail To Swiftcurrent Mountain\", \"Highline Trail to Granite Park\", \"Siyeh Pass Trail\", \"Scenic Point\", \"Dawson Pass and Pitamakan Pass Loop\", \"Apgar Lookout Trail\"], \"textposition\": \"auto\", \"x\": [\"#5\", \"#9\", \"#11\", \"#12\", \"#15\", \"#16\", \"#19\", \"#23\"], \"y\": [14.2, 7.35, 7.95, 5.6, 10.3, 3.7, 8.6, 3.65], \"type\": \"bar\", \"uid\": \"49c75609-d4c1-40da-b5d0-650f8f90b93c\"}], {\"title\": \"duration_hours\"}, {\"showLink\": true, \"linkText\": \"Export to plot.ly\", \"plotlyServerURL\": \"https://plot.ly\"})});</script><script type=\"text/javascript\">window.addEventListener(\"resize\", function(){window._Plotly.Plots.resize(document.getElementById(\"2299a8b9-723b-48b1-9cb1-233d88a33342\"));});</script>"
      ]
     },
     "metadata": {},
     "output_type": "display_data"
    },
    {
     "data": {
      "application/vnd.plotly.v1+json": {
       "config": {
        "linkText": "Export to plot.ly",
        "plotlyServerURL": "https://plot.ly",
        "showLink": true
       },
       "data": [
        {
         "name": "EASY",
         "text": [
          "St. Mary and Virginia Falls Trail",
          "Grinnell Lake Trail",
          "Trail of the Cedars",
          "Going-to-the-Sun Road - West Glacier to Saint Mary Scenic Drive",
          "McDonald Creek Trail",
          "Redrock Falls via Swiftcurrent Pass",
          "Apikuni Falls Trail",
          "Running Eagle Falls Trail",
          "Johns Lake Loop"
         ],
         "textposition": "auto",
         "type": "bar",
         "uid": "4ceebb13-73f4-49d1-86d0-2eed2fe96585",
         "x": [
          "#6",
          "#10",
          "#13",
          "#14",
          "#17",
          "#18",
          "#20",
          "#21",
          "#24"
         ],
         "y": [
          155.86206896551724,
          49.43661971830986,
          45,
          114.34693877551021,
          42.6,
          65.55555555555556,
          340.55555555555554,
          43.333333333333336,
          96.31578947368422
         ]
        },
        {
         "name": "MODERATE",
         "text": [
          "Avalanche Lake via the Trail of the Cedars",
          "Grinnell Glacier Trail",
          "Iceberg Lake Trail",
          "Hidden Lake Trail",
          "Cracker Lake Trail",
          "Hidden Lake Overlook",
          "Bullhead Lake Trail"
         ],
         "textposition": "auto",
         "type": "bar",
         "uid": "5f0864ed-2d08-4ac2-b68d-cd4b10f79841",
         "x": [
          "#1",
          "#2",
          "#3",
          "#4",
          "#7",
          "#8",
          "#22"
         ],
         "y": [
          131.2280701754386,
          210.30927835051548,
          155.91397849462365,
          259.24528301886795,
          137.5,
          207.14285714285717,
          64.05797101449275
         ]
        },
        {
         "name": "HARD",
         "text": [
          "Highline Trail",
          "The Garden Wall",
          "Swiftcurrent Pass Trail To Swiftcurrent Mountain",
          "Highline Trail to Granite Park",
          "Siyeh Pass Trail",
          "Scenic Point",
          "Dawson Pass and Pitamakan Pass Loop",
          "Apgar Lookout Trail"
         ],
         "textposition": "auto",
         "type": "bar",
         "uid": "e85fee3c-8b3b-4254-bdff-9253cc58b3d1",
         "x": [
          "#5",
          "#9",
          "#11",
          "#12",
          "#15",
          "#16",
          "#19",
          "#23"
         ],
         "y": [
          172.35915492957747,
          238.57142857142858,
          236.85534591194968,
          130.89285714285714,
          269.4660194174757,
          317.8378378378378,
          211.68604651162792,
          266.8493150684932
         ]
        }
       ],
       "layout": {
        "title": "elevation_per_mile"
       }
      },
      "text/html": [
       "<div id=\"f1231d87-ad81-4781-b305-54e1fd1a30de\" style=\"height: 525px; width: 100%;\" class=\"plotly-graph-div\"></div><script type=\"text/javascript\">require([\"plotly\"], function(Plotly) { window.PLOTLYENV=window.PLOTLYENV || {};window.PLOTLYENV.BASE_URL=\"https://plot.ly\";Plotly.newPlot(\"f1231d87-ad81-4781-b305-54e1fd1a30de\", [{\"name\": \"EASY\", \"text\": [\"St. Mary and Virginia Falls Trail\", \"Grinnell Lake Trail\", \"Trail of the Cedars\", \"Going-to-the-Sun Road - West Glacier to Saint Mary Scenic Drive\", \"McDonald Creek Trail\", \"Redrock Falls via Swiftcurrent Pass\", \"Apikuni Falls Trail\", \"Running Eagle Falls Trail\", \"Johns Lake Loop\"], \"textposition\": \"auto\", \"x\": [\"#6\", \"#10\", \"#13\", \"#14\", \"#17\", \"#18\", \"#20\", \"#21\", \"#24\"], \"y\": [155.86206896551724, 49.43661971830986, 45.0, 114.34693877551021, 42.6, 65.55555555555556, 340.55555555555554, 43.333333333333336, 96.31578947368422], \"type\": \"bar\", \"uid\": \"4ceebb13-73f4-49d1-86d0-2eed2fe96585\"}, {\"name\": \"MODERATE\", \"text\": [\"Avalanche Lake via the Trail of the Cedars\", \"Grinnell Glacier Trail\", \"Iceberg Lake Trail\", \"Hidden Lake Trail\", \"Cracker Lake Trail\", \"Hidden Lake Overlook\", \"Bullhead Lake Trail\"], \"textposition\": \"auto\", \"x\": [\"#1\", \"#2\", \"#3\", \"#4\", \"#7\", \"#8\", \"#22\"], \"y\": [131.2280701754386, 210.30927835051548, 155.91397849462365, 259.24528301886795, 137.5, 207.14285714285717, 64.05797101449275], \"type\": \"bar\", \"uid\": \"5f0864ed-2d08-4ac2-b68d-cd4b10f79841\"}, {\"name\": \"HARD\", \"text\": [\"Highline Trail\", \"The Garden Wall\", \"Swiftcurrent Pass Trail To Swiftcurrent Mountain\", \"Highline Trail to Granite Park\", \"Siyeh Pass Trail\", \"Scenic Point\", \"Dawson Pass and Pitamakan Pass Loop\", \"Apgar Lookout Trail\"], \"textposition\": \"auto\", \"x\": [\"#5\", \"#9\", \"#11\", \"#12\", \"#15\", \"#16\", \"#19\", \"#23\"], \"y\": [172.35915492957747, 238.57142857142858, 236.85534591194968, 130.89285714285714, 269.4660194174757, 317.8378378378378, 211.68604651162792, 266.8493150684932], \"type\": \"bar\", \"uid\": \"e85fee3c-8b3b-4254-bdff-9253cc58b3d1\"}], {\"title\": \"elevation_per_mile\"}, {\"showLink\": true, \"linkText\": \"Export to plot.ly\", \"plotlyServerURL\": \"https://plot.ly\"})});</script><script type=\"text/javascript\">window.addEventListener(\"resize\", function(){window._Plotly.Plots.resize(document.getElementById(\"f1231d87-ad81-4781-b305-54e1fd1a30de\"));});</script>"
      ],
      "text/vnd.plotly.v1+html": [
       "<div id=\"f1231d87-ad81-4781-b305-54e1fd1a30de\" style=\"height: 525px; width: 100%;\" class=\"plotly-graph-div\"></div><script type=\"text/javascript\">require([\"plotly\"], function(Plotly) { window.PLOTLYENV=window.PLOTLYENV || {};window.PLOTLYENV.BASE_URL=\"https://plot.ly\";Plotly.newPlot(\"f1231d87-ad81-4781-b305-54e1fd1a30de\", [{\"name\": \"EASY\", \"text\": [\"St. Mary and Virginia Falls Trail\", \"Grinnell Lake Trail\", \"Trail of the Cedars\", \"Going-to-the-Sun Road - West Glacier to Saint Mary Scenic Drive\", \"McDonald Creek Trail\", \"Redrock Falls via Swiftcurrent Pass\", \"Apikuni Falls Trail\", \"Running Eagle Falls Trail\", \"Johns Lake Loop\"], \"textposition\": \"auto\", \"x\": [\"#6\", \"#10\", \"#13\", \"#14\", \"#17\", \"#18\", \"#20\", \"#21\", \"#24\"], \"y\": [155.86206896551724, 49.43661971830986, 45.0, 114.34693877551021, 42.6, 65.55555555555556, 340.55555555555554, 43.333333333333336, 96.31578947368422], \"type\": \"bar\", \"uid\": \"4ceebb13-73f4-49d1-86d0-2eed2fe96585\"}, {\"name\": \"MODERATE\", \"text\": [\"Avalanche Lake via the Trail of the Cedars\", \"Grinnell Glacier Trail\", \"Iceberg Lake Trail\", \"Hidden Lake Trail\", \"Cracker Lake Trail\", \"Hidden Lake Overlook\", \"Bullhead Lake Trail\"], \"textposition\": \"auto\", \"x\": [\"#1\", \"#2\", \"#3\", \"#4\", \"#7\", \"#8\", \"#22\"], \"y\": [131.2280701754386, 210.30927835051548, 155.91397849462365, 259.24528301886795, 137.5, 207.14285714285717, 64.05797101449275], \"type\": \"bar\", \"uid\": \"5f0864ed-2d08-4ac2-b68d-cd4b10f79841\"}, {\"name\": \"HARD\", \"text\": [\"Highline Trail\", \"The Garden Wall\", \"Swiftcurrent Pass Trail To Swiftcurrent Mountain\", \"Highline Trail to Granite Park\", \"Siyeh Pass Trail\", \"Scenic Point\", \"Dawson Pass and Pitamakan Pass Loop\", \"Apgar Lookout Trail\"], \"textposition\": \"auto\", \"x\": [\"#5\", \"#9\", \"#11\", \"#12\", \"#15\", \"#16\", \"#19\", \"#23\"], \"y\": [172.35915492957747, 238.57142857142858, 236.85534591194968, 130.89285714285714, 269.4660194174757, 317.8378378378378, 211.68604651162792, 266.8493150684932], \"type\": \"bar\", \"uid\": \"e85fee3c-8b3b-4254-bdff-9253cc58b3d1\"}], {\"title\": \"elevation_per_mile\"}, {\"showLink\": true, \"linkText\": \"Export to plot.ly\", \"plotlyServerURL\": \"https://plot.ly\"})});</script><script type=\"text/javascript\">window.addEventListener(\"resize\", function(){window._Plotly.Plots.resize(document.getElementById(\"f1231d87-ad81-4781-b305-54e1fd1a30de\"));});</script>"
      ]
     },
     "metadata": {},
     "output_type": "display_data"
    },
    {
     "data": {
      "application/vnd.plotly.v1+json": {
       "config": {
        "linkText": "Export to plot.ly",
        "plotlyServerURL": "https://plot.ly",
        "showLink": true
       },
       "data": [
        {
         "name": "EASY",
         "text": [
          "St. Mary and Virginia Falls Trail",
          "Grinnell Lake Trail",
          "Trail of the Cedars",
          "Going-to-the-Sun Road - West Glacier to Saint Mary Scenic Drive",
          "McDonald Creek Trail",
          "Redrock Falls via Swiftcurrent Pass",
          "Apikuni Falls Trail",
          "Running Eagle Falls Trail",
          "Johns Lake Loop"
         ],
         "textposition": "auto",
         "type": "bar",
         "uid": "cd717305-c780-417e-a23e-50f389a12d1b",
         "x": [
          "#6",
          "#10",
          "#13",
          "#14",
          "#17",
          "#18",
          "#20",
          "#21",
          "#24"
         ],
         "y": [
          2.9,
          7.1,
          0.8,
          49,
          5,
          3.6,
          1.8,
          0.6,
          1.9
         ]
        },
        {
         "name": "MODERATE",
         "text": [
          "Avalanche Lake via the Trail of the Cedars",
          "Grinnell Glacier Trail",
          "Iceberg Lake Trail",
          "Hidden Lake Trail",
          "Cracker Lake Trail",
          "Hidden Lake Overlook",
          "Bullhead Lake Trail"
         ],
         "textposition": "auto",
         "type": "bar",
         "uid": "12243952-ca50-41d4-bf5c-32725bfb8b3d",
         "x": [
          "#1",
          "#2",
          "#3",
          "#4",
          "#7",
          "#8",
          "#22"
         ],
         "y": [
          5.7,
          9.7,
          9.3,
          5.3,
          12,
          2.8,
          6.9
         ]
        },
        {
         "name": "HARD",
         "text": [
          "Highline Trail",
          "The Garden Wall",
          "Swiftcurrent Pass Trail To Swiftcurrent Mountain",
          "Highline Trail to Granite Park",
          "Siyeh Pass Trail",
          "Scenic Point",
          "Dawson Pass and Pitamakan Pass Loop",
          "Apgar Lookout Trail"
         ],
         "textposition": "auto",
         "type": "bar",
         "uid": "a1c4d6fe-8090-4b93-b426-5f298a40467f",
         "x": [
          "#5",
          "#9",
          "#11",
          "#12",
          "#15",
          "#16",
          "#19",
          "#23"
         ],
         "y": [
          28.4,
          14.7,
          15.9,
          11.2,
          20.6,
          7.4,
          17.2,
          7.3
         ]
        }
       ],
       "layout": {
        "title": "distance_miles"
       }
      },
      "text/html": [
       "<div id=\"3144bc4b-1b17-439e-8957-d1f5266ee99f\" style=\"height: 525px; width: 100%;\" class=\"plotly-graph-div\"></div><script type=\"text/javascript\">require([\"plotly\"], function(Plotly) { window.PLOTLYENV=window.PLOTLYENV || {};window.PLOTLYENV.BASE_URL=\"https://plot.ly\";Plotly.newPlot(\"3144bc4b-1b17-439e-8957-d1f5266ee99f\", [{\"name\": \"EASY\", \"text\": [\"St. Mary and Virginia Falls Trail\", \"Grinnell Lake Trail\", \"Trail of the Cedars\", \"Going-to-the-Sun Road - West Glacier to Saint Mary Scenic Drive\", \"McDonald Creek Trail\", \"Redrock Falls via Swiftcurrent Pass\", \"Apikuni Falls Trail\", \"Running Eagle Falls Trail\", \"Johns Lake Loop\"], \"textposition\": \"auto\", \"x\": [\"#6\", \"#10\", \"#13\", \"#14\", \"#17\", \"#18\", \"#20\", \"#21\", \"#24\"], \"y\": [2.9, 7.1, 0.8, 49.0, 5.0, 3.6, 1.8, 0.6, 1.9], \"type\": \"bar\", \"uid\": \"cd717305-c780-417e-a23e-50f389a12d1b\"}, {\"name\": \"MODERATE\", \"text\": [\"Avalanche Lake via the Trail of the Cedars\", \"Grinnell Glacier Trail\", \"Iceberg Lake Trail\", \"Hidden Lake Trail\", \"Cracker Lake Trail\", \"Hidden Lake Overlook\", \"Bullhead Lake Trail\"], \"textposition\": \"auto\", \"x\": [\"#1\", \"#2\", \"#3\", \"#4\", \"#7\", \"#8\", \"#22\"], \"y\": [5.7, 9.7, 9.3, 5.3, 12.0, 2.8, 6.9], \"type\": \"bar\", \"uid\": \"12243952-ca50-41d4-bf5c-32725bfb8b3d\"}, {\"name\": \"HARD\", \"text\": [\"Highline Trail\", \"The Garden Wall\", \"Swiftcurrent Pass Trail To Swiftcurrent Mountain\", \"Highline Trail to Granite Park\", \"Siyeh Pass Trail\", \"Scenic Point\", \"Dawson Pass and Pitamakan Pass Loop\", \"Apgar Lookout Trail\"], \"textposition\": \"auto\", \"x\": [\"#5\", \"#9\", \"#11\", \"#12\", \"#15\", \"#16\", \"#19\", \"#23\"], \"y\": [28.4, 14.7, 15.9, 11.2, 20.6, 7.4, 17.2, 7.3], \"type\": \"bar\", \"uid\": \"a1c4d6fe-8090-4b93-b426-5f298a40467f\"}], {\"title\": \"distance_miles\"}, {\"showLink\": true, \"linkText\": \"Export to plot.ly\", \"plotlyServerURL\": \"https://plot.ly\"})});</script><script type=\"text/javascript\">window.addEventListener(\"resize\", function(){window._Plotly.Plots.resize(document.getElementById(\"3144bc4b-1b17-439e-8957-d1f5266ee99f\"));});</script>"
      ],
      "text/vnd.plotly.v1+html": [
       "<div id=\"3144bc4b-1b17-439e-8957-d1f5266ee99f\" style=\"height: 525px; width: 100%;\" class=\"plotly-graph-div\"></div><script type=\"text/javascript\">require([\"plotly\"], function(Plotly) { window.PLOTLYENV=window.PLOTLYENV || {};window.PLOTLYENV.BASE_URL=\"https://plot.ly\";Plotly.newPlot(\"3144bc4b-1b17-439e-8957-d1f5266ee99f\", [{\"name\": \"EASY\", \"text\": [\"St. Mary and Virginia Falls Trail\", \"Grinnell Lake Trail\", \"Trail of the Cedars\", \"Going-to-the-Sun Road - West Glacier to Saint Mary Scenic Drive\", \"McDonald Creek Trail\", \"Redrock Falls via Swiftcurrent Pass\", \"Apikuni Falls Trail\", \"Running Eagle Falls Trail\", \"Johns Lake Loop\"], \"textposition\": \"auto\", \"x\": [\"#6\", \"#10\", \"#13\", \"#14\", \"#17\", \"#18\", \"#20\", \"#21\", \"#24\"], \"y\": [2.9, 7.1, 0.8, 49.0, 5.0, 3.6, 1.8, 0.6, 1.9], \"type\": \"bar\", \"uid\": \"cd717305-c780-417e-a23e-50f389a12d1b\"}, {\"name\": \"MODERATE\", \"text\": [\"Avalanche Lake via the Trail of the Cedars\", \"Grinnell Glacier Trail\", \"Iceberg Lake Trail\", \"Hidden Lake Trail\", \"Cracker Lake Trail\", \"Hidden Lake Overlook\", \"Bullhead Lake Trail\"], \"textposition\": \"auto\", \"x\": [\"#1\", \"#2\", \"#3\", \"#4\", \"#7\", \"#8\", \"#22\"], \"y\": [5.7, 9.7, 9.3, 5.3, 12.0, 2.8, 6.9], \"type\": \"bar\", \"uid\": \"12243952-ca50-41d4-bf5c-32725bfb8b3d\"}, {\"name\": \"HARD\", \"text\": [\"Highline Trail\", \"The Garden Wall\", \"Swiftcurrent Pass Trail To Swiftcurrent Mountain\", \"Highline Trail to Granite Park\", \"Siyeh Pass Trail\", \"Scenic Point\", \"Dawson Pass and Pitamakan Pass Loop\", \"Apgar Lookout Trail\"], \"textposition\": \"auto\", \"x\": [\"#5\", \"#9\", \"#11\", \"#12\", \"#15\", \"#16\", \"#19\", \"#23\"], \"y\": [28.4, 14.7, 15.9, 11.2, 20.6, 7.4, 17.2, 7.3], \"type\": \"bar\", \"uid\": \"a1c4d6fe-8090-4b93-b426-5f298a40467f\"}], {\"title\": \"distance_miles\"}, {\"showLink\": true, \"linkText\": \"Export to plot.ly\", \"plotlyServerURL\": \"https://plot.ly\"})});</script><script type=\"text/javascript\">window.addEventListener(\"resize\", function(){window._Plotly.Plots.resize(document.getElementById(\"3144bc4b-1b17-439e-8957-d1f5266ee99f\"));});</script>"
      ]
     },
     "metadata": {},
     "output_type": "display_data"
    },
    {
     "data": {
      "application/vnd.plotly.v1+json": {
       "config": {
        "linkText": "Export to plot.ly",
        "plotlyServerURL": "https://plot.ly",
        "showLink": true
       },
       "data": [
        {
         "name": "EASY",
         "text": [
          "St. Mary and Virginia Falls Trail",
          "Grinnell Lake Trail",
          "Trail of the Cedars",
          "Going-to-the-Sun Road - West Glacier to Saint Mary Scenic Drive",
          "McDonald Creek Trail",
          "Redrock Falls via Swiftcurrent Pass",
          "Apikuni Falls Trail",
          "Running Eagle Falls Trail",
          "Johns Lake Loop"
         ],
         "textposition": "auto",
         "type": "bar",
         "uid": "b1995592-ebea-4d89-a41a-b9703ae75cc5",
         "x": [
          "#6",
          "#10",
          "#13",
          "#14",
          "#17",
          "#18",
          "#20",
          "#21",
          "#24"
         ],
         "y": [
          452,
          351,
          36,
          5603,
          213,
          236,
          613,
          26,
          183
         ]
        },
        {
         "name": "MODERATE",
         "text": [
          "Avalanche Lake via the Trail of the Cedars",
          "Grinnell Glacier Trail",
          "Iceberg Lake Trail",
          "Hidden Lake Trail",
          "Cracker Lake Trail",
          "Hidden Lake Overlook",
          "Bullhead Lake Trail"
         ],
         "textposition": "auto",
         "type": "bar",
         "uid": "22e58ff3-1d94-4471-a5f1-425d8f8bf4c3",
         "x": [
          "#1",
          "#2",
          "#3",
          "#4",
          "#7",
          "#8",
          "#22"
         ],
         "y": [
          748,
          2040,
          1450,
          1374,
          1650,
          580,
          442
         ]
        },
        {
         "name": "HARD",
         "text": [
          "Highline Trail",
          "The Garden Wall",
          "Swiftcurrent Pass Trail To Swiftcurrent Mountain",
          "Highline Trail to Granite Park",
          "Siyeh Pass Trail",
          "Scenic Point",
          "Dawson Pass and Pitamakan Pass Loop",
          "Apgar Lookout Trail"
         ],
         "textposition": "auto",
         "type": "bar",
         "uid": "2735e65b-5c0e-47ab-81c4-8c17f54da9bb",
         "x": [
          "#5",
          "#9",
          "#11",
          "#12",
          "#15",
          "#16",
          "#19",
          "#23"
         ],
         "y": [
          4895,
          3507,
          3766,
          1466,
          5551,
          2352,
          3641,
          1948
         ]
        }
       ],
       "layout": {
        "title": "elevation_feet"
       }
      },
      "text/html": [
       "<div id=\"75009eeb-ea05-44cd-83de-cb8a80124fc5\" style=\"height: 525px; width: 100%;\" class=\"plotly-graph-div\"></div><script type=\"text/javascript\">require([\"plotly\"], function(Plotly) { window.PLOTLYENV=window.PLOTLYENV || {};window.PLOTLYENV.BASE_URL=\"https://plot.ly\";Plotly.newPlot(\"75009eeb-ea05-44cd-83de-cb8a80124fc5\", [{\"name\": \"EASY\", \"text\": [\"St. Mary and Virginia Falls Trail\", \"Grinnell Lake Trail\", \"Trail of the Cedars\", \"Going-to-the-Sun Road - West Glacier to Saint Mary Scenic Drive\", \"McDonald Creek Trail\", \"Redrock Falls via Swiftcurrent Pass\", \"Apikuni Falls Trail\", \"Running Eagle Falls Trail\", \"Johns Lake Loop\"], \"textposition\": \"auto\", \"x\": [\"#6\", \"#10\", \"#13\", \"#14\", \"#17\", \"#18\", \"#20\", \"#21\", \"#24\"], \"y\": [452, 351, 36, 5603, 213, 236, 613, 26, 183], \"type\": \"bar\", \"uid\": \"b1995592-ebea-4d89-a41a-b9703ae75cc5\"}, {\"name\": \"MODERATE\", \"text\": [\"Avalanche Lake via the Trail of the Cedars\", \"Grinnell Glacier Trail\", \"Iceberg Lake Trail\", \"Hidden Lake Trail\", \"Cracker Lake Trail\", \"Hidden Lake Overlook\", \"Bullhead Lake Trail\"], \"textposition\": \"auto\", \"x\": [\"#1\", \"#2\", \"#3\", \"#4\", \"#7\", \"#8\", \"#22\"], \"y\": [748, 2040, 1450, 1374, 1650, 580, 442], \"type\": \"bar\", \"uid\": \"22e58ff3-1d94-4471-a5f1-425d8f8bf4c3\"}, {\"name\": \"HARD\", \"text\": [\"Highline Trail\", \"The Garden Wall\", \"Swiftcurrent Pass Trail To Swiftcurrent Mountain\", \"Highline Trail to Granite Park\", \"Siyeh Pass Trail\", \"Scenic Point\", \"Dawson Pass and Pitamakan Pass Loop\", \"Apgar Lookout Trail\"], \"textposition\": \"auto\", \"x\": [\"#5\", \"#9\", \"#11\", \"#12\", \"#15\", \"#16\", \"#19\", \"#23\"], \"y\": [4895, 3507, 3766, 1466, 5551, 2352, 3641, 1948], \"type\": \"bar\", \"uid\": \"2735e65b-5c0e-47ab-81c4-8c17f54da9bb\"}], {\"title\": \"elevation_feet\"}, {\"showLink\": true, \"linkText\": \"Export to plot.ly\", \"plotlyServerURL\": \"https://plot.ly\"})});</script><script type=\"text/javascript\">window.addEventListener(\"resize\", function(){window._Plotly.Plots.resize(document.getElementById(\"75009eeb-ea05-44cd-83de-cb8a80124fc5\"));});</script>"
      ],
      "text/vnd.plotly.v1+html": [
       "<div id=\"75009eeb-ea05-44cd-83de-cb8a80124fc5\" style=\"height: 525px; width: 100%;\" class=\"plotly-graph-div\"></div><script type=\"text/javascript\">require([\"plotly\"], function(Plotly) { window.PLOTLYENV=window.PLOTLYENV || {};window.PLOTLYENV.BASE_URL=\"https://plot.ly\";Plotly.newPlot(\"75009eeb-ea05-44cd-83de-cb8a80124fc5\", [{\"name\": \"EASY\", \"text\": [\"St. Mary and Virginia Falls Trail\", \"Grinnell Lake Trail\", \"Trail of the Cedars\", \"Going-to-the-Sun Road - West Glacier to Saint Mary Scenic Drive\", \"McDonald Creek Trail\", \"Redrock Falls via Swiftcurrent Pass\", \"Apikuni Falls Trail\", \"Running Eagle Falls Trail\", \"Johns Lake Loop\"], \"textposition\": \"auto\", \"x\": [\"#6\", \"#10\", \"#13\", \"#14\", \"#17\", \"#18\", \"#20\", \"#21\", \"#24\"], \"y\": [452, 351, 36, 5603, 213, 236, 613, 26, 183], \"type\": \"bar\", \"uid\": \"b1995592-ebea-4d89-a41a-b9703ae75cc5\"}, {\"name\": \"MODERATE\", \"text\": [\"Avalanche Lake via the Trail of the Cedars\", \"Grinnell Glacier Trail\", \"Iceberg Lake Trail\", \"Hidden Lake Trail\", \"Cracker Lake Trail\", \"Hidden Lake Overlook\", \"Bullhead Lake Trail\"], \"textposition\": \"auto\", \"x\": [\"#1\", \"#2\", \"#3\", \"#4\", \"#7\", \"#8\", \"#22\"], \"y\": [748, 2040, 1450, 1374, 1650, 580, 442], \"type\": \"bar\", \"uid\": \"22e58ff3-1d94-4471-a5f1-425d8f8bf4c3\"}, {\"name\": \"HARD\", \"text\": [\"Highline Trail\", \"The Garden Wall\", \"Swiftcurrent Pass Trail To Swiftcurrent Mountain\", \"Highline Trail to Granite Park\", \"Siyeh Pass Trail\", \"Scenic Point\", \"Dawson Pass and Pitamakan Pass Loop\", \"Apgar Lookout Trail\"], \"textposition\": \"auto\", \"x\": [\"#5\", \"#9\", \"#11\", \"#12\", \"#15\", \"#16\", \"#19\", \"#23\"], \"y\": [4895, 3507, 3766, 1466, 5551, 2352, 3641, 1948], \"type\": \"bar\", \"uid\": \"2735e65b-5c0e-47ab-81c4-8c17f54da9bb\"}], {\"title\": \"elevation_feet\"}, {\"showLink\": true, \"linkText\": \"Export to plot.ly\", \"plotlyServerURL\": \"https://plot.ly\"})});</script><script type=\"text/javascript\">window.addEventListener(\"resize\", function(){window._Plotly.Plots.resize(document.getElementById(\"75009eeb-ea05-44cd-83de-cb8a80124fc5\"));});</script>"
      ]
     },
     "metadata": {},
     "output_type": "display_data"
    },
    {
     "data": {
      "application/vnd.plotly.v1+json": {
       "config": {
        "linkText": "Export to plot.ly",
        "plotlyServerURL": "https://plot.ly",
        "showLink": true
       },
       "data": [
        {
         "name": "EASY",
         "text": [
          "St. Mary and Virginia Falls Trail",
          "Grinnell Lake Trail",
          "Trail of the Cedars",
          "Going-to-the-Sun Road - West Glacier to Saint Mary Scenic Drive",
          "McDonald Creek Trail",
          "Redrock Falls via Swiftcurrent Pass",
          "Apikuni Falls Trail",
          "Running Eagle Falls Trail",
          "Johns Lake Loop"
         ],
         "textposition": "auto",
         "type": "bar",
         "uid": "4ea63c00-43e5-4e11-a4e4-f37247bfd153",
         "x": [
          "#6",
          "#10",
          "#13",
          "#14",
          "#17",
          "#18",
          "#20",
          "#21",
          "#24"
         ],
         "y": [
          "4.5",
          "4.5",
          "4",
          "5",
          "4.5",
          "4.5",
          "4.5",
          "4.5",
          "4"
         ]
        },
        {
         "name": "MODERATE",
         "text": [
          "Avalanche Lake via the Trail of the Cedars",
          "Grinnell Glacier Trail",
          "Iceberg Lake Trail",
          "Hidden Lake Trail",
          "Cracker Lake Trail",
          "Hidden Lake Overlook",
          "Bullhead Lake Trail"
         ],
         "textposition": "auto",
         "type": "bar",
         "uid": "0e461cab-bc34-4495-8957-b92091e907aa",
         "x": [
          "#1",
          "#2",
          "#3",
          "#4",
          "#7",
          "#8",
          "#22"
         ],
         "y": [
          "4.5",
          "5",
          "5",
          "4.5",
          "4.5",
          "4.5",
          "4.5"
         ]
        },
        {
         "name": "HARD",
         "text": [
          "Highline Trail",
          "The Garden Wall",
          "Swiftcurrent Pass Trail To Swiftcurrent Mountain",
          "Highline Trail to Granite Park",
          "Siyeh Pass Trail",
          "Scenic Point",
          "Dawson Pass and Pitamakan Pass Loop",
          "Apgar Lookout Trail"
         ],
         "textposition": "auto",
         "type": "bar",
         "uid": "bff7e912-bc31-4c17-9b84-4ecb47ba59b9",
         "x": [
          "#5",
          "#9",
          "#11",
          "#12",
          "#15",
          "#16",
          "#19",
          "#23"
         ],
         "y": [
          "5",
          "5",
          "5",
          "5",
          "5",
          "5",
          "5",
          "4"
         ]
        }
       ],
       "layout": {
        "title": "rating"
       }
      },
      "text/html": [
       "<div id=\"bf9a7c2b-1741-41ca-aaf8-74ea71884952\" style=\"height: 525px; width: 100%;\" class=\"plotly-graph-div\"></div><script type=\"text/javascript\">require([\"plotly\"], function(Plotly) { window.PLOTLYENV=window.PLOTLYENV || {};window.PLOTLYENV.BASE_URL=\"https://plot.ly\";Plotly.newPlot(\"bf9a7c2b-1741-41ca-aaf8-74ea71884952\", [{\"name\": \"EASY\", \"text\": [\"St. Mary and Virginia Falls Trail\", \"Grinnell Lake Trail\", \"Trail of the Cedars\", \"Going-to-the-Sun Road - West Glacier to Saint Mary Scenic Drive\", \"McDonald Creek Trail\", \"Redrock Falls via Swiftcurrent Pass\", \"Apikuni Falls Trail\", \"Running Eagle Falls Trail\", \"Johns Lake Loop\"], \"textposition\": \"auto\", \"x\": [\"#6\", \"#10\", \"#13\", \"#14\", \"#17\", \"#18\", \"#20\", \"#21\", \"#24\"], \"y\": [\"4.5\", \"4.5\", \"4\", \"5\", \"4.5\", \"4.5\", \"4.5\", \"4.5\", \"4\"], \"type\": \"bar\", \"uid\": \"4ea63c00-43e5-4e11-a4e4-f37247bfd153\"}, {\"name\": \"MODERATE\", \"text\": [\"Avalanche Lake via the Trail of the Cedars\", \"Grinnell Glacier Trail\", \"Iceberg Lake Trail\", \"Hidden Lake Trail\", \"Cracker Lake Trail\", \"Hidden Lake Overlook\", \"Bullhead Lake Trail\"], \"textposition\": \"auto\", \"x\": [\"#1\", \"#2\", \"#3\", \"#4\", \"#7\", \"#8\", \"#22\"], \"y\": [\"4.5\", \"5\", \"5\", \"4.5\", \"4.5\", \"4.5\", \"4.5\"], \"type\": \"bar\", \"uid\": \"0e461cab-bc34-4495-8957-b92091e907aa\"}, {\"name\": \"HARD\", \"text\": [\"Highline Trail\", \"The Garden Wall\", \"Swiftcurrent Pass Trail To Swiftcurrent Mountain\", \"Highline Trail to Granite Park\", \"Siyeh Pass Trail\", \"Scenic Point\", \"Dawson Pass and Pitamakan Pass Loop\", \"Apgar Lookout Trail\"], \"textposition\": \"auto\", \"x\": [\"#5\", \"#9\", \"#11\", \"#12\", \"#15\", \"#16\", \"#19\", \"#23\"], \"y\": [\"5\", \"5\", \"5\", \"5\", \"5\", \"5\", \"5\", \"4\"], \"type\": \"bar\", \"uid\": \"bff7e912-bc31-4c17-9b84-4ecb47ba59b9\"}], {\"title\": \"rating\"}, {\"showLink\": true, \"linkText\": \"Export to plot.ly\", \"plotlyServerURL\": \"https://plot.ly\"})});</script><script type=\"text/javascript\">window.addEventListener(\"resize\", function(){window._Plotly.Plots.resize(document.getElementById(\"bf9a7c2b-1741-41ca-aaf8-74ea71884952\"));});</script>"
      ],
      "text/vnd.plotly.v1+html": [
       "<div id=\"bf9a7c2b-1741-41ca-aaf8-74ea71884952\" style=\"height: 525px; width: 100%;\" class=\"plotly-graph-div\"></div><script type=\"text/javascript\">require([\"plotly\"], function(Plotly) { window.PLOTLYENV=window.PLOTLYENV || {};window.PLOTLYENV.BASE_URL=\"https://plot.ly\";Plotly.newPlot(\"bf9a7c2b-1741-41ca-aaf8-74ea71884952\", [{\"name\": \"EASY\", \"text\": [\"St. Mary and Virginia Falls Trail\", \"Grinnell Lake Trail\", \"Trail of the Cedars\", \"Going-to-the-Sun Road - West Glacier to Saint Mary Scenic Drive\", \"McDonald Creek Trail\", \"Redrock Falls via Swiftcurrent Pass\", \"Apikuni Falls Trail\", \"Running Eagle Falls Trail\", \"Johns Lake Loop\"], \"textposition\": \"auto\", \"x\": [\"#6\", \"#10\", \"#13\", \"#14\", \"#17\", \"#18\", \"#20\", \"#21\", \"#24\"], \"y\": [\"4.5\", \"4.5\", \"4\", \"5\", \"4.5\", \"4.5\", \"4.5\", \"4.5\", \"4\"], \"type\": \"bar\", \"uid\": \"4ea63c00-43e5-4e11-a4e4-f37247bfd153\"}, {\"name\": \"MODERATE\", \"text\": [\"Avalanche Lake via the Trail of the Cedars\", \"Grinnell Glacier Trail\", \"Iceberg Lake Trail\", \"Hidden Lake Trail\", \"Cracker Lake Trail\", \"Hidden Lake Overlook\", \"Bullhead Lake Trail\"], \"textposition\": \"auto\", \"x\": [\"#1\", \"#2\", \"#3\", \"#4\", \"#7\", \"#8\", \"#22\"], \"y\": [\"4.5\", \"5\", \"5\", \"4.5\", \"4.5\", \"4.5\", \"4.5\"], \"type\": \"bar\", \"uid\": \"0e461cab-bc34-4495-8957-b92091e907aa\"}, {\"name\": \"HARD\", \"text\": [\"Highline Trail\", \"The Garden Wall\", \"Swiftcurrent Pass Trail To Swiftcurrent Mountain\", \"Highline Trail to Granite Park\", \"Siyeh Pass Trail\", \"Scenic Point\", \"Dawson Pass and Pitamakan Pass Loop\", \"Apgar Lookout Trail\"], \"textposition\": \"auto\", \"x\": [\"#5\", \"#9\", \"#11\", \"#12\", \"#15\", \"#16\", \"#19\", \"#23\"], \"y\": [\"5\", \"5\", \"5\", \"5\", \"5\", \"5\", \"5\", \"4\"], \"type\": \"bar\", \"uid\": \"bff7e912-bc31-4c17-9b84-4ecb47ba59b9\"}], {\"title\": \"rating\"}, {\"showLink\": true, \"linkText\": \"Export to plot.ly\", \"plotlyServerURL\": \"https://plot.ly\"})});</script><script type=\"text/javascript\">window.addEventListener(\"resize\", function(){window._Plotly.Plots.resize(document.getElementById(\"bf9a7c2b-1741-41ca-aaf8-74ea71884952\"));});</script>"
      ]
     },
     "metadata": {},
     "output_type": "display_data"
    }
   ],
   "source": [
    "columns = ['num_reviews','duration_hours','elevation_per_mile','distance_miles','elevation_feet','rating']\n",
    "for col in columns:\n",
    "    t1 = go.Bar(x= df[df.difficulty == 'EASY']['ranking'],\n",
    "                y= df[df.difficulty == 'EASY'][col],\n",
    "                text=df[df.difficulty == 'EASY']['name'],\n",
    "                textposition = 'auto',\n",
    "                name='EASY')\n",
    "\n",
    "    t2 = go.Bar(x= df[df.difficulty == 'MODERATE']['ranking'],\n",
    "                y= df[df.difficulty == 'MODERATE'][col],\n",
    "                text=df[df.difficulty == 'MODERATE']['name'],\n",
    "                textposition = 'auto',\n",
    "                name='MODERATE')\n",
    "\n",
    "    t3 = go.Bar(x= df[df.difficulty == 'HARD']['ranking'],\n",
    "                y= df[df.difficulty == 'HARD'][col],\n",
    "                text=df[df.difficulty == 'HARD']['name'],\n",
    "                textposition = 'auto',\n",
    "                name='HARD')\n",
    "    data = [t1,t2,t3]\n",
    "    layout = go.Layout(title=col)\n",
    "    fig = go.Figure(data,layout)\n",
    "    py.iplot(fig)"
   ]
  },
  {
   "cell_type": "code",
   "execution_count": 11,
   "metadata": {},
   "outputs": [
    {
     "ename": "NameError",
     "evalue": "name 'df2' is not defined",
     "output_type": "error",
     "traceback": [
      "\u001b[0;31m---------------------------------------------------------------------------\u001b[0m",
      "\u001b[0;31mNameError\u001b[0m                                 Traceback (most recent call last)",
      "\u001b[0;32m<ipython-input-11-2068723f1203>\u001b[0m in \u001b[0;36m<module>\u001b[0;34m\u001b[0m\n\u001b[0;32m----> 1\u001b[0;31m \u001b[0mdf2\u001b[0m\u001b[0;34m\u001b[0m\u001b[0;34m\u001b[0m\u001b[0m\n\u001b[0m",
      "\u001b[0;31mNameError\u001b[0m: name 'df2' is not defined"
     ]
    }
   ],
   "source": [
    "df2"
   ]
  },
  {
   "cell_type": "code",
   "execution_count": null,
   "metadata": {},
   "outputs": [],
   "source": []
  }
 ],
 "metadata": {
  "kernelspec": {
   "display_name": "Python 3",
   "language": "python",
   "name": "python3"
  },
  "language_info": {
   "codemirror_mode": {
    "name": "ipython",
    "version": 3
   },
   "file_extension": ".py",
   "mimetype": "text/x-python",
   "name": "python",
   "nbconvert_exporter": "python",
   "pygments_lexer": "ipython3",
   "version": "3.6.8"
  }
 },
 "nbformat": 4,
 "nbformat_minor": 2
}
