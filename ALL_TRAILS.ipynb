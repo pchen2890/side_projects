{
 "cells": [
  {
   "cell_type": "code",
   "execution_count": 1,
   "metadata": {},
   "outputs": [],
   "source": [
    "import pandas as pd"
   ]
  },
  {
   "cell_type": "code",
   "execution_count": 2,
   "metadata": {},
   "outputs": [
    {
     "data": {
      "text/html": [
       "<script type=\"text/javascript\">window.PlotlyConfig = {MathJaxConfig: 'local'};</script><script type=\"text/javascript\">if (window.MathJax) {MathJax.Hub.Config({SVG: {font: \"STIX-Web\"}});}</script><script>requirejs.config({paths: { 'plotly': ['https://cdn.plot.ly/plotly-latest.min']},});if(!window._Plotly) {require(['plotly'],function(plotly) {window._Plotly=plotly;});}</script>"
      ],
      "text/vnd.plotly.v1+html": [
       "<script type=\"text/javascript\">window.PlotlyConfig = {MathJaxConfig: 'local'};</script><script type=\"text/javascript\">if (window.MathJax) {MathJax.Hub.Config({SVG: {font: \"STIX-Web\"}});}</script><script>requirejs.config({paths: { 'plotly': ['https://cdn.plot.ly/plotly-latest.min']},});if(!window._Plotly) {require(['plotly'],function(plotly) {window._Plotly=plotly;});}</script>"
      ]
     },
     "metadata": {},
     "output_type": "display_data"
    }
   ],
   "source": [
    "import plotly.graph_objs as go\n",
    "import plotly.offline as py\n",
    "from plotly.offline import download_plotlyjs, init_notebook_mode, iplot\n",
    "py.init_notebook_mode(connected=True)"
   ]
  },
  {
   "cell_type": "code",
   "execution_count": 3,
   "metadata": {},
   "outputs": [],
   "source": [
    "import requests, bs4\n",
    "url = 'https://www.alltrails.com/parks/us/montana/glacier-national-park'\n",
    "r = requests.get(url)\n",
    "soup = bs4.BeautifulSoup(r.text, 'lxml')"
   ]
  },
  {
   "cell_type": "code",
   "execution_count": 4,
   "metadata": {},
   "outputs": [],
   "source": [
    "ranking = []\n",
    "link = []\n",
    "name = []\n",
    "diff = []\n",
    "rating = []\n",
    "location = []\n",
    "distance = []\n",
    "elevation = []\n",
    "route_type =[]"
   ]
  },
  {
   "cell_type": "code",
   "execution_count": 5,
   "metadata": {},
   "outputs": [],
   "source": [
    "for i in range(len(soup.find_all('div', class_=\"trail-result-card\"))):\n",
    "    \n",
    "    # ranking\n",
    "    try:\n",
    "        ranking.append(soup.find_all('span',class_='item-rank xlate-none')[i].get_text())\n",
    "    except Exception:\n",
    "        ranking.append(\"\")\n",
    "   \n",
    "    # link\n",
    "    try:\n",
    "        url = \"https://www.alltrails.com\" + (soup.find_all('a',class_='item-link')[i]['href'])\n",
    "        link.append(url)\n",
    "    except Exception:\n",
    "        link.append(\"\")\n",
    "    \n",
    "    # trail name\n",
    "    try:\n",
    "        name.append(soup.find_all('h3',class_='name xlate-none short')[i].get_text())\n",
    "    except Exception:\n",
    "        name.append(\"\")\n",
    "    \n",
    "    # difficulty\n",
    "    try:\n",
    "        diff.append(soup.find_all('div',class_='difficulty-info')[i].get_text())\n",
    "    except Exception:\n",
    "        diff.append(\"\")\n",
    "    \n",
    "    # rating\n",
    "    try:\n",
    "        rating.append(soup.find_all('div',class_='difficulty-info')[i].find_all('span')[1]['title'])\n",
    "    except Exception:\n",
    "        rating.append(\"\")\n",
    "\n",
    "    # location\n",
    "    try:\n",
    "        location.append(soup.find_all('div',class_='clickable xlate-none')[i]['title'])\n",
    "    except Exception:\n",
    "        location.append(\"\")\n",
    "    \n",
    "    # GRAB TRAIL DETAILS\n",
    "    r2 = requests.get(url)\n",
    "    soup2 = bs4.BeautifulSoup(r2.text, 'lxml')\n",
    "    \n",
    "    # distance\n",
    "    try:\n",
    "        distance.append(soup2.find_all('div', class_=\"detail-data\")[0].get_text())\n",
    "    except Exception:\n",
    "        distance.append(\"\")\n",
    "    \n",
    "    # elevation gain\n",
    "    try:\n",
    "        elevation.append(soup2.find_all('div', class_=\"detail-data\")[1].get_text())\n",
    "    except Exception:\n",
    "        elevation.append(\"\")\n",
    "    \n",
    "    # route type\n",
    "    try:\n",
    "        route_type.append(soup2.find_all('div', class_=\"detail-data\")[2].get_text())\n",
    "    except Exception:\n",
    "        route_type.append(\"\")"
   ]
  },
  {
   "cell_type": "code",
   "execution_count": 6,
   "metadata": {},
   "outputs": [],
   "source": [
    "df = pd.DataFrame(\n",
    "    {'ranking': ranking,\n",
    "     'name': name,\n",
    "     'difficulty': diff,\n",
    "     'distance_miles': distance,\n",
    "     'elevation_feet': elevation,\n",
    "     'route_type': route_type,\n",
    "     'rating': rating,\n",
    "     'location': location,\n",
    "     'link': link\n",
    "    })"
   ]
  },
  {
   "cell_type": "code",
   "execution_count": 7,
   "metadata": {},
   "outputs": [],
   "source": [
    "# format columns\n",
    "df['num_reviews'] = df['difficulty'].str.split(\"(\").str[1].str.strip(\")\")\n",
    "df['distance_miles'] = df.distance_miles.str.strip(\"miles\").astype(float)\n",
    "df['elevation_feet'] = df.elevation_feet.str.replace(\",\",\"\").str.strip('feet').astype(int)\n",
    "df['difficulty'] = df.difficulty.str.replace('[^a-zA-Z]','')\n",
    "df['duration_hours'] = df.distance_miles/2\n",
    "df['elevation_per_mile'] = df.elevation_feet/df.distance_miles"
   ]
  },
  {
   "cell_type": "code",
   "execution_count": 8,
   "metadata": {},
   "outputs": [],
   "source": [
    "df = df[['ranking', 'num_reviews', 'name', 'difficulty','duration_hours','elevation_per_mile',\n",
    "         'distance_miles','elevation_feet','route_type', 'rating', 'location', 'link']]"
   ]
  },
  {
   "cell_type": "code",
   "execution_count": 9,
   "metadata": {},
   "outputs": [],
   "source": [
    "def make_clickable(val):\n",
    "    return '<a href=\"{}\">{}</a>'.format(val,val)\n",
    "\n",
    "df_links = df.style.format({'link':make_clickable})"
   ]
  },
  {
   "cell_type": "code",
   "execution_count": 10,
   "metadata": {
    "scrolled": false
   },
   "outputs": [
    {
     "data": {
      "application/vnd.plotly.v1+json": {
       "config": {
        "linkText": "Export to plot.ly",
        "plotlyServerURL": "https://plot.ly",
        "showLink": true
       },
       "data": [
        {
         "name": "EASY",
         "text": [
          "St. Mary and Virginia Falls Trail",
          "Grinnell Lake Trail",
          "Trail of the Cedars",
          "Going-to-the-Sun Road - West Glacier to Saint Mary Scenic Drive",
          "McDonald Creek Trail",
          "Redrock Falls via Swiftcurrent Pass",
          "Apikuni Falls Trail",
          "Running Eagle Falls Trail",
          "Johns Lake Loop"
         ],
         "textposition": "auto",
         "type": "bar",
         "uid": "7abc06c3-6780-4565-b8b8-022e6a831ee7",
         "x": [
          "#6",
          "#10",
          "#13",
          "#14",
          "#17",
          "#18",
          "#20",
          "#21",
          "#24"
         ],
         "y": [
          "227",
          "80",
          "84",
          "77",
          "42",
          "73",
          "56",
          "57",
          "75"
         ]
        },
        {
         "name": "MODERATE",
         "text": [
          "Avalanche Lake via the Trail of the Cedars",
          "Grinnell Glacier Trail",
          "Iceberg Lake Trail",
          "Hidden Lake Trail",
          "Cracker Lake Trail",
          "Hidden Lake Overlook",
          "Bullhead Lake Trail"
         ],
         "textposition": "auto",
         "type": "bar",
         "uid": "19f957c0-aeb0-4ee2-b989-2c8902fda713",
         "x": [
          "#1",
          "#2",
          "#3",
          "#4",
          "#7",
          "#8",
          "#22"
         ],
         "y": [
          "727",
          "528",
          "352",
          "326",
          "120",
          "137",
          "40"
         ]
        },
        {
         "name": "HARD",
         "text": [
          "Highline Trail",
          "The Garden Wall",
          "Swiftcurrent Pass Trail To Swiftcurrent Mountain",
          "Highline Trail to Granite Park",
          "Siyeh Pass Trail",
          "Scenic Point",
          "Dawson Pass and Pitamakan Pass Loop",
          "Apgar Lookout Trail"
         ],
         "textposition": "auto",
         "type": "bar",
         "uid": "989aed8d-b0a9-4e38-9c90-e66b254ea50b",
         "x": [
          "#5",
          "#9",
          "#11",
          "#12",
          "#15",
          "#16",
          "#19",
          "#23"
         ],
         "y": [
          "280",
          "31",
          "70",
          "62",
          "72",
          "74",
          "66",
          "115"
         ]
        }
       ],
       "layout": {
        "title": "num_reviews"
       }
      },
      "text/html": [
       "<div id=\"e2e5243f-8468-4f14-93a9-04af086374de\" style=\"height: 525px; width: 100%;\" class=\"plotly-graph-div\"></div><script type=\"text/javascript\">require([\"plotly\"], function(Plotly) { window.PLOTLYENV=window.PLOTLYENV || {};window.PLOTLYENV.BASE_URL=\"https://plot.ly\";Plotly.newPlot(\"e2e5243f-8468-4f14-93a9-04af086374de\", [{\"name\": \"EASY\", \"text\": [\"St. Mary and Virginia Falls Trail\", \"Grinnell Lake Trail\", \"Trail of the Cedars\", \"Going-to-the-Sun Road - West Glacier to Saint Mary Scenic Drive\", \"McDonald Creek Trail\", \"Redrock Falls via Swiftcurrent Pass\", \"Apikuni Falls Trail\", \"Running Eagle Falls Trail\", \"Johns Lake Loop\"], \"textposition\": \"auto\", \"x\": [\"#6\", \"#10\", \"#13\", \"#14\", \"#17\", \"#18\", \"#20\", \"#21\", \"#24\"], \"y\": [\"227\", \"80\", \"84\", \"77\", \"42\", \"73\", \"56\", \"57\", \"75\"], \"type\": \"bar\", \"uid\": \"7abc06c3-6780-4565-b8b8-022e6a831ee7\"}, {\"name\": \"MODERATE\", \"text\": [\"Avalanche Lake via the Trail of the Cedars\", \"Grinnell Glacier Trail\", \"Iceberg Lake Trail\", \"Hidden Lake Trail\", \"Cracker Lake Trail\", \"Hidden Lake Overlook\", \"Bullhead Lake Trail\"], \"textposition\": \"auto\", \"x\": [\"#1\", \"#2\", \"#3\", \"#4\", \"#7\", \"#8\", \"#22\"], \"y\": [\"727\", \"528\", \"352\", \"326\", \"120\", \"137\", \"40\"], \"type\": \"bar\", \"uid\": \"19f957c0-aeb0-4ee2-b989-2c8902fda713\"}, {\"name\": \"HARD\", \"text\": [\"Highline Trail\", \"The Garden Wall\", \"Swiftcurrent Pass Trail To Swiftcurrent Mountain\", \"Highline Trail to Granite Park\", \"Siyeh Pass Trail\", \"Scenic Point\", \"Dawson Pass and Pitamakan Pass Loop\", \"Apgar Lookout Trail\"], \"textposition\": \"auto\", \"x\": [\"#5\", \"#9\", \"#11\", \"#12\", \"#15\", \"#16\", \"#19\", \"#23\"], \"y\": [\"280\", \"31\", \"70\", \"62\", \"72\", \"74\", \"66\", \"115\"], \"type\": \"bar\", \"uid\": \"989aed8d-b0a9-4e38-9c90-e66b254ea50b\"}], {\"title\": \"num_reviews\"}, {\"showLink\": true, \"linkText\": \"Export to plot.ly\", \"plotlyServerURL\": \"https://plot.ly\"})});</script><script type=\"text/javascript\">window.addEventListener(\"resize\", function(){window._Plotly.Plots.resize(document.getElementById(\"e2e5243f-8468-4f14-93a9-04af086374de\"));});</script>"
      ],
      "text/vnd.plotly.v1+html": [
       "<div id=\"e2e5243f-8468-4f14-93a9-04af086374de\" style=\"height: 525px; width: 100%;\" class=\"plotly-graph-div\"></div><script type=\"text/javascript\">require([\"plotly\"], function(Plotly) { window.PLOTLYENV=window.PLOTLYENV || {};window.PLOTLYENV.BASE_URL=\"https://plot.ly\";Plotly.newPlot(\"e2e5243f-8468-4f14-93a9-04af086374de\", [{\"name\": \"EASY\", \"text\": [\"St. Mary and Virginia Falls Trail\", \"Grinnell Lake Trail\", \"Trail of the Cedars\", \"Going-to-the-Sun Road - West Glacier to Saint Mary Scenic Drive\", \"McDonald Creek Trail\", \"Redrock Falls via Swiftcurrent Pass\", \"Apikuni Falls Trail\", \"Running Eagle Falls Trail\", \"Johns Lake Loop\"], \"textposition\": \"auto\", \"x\": [\"#6\", \"#10\", \"#13\", \"#14\", \"#17\", \"#18\", \"#20\", \"#21\", \"#24\"], \"y\": [\"227\", \"80\", \"84\", \"77\", \"42\", \"73\", \"56\", \"57\", \"75\"], \"type\": \"bar\", \"uid\": \"7abc06c3-6780-4565-b8b8-022e6a831ee7\"}, {\"name\": \"MODERATE\", \"text\": [\"Avalanche Lake via the Trail of the Cedars\", \"Grinnell Glacier Trail\", \"Iceberg Lake Trail\", \"Hidden Lake Trail\", \"Cracker Lake Trail\", \"Hidden Lake Overlook\", \"Bullhead Lake Trail\"], \"textposition\": \"auto\", \"x\": [\"#1\", \"#2\", \"#3\", \"#4\", \"#7\", \"#8\", \"#22\"], \"y\": [\"727\", \"528\", \"352\", \"326\", \"120\", \"137\", \"40\"], \"type\": \"bar\", \"uid\": \"19f957c0-aeb0-4ee2-b989-2c8902fda713\"}, {\"name\": \"HARD\", \"text\": [\"Highline Trail\", \"The Garden Wall\", \"Swiftcurrent Pass Trail To Swiftcurrent Mountain\", \"Highline Trail to Granite Park\", \"Siyeh Pass Trail\", \"Scenic Point\", \"Dawson Pass and Pitamakan Pass Loop\", \"Apgar Lookout Trail\"], \"textposition\": \"auto\", \"x\": [\"#5\", \"#9\", \"#11\", \"#12\", \"#15\", \"#16\", \"#19\", \"#23\"], \"y\": [\"280\", \"31\", \"70\", \"62\", \"72\", \"74\", \"66\", \"115\"], \"type\": \"bar\", \"uid\": \"989aed8d-b0a9-4e38-9c90-e66b254ea50b\"}], {\"title\": \"num_reviews\"}, {\"showLink\": true, \"linkText\": \"Export to plot.ly\", \"plotlyServerURL\": \"https://plot.ly\"})});</script><script type=\"text/javascript\">window.addEventListener(\"resize\", function(){window._Plotly.Plots.resize(document.getElementById(\"e2e5243f-8468-4f14-93a9-04af086374de\"));});</script>"
      ]
     },
     "metadata": {},
     "output_type": "display_data"
    },
    {
     "data": {
      "application/vnd.plotly.v1+json": {
       "config": {
        "linkText": "Export to plot.ly",
        "plotlyServerURL": "https://plot.ly",
        "showLink": true
       },
       "data": [
        {
         "name": "EASY",
         "text": [
          "St. Mary and Virginia Falls Trail",
          "Grinnell Lake Trail",
          "Trail of the Cedars",
          "Going-to-the-Sun Road - West Glacier to Saint Mary Scenic Drive",
          "McDonald Creek Trail",
          "Redrock Falls via Swiftcurrent Pass",
          "Apikuni Falls Trail",
          "Running Eagle Falls Trail",
          "Johns Lake Loop"
         ],
         "textposition": "auto",
         "type": "bar",
         "uid": "3b6db042-2314-49ea-8efe-c4607306c2c4",
         "x": [
          "#6",
          "#10",
          "#13",
          "#14",
          "#17",
          "#18",
          "#20",
          "#21",
          "#24"
         ],
         "y": [
          1.45,
          3.55,
          0.4,
          24.5,
          2.5,
          1.8,
          0.9,
          0.3,
          0.95
         ]
        },
        {
         "name": "MODERATE",
         "text": [
          "Avalanche Lake via the Trail of the Cedars",
          "Grinnell Glacier Trail",
          "Iceberg Lake Trail",
          "Hidden Lake Trail",
          "Cracker Lake Trail",
          "Hidden Lake Overlook",
          "Bullhead Lake Trail"
         ],
         "textposition": "auto",
         "type": "bar",
         "uid": "46f008ef-2a70-49ce-8597-2bc8e5532559",
         "x": [
          "#1",
          "#2",
          "#3",
          "#4",
          "#7",
          "#8",
          "#22"
         ],
         "y": [
          2.85,
          4.85,
          4.65,
          2.65,
          6,
          1.4,
          3.45
         ]
        },
        {
         "name": "HARD",
         "text": [
          "Highline Trail",
          "The Garden Wall",
          "Swiftcurrent Pass Trail To Swiftcurrent Mountain",
          "Highline Trail to Granite Park",
          "Siyeh Pass Trail",
          "Scenic Point",
          "Dawson Pass and Pitamakan Pass Loop",
          "Apgar Lookout Trail"
         ],
         "textposition": "auto",
         "type": "bar",
         "uid": "49c75609-d4c1-40da-b5d0-650f8f90b93c",
         "x": [
          "#5",
          "#9",
          "#11",
          "#12",
          "#15",
          "#16",
          "#19",
          "#23"
         ],
         "y": [
          14.2,
          7.35,
          7.95,
          5.6,
          10.3,
          3.7,
          8.6,
          3.65
         ]
        }
       ],
       "layout": {
        "title": "duration_hours"
       }
      },
      "text/html": [
       "<div id=\"2299a8b9-723b-48b1-9cb1-233d88a33342\" style=\"height: 525px; width: 100%;\" class=\"plotly-graph-div\"></div><script type=\"text/javascript\">require([\"plotly\"], function(Plotly) { window.PLOTLYENV=window.PLOTLYENV || {};window.PLOTLYENV.BASE_URL=\"https://plot.ly\";Plotly.newPlot(\"2299a8b9-723b-48b1-9cb1-233d88a33342\", [{\"name\": \"EASY\", \"text\": [\"St. Mary and Virginia Falls Trail\", \"Grinnell Lake Trail\", \"Trail of the Cedars\", \"Going-to-the-Sun Road - West Glacier to Saint Mary Scenic Drive\", \"McDonald Creek Trail\", \"Redrock Falls via Swiftcurrent Pass\", \"Apikuni Falls Trail\", \"Running Eagle Falls Trail\", \"Johns Lake Loop\"], \"textposition\": \"auto\", \"x\": [\"#6\", \"#10\", \"#13\", \"#14\", \"#17\", \"#18\", \"#20\", \"#21\", \"#24\"], \"y\": [1.45, 3.55, 0.4, 24.5, 2.5, 1.8, 0.9, 0.3, 0.95], \"type\": \"bar\", \"uid\": \"3b6db042-2314-49ea-8efe-c4607306c2c4\"}, {\"name\": \"MODERATE\", \"text\": [\"Avalanche Lake via the Trail of the Cedars\", \"Grinnell Glacier Trail\", \"Iceberg Lake Trail\", \"Hidden Lake Trail\", \"Cracker Lake Trail\", \"Hidden Lake Overlook\", \"Bullhead Lake Trail\"], \"textposition\": \"auto\", \"x\": [\"#1\", \"#2\", \"#3\", \"#4\", \"#7\", \"#8\", \"#22\"], \"y\": [2.85, 4.85, 4.65, 2.65, 6.0, 1.4, 3.45], \"type\": \"bar\", \"uid\": \"46f008ef-2a70-49ce-8597-2bc8e5532559\"}, {\"name\": \"HARD\", \"text\": [\"Highline Trail\", \"The Garden Wall\", \"Swiftcurrent Pass Trail To Swiftcurrent Mountain\", \"Highline Trail to Granite Park\", \"Siyeh Pass Trail\", \"Scenic Point\", \"Dawson Pass and Pitamakan Pass Loop\", \"Apgar Lookout Trail\"], \"textposition\": \"auto\", \"x\": [\"#5\", \"#9\", \"#11\", \"#12\", \"#15\", \"#16\", \"#19\", \"#23\"], \"y\": [14.2, 7.35, 7.95, 5.6, 10.3, 3.7, 8.6, 3.65], \"type\": \"bar\", \"uid\": \"49c75609-d4c1-40da-b5d0-650f8f90b93c\"}], {\"title\": \"duration_hours\"}, {\"showLink\": true, \"linkText\": \"Export to plot.ly\", \"plotlyServerURL\": \"https://plot.ly\"})});</script><script type=\"text/javascript\">window.addEventListener(\"resize\", function(){window._Plotly.Plots.resize(document.getElementById(\"2299a8b9-723b-48b1-9cb1-233d88a33342\"));});</script>"
      ],
      "text/vnd.plotly.v1+html": [
       "<div id=\"2299a8b9-723b-48b1-9cb1-233d88a33342\" style=\"height: 525px; width: 100%;\" class=\"plotly-graph-div\"></div><script type=\"text/javascript\">require([\"plotly\"], function(Plotly) { window.PLOTLYENV=window.PLOTLYENV || {};window.PLOTLYENV.BASE_URL=\"https://plot.ly\";Plotly.newPlot(\"2299a8b9-723b-48b1-9cb1-233d88a33342\", [{\"name\": \"EASY\", \"text\": [\"St. Mary and Virginia Falls Trail\", \"Grinnell Lake Trail\", \"Trail of the Cedars\", \"Going-to-the-Sun Road - West Glacier to Saint Mary Scenic Drive\", \"McDonald Creek Trail\", \"Redrock Falls via Swiftcurrent Pass\", \"Apikuni Falls Trail\", \"Running Eagle Falls Trail\", \"Johns Lake Loop\"], \"textposition\": \"auto\", \"x\": [\"#6\", \"#10\", \"#13\", \"#14\", \"#17\", \"#18\", \"#20\", \"#21\", \"#24\"], \"y\": [1.45, 3.55, 0.4, 24.5, 2.5, 1.8, 0.9, 0.3, 0.95], \"type\": \"bar\", \"uid\": \"3b6db042-2314-49ea-8efe-c4607306c2c4\"}, {\"name\": \"MODERATE\", \"text\": [\"Avalanche Lake via the Trail of the Cedars\", \"Grinnell Glacier Trail\", \"Iceberg Lake Trail\", \"Hidden Lake Trail\", \"Cracker Lake Trail\", \"Hidden Lake Overlook\", \"Bullhead Lake Trail\"], \"textposition\": \"auto\", \"x\": [\"#1\", \"#2\", \"#3\", \"#4\", \"#7\", \"#8\", \"#22\"], \"y\": [2.85, 4.85, 4.65, 2.65, 6.0, 1.4, 3.45], \"type\": \"bar\", \"uid\": \"46f008ef-2a70-49ce-8597-2bc8e5532559\"}, {\"name\": \"HARD\", \"text\": [\"Highline Trail\", \"The Garden Wall\", \"Swiftcurrent Pass Trail To Swiftcurrent Mountain\", \"Highline Trail to Granite Park\", \"Siyeh Pass Trail\", \"Scenic Point\", \"Dawson Pass and Pitamakan Pass Loop\", \"Apgar Lookout Trail\"], \"textposition\": \"auto\", \"x\": [\"#5\", \"#9\", \"#11\", \"#12\", \"#15\", \"#16\", \"#19\", \"#23\"], \"y\": [14.2, 7.35, 7.95, 5.6, 10.3, 3.7, 8.6, 3.65], \"type\": \"bar\", \"uid\": \"49c75609-d4c1-40da-b5d0-650f8f90b93c\"}], {\"title\": \"duration_hours\"}, {\"showLink\": true, \"linkText\": \"Export to plot.ly\", \"plotlyServerURL\": \"https://plot.ly\"})});</script><script type=\"text/javascript\">window.addEventListener(\"resize\", function(){window._Plotly.Plots.resize(document.getElementById(\"2299a8b9-723b-48b1-9cb1-233d88a33342\"));});</script>"
      ]
     },
     "metadata": {},
     "output_type": "display_data"
    },
    {
     "data": {
      "application/vnd.plotly.v1+json": {
       "config": {
        "linkText": "Export to plot.ly",
        "plotlyServerURL": "https://plot.ly",
        "showLink": true
       },
       "data": [
        {
         "name": "EASY",
         "text": [
          "St. Mary and Virginia Falls Trail",
          "Grinnell Lake Trail",
          "Trail of the Cedars",
          "Going-to-the-Sun Road - West Glacier to Saint Mary Scenic Drive",
          "McDonald Creek Trail",
          "Redrock Falls via Swiftcurrent Pass",
          "Apikuni Falls Trail",
          "Running Eagle Falls Trail",
          "Johns Lake Loop"
         ],
         "textposition": "auto",
         "type": "bar",
         "uid": "4ceebb13-73f4-49d1-86d0-2eed2fe96585",
         "x": [
          "#6",
          "#10",
          "#13",
          "#14",
          "#17",
          "#18",
          "#20",
          "#21",
          "#24"
         ],
         "y": [
          155.86206896551724,
          49.43661971830986,
          45,
          114.34693877551021,
          42.6,
          65.55555555555556,
          340.55555555555554,
          43.333333333333336,
          96.31578947368422
         ]
        },
        {
         "name": "MODERATE",
         "text": [
          "Avalanche Lake via the Trail of the Cedars",
          "Grinnell Glacier Trail",
          "Iceberg Lake Trail",
          "Hidden Lake Trail",
          "Cracker Lake Trail",
          "Hidden Lake Overlook",
          "Bullhead Lake Trail"
         ],
         "textposition": "auto",
         "type": "bar",
         "uid": "5f0864ed-2d08-4ac2-b68d-cd4b10f79841",
         "x": [
          "#1",
          "#2",
          "#3",
          "#4",
          "#7",
          "#8",
          "#22"
         ],
         "y": [
          131.2280701754386,
          210.30927835051548,
          155.91397849462365,
          259.24528301886795,
          137.5,
          207.14285714285717,
          64.05797101449275
         ]
        },
        {
         "name": "HARD",
         "text": [
          "Highline Trail",
          "The Garden Wall",
          "Swiftcurrent Pass Trail To Swiftcurrent Mountain",
          "Highline Trail to Granite Park",
          "Siyeh Pass Trail",
          "Scenic Point",
          "Dawson Pass and Pitamakan Pass Loop",
          "Apgar Lookout Trail"
         ],
         "textposition": "auto",
         "type": "bar",
         "uid": "e85fee3c-8b3b-4254-bdff-9253cc58b3d1",
         "x": [
          "#5",
          "#9",
          "#11",
          "#12",
          "#15",
          "#16",
          "#19",
          "#23"
         ],
         "y": [
          172.35915492957747,
          238.57142857142858,
          236.85534591194968,
          130.89285714285714,
          269.4660194174757,
          317.8378378378378,
          211.68604651162792,
          266.8493150684932
         ]
        }
       ],
       "layout": {
        "title": "elevation_per_mile"
       }
      },
      "text/html": [
       "<div id=\"f1231d87-ad81-4781-b305-54e1fd1a30de\" style=\"height: 525px; width: 100%;\" class=\"plotly-graph-div\"></div><script type=\"text/javascript\">require([\"plotly\"], function(Plotly) { window.PLOTLYENV=window.PLOTLYENV || {};window.PLOTLYENV.BASE_URL=\"https://plot.ly\";Plotly.newPlot(\"f1231d87-ad81-4781-b305-54e1fd1a30de\", [{\"name\": \"EASY\", \"text\": [\"St. Mary and Virginia Falls Trail\", \"Grinnell Lake Trail\", \"Trail of the Cedars\", \"Going-to-the-Sun Road - West Glacier to Saint Mary Scenic Drive\", \"McDonald Creek Trail\", \"Redrock Falls via Swiftcurrent Pass\", \"Apikuni Falls Trail\", \"Running Eagle Falls Trail\", \"Johns Lake Loop\"], \"textposition\": \"auto\", \"x\": [\"#6\", \"#10\", \"#13\", \"#14\", \"#17\", \"#18\", \"#20\", \"#21\", \"#24\"], \"y\": [155.86206896551724, 49.43661971830986, 45.0, 114.34693877551021, 42.6, 65.55555555555556, 340.55555555555554, 43.333333333333336, 96.31578947368422], \"type\": \"bar\", \"uid\": \"4ceebb13-73f4-49d1-86d0-2eed2fe96585\"}, {\"name\": \"MODERATE\", \"text\": [\"Avalanche Lake via the Trail of the Cedars\", \"Grinnell Glacier Trail\", \"Iceberg Lake Trail\", \"Hidden Lake Trail\", \"Cracker Lake Trail\", \"Hidden Lake Overlook\", \"Bullhead Lake Trail\"], \"textposition\": \"auto\", \"x\": [\"#1\", \"#2\", \"#3\", \"#4\", \"#7\", \"#8\", \"#22\"], \"y\": [131.2280701754386, 210.30927835051548, 155.91397849462365, 259.24528301886795, 137.5, 207.14285714285717, 64.05797101449275], \"type\": \"bar\", \"uid\": \"5f0864ed-2d08-4ac2-b68d-cd4b10f79841\"}, {\"name\": \"HARD\", \"text\": [\"Highline Trail\", \"The Garden Wall\", \"Swiftcurrent Pass Trail To Swiftcurrent Mountain\", \"Highline Trail to Granite Park\", \"Siyeh Pass Trail\", \"Scenic Point\", \"Dawson Pass and Pitamakan Pass Loop\", \"Apgar Lookout Trail\"], \"textposition\": \"auto\", \"x\": [\"#5\", \"#9\", \"#11\", \"#12\", \"#15\", \"#16\", \"#19\", \"#23\"], \"y\": [172.35915492957747, 238.57142857142858, 236.85534591194968, 130.89285714285714, 269.4660194174757, 317.8378378378378, 211.68604651162792, 266.8493150684932], \"type\": \"bar\", \"uid\": \"e85fee3c-8b3b-4254-bdff-9253cc58b3d1\"}], {\"title\": \"elevation_per_mile\"}, {\"showLink\": true, \"linkText\": \"Export to plot.ly\", \"plotlyServerURL\": \"https://plot.ly\"})});</script><script type=\"text/javascript\">window.addEventListener(\"resize\", function(){window._Plotly.Plots.resize(document.getElementById(\"f1231d87-ad81-4781-b305-54e1fd1a30de\"));});</script>"
      ],
      "text/vnd.plotly.v1+html": [
       "<div id=\"f1231d87-ad81-4781-b305-54e1fd1a30de\" style=\"height: 525px; width: 100%;\" class=\"plotly-graph-div\"></div><script type=\"text/javascript\">require([\"plotly\"], function(Plotly) { window.PLOTLYENV=window.PLOTLYENV || {};window.PLOTLYENV.BASE_URL=\"https://plot.ly\";Plotly.newPlot(\"f1231d87-ad81-4781-b305-54e1fd1a30de\", [{\"name\": \"EASY\", \"text\": [\"St. Mary and Virginia Falls Trail\", \"Grinnell Lake Trail\", \"Trail of the Cedars\", \"Going-to-the-Sun Road - West Glacier to Saint Mary Scenic Drive\", \"McDonald Creek Trail\", \"Redrock Falls via Swiftcurrent Pass\", \"Apikuni Falls Trail\", \"Running Eagle Falls Trail\", \"Johns Lake Loop\"], \"textposition\": \"auto\", \"x\": [\"#6\", \"#10\", \"#13\", \"#14\", \"#17\", \"#18\", \"#20\", \"#21\", \"#24\"], \"y\": [155.86206896551724, 49.43661971830986, 45.0, 114.34693877551021, 42.6, 65.55555555555556, 340.55555555555554, 43.333333333333336, 96.31578947368422], \"type\": \"bar\", \"uid\": \"4ceebb13-73f4-49d1-86d0-2eed2fe96585\"}, {\"name\": \"MODERATE\", \"text\": [\"Avalanche Lake via the Trail of the Cedars\", \"Grinnell Glacier Trail\", \"Iceberg Lake Trail\", \"Hidden Lake Trail\", \"Cracker Lake Trail\", \"Hidden Lake Overlook\", \"Bullhead Lake Trail\"], \"textposition\": \"auto\", \"x\": [\"#1\", \"#2\", \"#3\", \"#4\", \"#7\", \"#8\", \"#22\"], \"y\": [131.2280701754386, 210.30927835051548, 155.91397849462365, 259.24528301886795, 137.5, 207.14285714285717, 64.05797101449275], \"type\": \"bar\", \"uid\": \"5f0864ed-2d08-4ac2-b68d-cd4b10f79841\"}, {\"name\": \"HARD\", \"text\": [\"Highline Trail\", \"The Garden Wall\", \"Swiftcurrent Pass Trail To Swiftcurrent Mountain\", \"Highline Trail to Granite Park\", \"Siyeh Pass Trail\", \"Scenic Point\", \"Dawson Pass and Pitamakan Pass Loop\", \"Apgar Lookout Trail\"], \"textposition\": \"auto\", \"x\": [\"#5\", \"#9\", \"#11\", \"#12\", \"#15\", \"#16\", \"#19\", \"#23\"], \"y\": [172.35915492957747, 238.57142857142858, 236.85534591194968, 130.89285714285714, 269.4660194174757, 317.8378378378378, 211.68604651162792, 266.8493150684932], \"type\": \"bar\", \"uid\": \"e85fee3c-8b3b-4254-bdff-9253cc58b3d1\"}], {\"title\": \"elevation_per_mile\"}, {\"showLink\": true, \"linkText\": \"Export to plot.ly\", \"plotlyServerURL\": \"https://plot.ly\"})});</script><script type=\"text/javascript\">window.addEventListener(\"resize\", function(){window._Plotly.Plots.resize(document.getElementById(\"f1231d87-ad81-4781-b305-54e1fd1a30de\"));});</script>"
      ]
     },
     "metadata": {},
     "output_type": "display_data"
    },
    {
     "data": {
      "application/vnd.plotly.v1+json": {
       "config": {
        "linkText": "Export to plot.ly",
        "plotlyServerURL": "https://plot.ly",
        "showLink": true
       },
       "data": [
        {
         "name": "EASY",
         "text": [
          "St. Mary and Virginia Falls Trail",
          "Grinnell Lake Trail",
          "Trail of the Cedars",
          "Going-to-the-Sun Road - West Glacier to Saint Mary Scenic Drive",
          "McDonald Creek Trail",
          "Redrock Falls via Swiftcurrent Pass",
          "Apikuni Falls Trail",
          "Running Eagle Falls Trail",
          "Johns Lake Loop"
         ],
         "textposition": "auto",
         "type": "bar",
         "uid": "cd717305-c780-417e-a23e-50f389a12d1b",
         "x": [
          "#6",
          "#10",
          "#13",
          "#14",
          "#17",
          "#18",
          "#20",
          "#21",
          "#24"
         ],
         "y": [
          2.9,
          7.1,
          0.8,
          49,
          5,
          3.6,
          1.8,
          0.6,
          1.9
         ]
        },
        {
         "name": "MODERATE",
         "text": [
          "Avalanche Lake via the Trail of the Cedars",
          "Grinnell Glacier Trail",
          "Iceberg Lake Trail",
          "Hidden Lake Trail",
          "Cracker Lake Trail",
          "Hidden Lake Overlook",
          "Bullhead Lake Trail"
         ],
         "textposition": "auto",
         "type": "bar",
         "uid": "12243952-ca50-41d4-bf5c-32725bfb8b3d",
         "x": [
          "#1",
          "#2",
          "#3",
          "#4",
          "#7",
          "#8",
          "#22"
         ],
         "y": [
          5.7,
          9.7,
          9.3,
          5.3,
          12,
          2.8,
          6.9
         ]
        },
        {
         "name": "HARD",
         "text": [
          "Highline Trail",
          "The Garden Wall",
          "Swiftcurrent Pass Trail To Swiftcurrent Mountain",
          "Highline Trail to Granite Park",
          "Siyeh Pass Trail",
          "Scenic Point",
          "Dawson Pass and Pitamakan Pass Loop",
          "Apgar Lookout Trail"
         ],
         "textposition": "auto",
         "type": "bar",
         "uid": "a1c4d6fe-8090-4b93-b426-5f298a40467f",
         "x": [
          "#5",
          "#9",
          "#11",
          "#12",
          "#15",
          "#16",
          "#19",
          "#23"
         ],
         "y": [
          28.4,
          14.7,
          15.9,
          11.2,
          20.6,
          7.4,
          17.2,
          7.3
         ]
        }
       ],
       "layout": {
        "title": "distance_miles"
       }
      },
      "text/html": [
       "<div id=\"3144bc4b-1b17-439e-8957-d1f5266ee99f\" style=\"height: 525px; width: 100%;\" class=\"plotly-graph-div\"></div><script type=\"text/javascript\">require([\"plotly\"], function(Plotly) { window.PLOTLYENV=window.PLOTLYENV || {};window.PLOTLYENV.BASE_URL=\"https://plot.ly\";Plotly.newPlot(\"3144bc4b-1b17-439e-8957-d1f5266ee99f\", [{\"name\": \"EASY\", \"text\": [\"St. Mary and Virginia Falls Trail\", \"Grinnell Lake Trail\", \"Trail of the Cedars\", \"Going-to-the-Sun Road - West Glacier to Saint Mary Scenic Drive\", \"McDonald Creek Trail\", \"Redrock Falls via Swiftcurrent Pass\", \"Apikuni Falls Trail\", \"Running Eagle Falls Trail\", \"Johns Lake Loop\"], \"textposition\": \"auto\", \"x\": [\"#6\", \"#10\", \"#13\", \"#14\", \"#17\", \"#18\", \"#20\", \"#21\", \"#24\"], \"y\": [2.9, 7.1, 0.8, 49.0, 5.0, 3.6, 1.8, 0.6, 1.9], \"type\": \"bar\", \"uid\": \"cd717305-c780-417e-a23e-50f389a12d1b\"}, {\"name\": \"MODERATE\", \"text\": [\"Avalanche Lake via the Trail of the Cedars\", \"Grinnell Glacier Trail\", \"Iceberg Lake Trail\", \"Hidden Lake Trail\", \"Cracker Lake Trail\", \"Hidden Lake Overlook\", \"Bullhead Lake Trail\"], \"textposition\": \"auto\", \"x\": [\"#1\", \"#2\", \"#3\", \"#4\", \"#7\", \"#8\", \"#22\"], \"y\": [5.7, 9.7, 9.3, 5.3, 12.0, 2.8, 6.9], \"type\": \"bar\", \"uid\": \"12243952-ca50-41d4-bf5c-32725bfb8b3d\"}, {\"name\": \"HARD\", \"text\": [\"Highline Trail\", \"The Garden Wall\", \"Swiftcurrent Pass Trail To Swiftcurrent Mountain\", \"Highline Trail to Granite Park\", \"Siyeh Pass Trail\", \"Scenic Point\", \"Dawson Pass and Pitamakan Pass Loop\", \"Apgar Lookout Trail\"], \"textposition\": \"auto\", \"x\": [\"#5\", \"#9\", \"#11\", \"#12\", \"#15\", \"#16\", \"#19\", \"#23\"], \"y\": [28.4, 14.7, 15.9, 11.2, 20.6, 7.4, 17.2, 7.3], \"type\": \"bar\", \"uid\": \"a1c4d6fe-8090-4b93-b426-5f298a40467f\"}], {\"title\": \"distance_miles\"}, {\"showLink\": true, \"linkText\": \"Export to plot.ly\", \"plotlyServerURL\": \"https://plot.ly\"})});</script><script type=\"text/javascript\">window.addEventListener(\"resize\", function(){window._Plotly.Plots.resize(document.getElementById(\"3144bc4b-1b17-439e-8957-d1f5266ee99f\"));});</script>"
      ],
      "text/vnd.plotly.v1+html": [
       "<div id=\"3144bc4b-1b17-439e-8957-d1f5266ee99f\" style=\"height: 525px; width: 100%;\" class=\"plotly-graph-div\"></div><script type=\"text/javascript\">require([\"plotly\"], function(Plotly) { window.PLOTLYENV=window.PLOTLYENV || {};window.PLOTLYENV.BASE_URL=\"https://plot.ly\";Plotly.newPlot(\"3144bc4b-1b17-439e-8957-d1f5266ee99f\", [{\"name\": \"EASY\", \"text\": [\"St. Mary and Virginia Falls Trail\", \"Grinnell Lake Trail\", \"Trail of the Cedars\", \"Going-to-the-Sun Road - West Glacier to Saint Mary Scenic Drive\", \"McDonald Creek Trail\", \"Redrock Falls via Swiftcurrent Pass\", \"Apikuni Falls Trail\", \"Running Eagle Falls Trail\", \"Johns Lake Loop\"], \"textposition\": \"auto\", \"x\": [\"#6\", \"#10\", \"#13\", \"#14\", \"#17\", \"#18\", \"#20\", \"#21\", \"#24\"], \"y\": [2.9, 7.1, 0.8, 49.0, 5.0, 3.6, 1.8, 0.6, 1.9], \"type\": \"bar\", \"uid\": \"cd717305-c780-417e-a23e-50f389a12d1b\"}, {\"name\": \"MODERATE\", \"text\": [\"Avalanche Lake via the Trail of the Cedars\", \"Grinnell Glacier Trail\", \"Iceberg Lake Trail\", \"Hidden Lake Trail\", \"Cracker Lake Trail\", \"Hidden Lake Overlook\", \"Bullhead Lake Trail\"], \"textposition\": \"auto\", \"x\": [\"#1\", \"#2\", \"#3\", \"#4\", \"#7\", \"#8\", \"#22\"], \"y\": [5.7, 9.7, 9.3, 5.3, 12.0, 2.8, 6.9], \"type\": \"bar\", \"uid\": \"12243952-ca50-41d4-bf5c-32725bfb8b3d\"}, {\"name\": \"HARD\", \"text\": [\"Highline Trail\", \"The Garden Wall\", \"Swiftcurrent Pass Trail To Swiftcurrent Mountain\", \"Highline Trail to Granite Park\", \"Siyeh Pass Trail\", \"Scenic Point\", \"Dawson Pass and Pitamakan Pass Loop\", \"Apgar Lookout Trail\"], \"textposition\": \"auto\", \"x\": [\"#5\", \"#9\", \"#11\", \"#12\", \"#15\", \"#16\", \"#19\", \"#23\"], \"y\": [28.4, 14.7, 15.9, 11.2, 20.6, 7.4, 17.2, 7.3], \"type\": \"bar\", \"uid\": \"a1c4d6fe-8090-4b93-b426-5f298a40467f\"}], {\"title\": \"distance_miles\"}, {\"showLink\": true, \"linkText\": \"Export to plot.ly\", \"plotlyServerURL\": \"https://plot.ly\"})});</script><script type=\"text/javascript\">window.addEventListener(\"resize\", function(){window._Plotly.Plots.resize(document.getElementById(\"3144bc4b-1b17-439e-8957-d1f5266ee99f\"));});</script>"
      ]
     },
     "metadata": {},
     "output_type": "display_data"
    },
    {
     "data": {
      "application/vnd.plotly.v1+json": {
       "config": {
        "linkText": "Export to plot.ly",
        "plotlyServerURL": "https://plot.ly",
        "showLink": true
       },
       "data": [
        {
         "name": "EASY",
         "text": [
          "St. Mary and Virginia Falls Trail",
          "Grinnell Lake Trail",
          "Trail of the Cedars",
          "Going-to-the-Sun Road - West Glacier to Saint Mary Scenic Drive",
          "McDonald Creek Trail",
          "Redrock Falls via Swiftcurrent Pass",
          "Apikuni Falls Trail",
          "Running Eagle Falls Trail",
          "Johns Lake Loop"
         ],
         "textposition": "auto",
         "type": "bar",
         "uid": "b1995592-ebea-4d89-a41a-b9703ae75cc5",
         "x": [
          "#6",
          "#10",
          "#13",
          "#14",
          "#17",
          "#18",
          "#20",
          "#21",
          "#24"
         ],
         "y": [
          452,
          351,
          36,
          5603,
          213,
          236,
          613,
          26,
          183
         ]
        },
        {
         "name": "MODERATE",
         "text": [
          "Avalanche Lake via the Trail of the Cedars",
          "Grinnell Glacier Trail",
          "Iceberg Lake Trail",
          "Hidden Lake Trail",
          "Cracker Lake Trail",
          "Hidden Lake Overlook",
          "Bullhead Lake Trail"
         ],
         "textposition": "auto",
         "type": "bar",
         "uid": "22e58ff3-1d94-4471-a5f1-425d8f8bf4c3",
         "x": [
          "#1",
          "#2",
          "#3",
          "#4",
          "#7",
          "#8",
          "#22"
         ],
         "y": [
          748,
          2040,
          1450,
          1374,
          1650,
          580,
          442
         ]
        },
        {
         "name": "HARD",
         "text": [
          "Highline Trail",
          "The Garden Wall",
          "Swiftcurrent Pass Trail To Swiftcurrent Mountain",
          "Highline Trail to Granite Park",
          "Siyeh Pass Trail",
          "Scenic Point",
          "Dawson Pass and Pitamakan Pass Loop",
          "Apgar Lookout Trail"
         ],
         "textposition": "auto",
         "type": "bar",
         "uid": "2735e65b-5c0e-47ab-81c4-8c17f54da9bb",
         "x": [
          "#5",
          "#9",
          "#11",
          "#12",
          "#15",
          "#16",
          "#19",
          "#23"
         ],
         "y": [
          4895,
          3507,
          3766,
          1466,
          5551,
          2352,
          3641,
          1948
         ]
        }
       ],
       "layout": {
        "title": "elevation_feet"
       }
      },
      "text/html": [
       "<div id=\"75009eeb-ea05-44cd-83de-cb8a80124fc5\" style=\"height: 525px; width: 100%;\" class=\"plotly-graph-div\"></div><script type=\"text/javascript\">require([\"plotly\"], function(Plotly) { window.PLOTLYENV=window.PLOTLYENV || {};window.PLOTLYENV.BASE_URL=\"https://plot.ly\";Plotly.newPlot(\"75009eeb-ea05-44cd-83de-cb8a80124fc5\", [{\"name\": \"EASY\", \"text\": [\"St. Mary and Virginia Falls Trail\", \"Grinnell Lake Trail\", \"Trail of the Cedars\", \"Going-to-the-Sun Road - West Glacier to Saint Mary Scenic Drive\", \"McDonald Creek Trail\", \"Redrock Falls via Swiftcurrent Pass\", \"Apikuni Falls Trail\", \"Running Eagle Falls Trail\", \"Johns Lake Loop\"], \"textposition\": \"auto\", \"x\": [\"#6\", \"#10\", \"#13\", \"#14\", \"#17\", \"#18\", \"#20\", \"#21\", \"#24\"], \"y\": [452, 351, 36, 5603, 213, 236, 613, 26, 183], \"type\": \"bar\", \"uid\": \"b1995592-ebea-4d89-a41a-b9703ae75cc5\"}, {\"name\": \"MODERATE\", \"text\": [\"Avalanche Lake via the Trail of the Cedars\", \"Grinnell Glacier Trail\", \"Iceberg Lake Trail\", \"Hidden Lake Trail\", \"Cracker Lake Trail\", \"Hidden Lake Overlook\", \"Bullhead Lake Trail\"], \"textposition\": \"auto\", \"x\": [\"#1\", \"#2\", \"#3\", \"#4\", \"#7\", \"#8\", \"#22\"], \"y\": [748, 2040, 1450, 1374, 1650, 580, 442], \"type\": \"bar\", \"uid\": \"22e58ff3-1d94-4471-a5f1-425d8f8bf4c3\"}, {\"name\": \"HARD\", \"text\": [\"Highline Trail\", \"The Garden Wall\", \"Swiftcurrent Pass Trail To Swiftcurrent Mountain\", \"Highline Trail to Granite Park\", \"Siyeh Pass Trail\", \"Scenic Point\", \"Dawson Pass and Pitamakan Pass Loop\", \"Apgar Lookout Trail\"], \"textposition\": \"auto\", \"x\": [\"#5\", \"#9\", \"#11\", \"#12\", \"#15\", \"#16\", \"#19\", \"#23\"], \"y\": [4895, 3507, 3766, 1466, 5551, 2352, 3641, 1948], \"type\": \"bar\", \"uid\": \"2735e65b-5c0e-47ab-81c4-8c17f54da9bb\"}], {\"title\": \"elevation_feet\"}, {\"showLink\": true, \"linkText\": \"Export to plot.ly\", \"plotlyServerURL\": \"https://plot.ly\"})});</script><script type=\"text/javascript\">window.addEventListener(\"resize\", function(){window._Plotly.Plots.resize(document.getElementById(\"75009eeb-ea05-44cd-83de-cb8a80124fc5\"));});</script>"
      ],
      "text/vnd.plotly.v1+html": [
       "<div id=\"75009eeb-ea05-44cd-83de-cb8a80124fc5\" style=\"height: 525px; width: 100%;\" class=\"plotly-graph-div\"></div><script type=\"text/javascript\">require([\"plotly\"], function(Plotly) { window.PLOTLYENV=window.PLOTLYENV || {};window.PLOTLYENV.BASE_URL=\"https://plot.ly\";Plotly.newPlot(\"75009eeb-ea05-44cd-83de-cb8a80124fc5\", [{\"name\": \"EASY\", \"text\": [\"St. Mary and Virginia Falls Trail\", \"Grinnell Lake Trail\", \"Trail of the Cedars\", \"Going-to-the-Sun Road - West Glacier to Saint Mary Scenic Drive\", \"McDonald Creek Trail\", \"Redrock Falls via Swiftcurrent Pass\", \"Apikuni Falls Trail\", \"Running Eagle Falls Trail\", \"Johns Lake Loop\"], \"textposition\": \"auto\", \"x\": [\"#6\", \"#10\", \"#13\", \"#14\", \"#17\", \"#18\", \"#20\", \"#21\", \"#24\"], \"y\": [452, 351, 36, 5603, 213, 236, 613, 26, 183], \"type\": \"bar\", \"uid\": \"b1995592-ebea-4d89-a41a-b9703ae75cc5\"}, {\"name\": \"MODERATE\", \"text\": [\"Avalanche Lake via the Trail of the Cedars\", \"Grinnell Glacier Trail\", \"Iceberg Lake Trail\", \"Hidden Lake Trail\", \"Cracker Lake Trail\", \"Hidden Lake Overlook\", \"Bullhead Lake Trail\"], \"textposition\": \"auto\", \"x\": [\"#1\", \"#2\", \"#3\", \"#4\", \"#7\", \"#8\", \"#22\"], \"y\": [748, 2040, 1450, 1374, 1650, 580, 442], \"type\": \"bar\", \"uid\": \"22e58ff3-1d94-4471-a5f1-425d8f8bf4c3\"}, {\"name\": \"HARD\", \"text\": [\"Highline Trail\", \"The Garden Wall\", \"Swiftcurrent Pass Trail To Swiftcurrent Mountain\", \"Highline Trail to Granite Park\", \"Siyeh Pass Trail\", \"Scenic Point\", \"Dawson Pass and Pitamakan Pass Loop\", \"Apgar Lookout Trail\"], \"textposition\": \"auto\", \"x\": [\"#5\", \"#9\", \"#11\", \"#12\", \"#15\", \"#16\", \"#19\", \"#23\"], \"y\": [4895, 3507, 3766, 1466, 5551, 2352, 3641, 1948], \"type\": \"bar\", \"uid\": \"2735e65b-5c0e-47ab-81c4-8c17f54da9bb\"}], {\"title\": \"elevation_feet\"}, {\"showLink\": true, \"linkText\": \"Export to plot.ly\", \"plotlyServerURL\": \"https://plot.ly\"})});</script><script type=\"text/javascript\">window.addEventListener(\"resize\", function(){window._Plotly.Plots.resize(document.getElementById(\"75009eeb-ea05-44cd-83de-cb8a80124fc5\"));});</script>"
      ]
     },
     "metadata": {},
     "output_type": "display_data"
    },
    {
     "data": {
      "application/vnd.plotly.v1+json": {
       "config": {
        "linkText": "Export to plot.ly",
        "plotlyServerURL": "https://plot.ly",
        "showLink": true
       },
       "data": [
        {
         "name": "EASY",
         "text": [
          "St. Mary and Virginia Falls Trail",
          "Grinnell Lake Trail",
          "Trail of the Cedars",
          "Going-to-the-Sun Road - West Glacier to Saint Mary Scenic Drive",
          "McDonald Creek Trail",
          "Redrock Falls via Swiftcurrent Pass",
          "Apikuni Falls Trail",
          "Running Eagle Falls Trail",
          "Johns Lake Loop"
         ],
         "textposition": "auto",
         "type": "bar",
         "uid": "4ea63c00-43e5-4e11-a4e4-f37247bfd153",
         "x": [
          "#6",
          "#10",
          "#13",
          "#14",
          "#17",
          "#18",
          "#20",
          "#21",
          "#24"
         ],
         "y": [
          "4.5",
          "4.5",
          "4",
          "5",
          "4.5",
          "4.5",
          "4.5",
          "4.5",
          "4"
         ]
        },
        {
         "name": "MODERATE",
         "text": [
          "Avalanche Lake via the Trail of the Cedars",
          "Grinnell Glacier Trail",
          "Iceberg Lake Trail",
          "Hidden Lake Trail",
          "Cracker Lake Trail",
          "Hidden Lake Overlook",
          "Bullhead Lake Trail"
         ],
         "textposition": "auto",
         "type": "bar",
         "uid": "0e461cab-bc34-4495-8957-b92091e907aa",
         "x": [
          "#1",
          "#2",
          "#3",
          "#4",
          "#7",
          "#8",
          "#22"
         ],
         "y": [
          "4.5",
          "5",
          "5",
          "4.5",
          "4.5",
          "4.5",
          "4.5"
         ]
        },
        {
         "name": "HARD",
         "text": [
          "Highline Trail",
          "The Garden Wall",
          "Swiftcurrent Pass Trail To Swiftcurrent Mountain",
          "Highline Trail to Granite Park",
          "Siyeh Pass Trail",
          "Scenic Point",
          "Dawson Pass and Pitamakan Pass Loop",
          "Apgar Lookout Trail"
         ],
         "textposition": "auto",
         "type": "bar",
         "uid": "bff7e912-bc31-4c17-9b84-4ecb47ba59b9",
         "x": [
          "#5",
          "#9",
          "#11",
          "#12",
          "#15",
          "#16",
          "#19",
          "#23"
         ],
         "y": [
          "5",
          "5",
          "5",
          "5",
          "5",
          "5",
          "5",
          "4"
         ]
        }
       ],
       "layout": {
        "title": "rating"
       }
      },
      "text/html": [
       "<div id=\"bf9a7c2b-1741-41ca-aaf8-74ea71884952\" style=\"height: 525px; width: 100%;\" class=\"plotly-graph-div\"></div><script type=\"text/javascript\">require([\"plotly\"], function(Plotly) { window.PLOTLYENV=window.PLOTLYENV || {};window.PLOTLYENV.BASE_URL=\"https://plot.ly\";Plotly.newPlot(\"bf9a7c2b-1741-41ca-aaf8-74ea71884952\", [{\"name\": \"EASY\", \"text\": [\"St. Mary and Virginia Falls Trail\", \"Grinnell Lake Trail\", \"Trail of the Cedars\", \"Going-to-the-Sun Road - West Glacier to Saint Mary Scenic Drive\", \"McDonald Creek Trail\", \"Redrock Falls via Swiftcurrent Pass\", \"Apikuni Falls Trail\", \"Running Eagle Falls Trail\", \"Johns Lake Loop\"], \"textposition\": \"auto\", \"x\": [\"#6\", \"#10\", \"#13\", \"#14\", \"#17\", \"#18\", \"#20\", \"#21\", \"#24\"], \"y\": [\"4.5\", \"4.5\", \"4\", \"5\", \"4.5\", \"4.5\", \"4.5\", \"4.5\", \"4\"], \"type\": \"bar\", \"uid\": \"4ea63c00-43e5-4e11-a4e4-f37247bfd153\"}, {\"name\": \"MODERATE\", \"text\": [\"Avalanche Lake via the Trail of the Cedars\", \"Grinnell Glacier Trail\", \"Iceberg Lake Trail\", \"Hidden Lake Trail\", \"Cracker Lake Trail\", \"Hidden Lake Overlook\", \"Bullhead Lake Trail\"], \"textposition\": \"auto\", \"x\": [\"#1\", \"#2\", \"#3\", \"#4\", \"#7\", \"#8\", \"#22\"], \"y\": [\"4.5\", \"5\", \"5\", \"4.5\", \"4.5\", \"4.5\", \"4.5\"], \"type\": \"bar\", \"uid\": \"0e461cab-bc34-4495-8957-b92091e907aa\"}, {\"name\": \"HARD\", \"text\": [\"Highline Trail\", \"The Garden Wall\", \"Swiftcurrent Pass Trail To Swiftcurrent Mountain\", \"Highline Trail to Granite Park\", \"Siyeh Pass Trail\", \"Scenic Point\", \"Dawson Pass and Pitamakan Pass Loop\", \"Apgar Lookout Trail\"], \"textposition\": \"auto\", \"x\": [\"#5\", \"#9\", \"#11\", \"#12\", \"#15\", \"#16\", \"#19\", \"#23\"], \"y\": [\"5\", \"5\", \"5\", \"5\", \"5\", \"5\", \"5\", \"4\"], \"type\": \"bar\", \"uid\": \"bff7e912-bc31-4c17-9b84-4ecb47ba59b9\"}], {\"title\": \"rating\"}, {\"showLink\": true, \"linkText\": \"Export to plot.ly\", \"plotlyServerURL\": \"https://plot.ly\"})});</script><script type=\"text/javascript\">window.addEventListener(\"resize\", function(){window._Plotly.Plots.resize(document.getElementById(\"bf9a7c2b-1741-41ca-aaf8-74ea71884952\"));});</script>"
      ],
      "text/vnd.plotly.v1+html": [
       "<div id=\"bf9a7c2b-1741-41ca-aaf8-74ea71884952\" style=\"height: 525px; width: 100%;\" class=\"plotly-graph-div\"></div><script type=\"text/javascript\">require([\"plotly\"], function(Plotly) { window.PLOTLYENV=window.PLOTLYENV || {};window.PLOTLYENV.BASE_URL=\"https://plot.ly\";Plotly.newPlot(\"bf9a7c2b-1741-41ca-aaf8-74ea71884952\", [{\"name\": \"EASY\", \"text\": [\"St. Mary and Virginia Falls Trail\", \"Grinnell Lake Trail\", \"Trail of the Cedars\", \"Going-to-the-Sun Road - West Glacier to Saint Mary Scenic Drive\", \"McDonald Creek Trail\", \"Redrock Falls via Swiftcurrent Pass\", \"Apikuni Falls Trail\", \"Running Eagle Falls Trail\", \"Johns Lake Loop\"], \"textposition\": \"auto\", \"x\": [\"#6\", \"#10\", \"#13\", \"#14\", \"#17\", \"#18\", \"#20\", \"#21\", \"#24\"], \"y\": [\"4.5\", \"4.5\", \"4\", \"5\", \"4.5\", \"4.5\", \"4.5\", \"4.5\", \"4\"], \"type\": \"bar\", \"uid\": \"4ea63c00-43e5-4e11-a4e4-f37247bfd153\"}, {\"name\": \"MODERATE\", \"text\": [\"Avalanche Lake via the Trail of the Cedars\", \"Grinnell Glacier Trail\", \"Iceberg Lake Trail\", \"Hidden Lake Trail\", \"Cracker Lake Trail\", \"Hidden Lake Overlook\", \"Bullhead Lake Trail\"], \"textposition\": \"auto\", \"x\": [\"#1\", \"#2\", \"#3\", \"#4\", \"#7\", \"#8\", \"#22\"], \"y\": [\"4.5\", \"5\", \"5\", \"4.5\", \"4.5\", \"4.5\", \"4.5\"], \"type\": \"bar\", \"uid\": \"0e461cab-bc34-4495-8957-b92091e907aa\"}, {\"name\": \"HARD\", \"text\": [\"Highline Trail\", \"The Garden Wall\", \"Swiftcurrent Pass Trail To Swiftcurrent Mountain\", \"Highline Trail to Granite Park\", \"Siyeh Pass Trail\", \"Scenic Point\", \"Dawson Pass and Pitamakan Pass Loop\", \"Apgar Lookout Trail\"], \"textposition\": \"auto\", \"x\": [\"#5\", \"#9\", \"#11\", \"#12\", \"#15\", \"#16\", \"#19\", \"#23\"], \"y\": [\"5\", \"5\", \"5\", \"5\", \"5\", \"5\", \"5\", \"4\"], \"type\": \"bar\", \"uid\": \"bff7e912-bc31-4c17-9b84-4ecb47ba59b9\"}], {\"title\": \"rating\"}, {\"showLink\": true, \"linkText\": \"Export to plot.ly\", \"plotlyServerURL\": \"https://plot.ly\"})});</script><script type=\"text/javascript\">window.addEventListener(\"resize\", function(){window._Plotly.Plots.resize(document.getElementById(\"bf9a7c2b-1741-41ca-aaf8-74ea71884952\"));});</script>"
      ]
     },
     "metadata": {},
     "output_type": "display_data"
    }
   ],
   "source": [
    "columns = ['num_reviews','duration_hours','elevation_per_mile','distance_miles','elevation_feet','rating']\n",
    "for col in columns:\n",
    "    t1 = go.Bar(x= df[df.difficulty == 'EASY']['ranking'],\n",
    "                y= df[df.difficulty == 'EASY'][col],\n",
    "                text=df[df.difficulty == 'EASY']['name'],\n",
    "                textposition = 'auto',\n",
    "                name='EASY')\n",
    "\n",
    "    t2 = go.Bar(x= df[df.difficulty == 'MODERATE']['ranking'],\n",
    "                y= df[df.difficulty == 'MODERATE'][col],\n",
    "                text=df[df.difficulty == 'MODERATE']['name'],\n",
    "                textposition = 'auto',\n",
    "                name='MODERATE')\n",
    "\n",
    "    t3 = go.Bar(x= df[df.difficulty == 'HARD']['ranking'],\n",
    "                y= df[df.difficulty == 'HARD'][col],\n",
    "                text=df[df.difficulty == 'HARD']['name'],\n",
    "                textposition = 'auto',\n",
    "                name='HARD')\n",
    "    data = [t1,t2,t3]\n",
    "    layout = go.Layout(title=col)\n",
    "    fig = go.Figure(data,layout)\n",
    "    py.iplot(fig)"
   ]
  },
  {
   "cell_type": "code",
   "execution_count": 14,
   "metadata": {},
   "outputs": [
    {
     "data": {
      "text/html": [
       "<style  type=\"text/css\" >\n",
       "</style>  \n",
       "<table id=\"T_023caf90_414b_11e9_aad6_8c8590c1c849\" > \n",
       "<thead>    <tr> \n",
       "        <th class=\"blank level0\" ></th> \n",
       "        <th class=\"col_heading level0 col0\" >ranking</th> \n",
       "        <th class=\"col_heading level0 col1\" >num_reviews</th> \n",
       "        <th class=\"col_heading level0 col2\" >name</th> \n",
       "        <th class=\"col_heading level0 col3\" >difficulty</th> \n",
       "        <th class=\"col_heading level0 col4\" >duration_hours</th> \n",
       "        <th class=\"col_heading level0 col5\" >elevation_per_mile</th> \n",
       "        <th class=\"col_heading level0 col6\" >distance_miles</th> \n",
       "        <th class=\"col_heading level0 col7\" >elevation_feet</th> \n",
       "        <th class=\"col_heading level0 col8\" >route_type</th> \n",
       "        <th class=\"col_heading level0 col9\" >rating</th> \n",
       "        <th class=\"col_heading level0 col10\" >location</th> \n",
       "        <th class=\"col_heading level0 col11\" >link</th> \n",
       "    </tr></thead> \n",
       "<tbody>    <tr> \n",
       "        <th id=\"T_023caf90_414b_11e9_aad6_8c8590c1c849level0_row0\" class=\"row_heading level0 row0\" >0</th> \n",
       "        <td id=\"T_023caf90_414b_11e9_aad6_8c8590c1c849row0_col0\" class=\"data row0 col0\" >#1</td> \n",
       "        <td id=\"T_023caf90_414b_11e9_aad6_8c8590c1c849row0_col1\" class=\"data row0 col1\" >727</td> \n",
       "        <td id=\"T_023caf90_414b_11e9_aad6_8c8590c1c849row0_col2\" class=\"data row0 col2\" >Avalanche Lake via the Trail of the Cedars</td> \n",
       "        <td id=\"T_023caf90_414b_11e9_aad6_8c8590c1c849row0_col3\" class=\"data row0 col3\" >MODERATE</td> \n",
       "        <td id=\"T_023caf90_414b_11e9_aad6_8c8590c1c849row0_col4\" class=\"data row0 col4\" >2.85</td> \n",
       "        <td id=\"T_023caf90_414b_11e9_aad6_8c8590c1c849row0_col5\" class=\"data row0 col5\" >131.228</td> \n",
       "        <td id=\"T_023caf90_414b_11e9_aad6_8c8590c1c849row0_col6\" class=\"data row0 col6\" >5.7</td> \n",
       "        <td id=\"T_023caf90_414b_11e9_aad6_8c8590c1c849row0_col7\" class=\"data row0 col7\" >748</td> \n",
       "        <td id=\"T_023caf90_414b_11e9_aad6_8c8590c1c849row0_col8\" class=\"data row0 col8\" >Out & Back</td> \n",
       "        <td id=\"T_023caf90_414b_11e9_aad6_8c8590c1c849row0_col9\" class=\"data row0 col9\" >4.5</td> \n",
       "        <td id=\"T_023caf90_414b_11e9_aad6_8c8590c1c849row0_col10\" class=\"data row0 col10\" >Essex, Montana</td> \n",
       "        <td id=\"T_023caf90_414b_11e9_aad6_8c8590c1c849row0_col11\" class=\"data row0 col11\" ><a href=\"https://www.alltrails.com/trail/us/montana/avalanche-lake-via-the-trail-of-the-cedars?ref=result-card\">https://www.alltrails.com/trail/us/montana/avalanche-lake-via-the-trail-of-the-cedars?ref=result-card</a></td> \n",
       "    </tr>    <tr> \n",
       "        <th id=\"T_023caf90_414b_11e9_aad6_8c8590c1c849level0_row1\" class=\"row_heading level0 row1\" >1</th> \n",
       "        <td id=\"T_023caf90_414b_11e9_aad6_8c8590c1c849row1_col0\" class=\"data row1 col0\" >#2</td> \n",
       "        <td id=\"T_023caf90_414b_11e9_aad6_8c8590c1c849row1_col1\" class=\"data row1 col1\" >528</td> \n",
       "        <td id=\"T_023caf90_414b_11e9_aad6_8c8590c1c849row1_col2\" class=\"data row1 col2\" >Grinnell Glacier Trail</td> \n",
       "        <td id=\"T_023caf90_414b_11e9_aad6_8c8590c1c849row1_col3\" class=\"data row1 col3\" >MODERATE</td> \n",
       "        <td id=\"T_023caf90_414b_11e9_aad6_8c8590c1c849row1_col4\" class=\"data row1 col4\" >4.85</td> \n",
       "        <td id=\"T_023caf90_414b_11e9_aad6_8c8590c1c849row1_col5\" class=\"data row1 col5\" >210.309</td> \n",
       "        <td id=\"T_023caf90_414b_11e9_aad6_8c8590c1c849row1_col6\" class=\"data row1 col6\" >9.7</td> \n",
       "        <td id=\"T_023caf90_414b_11e9_aad6_8c8590c1c849row1_col7\" class=\"data row1 col7\" >2040</td> \n",
       "        <td id=\"T_023caf90_414b_11e9_aad6_8c8590c1c849row1_col8\" class=\"data row1 col8\" >Out & Back</td> \n",
       "        <td id=\"T_023caf90_414b_11e9_aad6_8c8590c1c849row1_col9\" class=\"data row1 col9\" >5</td> \n",
       "        <td id=\"T_023caf90_414b_11e9_aad6_8c8590c1c849row1_col10\" class=\"data row1 col10\" >Browning, Montana</td> \n",
       "        <td id=\"T_023caf90_414b_11e9_aad6_8c8590c1c849row1_col11\" class=\"data row1 col11\" ><a href=\"https://www.alltrails.com/trail/us/montana/grinnell-glacier-trail?ref=result-card\">https://www.alltrails.com/trail/us/montana/grinnell-glacier-trail?ref=result-card</a></td> \n",
       "    </tr>    <tr> \n",
       "        <th id=\"T_023caf90_414b_11e9_aad6_8c8590c1c849level0_row2\" class=\"row_heading level0 row2\" >2</th> \n",
       "        <td id=\"T_023caf90_414b_11e9_aad6_8c8590c1c849row2_col0\" class=\"data row2 col0\" >#3</td> \n",
       "        <td id=\"T_023caf90_414b_11e9_aad6_8c8590c1c849row2_col1\" class=\"data row2 col1\" >352</td> \n",
       "        <td id=\"T_023caf90_414b_11e9_aad6_8c8590c1c849row2_col2\" class=\"data row2 col2\" >Iceberg Lake Trail</td> \n",
       "        <td id=\"T_023caf90_414b_11e9_aad6_8c8590c1c849row2_col3\" class=\"data row2 col3\" >MODERATE</td> \n",
       "        <td id=\"T_023caf90_414b_11e9_aad6_8c8590c1c849row2_col4\" class=\"data row2 col4\" >4.65</td> \n",
       "        <td id=\"T_023caf90_414b_11e9_aad6_8c8590c1c849row2_col5\" class=\"data row2 col5\" >155.914</td> \n",
       "        <td id=\"T_023caf90_414b_11e9_aad6_8c8590c1c849row2_col6\" class=\"data row2 col6\" >9.3</td> \n",
       "        <td id=\"T_023caf90_414b_11e9_aad6_8c8590c1c849row2_col7\" class=\"data row2 col7\" >1450</td> \n",
       "        <td id=\"T_023caf90_414b_11e9_aad6_8c8590c1c849row2_col8\" class=\"data row2 col8\" >Out & Back</td> \n",
       "        <td id=\"T_023caf90_414b_11e9_aad6_8c8590c1c849row2_col9\" class=\"data row2 col9\" >5</td> \n",
       "        <td id=\"T_023caf90_414b_11e9_aad6_8c8590c1c849row2_col10\" class=\"data row2 col10\" >Browning, Montana</td> \n",
       "        <td id=\"T_023caf90_414b_11e9_aad6_8c8590c1c849row2_col11\" class=\"data row2 col11\" ><a href=\"https://www.alltrails.com/trail/us/montana/iceberg-lake?ref=result-card\">https://www.alltrails.com/trail/us/montana/iceberg-lake?ref=result-card</a></td> \n",
       "    </tr>    <tr> \n",
       "        <th id=\"T_023caf90_414b_11e9_aad6_8c8590c1c849level0_row3\" class=\"row_heading level0 row3\" >3</th> \n",
       "        <td id=\"T_023caf90_414b_11e9_aad6_8c8590c1c849row3_col0\" class=\"data row3 col0\" >#4</td> \n",
       "        <td id=\"T_023caf90_414b_11e9_aad6_8c8590c1c849row3_col1\" class=\"data row3 col1\" >326</td> \n",
       "        <td id=\"T_023caf90_414b_11e9_aad6_8c8590c1c849row3_col2\" class=\"data row3 col2\" >Hidden Lake Trail</td> \n",
       "        <td id=\"T_023caf90_414b_11e9_aad6_8c8590c1c849row3_col3\" class=\"data row3 col3\" >MODERATE</td> \n",
       "        <td id=\"T_023caf90_414b_11e9_aad6_8c8590c1c849row3_col4\" class=\"data row3 col4\" >2.65</td> \n",
       "        <td id=\"T_023caf90_414b_11e9_aad6_8c8590c1c849row3_col5\" class=\"data row3 col5\" >259.245</td> \n",
       "        <td id=\"T_023caf90_414b_11e9_aad6_8c8590c1c849row3_col6\" class=\"data row3 col6\" >5.3</td> \n",
       "        <td id=\"T_023caf90_414b_11e9_aad6_8c8590c1c849row3_col7\" class=\"data row3 col7\" >1374</td> \n",
       "        <td id=\"T_023caf90_414b_11e9_aad6_8c8590c1c849row3_col8\" class=\"data row3 col8\" >Out & Back</td> \n",
       "        <td id=\"T_023caf90_414b_11e9_aad6_8c8590c1c849row3_col9\" class=\"data row3 col9\" >4.5</td> \n",
       "        <td id=\"T_023caf90_414b_11e9_aad6_8c8590c1c849row3_col10\" class=\"data row3 col10\" >East Glacier Park Village, Montana</td> \n",
       "        <td id=\"T_023caf90_414b_11e9_aad6_8c8590c1c849row3_col11\" class=\"data row3 col11\" ><a href=\"https://www.alltrails.com/trail/us/montana/hidden-lake-trail?ref=result-card\">https://www.alltrails.com/trail/us/montana/hidden-lake-trail?ref=result-card</a></td> \n",
       "    </tr>    <tr> \n",
       "        <th id=\"T_023caf90_414b_11e9_aad6_8c8590c1c849level0_row4\" class=\"row_heading level0 row4\" >4</th> \n",
       "        <td id=\"T_023caf90_414b_11e9_aad6_8c8590c1c849row4_col0\" class=\"data row4 col0\" >#5</td> \n",
       "        <td id=\"T_023caf90_414b_11e9_aad6_8c8590c1c849row4_col1\" class=\"data row4 col1\" >280</td> \n",
       "        <td id=\"T_023caf90_414b_11e9_aad6_8c8590c1c849row4_col2\" class=\"data row4 col2\" >Highline Trail</td> \n",
       "        <td id=\"T_023caf90_414b_11e9_aad6_8c8590c1c849row4_col3\" class=\"data row4 col3\" >HARD</td> \n",
       "        <td id=\"T_023caf90_414b_11e9_aad6_8c8590c1c849row4_col4\" class=\"data row4 col4\" >14.2</td> \n",
       "        <td id=\"T_023caf90_414b_11e9_aad6_8c8590c1c849row4_col5\" class=\"data row4 col5\" >172.359</td> \n",
       "        <td id=\"T_023caf90_414b_11e9_aad6_8c8590c1c849row4_col6\" class=\"data row4 col6\" >28.4</td> \n",
       "        <td id=\"T_023caf90_414b_11e9_aad6_8c8590c1c849row4_col7\" class=\"data row4 col7\" >4895</td> \n",
       "        <td id=\"T_023caf90_414b_11e9_aad6_8c8590c1c849row4_col8\" class=\"data row4 col8\" >Out & Back</td> \n",
       "        <td id=\"T_023caf90_414b_11e9_aad6_8c8590c1c849row4_col9\" class=\"data row4 col9\" >5</td> \n",
       "        <td id=\"T_023caf90_414b_11e9_aad6_8c8590c1c849row4_col10\" class=\"data row4 col10\" >Browning, Montana</td> \n",
       "        <td id=\"T_023caf90_414b_11e9_aad6_8c8590c1c849row4_col11\" class=\"data row4 col11\" ><a href=\"https://www.alltrails.com/trail/us/montana/highline-trail?ref=result-card\">https://www.alltrails.com/trail/us/montana/highline-trail?ref=result-card</a></td> \n",
       "    </tr>    <tr> \n",
       "        <th id=\"T_023caf90_414b_11e9_aad6_8c8590c1c849level0_row5\" class=\"row_heading level0 row5\" >5</th> \n",
       "        <td id=\"T_023caf90_414b_11e9_aad6_8c8590c1c849row5_col0\" class=\"data row5 col0\" >#6</td> \n",
       "        <td id=\"T_023caf90_414b_11e9_aad6_8c8590c1c849row5_col1\" class=\"data row5 col1\" >227</td> \n",
       "        <td id=\"T_023caf90_414b_11e9_aad6_8c8590c1c849row5_col2\" class=\"data row5 col2\" >St. Mary and Virginia Falls Trail</td> \n",
       "        <td id=\"T_023caf90_414b_11e9_aad6_8c8590c1c849row5_col3\" class=\"data row5 col3\" >EASY</td> \n",
       "        <td id=\"T_023caf90_414b_11e9_aad6_8c8590c1c849row5_col4\" class=\"data row5 col4\" >1.45</td> \n",
       "        <td id=\"T_023caf90_414b_11e9_aad6_8c8590c1c849row5_col5\" class=\"data row5 col5\" >155.862</td> \n",
       "        <td id=\"T_023caf90_414b_11e9_aad6_8c8590c1c849row5_col6\" class=\"data row5 col6\" >2.9</td> \n",
       "        <td id=\"T_023caf90_414b_11e9_aad6_8c8590c1c849row5_col7\" class=\"data row5 col7\" >452</td> \n",
       "        <td id=\"T_023caf90_414b_11e9_aad6_8c8590c1c849row5_col8\" class=\"data row5 col8\" >Out & Back</td> \n",
       "        <td id=\"T_023caf90_414b_11e9_aad6_8c8590c1c849row5_col9\" class=\"data row5 col9\" >4.5</td> \n",
       "        <td id=\"T_023caf90_414b_11e9_aad6_8c8590c1c849row5_col10\" class=\"data row5 col10\" >East Glacier Park Village, Montana</td> \n",
       "        <td id=\"T_023caf90_414b_11e9_aad6_8c8590c1c849row5_col11\" class=\"data row5 col11\" ><a href=\"https://www.alltrails.com/trail/us/montana/st-mary-and-virginia-falls-trail?ref=result-card\">https://www.alltrails.com/trail/us/montana/st-mary-and-virginia-falls-trail?ref=result-card</a></td> \n",
       "    </tr>    <tr> \n",
       "        <th id=\"T_023caf90_414b_11e9_aad6_8c8590c1c849level0_row6\" class=\"row_heading level0 row6\" >6</th> \n",
       "        <td id=\"T_023caf90_414b_11e9_aad6_8c8590c1c849row6_col0\" class=\"data row6 col0\" >#7</td> \n",
       "        <td id=\"T_023caf90_414b_11e9_aad6_8c8590c1c849row6_col1\" class=\"data row6 col1\" >120</td> \n",
       "        <td id=\"T_023caf90_414b_11e9_aad6_8c8590c1c849row6_col2\" class=\"data row6 col2\" >Cracker Lake Trail</td> \n",
       "        <td id=\"T_023caf90_414b_11e9_aad6_8c8590c1c849row6_col3\" class=\"data row6 col3\" >MODERATE</td> \n",
       "        <td id=\"T_023caf90_414b_11e9_aad6_8c8590c1c849row6_col4\" class=\"data row6 col4\" >6</td> \n",
       "        <td id=\"T_023caf90_414b_11e9_aad6_8c8590c1c849row6_col5\" class=\"data row6 col5\" >137.5</td> \n",
       "        <td id=\"T_023caf90_414b_11e9_aad6_8c8590c1c849row6_col6\" class=\"data row6 col6\" >12</td> \n",
       "        <td id=\"T_023caf90_414b_11e9_aad6_8c8590c1c849row6_col7\" class=\"data row6 col7\" >1650</td> \n",
       "        <td id=\"T_023caf90_414b_11e9_aad6_8c8590c1c849row6_col8\" class=\"data row6 col8\" >Out & Back</td> \n",
       "        <td id=\"T_023caf90_414b_11e9_aad6_8c8590c1c849row6_col9\" class=\"data row6 col9\" >4.5</td> \n",
       "        <td id=\"T_023caf90_414b_11e9_aad6_8c8590c1c849row6_col10\" class=\"data row6 col10\" >Browning, Montana</td> \n",
       "        <td id=\"T_023caf90_414b_11e9_aad6_8c8590c1c849row6_col11\" class=\"data row6 col11\" ><a href=\"https://www.alltrails.com/trail/us/montana/cracker-lake-trail?ref=result-card\">https://www.alltrails.com/trail/us/montana/cracker-lake-trail?ref=result-card</a></td> \n",
       "    </tr>    <tr> \n",
       "        <th id=\"T_023caf90_414b_11e9_aad6_8c8590c1c849level0_row7\" class=\"row_heading level0 row7\" >7</th> \n",
       "        <td id=\"T_023caf90_414b_11e9_aad6_8c8590c1c849row7_col0\" class=\"data row7 col0\" >#8</td> \n",
       "        <td id=\"T_023caf90_414b_11e9_aad6_8c8590c1c849row7_col1\" class=\"data row7 col1\" >137</td> \n",
       "        <td id=\"T_023caf90_414b_11e9_aad6_8c8590c1c849row7_col2\" class=\"data row7 col2\" >Hidden Lake Overlook</td> \n",
       "        <td id=\"T_023caf90_414b_11e9_aad6_8c8590c1c849row7_col3\" class=\"data row7 col3\" >MODERATE</td> \n",
       "        <td id=\"T_023caf90_414b_11e9_aad6_8c8590c1c849row7_col4\" class=\"data row7 col4\" >1.4</td> \n",
       "        <td id=\"T_023caf90_414b_11e9_aad6_8c8590c1c849row7_col5\" class=\"data row7 col5\" >207.143</td> \n",
       "        <td id=\"T_023caf90_414b_11e9_aad6_8c8590c1c849row7_col6\" class=\"data row7 col6\" >2.8</td> \n",
       "        <td id=\"T_023caf90_414b_11e9_aad6_8c8590c1c849row7_col7\" class=\"data row7 col7\" >580</td> \n",
       "        <td id=\"T_023caf90_414b_11e9_aad6_8c8590c1c849row7_col8\" class=\"data row7 col8\" >Out & Back</td> \n",
       "        <td id=\"T_023caf90_414b_11e9_aad6_8c8590c1c849row7_col9\" class=\"data row7 col9\" >4.5</td> \n",
       "        <td id=\"T_023caf90_414b_11e9_aad6_8c8590c1c849row7_col10\" class=\"data row7 col10\" >East Glacier Park Village, Montana</td> \n",
       "        <td id=\"T_023caf90_414b_11e9_aad6_8c8590c1c849row7_col11\" class=\"data row7 col11\" ><a href=\"https://www.alltrails.com/trail/us/montana/hidden-lake-overlook?ref=result-card\">https://www.alltrails.com/trail/us/montana/hidden-lake-overlook?ref=result-card</a></td> \n",
       "    </tr>    <tr> \n",
       "        <th id=\"T_023caf90_414b_11e9_aad6_8c8590c1c849level0_row8\" class=\"row_heading level0 row8\" >8</th> \n",
       "        <td id=\"T_023caf90_414b_11e9_aad6_8c8590c1c849row8_col0\" class=\"data row8 col0\" >#9</td> \n",
       "        <td id=\"T_023caf90_414b_11e9_aad6_8c8590c1c849row8_col1\" class=\"data row8 col1\" >31</td> \n",
       "        <td id=\"T_023caf90_414b_11e9_aad6_8c8590c1c849row8_col2\" class=\"data row8 col2\" >The Garden Wall</td> \n",
       "        <td id=\"T_023caf90_414b_11e9_aad6_8c8590c1c849row8_col3\" class=\"data row8 col3\" >HARD</td> \n",
       "        <td id=\"T_023caf90_414b_11e9_aad6_8c8590c1c849row8_col4\" class=\"data row8 col4\" >7.35</td> \n",
       "        <td id=\"T_023caf90_414b_11e9_aad6_8c8590c1c849row8_col5\" class=\"data row8 col5\" >238.571</td> \n",
       "        <td id=\"T_023caf90_414b_11e9_aad6_8c8590c1c849row8_col6\" class=\"data row8 col6\" >14.7</td> \n",
       "        <td id=\"T_023caf90_414b_11e9_aad6_8c8590c1c849row8_col7\" class=\"data row8 col7\" >3507</td> \n",
       "        <td id=\"T_023caf90_414b_11e9_aad6_8c8590c1c849row8_col8\" class=\"data row8 col8\" >Out & Back</td> \n",
       "        <td id=\"T_023caf90_414b_11e9_aad6_8c8590c1c849row8_col9\" class=\"data row8 col9\" >5</td> \n",
       "        <td id=\"T_023caf90_414b_11e9_aad6_8c8590c1c849row8_col10\" class=\"data row8 col10\" >West Glacier, Montana</td> \n",
       "        <td id=\"T_023caf90_414b_11e9_aad6_8c8590c1c849row8_col11\" class=\"data row8 col11\" ><a href=\"https://www.alltrails.com/trail/us/montana/the-garden-wall?ref=result-card\">https://www.alltrails.com/trail/us/montana/the-garden-wall?ref=result-card</a></td> \n",
       "    </tr>    <tr> \n",
       "        <th id=\"T_023caf90_414b_11e9_aad6_8c8590c1c849level0_row9\" class=\"row_heading level0 row9\" >9</th> \n",
       "        <td id=\"T_023caf90_414b_11e9_aad6_8c8590c1c849row9_col0\" class=\"data row9 col0\" >#10</td> \n",
       "        <td id=\"T_023caf90_414b_11e9_aad6_8c8590c1c849row9_col1\" class=\"data row9 col1\" >80</td> \n",
       "        <td id=\"T_023caf90_414b_11e9_aad6_8c8590c1c849row9_col2\" class=\"data row9 col2\" >Grinnell Lake Trail</td> \n",
       "        <td id=\"T_023caf90_414b_11e9_aad6_8c8590c1c849row9_col3\" class=\"data row9 col3\" >EASY</td> \n",
       "        <td id=\"T_023caf90_414b_11e9_aad6_8c8590c1c849row9_col4\" class=\"data row9 col4\" >3.55</td> \n",
       "        <td id=\"T_023caf90_414b_11e9_aad6_8c8590c1c849row9_col5\" class=\"data row9 col5\" >49.4366</td> \n",
       "        <td id=\"T_023caf90_414b_11e9_aad6_8c8590c1c849row9_col6\" class=\"data row9 col6\" >7.1</td> \n",
       "        <td id=\"T_023caf90_414b_11e9_aad6_8c8590c1c849row9_col7\" class=\"data row9 col7\" >351</td> \n",
       "        <td id=\"T_023caf90_414b_11e9_aad6_8c8590c1c849row9_col8\" class=\"data row9 col8\" >Loop</td> \n",
       "        <td id=\"T_023caf90_414b_11e9_aad6_8c8590c1c849row9_col9\" class=\"data row9 col9\" >4.5</td> \n",
       "        <td id=\"T_023caf90_414b_11e9_aad6_8c8590c1c849row9_col10\" class=\"data row9 col10\" >Browning, Montana</td> \n",
       "        <td id=\"T_023caf90_414b_11e9_aad6_8c8590c1c849row9_col11\" class=\"data row9 col11\" ><a href=\"https://www.alltrails.com/trail/us/montana/grinnell-lake-trail?ref=result-card\">https://www.alltrails.com/trail/us/montana/grinnell-lake-trail?ref=result-card</a></td> \n",
       "    </tr>    <tr> \n",
       "        <th id=\"T_023caf90_414b_11e9_aad6_8c8590c1c849level0_row10\" class=\"row_heading level0 row10\" >10</th> \n",
       "        <td id=\"T_023caf90_414b_11e9_aad6_8c8590c1c849row10_col0\" class=\"data row10 col0\" >#11</td> \n",
       "        <td id=\"T_023caf90_414b_11e9_aad6_8c8590c1c849row10_col1\" class=\"data row10 col1\" >70</td> \n",
       "        <td id=\"T_023caf90_414b_11e9_aad6_8c8590c1c849row10_col2\" class=\"data row10 col2\" >Swiftcurrent Pass Trail To Swiftcurrent Mountain</td> \n",
       "        <td id=\"T_023caf90_414b_11e9_aad6_8c8590c1c849row10_col3\" class=\"data row10 col3\" >HARD</td> \n",
       "        <td id=\"T_023caf90_414b_11e9_aad6_8c8590c1c849row10_col4\" class=\"data row10 col4\" >7.95</td> \n",
       "        <td id=\"T_023caf90_414b_11e9_aad6_8c8590c1c849row10_col5\" class=\"data row10 col5\" >236.855</td> \n",
       "        <td id=\"T_023caf90_414b_11e9_aad6_8c8590c1c849row10_col6\" class=\"data row10 col6\" >15.9</td> \n",
       "        <td id=\"T_023caf90_414b_11e9_aad6_8c8590c1c849row10_col7\" class=\"data row10 col7\" >3766</td> \n",
       "        <td id=\"T_023caf90_414b_11e9_aad6_8c8590c1c849row10_col8\" class=\"data row10 col8\" >Out & Back</td> \n",
       "        <td id=\"T_023caf90_414b_11e9_aad6_8c8590c1c849row10_col9\" class=\"data row10 col9\" >5</td> \n",
       "        <td id=\"T_023caf90_414b_11e9_aad6_8c8590c1c849row10_col10\" class=\"data row10 col10\" >Browning, Montana</td> \n",
       "        <td id=\"T_023caf90_414b_11e9_aad6_8c8590c1c849row10_col11\" class=\"data row10 col11\" ><a href=\"https://www.alltrails.com/trail/us/montana/swiftcurrent-pass-trail?ref=result-card\">https://www.alltrails.com/trail/us/montana/swiftcurrent-pass-trail?ref=result-card</a></td> \n",
       "    </tr>    <tr> \n",
       "        <th id=\"T_023caf90_414b_11e9_aad6_8c8590c1c849level0_row11\" class=\"row_heading level0 row11\" >11</th> \n",
       "        <td id=\"T_023caf90_414b_11e9_aad6_8c8590c1c849row11_col0\" class=\"data row11 col0\" >#12</td> \n",
       "        <td id=\"T_023caf90_414b_11e9_aad6_8c8590c1c849row11_col1\" class=\"data row11 col1\" >62</td> \n",
       "        <td id=\"T_023caf90_414b_11e9_aad6_8c8590c1c849row11_col2\" class=\"data row11 col2\" >Highline Trail to Granite Park</td> \n",
       "        <td id=\"T_023caf90_414b_11e9_aad6_8c8590c1c849row11_col3\" class=\"data row11 col3\" >HARD</td> \n",
       "        <td id=\"T_023caf90_414b_11e9_aad6_8c8590c1c849row11_col4\" class=\"data row11 col4\" >5.6</td> \n",
       "        <td id=\"T_023caf90_414b_11e9_aad6_8c8590c1c849row11_col5\" class=\"data row11 col5\" >130.893</td> \n",
       "        <td id=\"T_023caf90_414b_11e9_aad6_8c8590c1c849row11_col6\" class=\"data row11 col6\" >11.2</td> \n",
       "        <td id=\"T_023caf90_414b_11e9_aad6_8c8590c1c849row11_col7\" class=\"data row11 col7\" >1466</td> \n",
       "        <td id=\"T_023caf90_414b_11e9_aad6_8c8590c1c849row11_col8\" class=\"data row11 col8\" >Point to Point</td> \n",
       "        <td id=\"T_023caf90_414b_11e9_aad6_8c8590c1c849row11_col9\" class=\"data row11 col9\" >5</td> \n",
       "        <td id=\"T_023caf90_414b_11e9_aad6_8c8590c1c849row11_col10\" class=\"data row11 col10\" >East Glacier Park Village, Montana</td> \n",
       "        <td id=\"T_023caf90_414b_11e9_aad6_8c8590c1c849row11_col11\" class=\"data row11 col11\" ><a href=\"https://www.alltrails.com/trail/us/montana/highline-trail-to-granite-park?ref=result-card\">https://www.alltrails.com/trail/us/montana/highline-trail-to-granite-park?ref=result-card</a></td> \n",
       "    </tr>    <tr> \n",
       "        <th id=\"T_023caf90_414b_11e9_aad6_8c8590c1c849level0_row12\" class=\"row_heading level0 row12\" >12</th> \n",
       "        <td id=\"T_023caf90_414b_11e9_aad6_8c8590c1c849row12_col0\" class=\"data row12 col0\" >#13</td> \n",
       "        <td id=\"T_023caf90_414b_11e9_aad6_8c8590c1c849row12_col1\" class=\"data row12 col1\" >84</td> \n",
       "        <td id=\"T_023caf90_414b_11e9_aad6_8c8590c1c849row12_col2\" class=\"data row12 col2\" >Trail of the Cedars</td> \n",
       "        <td id=\"T_023caf90_414b_11e9_aad6_8c8590c1c849row12_col3\" class=\"data row12 col3\" >EASY</td> \n",
       "        <td id=\"T_023caf90_414b_11e9_aad6_8c8590c1c849row12_col4\" class=\"data row12 col4\" >0.4</td> \n",
       "        <td id=\"T_023caf90_414b_11e9_aad6_8c8590c1c849row12_col5\" class=\"data row12 col5\" >45</td> \n",
       "        <td id=\"T_023caf90_414b_11e9_aad6_8c8590c1c849row12_col6\" class=\"data row12 col6\" >0.8</td> \n",
       "        <td id=\"T_023caf90_414b_11e9_aad6_8c8590c1c849row12_col7\" class=\"data row12 col7\" >36</td> \n",
       "        <td id=\"T_023caf90_414b_11e9_aad6_8c8590c1c849row12_col8\" class=\"data row12 col8\" >Loop</td> \n",
       "        <td id=\"T_023caf90_414b_11e9_aad6_8c8590c1c849row12_col9\" class=\"data row12 col9\" >4</td> \n",
       "        <td id=\"T_023caf90_414b_11e9_aad6_8c8590c1c849row12_col10\" class=\"data row12 col10\" >West Glacier, Montana</td> \n",
       "        <td id=\"T_023caf90_414b_11e9_aad6_8c8590c1c849row12_col11\" class=\"data row12 col11\" ><a href=\"https://www.alltrails.com/trail/us/montana/trail-of-the-cedars--2?ref=result-card\">https://www.alltrails.com/trail/us/montana/trail-of-the-cedars--2?ref=result-card</a></td> \n",
       "    </tr>    <tr> \n",
       "        <th id=\"T_023caf90_414b_11e9_aad6_8c8590c1c849level0_row13\" class=\"row_heading level0 row13\" >13</th> \n",
       "        <td id=\"T_023caf90_414b_11e9_aad6_8c8590c1c849row13_col0\" class=\"data row13 col0\" >#14</td> \n",
       "        <td id=\"T_023caf90_414b_11e9_aad6_8c8590c1c849row13_col1\" class=\"data row13 col1\" >77</td> \n",
       "        <td id=\"T_023caf90_414b_11e9_aad6_8c8590c1c849row13_col2\" class=\"data row13 col2\" >Going-to-the-Sun Road - West Glacier to Saint Mary Scenic Drive</td> \n",
       "        <td id=\"T_023caf90_414b_11e9_aad6_8c8590c1c849row13_col3\" class=\"data row13 col3\" >EASY</td> \n",
       "        <td id=\"T_023caf90_414b_11e9_aad6_8c8590c1c849row13_col4\" class=\"data row13 col4\" >24.5</td> \n",
       "        <td id=\"T_023caf90_414b_11e9_aad6_8c8590c1c849row13_col5\" class=\"data row13 col5\" >114.347</td> \n",
       "        <td id=\"T_023caf90_414b_11e9_aad6_8c8590c1c849row13_col6\" class=\"data row13 col6\" >49</td> \n",
       "        <td id=\"T_023caf90_414b_11e9_aad6_8c8590c1c849row13_col7\" class=\"data row13 col7\" >5603</td> \n",
       "        <td id=\"T_023caf90_414b_11e9_aad6_8c8590c1c849row13_col8\" class=\"data row13 col8\" >Point to Point</td> \n",
       "        <td id=\"T_023caf90_414b_11e9_aad6_8c8590c1c849row13_col9\" class=\"data row13 col9\" >5</td> \n",
       "        <td id=\"T_023caf90_414b_11e9_aad6_8c8590c1c849row13_col10\" class=\"data row13 col10\" >West Glacier, Montana</td> \n",
       "        <td id=\"T_023caf90_414b_11e9_aad6_8c8590c1c849row13_col11\" class=\"data row13 col11\" ><a href=\"https://www.alltrails.com/trail/us/montana/going-to-the-sun-road-west-glacier-to-saint-mary-scenic-drive?ref=result-card\">https://www.alltrails.com/trail/us/montana/going-to-the-sun-road-west-glacier-to-saint-mary-scenic-drive?ref=result-card</a></td> \n",
       "    </tr>    <tr> \n",
       "        <th id=\"T_023caf90_414b_11e9_aad6_8c8590c1c849level0_row14\" class=\"row_heading level0 row14\" >14</th> \n",
       "        <td id=\"T_023caf90_414b_11e9_aad6_8c8590c1c849row14_col0\" class=\"data row14 col0\" >#15</td> \n",
       "        <td id=\"T_023caf90_414b_11e9_aad6_8c8590c1c849row14_col1\" class=\"data row14 col1\" >72</td> \n",
       "        <td id=\"T_023caf90_414b_11e9_aad6_8c8590c1c849row14_col2\" class=\"data row14 col2\" >Siyeh Pass Trail</td> \n",
       "        <td id=\"T_023caf90_414b_11e9_aad6_8c8590c1c849row14_col3\" class=\"data row14 col3\" >HARD</td> \n",
       "        <td id=\"T_023caf90_414b_11e9_aad6_8c8590c1c849row14_col4\" class=\"data row14 col4\" >10.3</td> \n",
       "        <td id=\"T_023caf90_414b_11e9_aad6_8c8590c1c849row14_col5\" class=\"data row14 col5\" >269.466</td> \n",
       "        <td id=\"T_023caf90_414b_11e9_aad6_8c8590c1c849row14_col6\" class=\"data row14 col6\" >20.6</td> \n",
       "        <td id=\"T_023caf90_414b_11e9_aad6_8c8590c1c849row14_col7\" class=\"data row14 col7\" >5551</td> \n",
       "        <td id=\"T_023caf90_414b_11e9_aad6_8c8590c1c849row14_col8\" class=\"data row14 col8\" >Out & Back</td> \n",
       "        <td id=\"T_023caf90_414b_11e9_aad6_8c8590c1c849row14_col9\" class=\"data row14 col9\" >5</td> \n",
       "        <td id=\"T_023caf90_414b_11e9_aad6_8c8590c1c849row14_col10\" class=\"data row14 col10\" >East Glacier Park Village, Montana</td> \n",
       "        <td id=\"T_023caf90_414b_11e9_aad6_8c8590c1c849row14_col11\" class=\"data row14 col11\" ><a href=\"https://www.alltrails.com/trail/us/montana/siyeh-pass-trail?ref=result-card\">https://www.alltrails.com/trail/us/montana/siyeh-pass-trail?ref=result-card</a></td> \n",
       "    </tr>    <tr> \n",
       "        <th id=\"T_023caf90_414b_11e9_aad6_8c8590c1c849level0_row15\" class=\"row_heading level0 row15\" >15</th> \n",
       "        <td id=\"T_023caf90_414b_11e9_aad6_8c8590c1c849row15_col0\" class=\"data row15 col0\" >#16</td> \n",
       "        <td id=\"T_023caf90_414b_11e9_aad6_8c8590c1c849row15_col1\" class=\"data row15 col1\" >74</td> \n",
       "        <td id=\"T_023caf90_414b_11e9_aad6_8c8590c1c849row15_col2\" class=\"data row15 col2\" >Scenic Point</td> \n",
       "        <td id=\"T_023caf90_414b_11e9_aad6_8c8590c1c849row15_col3\" class=\"data row15 col3\" >HARD</td> \n",
       "        <td id=\"T_023caf90_414b_11e9_aad6_8c8590c1c849row15_col4\" class=\"data row15 col4\" >3.7</td> \n",
       "        <td id=\"T_023caf90_414b_11e9_aad6_8c8590c1c849row15_col5\" class=\"data row15 col5\" >317.838</td> \n",
       "        <td id=\"T_023caf90_414b_11e9_aad6_8c8590c1c849row15_col6\" class=\"data row15 col6\" >7.4</td> \n",
       "        <td id=\"T_023caf90_414b_11e9_aad6_8c8590c1c849row15_col7\" class=\"data row15 col7\" >2352</td> \n",
       "        <td id=\"T_023caf90_414b_11e9_aad6_8c8590c1c849row15_col8\" class=\"data row15 col8\" >Out & Back</td> \n",
       "        <td id=\"T_023caf90_414b_11e9_aad6_8c8590c1c849row15_col9\" class=\"data row15 col9\" >5</td> \n",
       "        <td id=\"T_023caf90_414b_11e9_aad6_8c8590c1c849row15_col10\" class=\"data row15 col10\" >East Glacier Park Village, Montana</td> \n",
       "        <td id=\"T_023caf90_414b_11e9_aad6_8c8590c1c849row15_col11\" class=\"data row15 col11\" ><a href=\"https://www.alltrails.com/trail/us/montana/scenic-point?ref=result-card\">https://www.alltrails.com/trail/us/montana/scenic-point?ref=result-card</a></td> \n",
       "    </tr>    <tr> \n",
       "        <th id=\"T_023caf90_414b_11e9_aad6_8c8590c1c849level0_row16\" class=\"row_heading level0 row16\" >16</th> \n",
       "        <td id=\"T_023caf90_414b_11e9_aad6_8c8590c1c849row16_col0\" class=\"data row16 col0\" >#17</td> \n",
       "        <td id=\"T_023caf90_414b_11e9_aad6_8c8590c1c849row16_col1\" class=\"data row16 col1\" >42</td> \n",
       "        <td id=\"T_023caf90_414b_11e9_aad6_8c8590c1c849row16_col2\" class=\"data row16 col2\" >McDonald Creek Trail</td> \n",
       "        <td id=\"T_023caf90_414b_11e9_aad6_8c8590c1c849row16_col3\" class=\"data row16 col3\" >EASY</td> \n",
       "        <td id=\"T_023caf90_414b_11e9_aad6_8c8590c1c849row16_col4\" class=\"data row16 col4\" >2.5</td> \n",
       "        <td id=\"T_023caf90_414b_11e9_aad6_8c8590c1c849row16_col5\" class=\"data row16 col5\" >42.6</td> \n",
       "        <td id=\"T_023caf90_414b_11e9_aad6_8c8590c1c849row16_col6\" class=\"data row16 col6\" >5</td> \n",
       "        <td id=\"T_023caf90_414b_11e9_aad6_8c8590c1c849row16_col7\" class=\"data row16 col7\" >213</td> \n",
       "        <td id=\"T_023caf90_414b_11e9_aad6_8c8590c1c849row16_col8\" class=\"data row16 col8\" >Out & Back</td> \n",
       "        <td id=\"T_023caf90_414b_11e9_aad6_8c8590c1c849row16_col9\" class=\"data row16 col9\" >4.5</td> \n",
       "        <td id=\"T_023caf90_414b_11e9_aad6_8c8590c1c849row16_col10\" class=\"data row16 col10\" >Essex, Montana</td> \n",
       "        <td id=\"T_023caf90_414b_11e9_aad6_8c8590c1c849row16_col11\" class=\"data row16 col11\" ><a href=\"https://www.alltrails.com/trail/us/montana/mcdonald-creek?ref=result-card\">https://www.alltrails.com/trail/us/montana/mcdonald-creek?ref=result-card</a></td> \n",
       "    </tr>    <tr> \n",
       "        <th id=\"T_023caf90_414b_11e9_aad6_8c8590c1c849level0_row17\" class=\"row_heading level0 row17\" >17</th> \n",
       "        <td id=\"T_023caf90_414b_11e9_aad6_8c8590c1c849row17_col0\" class=\"data row17 col0\" >#18</td> \n",
       "        <td id=\"T_023caf90_414b_11e9_aad6_8c8590c1c849row17_col1\" class=\"data row17 col1\" >73</td> \n",
       "        <td id=\"T_023caf90_414b_11e9_aad6_8c8590c1c849row17_col2\" class=\"data row17 col2\" >Redrock Falls via Swiftcurrent Pass</td> \n",
       "        <td id=\"T_023caf90_414b_11e9_aad6_8c8590c1c849row17_col3\" class=\"data row17 col3\" >EASY</td> \n",
       "        <td id=\"T_023caf90_414b_11e9_aad6_8c8590c1c849row17_col4\" class=\"data row17 col4\" >1.8</td> \n",
       "        <td id=\"T_023caf90_414b_11e9_aad6_8c8590c1c849row17_col5\" class=\"data row17 col5\" >65.5556</td> \n",
       "        <td id=\"T_023caf90_414b_11e9_aad6_8c8590c1c849row17_col6\" class=\"data row17 col6\" >3.6</td> \n",
       "        <td id=\"T_023caf90_414b_11e9_aad6_8c8590c1c849row17_col7\" class=\"data row17 col7\" >236</td> \n",
       "        <td id=\"T_023caf90_414b_11e9_aad6_8c8590c1c849row17_col8\" class=\"data row17 col8\" >Out & Back</td> \n",
       "        <td id=\"T_023caf90_414b_11e9_aad6_8c8590c1c849row17_col9\" class=\"data row17 col9\" >4.5</td> \n",
       "        <td id=\"T_023caf90_414b_11e9_aad6_8c8590c1c849row17_col10\" class=\"data row17 col10\" >Browning, Montana</td> \n",
       "        <td id=\"T_023caf90_414b_11e9_aad6_8c8590c1c849row17_col11\" class=\"data row17 col11\" ><a href=\"https://www.alltrails.com/trail/us/montana/redrock-falls-via-swiftcurrent-pass?ref=result-card\">https://www.alltrails.com/trail/us/montana/redrock-falls-via-swiftcurrent-pass?ref=result-card</a></td> \n",
       "    </tr>    <tr> \n",
       "        <th id=\"T_023caf90_414b_11e9_aad6_8c8590c1c849level0_row18\" class=\"row_heading level0 row18\" >18</th> \n",
       "        <td id=\"T_023caf90_414b_11e9_aad6_8c8590c1c849row18_col0\" class=\"data row18 col0\" >#19</td> \n",
       "        <td id=\"T_023caf90_414b_11e9_aad6_8c8590c1c849row18_col1\" class=\"data row18 col1\" >66</td> \n",
       "        <td id=\"T_023caf90_414b_11e9_aad6_8c8590c1c849row18_col2\" class=\"data row18 col2\" >Dawson Pass and Pitamakan Pass Loop</td> \n",
       "        <td id=\"T_023caf90_414b_11e9_aad6_8c8590c1c849row18_col3\" class=\"data row18 col3\" >HARD</td> \n",
       "        <td id=\"T_023caf90_414b_11e9_aad6_8c8590c1c849row18_col4\" class=\"data row18 col4\" >8.6</td> \n",
       "        <td id=\"T_023caf90_414b_11e9_aad6_8c8590c1c849row18_col5\" class=\"data row18 col5\" >211.686</td> \n",
       "        <td id=\"T_023caf90_414b_11e9_aad6_8c8590c1c849row18_col6\" class=\"data row18 col6\" >17.2</td> \n",
       "        <td id=\"T_023caf90_414b_11e9_aad6_8c8590c1c849row18_col7\" class=\"data row18 col7\" >3641</td> \n",
       "        <td id=\"T_023caf90_414b_11e9_aad6_8c8590c1c849row18_col8\" class=\"data row18 col8\" >Loop</td> \n",
       "        <td id=\"T_023caf90_414b_11e9_aad6_8c8590c1c849row18_col9\" class=\"data row18 col9\" >5</td> \n",
       "        <td id=\"T_023caf90_414b_11e9_aad6_8c8590c1c849row18_col10\" class=\"data row18 col10\" >East Glacier Park Village, Montana</td> \n",
       "        <td id=\"T_023caf90_414b_11e9_aad6_8c8590c1c849row18_col11\" class=\"data row18 col11\" ><a href=\"https://www.alltrails.com/trail/us/montana/dawson-pass-and-pitamakan-pass-loop?ref=result-card\">https://www.alltrails.com/trail/us/montana/dawson-pass-and-pitamakan-pass-loop?ref=result-card</a></td> \n",
       "    </tr>    <tr> \n",
       "        <th id=\"T_023caf90_414b_11e9_aad6_8c8590c1c849level0_row19\" class=\"row_heading level0 row19\" >19</th> \n",
       "        <td id=\"T_023caf90_414b_11e9_aad6_8c8590c1c849row19_col0\" class=\"data row19 col0\" >#20</td> \n",
       "        <td id=\"T_023caf90_414b_11e9_aad6_8c8590c1c849row19_col1\" class=\"data row19 col1\" >56</td> \n",
       "        <td id=\"T_023caf90_414b_11e9_aad6_8c8590c1c849row19_col2\" class=\"data row19 col2\" >Apikuni Falls Trail</td> \n",
       "        <td id=\"T_023caf90_414b_11e9_aad6_8c8590c1c849row19_col3\" class=\"data row19 col3\" >EASY</td> \n",
       "        <td id=\"T_023caf90_414b_11e9_aad6_8c8590c1c849row19_col4\" class=\"data row19 col4\" >0.9</td> \n",
       "        <td id=\"T_023caf90_414b_11e9_aad6_8c8590c1c849row19_col5\" class=\"data row19 col5\" >340.556</td> \n",
       "        <td id=\"T_023caf90_414b_11e9_aad6_8c8590c1c849row19_col6\" class=\"data row19 col6\" >1.8</td> \n",
       "        <td id=\"T_023caf90_414b_11e9_aad6_8c8590c1c849row19_col7\" class=\"data row19 col7\" >613</td> \n",
       "        <td id=\"T_023caf90_414b_11e9_aad6_8c8590c1c849row19_col8\" class=\"data row19 col8\" >Out & Back</td> \n",
       "        <td id=\"T_023caf90_414b_11e9_aad6_8c8590c1c849row19_col9\" class=\"data row19 col9\" >4.5</td> \n",
       "        <td id=\"T_023caf90_414b_11e9_aad6_8c8590c1c849row19_col10\" class=\"data row19 col10\" >Browning, Montana</td> \n",
       "        <td id=\"T_023caf90_414b_11e9_aad6_8c8590c1c849row19_col11\" class=\"data row19 col11\" ><a href=\"https://www.alltrails.com/trail/us/montana/apikuni-falls-trail?ref=result-card\">https://www.alltrails.com/trail/us/montana/apikuni-falls-trail?ref=result-card</a></td> \n",
       "    </tr>    <tr> \n",
       "        <th id=\"T_023caf90_414b_11e9_aad6_8c8590c1c849level0_row20\" class=\"row_heading level0 row20\" >20</th> \n",
       "        <td id=\"T_023caf90_414b_11e9_aad6_8c8590c1c849row20_col0\" class=\"data row20 col0\" >#21</td> \n",
       "        <td id=\"T_023caf90_414b_11e9_aad6_8c8590c1c849row20_col1\" class=\"data row20 col1\" >57</td> \n",
       "        <td id=\"T_023caf90_414b_11e9_aad6_8c8590c1c849row20_col2\" class=\"data row20 col2\" >Running Eagle Falls Trail</td> \n",
       "        <td id=\"T_023caf90_414b_11e9_aad6_8c8590c1c849row20_col3\" class=\"data row20 col3\" >EASY</td> \n",
       "        <td id=\"T_023caf90_414b_11e9_aad6_8c8590c1c849row20_col4\" class=\"data row20 col4\" >0.3</td> \n",
       "        <td id=\"T_023caf90_414b_11e9_aad6_8c8590c1c849row20_col5\" class=\"data row20 col5\" >43.3333</td> \n",
       "        <td id=\"T_023caf90_414b_11e9_aad6_8c8590c1c849row20_col6\" class=\"data row20 col6\" >0.6</td> \n",
       "        <td id=\"T_023caf90_414b_11e9_aad6_8c8590c1c849row20_col7\" class=\"data row20 col7\" >26</td> \n",
       "        <td id=\"T_023caf90_414b_11e9_aad6_8c8590c1c849row20_col8\" class=\"data row20 col8\" >Loop</td> \n",
       "        <td id=\"T_023caf90_414b_11e9_aad6_8c8590c1c849row20_col9\" class=\"data row20 col9\" >4.5</td> \n",
       "        <td id=\"T_023caf90_414b_11e9_aad6_8c8590c1c849row20_col10\" class=\"data row20 col10\" >East Glacier Park Village, Montana</td> \n",
       "        <td id=\"T_023caf90_414b_11e9_aad6_8c8590c1c849row20_col11\" class=\"data row20 col11\" ><a href=\"https://www.alltrails.com/trail/us/montana/running-eagle-falls-trail?ref=result-card\">https://www.alltrails.com/trail/us/montana/running-eagle-falls-trail?ref=result-card</a></td> \n",
       "    </tr>    <tr> \n",
       "        <th id=\"T_023caf90_414b_11e9_aad6_8c8590c1c849level0_row21\" class=\"row_heading level0 row21\" >21</th> \n",
       "        <td id=\"T_023caf90_414b_11e9_aad6_8c8590c1c849row21_col0\" class=\"data row21 col0\" >#22</td> \n",
       "        <td id=\"T_023caf90_414b_11e9_aad6_8c8590c1c849row21_col1\" class=\"data row21 col1\" >40</td> \n",
       "        <td id=\"T_023caf90_414b_11e9_aad6_8c8590c1c849row21_col2\" class=\"data row21 col2\" >Bullhead Lake Trail</td> \n",
       "        <td id=\"T_023caf90_414b_11e9_aad6_8c8590c1c849row21_col3\" class=\"data row21 col3\" >MODERATE</td> \n",
       "        <td id=\"T_023caf90_414b_11e9_aad6_8c8590c1c849row21_col4\" class=\"data row21 col4\" >3.45</td> \n",
       "        <td id=\"T_023caf90_414b_11e9_aad6_8c8590c1c849row21_col5\" class=\"data row21 col5\" >64.058</td> \n",
       "        <td id=\"T_023caf90_414b_11e9_aad6_8c8590c1c849row21_col6\" class=\"data row21 col6\" >6.9</td> \n",
       "        <td id=\"T_023caf90_414b_11e9_aad6_8c8590c1c849row21_col7\" class=\"data row21 col7\" >442</td> \n",
       "        <td id=\"T_023caf90_414b_11e9_aad6_8c8590c1c849row21_col8\" class=\"data row21 col8\" >Out & Back</td> \n",
       "        <td id=\"T_023caf90_414b_11e9_aad6_8c8590c1c849row21_col9\" class=\"data row21 col9\" >4.5</td> \n",
       "        <td id=\"T_023caf90_414b_11e9_aad6_8c8590c1c849row21_col10\" class=\"data row21 col10\" >Browning, Montana</td> \n",
       "        <td id=\"T_023caf90_414b_11e9_aad6_8c8590c1c849row21_col11\" class=\"data row21 col11\" ><a href=\"https://www.alltrails.com/trail/us/montana/bullhead-lake-trail?ref=result-card\">https://www.alltrails.com/trail/us/montana/bullhead-lake-trail?ref=result-card</a></td> \n",
       "    </tr>    <tr> \n",
       "        <th id=\"T_023caf90_414b_11e9_aad6_8c8590c1c849level0_row22\" class=\"row_heading level0 row22\" >22</th> \n",
       "        <td id=\"T_023caf90_414b_11e9_aad6_8c8590c1c849row22_col0\" class=\"data row22 col0\" >#23</td> \n",
       "        <td id=\"T_023caf90_414b_11e9_aad6_8c8590c1c849row22_col1\" class=\"data row22 col1\" >115</td> \n",
       "        <td id=\"T_023caf90_414b_11e9_aad6_8c8590c1c849row22_col2\" class=\"data row22 col2\" >Apgar Lookout Trail</td> \n",
       "        <td id=\"T_023caf90_414b_11e9_aad6_8c8590c1c849row22_col3\" class=\"data row22 col3\" >HARD</td> \n",
       "        <td id=\"T_023caf90_414b_11e9_aad6_8c8590c1c849row22_col4\" class=\"data row22 col4\" >3.65</td> \n",
       "        <td id=\"T_023caf90_414b_11e9_aad6_8c8590c1c849row22_col5\" class=\"data row22 col5\" >266.849</td> \n",
       "        <td id=\"T_023caf90_414b_11e9_aad6_8c8590c1c849row22_col6\" class=\"data row22 col6\" >7.3</td> \n",
       "        <td id=\"T_023caf90_414b_11e9_aad6_8c8590c1c849row22_col7\" class=\"data row22 col7\" >1948</td> \n",
       "        <td id=\"T_023caf90_414b_11e9_aad6_8c8590c1c849row22_col8\" class=\"data row22 col8\" >Out & Back</td> \n",
       "        <td id=\"T_023caf90_414b_11e9_aad6_8c8590c1c849row22_col9\" class=\"data row22 col9\" >4</td> \n",
       "        <td id=\"T_023caf90_414b_11e9_aad6_8c8590c1c849row22_col10\" class=\"data row22 col10\" >Columbia Falls, Montana</td> \n",
       "        <td id=\"T_023caf90_414b_11e9_aad6_8c8590c1c849row22_col11\" class=\"data row22 col11\" ><a href=\"https://www.alltrails.com/trail/us/montana/apgar-lookout-trail?ref=result-card\">https://www.alltrails.com/trail/us/montana/apgar-lookout-trail?ref=result-card</a></td> \n",
       "    </tr>    <tr> \n",
       "        <th id=\"T_023caf90_414b_11e9_aad6_8c8590c1c849level0_row23\" class=\"row_heading level0 row23\" >23</th> \n",
       "        <td id=\"T_023caf90_414b_11e9_aad6_8c8590c1c849row23_col0\" class=\"data row23 col0\" >#24</td> \n",
       "        <td id=\"T_023caf90_414b_11e9_aad6_8c8590c1c849row23_col1\" class=\"data row23 col1\" >75</td> \n",
       "        <td id=\"T_023caf90_414b_11e9_aad6_8c8590c1c849row23_col2\" class=\"data row23 col2\" >Johns Lake Loop</td> \n",
       "        <td id=\"T_023caf90_414b_11e9_aad6_8c8590c1c849row23_col3\" class=\"data row23 col3\" >EASY</td> \n",
       "        <td id=\"T_023caf90_414b_11e9_aad6_8c8590c1c849row23_col4\" class=\"data row23 col4\" >0.95</td> \n",
       "        <td id=\"T_023caf90_414b_11e9_aad6_8c8590c1c849row23_col5\" class=\"data row23 col5\" >96.3158</td> \n",
       "        <td id=\"T_023caf90_414b_11e9_aad6_8c8590c1c849row23_col6\" class=\"data row23 col6\" >1.9</td> \n",
       "        <td id=\"T_023caf90_414b_11e9_aad6_8c8590c1c849row23_col7\" class=\"data row23 col7\" >183</td> \n",
       "        <td id=\"T_023caf90_414b_11e9_aad6_8c8590c1c849row23_col8\" class=\"data row23 col8\" >Loop</td> \n",
       "        <td id=\"T_023caf90_414b_11e9_aad6_8c8590c1c849row23_col9\" class=\"data row23 col9\" >4</td> \n",
       "        <td id=\"T_023caf90_414b_11e9_aad6_8c8590c1c849row23_col10\" class=\"data row23 col10\" >Essex, Montana</td> \n",
       "        <td id=\"T_023caf90_414b_11e9_aad6_8c8590c1c849row23_col11\" class=\"data row23 col11\" ><a href=\"https://www.alltrails.com/trail/us/montana/johns-lake-loop?ref=result-card\">https://www.alltrails.com/trail/us/montana/johns-lake-loop?ref=result-card</a></td> \n",
       "    </tr></tbody> \n",
       "</table> "
      ],
      "text/plain": [
       "<pandas.io.formats.style.Styler at 0x1255a03c8>"
      ]
     },
     "execution_count": 14,
     "metadata": {},
     "output_type": "execute_result"
    }
   ],
   "source": [
    "df_links"
   ]
  },
  {
   "cell_type": "code",
   "execution_count": null,
   "metadata": {},
   "outputs": [],
   "source": []
  }
 ],
 "metadata": {
  "kernelspec": {
   "display_name": "Python 3",
   "language": "python",
   "name": "python3"
  },
  "language_info": {
   "codemirror_mode": {
    "name": "ipython",
    "version": 3
   },
   "file_extension": ".py",
   "mimetype": "text/x-python",
   "name": "python",
   "nbconvert_exporter": "python",
   "pygments_lexer": "ipython3",
   "version": "3.6.8"
  }
 },
 "nbformat": 4,
 "nbformat_minor": 2
}
